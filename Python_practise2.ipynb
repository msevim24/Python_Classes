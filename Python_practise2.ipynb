{
 "cells": [
  {
   "cell_type": "code",
   "execution_count": 19,
   "id": "fe5a34eb",
   "metadata": {
    "scrolled": true
   },
   "outputs": [
    {
     "name": "stdout",
     "output_type": "stream",
     "text": [
      "Ali Veli Hasan\tAli         Veli         Hasan\n",
      "Benim adım\t Ahmet, Yaşım 35\n",
      "Benim adım\t 35, Yaşım Ahmet\n",
      "Benim adım\t Ahmet, Yaşım 35\n",
      "Benim adım: Ahmet,\n",
      "Yaşım: 35\n",
      "Benim adım: Ahmet,\n",
      "Yaşım: 35\n",
      "numara   10\n",
      "                        sezzai\n",
      "           merhaba            \n",
      "***********merhaba************\n",
      "----##----\n",
      "100          1234567898765420\n"
     ]
    }
   ],
   "source": [
    "print(\"Ali\",\"Veli\",\"Hasan\",end='\\t')\n",
    "print(\"Ali\",\"Veli\",\"Hasan\",sep=\"         \",end=\"\\n\")\n",
    "print(\"Benim adım\\t {}, Yaşım {}\".format(\"Ahmet\",35))\n",
    "print(\"Benim adım\\t {1}, Yaşım {0}\".format(\"Ahmet\",35))\n",
    "print(\"Benim adım\\t {ad}, Yaşım {yas}\".format(ad=\"Ahmet\",yas=35))\n",
    "print(\"Benim adım: {ad},\\nYaşım: {yas}\".format(ad=\"Ahmet\",yas=35))\n",
    "print(\"Benim adım: {ad},\\nYaşım: {yas}\".format(ad=\"Ahmet\",yas=35))\n",
    "print(\"numara   %d\" %10.55)  #%s string  %g float\n",
    "print(\"{1:>30}\".format(\"merhaba\",\"sezzai\"))\n",
    "print(\"{:^30}\".format(\"merhaba\"))\n",
    "print(\"{:*^30}\".format(\"merhaba\"))\n",
    "print((\"#\"*2).center(10,\"-\"))\n",
    "print(\"{0:3} {1:25}\".format(100,1234567898765420))\n",
    "\n"
   ]
  },
  {
   "cell_type": "code",
   "execution_count": 3,
   "id": "79d6d042-afdd-46e5-b642-55a37033e3c1",
   "metadata": {},
   "outputs": [
    {
     "name": "stdout",
     "output_type": "stream",
     "text": [
      "Ahmet [Kaya] bir sanatçıdır.\n",
      "Ahm        [Ka] bir sanatçıdır.\n",
      "3.14152\n"
     ]
    }
   ],
   "source": [
    "#f-string\n",
    "first_name=\"Ahmet\"\n",
    "last_name=\"Kaya\"\n",
    "\n",
    "mesage=f\"{first_name} [{last_name}] bir sanatçıdır.\"\n",
    "print(mesage)\n",
    "\n",
    "# \\ kullanınca komut alt satırda devam ediyor.\n",
    "mesage=f\"{first_name:10.3} \\  \n",
    "[{last_name:.2}] bir sanatçıdır.\"\n",
    "print(mesage)\n",
    "\n",
    "pi=3.141518202548\n",
    "print(f\"{pi:.6}\")"
   ]
  },
  {
   "cell_type": "code",
   "execution_count": 31,
   "id": "a388bf42-70ce-4204-938e-9c4cfe603cfc",
   "metadata": {},
   "outputs": [
    {
     "name": "stdout",
     "output_type": "stream",
     "text": [
      "sayı binary sistem 10000\n",
      "sayı binary sistem 0x10\n"
     ]
    }
   ],
   "source": [
    "number=16\n",
    "print(f\"sayı binary sistem {number:b}\")\n",
    "print(f\"sayı binary sistem {number:#x}\")   # o sekizli X onaltılı"
   ]
  },
  {
   "cell_type": "code",
   "execution_count": 4,
   "id": "9a644ca1",
   "metadata": {},
   "outputs": [
    {
     "name": "stdout",
     "output_type": "stream",
     "text": [
      "Hello,Hello,Hello,Hello,Hello,Hello,Hello,Hello,Hello,Hello,Hello,Hello,Hello,Hello,Hello,\n"
     ]
    }
   ],
   "source": [
    "print(\"Hello,\"*15)"
   ]
  },
  {
   "cell_type": "code",
   "execution_count": 6,
   "id": "5e896a7b",
   "metadata": {},
   "outputs": [
    {
     "name": "stdout",
     "output_type": "stream",
     "text": [
      "1212121212\n"
     ]
    }
   ],
   "source": [
    "sayi=\"12\"\n",
    "print(sayi*5)"
   ]
  },
  {
   "cell_type": "code",
   "execution_count": 7,
   "id": "f53b411f",
   "metadata": {},
   "outputs": [
    {
     "data": {
      "text/plain": [
       "3"
      ]
     },
     "execution_count": 7,
     "metadata": {},
     "output_type": "execute_result"
    }
   ],
   "source": [
    "sayi0=1; sayi3=3\n",
    "sayi3"
   ]
  },
  {
   "cell_type": "code",
   "execution_count": 26,
   "id": "b5601740",
   "metadata": {},
   "outputs": [
    {
     "data": {
      "text/plain": [
       "'Python'"
      ]
     },
     "execution_count": 26,
     "metadata": {},
     "output_type": "execute_result"
    }
   ],
   "source": [
    "st='Python'\n",
    "st"
   ]
  },
  {
   "cell_type": "code",
   "execution_count": 13,
   "id": "a622ac7c",
   "metadata": {},
   "outputs": [
    {
     "name": "stdout",
     "output_type": "stream",
     "text": [
      "PYTHON\n"
     ]
    }
   ],
   "source": [
    "print(st.upper())"
   ]
  },
  {
   "cell_type": "code",
   "execution_count": 14,
   "id": "4cf54836",
   "metadata": {},
   "outputs": [],
   "source": [
    "st=st.upper()"
   ]
  },
  {
   "cell_type": "code",
   "execution_count": 15,
   "id": "c7ef8c3e-d9e9-461a-806c-46dea4104e50",
   "metadata": {},
   "outputs": [
    {
     "data": {
      "text/plain": [
       "'PYTHON'"
      ]
     },
     "execution_count": 15,
     "metadata": {},
     "output_type": "execute_result"
    }
   ],
   "source": [
    "st"
   ]
  },
  {
   "cell_type": "code",
   "execution_count": 16,
   "id": "026ddb99-5b68-4bc8-b18c-c6c5126dc190",
   "metadata": {},
   "outputs": [
    {
     "data": {
      "text/plain": [
       "'python'"
      ]
     },
     "execution_count": 16,
     "metadata": {},
     "output_type": "execute_result"
    }
   ],
   "source": [
    "st.lower()"
   ]
  },
  {
   "cell_type": "code",
   "execution_count": 17,
   "id": "a6691938-ac5e-4a09-9a9b-c24da21cbb28",
   "metadata": {},
   "outputs": [
    {
     "data": {
      "text/plain": [
       "'PYTHON'"
      ]
     },
     "execution_count": 17,
     "metadata": {},
     "output_type": "execute_result"
    }
   ],
   "source": [
    "st"
   ]
  },
  {
   "cell_type": "code",
   "execution_count": 23,
   "id": "819ce2b8",
   "metadata": {},
   "outputs": [
    {
     "data": {
      "text/plain": [
       "['PYTHON', 'ders', 'ders', 'ders', 'ders', 'ders']"
      ]
     },
     "execution_count": 23,
     "metadata": {},
     "output_type": "execute_result"
    }
   ],
   "source": [
    "st=st+ \"   ders\"\n",
    "st\n",
    "st.split()"
   ]
  },
  {
   "cell_type": "code",
   "execution_count": 24,
   "id": "669ed8b7-7b25-416d-825e-6ce104bc5f27",
   "metadata": {},
   "outputs": [
    {
     "data": {
      "text/plain": [
       "'PYTHON   ders   ders   ders   ders   ders'"
      ]
     },
     "execution_count": 24,
     "metadata": {},
     "output_type": "execute_result"
    }
   ],
   "source": [
    "st"
   ]
  },
  {
   "cell_type": "code",
   "execution_count": 39,
   "id": "643e5011",
   "metadata": {},
   "outputs": [
    {
     "data": {
      "text/plain": [
       "'ALI VELI selLAMI HASAN HÜSEYIN'"
      ]
     },
     "execution_count": 39,
     "metadata": {},
     "output_type": "execute_result"
    }
   ],
   "source": [
    "a=\"ali veli SELlami hasan hüseyin\"\n",
    "a.swapcase()"
   ]
  },
  {
   "cell_type": "code",
   "execution_count": 40,
   "id": "83d4600d-bf55-4b3b-a777-93fe98f6343c",
   "metadata": {},
   "outputs": [
    {
     "data": {
      "text/plain": [
       "'ali veli SELlami hasan hüseyin'"
      ]
     },
     "execution_count": 40,
     "metadata": {},
     "output_type": "execute_result"
    }
   ],
   "source": [
    "a"
   ]
  },
  {
   "cell_type": "code",
   "execution_count": 2,
   "id": "84b54910",
   "metadata": {},
   "outputs": [
    {
     "name": "stdout",
     "output_type": "stream",
     "text": [
      "['Pyt', 'on']\n"
     ]
    }
   ],
   "source": [
    "st=\"Python\"  \n",
    "print(st.split(\"h\"))"
   ]
  },
  {
   "cell_type": "code",
   "execution_count": 30,
   "id": "1f4de4ff",
   "metadata": {},
   "outputs": [
    {
     "name": "stdout",
     "output_type": "stream",
     "text": [
      "P\ty\tt\th\to\tn\t\n",
      "Python\n"
     ]
    }
   ],
   "source": [
    "for i in st:\n",
    "    print(i, end='\\t')\n",
    "print()\n",
    "print(st)    "
   ]
  },
  {
   "cell_type": "code",
   "execution_count": 33,
   "id": "c37d9a8f-e0ed-43c8-ae8a-d2d1226f89ac",
   "metadata": {},
   "outputs": [
    {
     "name": "stdout",
     "output_type": "stream",
     "text": [
      "ali\n",
      "veli\n",
      "selami\n",
      "selami\n"
     ]
    }
   ],
   "source": [
    "st=[\"ali\",\"veli\",\"selami\"]\n",
    "for i in st:\n",
    "    print(i)\n",
    "print(i)"
   ]
  },
  {
   "cell_type": "code",
   "execution_count": 38,
   "id": "9e023b73",
   "metadata": {},
   "outputs": [
    {
     "name": "stdout",
     "output_type": "stream",
     "text": [
      "['Py', 'hon']\n"
     ]
    },
    {
     "data": {
      "text/plain": [
       "'PythonS'"
      ]
     },
     "execution_count": 38,
     "metadata": {},
     "output_type": "execute_result"
    }
   ],
   "source": [
    "st='Python'\n",
    "d=st.split('t')\n",
    "print(d)\n",
    "#st[0]='A'  #\"immutable\"    \n",
    "f=st[0:6]+'S'\n",
    "f"
   ]
  },
  {
   "cell_type": "code",
   "execution_count": 41,
   "id": "b0373c0e",
   "metadata": {},
   "outputs": [
    {
     "name": "stdout",
     "output_type": "stream",
     "text": [
      "PYTON ÖĞREYNMEK ÇOYK ZEVYKLI\n",
      "pyton öğreynmek çoyk zevykli\n",
      "['P', 'ton Öğre', 'nmek Ço', 'k Zev', 'kli']\n",
      "['P', 'ton Öğre', 'nmek Ço', 'k Zev', 'kli']\n"
     ]
    }
   ],
   "source": [
    "st=\"Pyton Öğreynmek Çoyk Zevykli\"\n",
    "print(st.upper())\n",
    "print(st.lower())\n",
    "print(st.split(sep=\"y\",maxsplit=4))\n",
    "print(st.split(\"y\",4))"
   ]
  },
  {
   "cell_type": "code",
   "execution_count": 19,
   "id": "32eac0a4",
   "metadata": {},
   "outputs": [
    {
     "name": "stdout",
     "output_type": "stream",
     "text": [
      "True False False\n",
      "<class 'bool'>\n"
     ]
    }
   ],
   "source": [
    "a=True\n",
    "x=False\n",
    "zz=\"False\"\n",
    "print(a,x,zz)\n",
    "print(type(x))"
   ]
  },
  {
   "cell_type": "code",
   "execution_count": 44,
   "id": "9f177515",
   "metadata": {},
   "outputs": [
    {
     "name": "stdout",
     "output_type": "stream",
     "text": [
      "False\n",
      "True\n",
      "True\n"
     ]
    }
   ],
   "source": [
    "x=10; y=20\n",
    "x,y=10,20\n",
    "print(x==y)\n",
    "x=10;y=20\n",
    "print(x!=y)\n",
    "print(not x==y)"
   ]
  },
  {
   "cell_type": "code",
   "execution_count": 47,
   "id": "8212bb53",
   "metadata": {},
   "outputs": [
    {
     "name": "stdout",
     "output_type": "stream",
     "text": [
      "['2', '5', 'a', 5, 's', 'c', 'h', 'h', 5]\n",
      "['a', 'b', '2', '5', 3, 'a', 5, 's', 'c', 'h', 'h', 5]\n",
      "['a', 'b', 'a', 's', 'c', 'h', 5]\n"
     ]
    }
   ],
   "source": [
    "Liste=[\"2\",\"5\",\"a\",5,\"s\",\"c\",\"h\",\"h\",5]\n",
    "print(Liste)\n",
    "Liste=[\"a\",\"b\"]+Liste\n",
    "Liste.insert(4,3)\n",
    "#liste.append(3)\n",
    "print(Liste)\n",
    "del Liste[2:5]\n",
    "del Liste[3],Liste[5]\n",
    "print(Liste)"
   ]
  },
  {
   "cell_type": "code",
   "execution_count": 58,
   "id": "d325acef",
   "metadata": {},
   "outputs": [
    {
     "name": "stdout",
     "output_type": "stream",
     "text": [
      "['2', '5', 'a', 5, 's', 'c', 'h', 'h', 3]\n"
     ]
    }
   ],
   "source": [
    "Liste=[\"2\",\"5\",\"a\",5,\"s\",\"c\",\"h\",\"h\"]\n",
    "Liste.append(3)\n",
    "print(Liste)"
   ]
  },
  {
   "cell_type": "code",
   "execution_count": 59,
   "id": "0ba24c9b",
   "metadata": {},
   "outputs": [
    {
     "data": {
      "text/plain": [
       "3"
      ]
     },
     "execution_count": 59,
     "metadata": {},
     "output_type": "execute_result"
    }
   ],
   "source": [
    "a=Liste.pop()\n",
    "a"
   ]
  },
  {
   "cell_type": "code",
   "execution_count": 60,
   "id": "fbcae1fe",
   "metadata": {
    "scrolled": true
   },
   "outputs": [
    {
     "data": {
      "text/plain": [
       "'a'"
      ]
     },
     "execution_count": 60,
     "metadata": {},
     "output_type": "execute_result"
    }
   ],
   "source": [
    "Liste.pop(2)"
   ]
  },
  {
   "cell_type": "code",
   "execution_count": 67,
   "id": "e8315b0f",
   "metadata": {},
   "outputs": [
    {
     "data": {
      "text/plain": [
       "['1', '5', '50', 'aaa', 'c', 'h']"
      ]
     },
     "execution_count": 67,
     "metadata": {},
     "output_type": "execute_result"
    }
   ],
   "source": [
    "Liste=['5',\"50\",'1','aaa', 'c', 'h']\n",
    "Liste.sort()\n",
    "Liste"
   ]
  },
  {
   "cell_type": "code",
   "execution_count": 63,
   "id": "b28cc157",
   "metadata": {},
   "outputs": [
    {
     "name": "stdout",
     "output_type": "stream",
     "text": [
      "['h', 'c', 'aaa', '5', '1']\n",
      "50\n"
     ]
    }
   ],
   "source": [
    "a=Liste.pop(3)\n",
    "print(Liste)\n",
    "print(a)"
   ]
  },
  {
   "cell_type": "code",
   "execution_count": 1,
   "id": "731e3256",
   "metadata": {},
   "outputs": [
    {
     "data": {
      "text/plain": [
       "[2, 4, 4, 5, 5, 6, 25, 78]"
      ]
     },
     "execution_count": 1,
     "metadata": {},
     "output_type": "execute_result"
    }
   ],
   "source": [
    "Liste=[2, 5,6,25, 5,4,78,4] # List de tekrarlayan eleman olabilir.\n",
    "Liste.sort()    # sort set, tuple de kllanılmaz\n",
    "Liste"
   ]
  },
  {
   "cell_type": "code",
   "execution_count": 2,
   "id": "ae542d6c",
   "metadata": {},
   "outputs": [
    {
     "data": {
      "text/plain": [
       "[78, 25, 6, 5, 5, 4, 4, 2]"
      ]
     },
     "execution_count": 2,
     "metadata": {},
     "output_type": "execute_result"
    }
   ],
   "source": [
    "Liste.reverse()\n",
    "Liste"
   ]
  },
  {
   "cell_type": "code",
   "execution_count": 68,
   "id": "1084a00a",
   "metadata": {},
   "outputs": [
    {
     "data": {
      "text/plain": [
       "set"
      ]
     },
     "execution_count": 68,
     "metadata": {},
     "output_type": "execute_result"
    }
   ],
   "source": [
    "A=set(Liste) # Dikkat süslü parantez\n",
    "type(A)"
   ]
  },
  {
   "cell_type": "code",
   "execution_count": 69,
   "id": "4d1dcff3-0654-4e2b-a594-5ed7cf25fcda",
   "metadata": {},
   "outputs": [
    {
     "data": {
      "text/plain": [
       "{3, 5, 6, 8, 10}"
      ]
     },
     "execution_count": 69,
     "metadata": {},
     "output_type": "execute_result"
    }
   ],
   "source": [
    "b={3,5,6,6,8,10,10}\n",
    "b"
   ]
  },
  {
   "cell_type": "code",
   "execution_count": 72,
   "id": "77434d7e",
   "metadata": {},
   "outputs": [
    {
     "data": {
      "text/plain": [
       "set"
      ]
     },
     "execution_count": 72,
     "metadata": {},
     "output_type": "execute_result"
    }
   ],
   "source": [
    "a=type(set())\n",
    "a"
   ]
  },
  {
   "cell_type": "code",
   "execution_count": 73,
   "id": "850461e8",
   "metadata": {},
   "outputs": [
    {
     "data": {
      "text/plain": [
       "[1, 2, 3, 4, 55, 6, 7, 8, 9, 10, 1]"
      ]
     },
     "execution_count": 73,
     "metadata": {},
     "output_type": "execute_result"
    }
   ],
   "source": [
    "Liste=[1,2,3,4,5,6,7,8,9,10,1]\n",
    "Tuple=(1,2,3,4,5,6,7,8,9,10,1)\n",
    "Liste[4]=55\n",
    "Liste"
   ]
  },
  {
   "cell_type": "code",
   "execution_count": 71,
   "id": "211ace63-e0ad-4962-83d0-54fdfef20a55",
   "metadata": {},
   "outputs": [
    {
     "data": {
      "text/plain": [
       "tuple"
      ]
     },
     "execution_count": 71,
     "metadata": {},
     "output_type": "execute_result"
    }
   ],
   "source": [
    "T=1,5,6,8,10\n",
    "type(T)"
   ]
  },
  {
   "cell_type": "code",
   "execution_count": 5,
   "id": "f8f82364",
   "metadata": {},
   "outputs": [
    {
     "data": {
      "text/plain": [
       "(1, 2, 3, 4, 5, 6, 7, 8, 9, 10, 10)"
      ]
     },
     "execution_count": 5,
     "metadata": {},
     "output_type": "execute_result"
    }
   ],
   "source": [
    "Liste=[1,2,3,4,5,6,7,8,9,10,10]\n",
    "Tuple=(1,2,3,4,5,6,7,8,9,10,10)\n",
    "#Tuple[4]=55\n",
    "type(Tuple)"
   ]
  },
  {
   "cell_type": "code",
   "execution_count": 75,
   "id": "4e001886",
   "metadata": {},
   "outputs": [
    {
     "data": {
      "text/plain": [
       "3"
      ]
     },
     "execution_count": 75,
     "metadata": {},
     "output_type": "execute_result"
    }
   ],
   "source": [
    "Ali=(1,5,\"a\",4,\"a\",5,'a')\n",
    "Ali.count(\"a\")"
   ]
  },
  {
   "cell_type": "code",
   "execution_count": 77,
   "id": "bf6caaf3",
   "metadata": {},
   "outputs": [
    {
     "data": {
      "text/plain": [
       "4"
      ]
     },
     "execution_count": 77,
     "metadata": {},
     "output_type": "execute_result"
    }
   ],
   "source": [
    "Ali.index(\"a\",3,6)  #ilk bulduğu değerin indexini döndürür"
   ]
  },
  {
   "cell_type": "code",
   "execution_count": 44,
   "id": "025b18ea",
   "metadata": {},
   "outputs": [
    {
     "ename": "ValueError",
     "evalue": "tuple.index(x): x not in tuple",
     "output_type": "error",
     "traceback": [
      "\u001b[1;31m---------------------------------------------------------------------------\u001b[0m",
      "\u001b[1;31mValueError\u001b[0m                                Traceback (most recent call last)",
      "\u001b[1;32m~\\AppData\\Local\\Temp/ipykernel_8452/1560709872.py\u001b[0m in \u001b[0;36m<module>\u001b[1;34m\u001b[0m\n\u001b[1;32m----> 1\u001b[1;33m \u001b[0mAli\u001b[0m\u001b[1;33m.\u001b[0m\u001b[0mindex\u001b[0m\u001b[1;33m(\u001b[0m\u001b[1;34m\"f\"\u001b[0m\u001b[1;33m)\u001b[0m\u001b[1;33m\u001b[0m\u001b[1;33m\u001b[0m\u001b[0m\n\u001b[0m",
      "\u001b[1;31mValueError\u001b[0m: tuple.index(x): x not in tuple"
     ]
    }
   ],
   "source": [
    "Ali.index(\"f\")"
   ]
  },
  {
   "cell_type": "code",
   "execution_count": 78,
   "id": "02543fa3",
   "metadata": {},
   "outputs": [
    {
     "data": {
      "text/plain": [
       "{'ad': 'Ahmet', 'Soyad': 'Ağa', 'Yas': 35}"
      ]
     },
     "execution_count": 78,
     "metadata": {},
     "output_type": "execute_result"
    }
   ],
   "source": [
    "dicti={'ad':'Ahmet','Soyad':'Ağa','Yas':35}\n",
    "dicti"
   ]
  },
  {
   "cell_type": "code",
   "execution_count": 79,
   "id": "81012dd9",
   "metadata": {},
   "outputs": [],
   "source": [
    "dicti={\n",
    "    'ad':'Ahmet',\n",
    "    'Soyad':'Ağa',\n",
    "    'Yas':35}"
   ]
  },
  {
   "cell_type": "code",
   "execution_count": 46,
   "id": "9d77671f",
   "metadata": {},
   "outputs": [
    {
     "data": {
      "text/plain": [
       "'Ahmet'"
      ]
     },
     "execution_count": 46,
     "metadata": {},
     "output_type": "execute_result"
    }
   ],
   "source": [
    "dicti['ad']   # [ ] yerine get komtu da kullanılır."
   ]
  },
  {
   "cell_type": "code",
   "execution_count": 47,
   "id": "b51c470c-7c73-479f-bf71-2450fe705c2a",
   "metadata": {},
   "outputs": [
    {
     "data": {
      "text/plain": [
       "'Ahmet'"
      ]
     },
     "execution_count": 47,
     "metadata": {},
     "output_type": "execute_result"
    }
   ],
   "source": [
    "dicti.get('ad')"
   ]
  },
  {
   "cell_type": "code",
   "execution_count": 80,
   "id": "2eaf78bc-7ffb-4217-9974-7948031d9222",
   "metadata": {},
   "outputs": [
    {
     "data": {
      "text/plain": [
       "dict"
      ]
     },
     "execution_count": 80,
     "metadata": {},
     "output_type": "execute_result"
    }
   ],
   "source": [
    "type(dicti)"
   ]
  },
  {
   "cell_type": "code",
   "execution_count": 85,
   "id": "ba347cc4",
   "metadata": {},
   "outputs": [
    {
     "data": {
      "text/plain": [
       "{'name': 'John', 'country': 'ABD', 'favorite_number': [7, 42, 92, 8]}"
      ]
     },
     "execution_count": 85,
     "metadata": {},
     "output_type": "execute_result"
    }
   ],
   "source": [
    "participant={\n",
    "    'name':'John',\n",
    "    'country':'ABD',\n",
    "    'favorite_number':[7,42,92,8]\n",
    "}\n",
    "participant"
   ]
  },
  {
   "cell_type": "code",
   "execution_count": 24,
   "id": "0d4974a5",
   "metadata": {},
   "outputs": [
    {
     "name": "stdout",
     "output_type": "stream",
     "text": [
      "[7, 42, 92, 8]\n"
     ]
    }
   ],
   "source": [
    "print(participant['favorite_number'])"
   ]
  },
  {
   "cell_type": "code",
   "execution_count": 87,
   "id": "3883cad6",
   "metadata": {},
   "outputs": [],
   "source": [
    "participant['favorite_langue']='Python'"
   ]
  },
  {
   "cell_type": "code",
   "execution_count": 88,
   "id": "63b7f129",
   "metadata": {},
   "outputs": [
    {
     "data": {
      "text/plain": [
       "4"
      ]
     },
     "execution_count": 88,
     "metadata": {},
     "output_type": "execute_result"
    }
   ],
   "source": [
    "len(participant)"
   ]
  },
  {
   "cell_type": "code",
   "execution_count": 89,
   "id": "8c9ed7c0-14f0-4599-8952-499599127c59",
   "metadata": {},
   "outputs": [
    {
     "data": {
      "text/plain": [
       "{'name': 'John',\n",
       " 'country': 'ABD',\n",
       " 'favorite_number': [7, 42, 92, 8],\n",
       " 'favorite_langue': 'Python'}"
      ]
     },
     "execution_count": 89,
     "metadata": {},
     "output_type": "execute_result"
    }
   ],
   "source": [
    "participant"
   ]
  },
  {
   "cell_type": "code",
   "execution_count": 91,
   "id": "d4c6ad6a",
   "metadata": {},
   "outputs": [
    {
     "ename": "KeyError",
     "evalue": "'name'",
     "output_type": "error",
     "traceback": [
      "\u001b[1;31m---------------------------------------------------------------------------\u001b[0m",
      "\u001b[1;31mKeyError\u001b[0m                                  Traceback (most recent call last)",
      "\u001b[1;32m~\\AppData\\Local\\Temp/ipykernel_3112/3208174143.py\u001b[0m in \u001b[0;36m<module>\u001b[1;34m\u001b[0m\n\u001b[1;32m----> 1\u001b[1;33m \u001b[1;32mdel\u001b[0m \u001b[0mparticipant\u001b[0m\u001b[1;33m[\u001b[0m\u001b[1;34m'name'\u001b[0m\u001b[1;33m]\u001b[0m  \u001b[1;31m#bunu calıştırdıktan sonra tekrar run edersen hata verir.\u001b[0m\u001b[1;33m\u001b[0m\u001b[1;33m\u001b[0m\u001b[0m\n\u001b[0m",
      "\u001b[1;31mKeyError\u001b[0m: 'name'"
     ]
    }
   ],
   "source": [
    "del participant['name']  #bunu calıştırdıktan sonra tekrar run edersen hata verir."
   ]
  },
  {
   "cell_type": "code",
   "execution_count": 92,
   "id": "b08e7239",
   "metadata": {},
   "outputs": [
    {
     "data": {
      "text/plain": [
       "{'country': 'ABD',\n",
       " 'favorite_number': [7, 42, 92, 8],\n",
       " 'favorite_langue': 'Python'}"
      ]
     },
     "execution_count": 92,
     "metadata": {},
     "output_type": "execute_result"
    }
   ],
   "source": [
    "participant"
   ]
  },
  {
   "cell_type": "code",
   "execution_count": 93,
   "id": "be235475-a85c-4ea0-b27e-48b80955248d",
   "metadata": {},
   "outputs": [],
   "source": [
    "set1={1,2,3,4,5,6}"
   ]
  },
  {
   "cell_type": "code",
   "execution_count": 94,
   "id": "35535e75-8d50-4eed-b11a-dddb3e120dfe",
   "metadata": {},
   "outputs": [],
   "source": [
    "set2={1,2,7,8,9,9}"
   ]
  },
  {
   "cell_type": "code",
   "execution_count": 95,
   "id": "1d2bf944-a248-481e-9f03-1f5b1996c01d",
   "metadata": {},
   "outputs": [],
   "source": [
    "t=set1.union(set2)"
   ]
  },
  {
   "cell_type": "code",
   "execution_count": 96,
   "id": "0ea7fe64-efd5-41bc-aaf6-afb731c92a2a",
   "metadata": {},
   "outputs": [
    {
     "data": {
      "text/plain": [
       "{1, 2, 3, 4, 5, 6, 7, 8, 9}"
      ]
     },
     "execution_count": 96,
     "metadata": {},
     "output_type": "execute_result"
    }
   ],
   "source": [
    "t"
   ]
  },
  {
   "cell_type": "code",
   "execution_count": 97,
   "id": "ab317360-b31b-4a62-9baa-7ca71d004ee5",
   "metadata": {},
   "outputs": [],
   "source": [
    "set1.update(set2)"
   ]
  },
  {
   "cell_type": "code",
   "execution_count": 102,
   "id": "6e15bd27-48d4-4f9e-b886-a4792503a5b7",
   "metadata": {},
   "outputs": [
    {
     "data": {
      "text/plain": [
       "{1, 2, 3, 4, 5, 6, 7, 8, 9, 99}"
      ]
     },
     "execution_count": 102,
     "metadata": {},
     "output_type": "execute_result"
    }
   ],
   "source": [
    "set1"
   ]
  },
  {
   "cell_type": "code",
   "execution_count": 103,
   "id": "b3d3fe49-7828-499d-b2b0-6789ff2eff1c",
   "metadata": {},
   "outputs": [],
   "source": [
    "set1.add(99)"
   ]
  },
  {
   "cell_type": "code",
   "execution_count": 104,
   "id": "5b9ce6d0-8ac2-402c-b4ce-19aa4895ba7d",
   "metadata": {},
   "outputs": [
    {
     "ename": "NameError",
     "evalue": "name 'set10' is not defined",
     "output_type": "error",
     "traceback": [
      "\u001b[1;31m---------------------------------------------------------------------------\u001b[0m",
      "\u001b[1;31mNameError\u001b[0m                                 Traceback (most recent call last)",
      "\u001b[1;32m~\\AppData\\Local\\Temp/ipykernel_3112/397905143.py\u001b[0m in \u001b[0;36m<module>\u001b[1;34m\u001b[0m\n\u001b[1;32m----> 1\u001b[1;33m \u001b[0mset10\u001b[0m\u001b[1;33m\u001b[0m\u001b[1;33m\u001b[0m\u001b[0m\n\u001b[0m",
      "\u001b[1;31mNameError\u001b[0m: name 'set10' is not defined"
     ]
    }
   ],
   "source": [
    "set1"
   ]
  },
  {
   "cell_type": "code",
   "execution_count": 101,
   "id": "cd08f4ec-a0b1-48ed-ad8a-e8e019b4406c",
   "metadata": {},
   "outputs": [
    {
     "ename": "AttributeError",
     "evalue": "'set' object has no attribute 'sort'",
     "output_type": "error",
     "traceback": [
      "\u001b[1;31m---------------------------------------------------------------------------\u001b[0m",
      "\u001b[1;31mAttributeError\u001b[0m                            Traceback (most recent call last)",
      "\u001b[1;32m~\\AppData\\Local\\Temp/ipykernel_3112/4030476568.py\u001b[0m in \u001b[0;36m<module>\u001b[1;34m\u001b[0m\n\u001b[1;32m----> 1\u001b[1;33m \u001b[0mset1\u001b[0m\u001b[1;33m.\u001b[0m\u001b[0msort\u001b[0m\u001b[1;33m(\u001b[0m\u001b[1;33m)\u001b[0m  \u001b[1;31m# sıralama yok, indexlenmez\u001b[0m\u001b[1;33m\u001b[0m\u001b[1;33m\u001b[0m\u001b[0m\n\u001b[0m",
      "\u001b[1;31mAttributeError\u001b[0m: 'set' object has no attribute 'sort'"
     ]
    }
   ],
   "source": [
    "set1.sort()  # sıralama yok, indexlenmez"
   ]
  },
  {
   "cell_type": "code",
   "execution_count": null,
   "id": "4467de5f-0323-4de6-b82f-e05f7fe7ea46",
   "metadata": {},
   "outputs": [],
   "source": []
  }
 ],
 "metadata": {
  "kernelspec": {
   "display_name": "Python 3 (ipykernel)",
   "language": "python",
   "name": "python3"
  },
  "language_info": {
   "codemirror_mode": {
    "name": "ipython",
    "version": 3
   },
   "file_extension": ".py",
   "mimetype": "text/x-python",
   "name": "python",
   "nbconvert_exporter": "python",
   "pygments_lexer": "ipython3",
   "version": "3.9.7"
  }
 },
 "nbformat": 4,
 "nbformat_minor": 5
}
