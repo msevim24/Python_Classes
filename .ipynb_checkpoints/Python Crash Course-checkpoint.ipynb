{
 "cells": [
  {
   "cell_type": "markdown",
   "id": "aa3e8a41",
   "metadata": {},
   "source": [
    "# Python Crash Course"
   ]
  },
  {
   "cell_type": "markdown",
   "id": "d86caf83",
   "metadata": {},
   "source": [
    "### Data types"
   ]
  },
  {
   "cell_type": "code",
   "execution_count": 2,
   "id": "1d66f53f",
   "metadata": {},
   "outputs": [
    {
     "data": {
      "text/plain": [
       "int"
      ]
     },
     "execution_count": 2,
     "metadata": {},
     "output_type": "execute_result"
    }
   ],
   "source": [
    "# Integer\n",
    "type (1)"
   ]
  },
  {
   "cell_type": "code",
   "execution_count": 4,
   "id": "cbbfe2c5",
   "metadata": {},
   "outputs": [
    {
     "data": {
      "text/plain": [
       "float"
      ]
     },
     "execution_count": 4,
     "metadata": {},
     "output_type": "execute_result"
    }
   ],
   "source": [
    "# Float\n",
    "type(2.0)"
   ]
  },
  {
   "cell_type": "code",
   "execution_count": 5,
   "id": "f33d6da9",
   "metadata": {},
   "outputs": [
    {
     "data": {
      "text/plain": [
       "str"
      ]
     },
     "execution_count": 5,
     "metadata": {},
     "output_type": "execute_result"
    }
   ],
   "source": [
    "# String\n",
    "type(\"word\")"
   ]
  },
  {
   "cell_type": "code",
   "execution_count": 7,
   "id": "26b73fd7",
   "metadata": {},
   "outputs": [
    {
     "data": {
      "text/plain": [
       "bool"
      ]
     },
     "execution_count": 7,
     "metadata": {},
     "output_type": "execute_result"
    }
   ],
   "source": [
    "# Boolean: True or False\n",
    "type(1+1==2) "
   ]
  },
  {
   "cell_type": "code",
   "execution_count": 8,
   "id": "86a6400b",
   "metadata": {},
   "outputs": [
    {
     "data": {
      "text/plain": [
       "bool"
      ]
     },
     "execution_count": 8,
     "metadata": {},
     "output_type": "execute_result"
    }
   ],
   "source": [
    "type(1+1==3) "
   ]
  },
  {
   "cell_type": "code",
   "execution_count": 69,
   "id": "ca80572d",
   "metadata": {},
   "outputs": [
    {
     "data": {
      "text/plain": [
       "True"
      ]
     },
     "execution_count": 69,
     "metadata": {},
     "output_type": "execute_result"
    }
   ],
   "source": [
    "True # boolean"
   ]
  },
  {
   "cell_type": "code",
   "execution_count": 70,
   "id": "52810288",
   "metadata": {},
   "outputs": [
    {
     "data": {
      "text/plain": [
       "False"
      ]
     },
     "execution_count": 70,
     "metadata": {},
     "output_type": "execute_result"
    }
   ],
   "source": [
    "False # boolean"
   ]
  },
  {
   "cell_type": "markdown",
   "id": "d3d2079c",
   "metadata": {},
   "source": [
    "### Mathematical Expressions"
   ]
  },
  {
   "cell_type": "code",
   "execution_count": 10,
   "id": "326e62ef",
   "metadata": {},
   "outputs": [
    {
     "data": {
      "text/plain": [
       "30"
      ]
     },
     "execution_count": 10,
     "metadata": {},
     "output_type": "execute_result"
    }
   ],
   "source": [
    "11+19"
   ]
  },
  {
   "cell_type": "code",
   "execution_count": 11,
   "id": "4bcd3478",
   "metadata": {},
   "outputs": [
    {
     "data": {
      "text/plain": [
       "5616"
      ]
     },
     "execution_count": 11,
     "metadata": {},
     "output_type": "execute_result"
    }
   ],
   "source": [
    "24*234"
   ]
  },
  {
   "cell_type": "code",
   "execution_count": 12,
   "id": "d1197f4f",
   "metadata": {},
   "outputs": [
    {
     "data": {
      "text/plain": [
       "61.75806451612903"
      ]
     },
     "execution_count": 12,
     "metadata": {},
     "output_type": "execute_result"
    }
   ],
   "source": [
    "7658/124"
   ]
  },
  {
   "cell_type": "code",
   "execution_count": 13,
   "id": "29fd2c29",
   "metadata": {},
   "outputs": [
    {
     "data": {
      "text/plain": [
       "36"
      ]
     },
     "execution_count": 13,
     "metadata": {},
     "output_type": "execute_result"
    }
   ],
   "source": [
    "#Exponents (**)\n",
    "6**2"
   ]
  },
  {
   "cell_type": "code",
   "execution_count": 15,
   "id": "32a4ff13",
   "metadata": {},
   "outputs": [
    {
     "data": {
      "text/plain": [
       "0"
      ]
     },
     "execution_count": 15,
     "metadata": {},
     "output_type": "execute_result"
    }
   ],
   "source": [
    "# Remainder (%)\n",
    "10 % 2 # What is the remainder when 10 is divided by 2?"
   ]
  },
  {
   "cell_type": "code",
   "execution_count": 17,
   "id": "3e450714",
   "metadata": {},
   "outputs": [
    {
     "data": {
      "text/plain": [
       "11"
      ]
     },
     "execution_count": 17,
     "metadata": {},
     "output_type": "execute_result"
    }
   ],
   "source": [
    "167 % 12"
   ]
  },
  {
   "cell_type": "code",
   "execution_count": 18,
   "id": "d6a550ea",
   "metadata": {},
   "outputs": [
    {
     "data": {
      "text/plain": [
       "75"
      ]
     },
     "execution_count": 18,
     "metadata": {},
     "output_type": "execute_result"
    }
   ],
   "source": [
    "# Order\n",
    "25 + 15 * 3 + 5  # 25 + (15*3) +5"
   ]
  },
  {
   "cell_type": "code",
   "execution_count": 19,
   "id": "f7c9c3eb",
   "metadata": {},
   "outputs": [
    {
     "data": {
      "text/plain": [
       "75"
      ]
     },
     "execution_count": 19,
     "metadata": {},
     "output_type": "execute_result"
    }
   ],
   "source": [
    "25 + (15*3) +5"
   ]
  },
  {
   "cell_type": "code",
   "execution_count": 20,
   "id": "522ea0b8",
   "metadata": {},
   "outputs": [
    {
     "data": {
      "text/plain": [
       "320"
      ]
     },
     "execution_count": 20,
     "metadata": {},
     "output_type": "execute_result"
    }
   ],
   "source": [
    "(25 + 15) * (3 + 5)"
   ]
  },
  {
   "cell_type": "code",
   "execution_count": 21,
   "id": "4b67e4c8",
   "metadata": {},
   "outputs": [],
   "source": [
    "var = 5"
   ]
  },
  {
   "cell_type": "code",
   "execution_count": 22,
   "id": "88c8a62c",
   "metadata": {},
   "outputs": [],
   "source": [
    "x = 3\n",
    "y = 5"
   ]
  },
  {
   "cell_type": "code",
   "execution_count": 23,
   "id": "701345d4",
   "metadata": {},
   "outputs": [
    {
     "data": {
      "text/plain": [
       "8"
      ]
     },
     "execution_count": 23,
     "metadata": {},
     "output_type": "execute_result"
    }
   ],
   "source": [
    "x+y"
   ]
  },
  {
   "cell_type": "markdown",
   "id": "cb9a4e64",
   "metadata": {},
   "source": [
    "### Strings"
   ]
  },
  {
   "cell_type": "code",
   "execution_count": 25,
   "id": "fa22e3cb",
   "metadata": {},
   "outputs": [
    {
     "data": {
      "text/plain": [
       "'string'"
      ]
     },
     "execution_count": 25,
     "metadata": {},
     "output_type": "execute_result"
    }
   ],
   "source": [
    "'single quote'"
   ]
  },
  {
   "cell_type": "code",
   "execution_count": 26,
   "id": "2af40d01",
   "metadata": {},
   "outputs": [
    {
     "data": {
      "text/plain": [
       "'double quote'"
      ]
     },
     "execution_count": 26,
     "metadata": {},
     "output_type": "execute_result"
    }
   ],
   "source": [
    "\"double quote\""
   ]
  },
  {
   "cell_type": "code",
   "execution_count": 27,
   "id": "9b272502",
   "metadata": {},
   "outputs": [
    {
     "data": {
      "text/plain": [
       "'It is up to you!'"
      ]
     },
     "execution_count": 27,
     "metadata": {},
     "output_type": "execute_result"
    }
   ],
   "source": [
    "\"It is up to you!\""
   ]
  },
  {
   "cell_type": "code",
   "execution_count": 33,
   "id": "b8d9885e",
   "metadata": {},
   "outputs": [
    {
     "ename": "SyntaxError",
     "evalue": "invalid syntax (3754285910.py, line 1)",
     "output_type": "error",
     "traceback": [
      "\u001b[1;36m  Input \u001b[1;32mIn [33]\u001b[1;36m\u001b[0m\n\u001b[1;33m    'However, don't use single quote in this case, that is, together with another apostrophe'\u001b[0m\n\u001b[1;37m                  ^\u001b[0m\n\u001b[1;31mSyntaxError\u001b[0m\u001b[1;31m:\u001b[0m invalid syntax\n"
     ]
    }
   ],
   "source": [
    "'However, don't use single quote in this case, that is, together with another apostrophe'"
   ]
  },
  {
   "cell_type": "code",
   "execution_count": 30,
   "id": "a270b68e",
   "metadata": {},
   "outputs": [
    {
     "data": {
      "text/plain": [
       "\"Insted, use double qupte because there is an apostroph in don't\""
      ]
     },
     "execution_count": 30,
     "metadata": {},
     "output_type": "execute_result"
    }
   ],
   "source": [
    "\"Instead, use double quote because there is an apostrophe in don't\""
   ]
  },
  {
   "cell_type": "code",
   "execution_count": 31,
   "id": "384ce616",
   "metadata": {},
   "outputs": [
    {
     "data": {
      "text/plain": [
       "'hello world'"
      ]
     },
     "execution_count": 31,
     "metadata": {},
     "output_type": "execute_result"
    }
   ],
   "source": [
    "\"hello world\""
   ]
  },
  {
   "cell_type": "code",
   "execution_count": 32,
   "id": "800090e8",
   "metadata": {
    "scrolled": true
   },
   "outputs": [
    {
     "name": "stdout",
     "output_type": "stream",
     "text": [
      "hello world\n"
     ]
    }
   ],
   "source": [
    "print(\"hello world\") # see the difference in output"
   ]
  },
  {
   "cell_type": "markdown",
   "id": "650e0132",
   "metadata": {},
   "source": [
    "### format()"
   ]
  },
  {
   "cell_type": "code",
   "execution_count": 34,
   "id": "d1a7d042",
   "metadata": {},
   "outputs": [
    {
     "name": "stdout",
     "output_type": "stream",
     "text": [
      "My name is Julia\n"
     ]
    }
   ],
   "source": [
    "print(\"My name is {}\".format(\"Julia\"))"
   ]
  },
  {
   "cell_type": "code",
   "execution_count": 38,
   "id": "7ddd3e9d",
   "metadata": {},
   "outputs": [
    {
     "name": "stdout",
     "output_type": "stream",
     "text": [
      "My name is Julia and I am 35 years old\n"
     ]
    }
   ],
   "source": [
    "print(\"My name is {} and I am {} years old\".format(\"Julia\", \"35\"))"
   ]
  },
  {
   "cell_type": "code",
   "execution_count": 41,
   "id": "5e9e9dbd",
   "metadata": {},
   "outputs": [
    {
     "name": "stdout",
     "output_type": "stream",
     "text": [
      "My name is Julia and I am 35 years old\n"
     ]
    }
   ],
   "source": [
    "print(\"My name is {} and I am {} years old\".format(\"Julia\", 35))"
   ]
  },
  {
   "cell_type": "code",
   "execution_count": 39,
   "id": "86496e65",
   "metadata": {},
   "outputs": [
    {
     "data": {
      "text/plain": [
       "'My name is Julia and I am 35 years old'"
      ]
     },
     "execution_count": 39,
     "metadata": {},
     "output_type": "execute_result"
    }
   ],
   "source": [
    "# without using print()\n",
    "\"My name is {} and I am {} years old\".format(\"Julia\", \"35\")"
   ]
  },
  {
   "cell_type": "code",
   "execution_count": 42,
   "id": "290facc2",
   "metadata": {},
   "outputs": [
    {
     "name": "stdout",
     "output_type": "stream",
     "text": [
      "First: A, Second: B\n"
     ]
    }
   ],
   "source": [
    "print(\"First: {}, Second: {}\".format(\"A\",\"B\"))"
   ]
  },
  {
   "cell_type": "code",
   "execution_count": 44,
   "id": "7728b8fa",
   "metadata": {},
   "outputs": [
    {
     "name": "stdout",
     "output_type": "stream",
     "text": [
      "First: A, Second: B\n"
     ]
    }
   ],
   "source": [
    "print(\"First: {x}, Second: {y}\".format(x=\"A\", y=\"B\"))"
   ]
  },
  {
   "cell_type": "code",
   "execution_count": 45,
   "id": "8bd9ff9f",
   "metadata": {},
   "outputs": [
    {
     "name": "stdout",
     "output_type": "stream",
     "text": [
      "First: B, Second: A\n"
     ]
    }
   ],
   "source": [
    "# reverse the order\n",
    "print(\"First: {y}, Second: {x}\".format(x=\"A\", y=\"B\"))"
   ]
  },
  {
   "cell_type": "markdown",
   "id": "ef6f2076",
   "metadata": {},
   "source": [
    "### Lists [ ] \n",
    "\n",
    "* The list is a datatype available in Python which can be written as a list of comma-separated values (items) between square brackets.\n",
    "* List are mutable .i.e it can be converted into another data type and can store any data element in it.\n",
    "* List can store any type of element."
   ]
  },
  {
   "cell_type": "code",
   "execution_count": 46,
   "id": "baa75177",
   "metadata": {},
   "outputs": [
    {
     "data": {
      "text/plain": [
       "[11, 22, 33]"
      ]
     },
     "execution_count": 46,
     "metadata": {},
     "output_type": "execute_result"
    }
   ],
   "source": [
    "[11,22,33]"
   ]
  },
  {
   "cell_type": "code",
   "execution_count": 47,
   "id": "70c1bf42",
   "metadata": {},
   "outputs": [
    {
     "data": {
      "text/plain": [
       "['string', 'number', 'together']"
      ]
     },
     "execution_count": 47,
     "metadata": {},
     "output_type": "execute_result"
    }
   ],
   "source": [
    "[\"string\", \"number\", \"together\"]"
   ]
  },
  {
   "cell_type": "code",
   "execution_count": 48,
   "id": "82c7f530",
   "metadata": {
    "scrolled": true
   },
   "outputs": [
    {
     "data": {
      "text/plain": [
       "['x', 3, 5, 'Y']"
      ]
     },
     "execution_count": 48,
     "metadata": {},
     "output_type": "execute_result"
    }
   ],
   "source": [
    "[\"x\", 3, 5, \"Y\"]"
   ]
  },
  {
   "cell_type": "code",
   "execution_count": 49,
   "id": "4e8ae43a",
   "metadata": {},
   "outputs": [],
   "source": [
    "mylist= [\"a\", 13, 41, \"b\", \"z\"]"
   ]
  },
  {
   "cell_type": "code",
   "execution_count": 50,
   "id": "b54ac771",
   "metadata": {},
   "outputs": [
    {
     "data": {
      "text/plain": [
       "'a'"
      ]
     },
     "execution_count": 50,
     "metadata": {},
     "output_type": "execute_result"
    }
   ],
   "source": [
    "# Indexing: show the first item\n",
    "mylist[0]\n"
   ]
  },
  {
   "cell_type": "code",
   "execution_count": 51,
   "id": "3de44d57",
   "metadata": {},
   "outputs": [
    {
     "data": {
      "text/plain": [
       "'z'"
      ]
     },
     "execution_count": 51,
     "metadata": {},
     "output_type": "execute_result"
    }
   ],
   "source": [
    "# the list item on the list\n",
    "mylist[4]"
   ]
  },
  {
   "cell_type": "code",
   "execution_count": 52,
   "id": "be3a7720",
   "metadata": {},
   "outputs": [
    {
     "data": {
      "text/plain": [
       "'z'"
      ]
     },
     "execution_count": 52,
     "metadata": {},
     "output_type": "execute_result"
    }
   ],
   "source": [
    "# or\n",
    "mylist[-1]"
   ]
  },
  {
   "cell_type": "code",
   "execution_count": 54,
   "id": "e1fefddf",
   "metadata": {},
   "outputs": [
    {
     "data": {
      "text/plain": [
       "['X', 13, 41, 'b', 'z']"
      ]
     },
     "execution_count": 54,
     "metadata": {},
     "output_type": "execute_result"
    }
   ],
   "source": [
    "# Replace the first item a with X \n",
    "mylist[0]=\"X\"\n",
    "mylist"
   ]
  },
  {
   "cell_type": "markdown",
   "id": "e317f7f5",
   "metadata": {},
   "source": [
    "#### append()"
   ]
  },
  {
   "cell_type": "code",
   "execution_count": 55,
   "id": "832962bc",
   "metadata": {},
   "outputs": [],
   "source": [
    "# add an item to the list\n",
    "mylist.append(\"Y\")"
   ]
  },
  {
   "cell_type": "code",
   "execution_count": 56,
   "id": "ba055631",
   "metadata": {},
   "outputs": [
    {
     "data": {
      "text/plain": [
       "['X', 13, 41, 'b', 'z', 'Y']"
      ]
     },
     "execution_count": 56,
     "metadata": {},
     "output_type": "execute_result"
    }
   ],
   "source": [
    "mylist"
   ]
  },
  {
   "cell_type": "code",
   "execution_count": 58,
   "id": "040f3320",
   "metadata": {},
   "outputs": [
    {
     "data": {
      "text/plain": [
       "[6, 7, [11, 22, 33], 8]"
      ]
     },
     "execution_count": 58,
     "metadata": {},
     "output_type": "execute_result"
    }
   ],
   "source": [
    "# nested list: list inside the list\n",
    "newlist= [6,7, [11,22,33], 8]\n",
    "newlist"
   ]
  },
  {
   "cell_type": "code",
   "execution_count": 59,
   "id": "8ddf213b",
   "metadata": {},
   "outputs": [
    {
     "data": {
      "text/plain": [
       "[11, 22, 33]"
      ]
     },
     "execution_count": 59,
     "metadata": {},
     "output_type": "execute_result"
    }
   ],
   "source": [
    "# reach the list inside the list\n",
    "newlist[2]"
   ]
  },
  {
   "cell_type": "code",
   "execution_count": 60,
   "id": "4ac7f245",
   "metadata": {},
   "outputs": [
    {
     "data": {
      "text/plain": [
       "33"
      ]
     },
     "execution_count": 60,
     "metadata": {},
     "output_type": "execute_result"
    }
   ],
   "source": [
    "#how to reach 33\n",
    "newlist[2][2]"
   ]
  },
  {
   "cell_type": "markdown",
   "id": "838fedb9",
   "metadata": {},
   "source": [
    "### Dictionaries { 'key' : 'value'}"
   ]
  },
  {
   "cell_type": "code",
   "execution_count": 63,
   "id": "18773505",
   "metadata": {},
   "outputs": [],
   "source": [
    "d = {\"age1\": 10, \"age2\": 20}"
   ]
  },
  {
   "cell_type": "code",
   "execution_count": 65,
   "id": "47c275fe",
   "metadata": {},
   "outputs": [
    {
     "data": {
      "text/plain": [
       "10"
      ]
     },
     "execution_count": 65,
     "metadata": {},
     "output_type": "execute_result"
    }
   ],
   "source": [
    "# unlike the list there is no order\n",
    "# to see the value use the key\n",
    "d[\"age1\"]"
   ]
  },
  {
   "cell_type": "markdown",
   "id": "fe6b0c8b",
   "metadata": {},
   "source": [
    "### Tuples ()\n",
    "\n",
    "#### Tuples vs Lists: \n",
    "* The list structure is dynamic, and readily changed whereas the tuple structure is static and cannot be changed (immutable).\n",
    "* This means that the tuple is generally faster than the list.\n",
    "* Lists are denoted by square brackets [ ] and tuples are denoted with parenthesis ()."
   ]
  },
  {
   "cell_type": "code",
   "execution_count": 72,
   "id": "b70ff9ce",
   "metadata": {},
   "outputs": [],
   "source": [
    "t=(7,8,9,10)"
   ]
  },
  {
   "cell_type": "code",
   "execution_count": 73,
   "id": "ce0c8c1a",
   "metadata": {},
   "outputs": [
    {
     "ename": "TypeError",
     "evalue": "'tuple' object does not support item assignment",
     "output_type": "error",
     "traceback": [
      "\u001b[1;31m---------------------------------------------------------------------------\u001b[0m",
      "\u001b[1;31mTypeError\u001b[0m                                 Traceback (most recent call last)",
      "Input \u001b[1;32mIn [73]\u001b[0m, in \u001b[0;36m<cell line: 2>\u001b[1;34m()\u001b[0m\n\u001b[0;32m      1\u001b[0m \u001b[38;5;66;03m# Let's try to change the first element from 7 to 1\u001b[39;00m\n\u001b[1;32m----> 2\u001b[0m t[\u001b[38;5;241m0\u001b[39m] \u001b[38;5;241m=\u001b[39m \u001b[38;5;241m1\u001b[39m\n",
      "\u001b[1;31mTypeError\u001b[0m: 'tuple' object does not support item assignment"
     ]
    }
   ],
   "source": [
    "# Let's try to change the first element from 7 to 1\n",
    "t[0] = 1\n",
    "\n",
    "# Warning: 'tuple' object does not support item assignment"
   ]
  },
  {
   "cell_type": "markdown",
   "id": "4083f13d",
   "metadata": {},
   "source": [
    "### Sets {}\n",
    "\n",
    "* Sets are an unordered collection of elements or unintended collection of items In python.\n",
    "* Here the order in which the elements are added into the set is not fixed, it can change frequently.\n",
    "* It is defined under curly braces{}\n",
    "* Sets are mutable, however, only immutable objects can be stored in it."
   ]
  },
  {
   "cell_type": "code",
   "execution_count": 76,
   "id": "19ff9dd2",
   "metadata": {},
   "outputs": [],
   "source": [
    "# It looks like a dictionat but there is no key:value pairs\n",
    "s={11,12,13}"
   ]
  },
  {
   "cell_type": "code",
   "execution_count": 78,
   "id": "3497f071",
   "metadata": {},
   "outputs": [
    {
     "data": {
      "text/plain": [
       "set"
      ]
     },
     "execution_count": 78,
     "metadata": {},
     "output_type": "execute_result"
    }
   ],
   "source": [
    "type(s)"
   ]
  },
  {
   "cell_type": "code",
   "execution_count": 80,
   "id": "57931bf0",
   "metadata": {},
   "outputs": [
    {
     "data": {
      "text/plain": [
       "{1, 2, 3, 4, 5}"
      ]
     },
     "execution_count": 80,
     "metadata": {},
     "output_type": "execute_result"
    }
   ],
   "source": [
    "# It displays only the unique elements\n",
    "s2={1,2,3,4,5,4,3,2,1,1,1}\n",
    "s2"
   ]
  },
  {
   "cell_type": "code",
   "execution_count": 84,
   "id": "87929024",
   "metadata": {},
   "outputs": [
    {
     "name": "stdout",
     "output_type": "stream",
     "text": [
      "\n",
      "Set with the use of List: \n",
      "{'this', 'a', 'List', 'Is', '?'}\n"
     ]
    }
   ],
   "source": [
    "# Creating a Set with the use of a List \n",
    "s3 = set([\"Is\", \"this\", \"a\", \"List\", \"?\"]) \n",
    "print(\"\\nSet with the use of List: \") \n",
    "print(s3)"
   ]
  },
  {
   "cell_type": "code",
   "execution_count": 85,
   "id": "42f9619d",
   "metadata": {},
   "outputs": [
    {
     "data": {
      "text/plain": [
       "set"
      ]
     },
     "execution_count": 85,
     "metadata": {},
     "output_type": "execute_result"
    }
   ],
   "source": [
    "type(s3)"
   ]
  },
  {
   "cell_type": "code",
   "execution_count": null,
   "id": "7020362d",
   "metadata": {},
   "outputs": [],
   "source": []
  }
 ],
 "metadata": {
  "kernelspec": {
   "display_name": "Python 3 (ipykernel)",
   "language": "python",
   "name": "python3"
  },
  "language_info": {
   "codemirror_mode": {
    "name": "ipython",
    "version": 3
   },
   "file_extension": ".py",
   "mimetype": "text/x-python",
   "name": "python",
   "nbconvert_exporter": "python",
   "pygments_lexer": "ipython3",
   "version": "3.9.12"
  }
 },
 "nbformat": 4,
 "nbformat_minor": 5
}
