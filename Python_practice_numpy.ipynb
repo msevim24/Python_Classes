{
 "cells": [
  {
   "attachments": {},
   "cell_type": "markdown",
   "id": "1154a77b",
   "metadata": {},
   "source": [
    "### Practice: NumPy"
   ]
  },
  {
   "cell_type": "code",
   "execution_count": 2,
   "id": "9e91a74b",
   "metadata": {},
   "outputs": [],
   "source": [
    "import numpy as np"
   ]
  },
  {
   "cell_type": "code",
   "execution_count": 2,
   "id": "ee13dcef",
   "metadata": {
    "scrolled": true
   },
   "outputs": [
    {
     "name": "stdout",
     "output_type": "stream",
     "text": [
      "[1 2 3]\n"
     ]
    },
    {
     "data": {
      "text/plain": [
       "numpy.ndarray"
      ]
     },
     "execution_count": 2,
     "metadata": {},
     "output_type": "execute_result"
    }
   ],
   "source": [
    "#Bir satır (row) olarak array oluşturma\n",
    "arr = np.array([1,2,3])\n",
    "print(arr)\n",
    "type(arr)"
   ]
  },
  {
   "cell_type": "code",
   "execution_count": 4,
   "id": "ac3f9be6",
   "metadata": {},
   "outputs": [
    {
     "data": {
      "text/plain": [
       "array([1, 2, 3])"
      ]
     },
     "execution_count": 4,
     "metadata": {},
     "output_type": "execute_result"
    }
   ],
   "source": [
    "arr"
   ]
  },
  {
   "cell_type": "code",
   "execution_count": 3,
   "id": "96ce036e",
   "metadata": {},
   "outputs": [
    {
     "name": "stdout",
     "output_type": "stream",
     "text": [
      "[1, 2, 3]\n"
     ]
    },
    {
     "data": {
      "text/plain": [
       "list"
      ]
     },
     "execution_count": 3,
     "metadata": {},
     "output_type": "execute_result"
    }
   ],
   "source": [
    "l=[1,2,3]\n",
    "print(l)\n",
    "type(l)"
   ]
  },
  {
   "cell_type": "code",
   "execution_count": 5,
   "id": "645b92d1",
   "metadata": {},
   "outputs": [
    {
     "data": {
      "text/plain": [
       "array([[100],\n",
       "       [200],\n",
       "       [ 30]])"
      ]
     },
     "execution_count": 5,
     "metadata": {},
     "output_type": "execute_result"
    }
   ],
   "source": [
    "#Bir column (3x1) olarak vektör oluşturma\n",
    "arr = np.array([[100],[200],[30]])\n",
    "arr"
   ]
  },
  {
   "cell_type": "code",
   "execution_count": 6,
   "id": "6fe4c00c",
   "metadata": {},
   "outputs": [
    {
     "data": {
      "text/plain": [
       "(3, 1)"
      ]
     },
     "execution_count": 6,
     "metadata": {},
     "output_type": "execute_result"
    }
   ],
   "source": [
    "arr.shape"
   ]
  },
  {
   "cell_type": "code",
   "execution_count": 9,
   "id": "0175f60e",
   "metadata": {},
   "outputs": [
    {
     "name": "stdout",
     "output_type": "stream",
     "text": [
      "[[ 17  21  18  11]\n",
      " [ 43  57  36 231]\n",
      " [911  65 831 117]]\n"
     ]
    },
    {
     "data": {
      "text/plain": [
       "array([[ 17,  21,  18,  11],\n",
       "       [ 43,  57,  36, 231],\n",
       "       [911,  65, 831, 117]])"
      ]
     },
     "execution_count": 9,
     "metadata": {},
     "output_type": "execute_result"
    }
   ],
   "source": [
    "# Matris oluşturma \n",
    "myArr = np.array([[17,21,18,11],[43,57,36,231],[911,65,831,117]])\n",
    "print(myArr)\n",
    "myArr"
   ]
  },
  {
   "cell_type": "code",
   "execution_count": 8,
   "id": "3ae261ae",
   "metadata": {},
   "outputs": [
    {
     "data": {
      "text/plain": [
       "(3, 4)"
      ]
     },
     "execution_count": 8,
     "metadata": {},
     "output_type": "execute_result"
    }
   ],
   "source": [
    "myArr.shape"
   ]
  },
  {
   "cell_type": "code",
   "execution_count": 10,
   "id": "75e5539a",
   "metadata": {},
   "outputs": [
    {
     "data": {
      "text/plain": [
       "array([[0., 0., 0., 0.],\n",
       "       [0., 0., 0., 0.],\n",
       "       [0., 0., 0., 0.]], dtype=float32)"
      ]
     },
     "execution_count": 10,
     "metadata": {},
     "output_type": "execute_result"
    }
   ],
   "source": [
    "# ZEROS\n",
    "# 3 x 4 bir matris oluşturma\n",
    "ze = np.zeros([3,4], dtype=\"float32\") # değerlerin tipi default(varsayılan) float64 değer\n",
    "ze"
   ]
  },
  {
   "cell_type": "code",
   "execution_count": 11,
   "id": "72bc2ccb",
   "metadata": {},
   "outputs": [
    {
     "data": {
      "text/plain": [
       "numpy.ndarray"
      ]
     },
     "execution_count": 11,
     "metadata": {},
     "output_type": "execute_result"
    }
   ],
   "source": [
    "type(ze)"
   ]
  },
  {
   "cell_type": "code",
   "execution_count": 12,
   "id": "03d3d2eb",
   "metadata": {},
   "outputs": [],
   "source": [
    "ze=np.zeros((3,4), dtype=\"int\")  #dtype'ını  değiştiridik."
   ]
  },
  {
   "cell_type": "code",
   "execution_count": 13,
   "id": "107af039",
   "metadata": {},
   "outputs": [
    {
     "data": {
      "text/plain": [
       "array([[0, 0, 0, 0],\n",
       "       [0, 0, 0, 0],\n",
       "       [0, 0, 0, 0]])"
      ]
     },
     "execution_count": 13,
     "metadata": {},
     "output_type": "execute_result"
    }
   ],
   "source": [
    "ze"
   ]
  },
  {
   "cell_type": "code",
   "execution_count": 14,
   "id": "9f0437ad",
   "metadata": {},
   "outputs": [
    {
     "data": {
      "text/plain": [
       "array([[0., 0., 0., 0.],\n",
       "       [0., 0., 0., 0.],\n",
       "       [0., 0., 0., 0.]], dtype=float32)"
      ]
     },
     "execution_count": 14,
     "metadata": {},
     "output_type": "execute_result"
    }
   ],
   "source": [
    "ze.astype(\"float32\")  # tipini bu şekilde de değiştirebiliriz."
   ]
  },
  {
   "cell_type": "code",
   "execution_count": 15,
   "id": "0f03e06b",
   "metadata": {},
   "outputs": [
    {
     "data": {
      "text/plain": [
       "array([[1, 1, 1, 1],\n",
       "       [1, 1, 1, 1],\n",
       "       [1, 1, 1, 1],\n",
       "       [1, 1, 1, 1]])"
      ]
     },
     "execution_count": 15,
     "metadata": {},
     "output_type": "execute_result"
    }
   ],
   "source": [
    "# ONES\n",
    "# 3 x 4 bir matris oluşturma\n",
    "on = np.ones([4,4], dtype=\"int\")\n",
    "on"
   ]
  },
  {
   "cell_type": "code",
   "execution_count": 16,
   "id": "13d8214b",
   "metadata": {},
   "outputs": [
    {
     "data": {
      "text/plain": [
       "array([[1., 0., 0., 0.],\n",
       "       [0., 1., 0., 0.],\n",
       "       [0., 0., 1., 0.],\n",
       "       [0., 0., 0., 1.]])"
      ]
     },
     "execution_count": 16,
     "metadata": {},
     "output_type": "execute_result"
    }
   ],
   "source": [
    "# EYE birim matris     (Burada 1'ler diagonal yerleşiyor, diğer taraflar 0 ile doluyor. Kare matris oluyor)\n",
    "# 4 x 4 bir matris oluşturma\n",
    "ey = np.eye(4)\n",
    "ey"
   ]
  },
  {
   "cell_type": "code",
   "execution_count": 17,
   "id": "687f9cc2",
   "metadata": {},
   "outputs": [
    {
     "data": {
      "text/plain": [
       "array([[88, 88],\n",
       "       [88, 88],\n",
       "       [88, 88]])"
      ]
     },
     "execution_count": 17,
     "metadata": {},
     "output_type": "execute_result"
    }
   ],
   "source": [
    "np.full((3,2), 88)   # önce boyut sonra matrisi neyle doldurmak istediğimizi yazıyoruz."
   ]
  },
  {
   "cell_type": "code",
   "execution_count": 19,
   "id": "87d7f5d4",
   "metadata": {},
   "outputs": [
    {
     "data": {
      "text/plain": [
       "array([[nan, nan],\n",
       "       [nan, nan],\n",
       "       [nan, nan]])"
      ]
     },
     "execution_count": 19,
     "metadata": {},
     "output_type": "execute_result"
    }
   ],
   "source": [
    "np.full((3,2), np.NaN)  # NaN değerle de doldurabiliriz."
   ]
  },
  {
   "cell_type": "code",
   "execution_count": 20,
   "id": "360ef643",
   "metadata": {},
   "outputs": [],
   "source": [
    "rowArr= np.array([9,8,7,6,5,4,3,2,1])\n",
    "mat = np.array([[90,80,70],[60,50,40],[30,20,10]])"
   ]
  },
  {
   "cell_type": "code",
   "execution_count": 21,
   "id": "a498bf55",
   "metadata": {},
   "outputs": [
    {
     "data": {
      "text/plain": [
       "(3, 3)"
      ]
     },
     "execution_count": 21,
     "metadata": {},
     "output_type": "execute_result"
    }
   ],
   "source": [
    "mat.shape"
   ]
  },
  {
   "cell_type": "code",
   "execution_count": 22,
   "id": "03ec4f18",
   "metadata": {},
   "outputs": [
    {
     "data": {
      "text/plain": [
       "2"
      ]
     },
     "execution_count": 22,
     "metadata": {},
     "output_type": "execute_result"
    }
   ],
   "source": [
    "mat.ndim  # kaç boyutlu olduğuna bakıyoruz."
   ]
  },
  {
   "cell_type": "code",
   "execution_count": 23,
   "id": "c73296ca",
   "metadata": {},
   "outputs": [
    {
     "data": {
      "text/plain": [
       "array([9, 8, 7, 6, 5, 4, 3, 2, 1])"
      ]
     },
     "execution_count": 23,
     "metadata": {},
     "output_type": "execute_result"
    }
   ],
   "source": [
    "# tüm elemanların seçimi, baştan başla sona kadar, sondaki de dahil.\n",
    "rowArr[:]"
   ]
  },
  {
   "cell_type": "code",
   "execution_count": 24,
   "id": "32b1f6c9",
   "metadata": {},
   "outputs": [
    {
     "data": {
      "text/plain": [
       "array([9, 8, 7, 6])"
      ]
     },
     "execution_count": 24,
     "metadata": {},
     "output_type": "execute_result"
    }
   ],
   "source": [
    "rowArr[:4]  # 4.indextekine kadar"
   ]
  },
  {
   "cell_type": "code",
   "execution_count": 25,
   "id": "bc225e79",
   "metadata": {},
   "outputs": [
    {
     "data": {
      "text/plain": [
       "array([5, 4, 3, 2, 1])"
      ]
     },
     "execution_count": 25,
     "metadata": {},
     "output_type": "execute_result"
    }
   ],
   "source": [
    "# +. indexten sona kadar\n",
    "rowArr[4:]"
   ]
  },
  {
   "cell_type": "code",
   "execution_count": 26,
   "id": "7efb0aff",
   "metadata": {
    "scrolled": true
   },
   "outputs": [
    {
     "data": {
      "text/plain": [
       "1"
      ]
     },
     "execution_count": 26,
     "metadata": {},
     "output_type": "execute_result"
    }
   ],
   "source": [
    "# Son elemanın getirilmesi\n",
    "rowArr[-1]"
   ]
  },
  {
   "cell_type": "code",
   "execution_count": 27,
   "id": "37c3b9b3",
   "metadata": {},
   "outputs": [
    {
     "data": {
      "text/plain": [
       "array([[90, 80, 70],\n",
       "       [60, 50, 40],\n",
       "       [30, 20, 10]])"
      ]
     },
     "execution_count": 27,
     "metadata": {},
     "output_type": "execute_result"
    }
   ],
   "source": [
    "mat"
   ]
  },
  {
   "cell_type": "code",
   "execution_count": 28,
   "id": "2e8cfbb5",
   "metadata": {},
   "outputs": [
    {
     "data": {
      "text/plain": [
       "50"
      ]
     },
     "execution_count": 28,
     "metadata": {},
     "output_type": "execute_result"
    }
   ],
   "source": [
    "# Matrisin 2. satırdaki 2. kolonuna ait eleman (50 değeri)\n",
    "mat[1,1]"
   ]
  },
  {
   "cell_type": "code",
   "execution_count": 29,
   "id": "3783bc45",
   "metadata": {},
   "outputs": [
    {
     "data": {
      "text/plain": [
       "array([[90, 80, 70],\n",
       "       [60, 50, 40]])"
      ]
     },
     "execution_count": 29,
     "metadata": {},
     "output_type": "execute_result"
    }
   ],
   "source": [
    "mat[:2,:]  # virgülden önce satır, sonrası sütun"
   ]
  },
  {
   "cell_type": "code",
   "execution_count": 30,
   "id": "c82625ae",
   "metadata": {},
   "outputs": [
    {
     "data": {
      "text/plain": [
       "array([[80],\n",
       "       [50],\n",
       "       [20]])"
      ]
     },
     "execution_count": 30,
     "metadata": {},
     "output_type": "execute_result"
    }
   ],
   "source": [
    "mat[:,1:2] # satırların hepsi ama sadece 1. indexteki sütun"
   ]
  },
  {
   "cell_type": "code",
   "execution_count": null,
   "id": "a05630ae",
   "metadata": {},
   "outputs": [],
   "source": [
    "mat.reshape(1,9)   # matrisin boyutunu değiştiriyoruz.Ancak öncekiyle uyumlu olmalı(3x3, 9x1 vs.)"
   ]
  },
  {
   "cell_type": "code",
   "execution_count": 32,
   "id": "ba3eb69d",
   "metadata": {},
   "outputs": [],
   "source": [
    "mat1=mat.reshape(1,9)  #yeni bir değişene atamazsak kalıcı olmaz."
   ]
  },
  {
   "cell_type": "code",
   "execution_count": 31,
   "id": "4256d137",
   "metadata": {},
   "outputs": [
    {
     "name": "stdout",
     "output_type": "stream",
     "text": [
      "satır sayısı: 3,\n",
      "sütun sayısı: 3\n"
     ]
    }
   ],
   "source": [
    "# Satır ve kolon sayısının veren metod mat için\n",
    "print(f\"satır sayısı: {mat.shape[0]},\\nsütun sayısı: {mat.shape[1]}\")"
   ]
  },
  {
   "cell_type": "code",
   "execution_count": 33,
   "id": "d1161d96",
   "metadata": {},
   "outputs": [
    {
     "name": "stdout",
     "output_type": "stream",
     "text": [
      "satır sayısı: 1,\n",
      "sütun sayısı: 9\n"
     ]
    }
   ],
   "source": [
    "# Satır ve kolon sayısının veren metod mat1 için\n",
    "print(f\"satır sayısı: {mat1.shape[0]},\\nsütun sayısı: {mat1.shape[1]}\")"
   ]
  },
  {
   "cell_type": "code",
   "execution_count": 34,
   "id": "f05c725b",
   "metadata": {},
   "outputs": [
    {
     "name": "stdout",
     "output_type": "stream",
     "text": [
      "9\n",
      "2\n"
     ]
    }
   ],
   "source": [
    "# Toplam eleman sayısı (size)\n",
    "print(mat.size)\n",
    "# Boyut sayısı \n",
    "print(mat.ndim)"
   ]
  },
  {
   "cell_type": "code",
   "execution_count": 35,
   "id": "b958a5ef",
   "metadata": {},
   "outputs": [],
   "source": [
    "np.random.seed(1)  # random değeriler aynı gelsin diye"
   ]
  },
  {
   "cell_type": "code",
   "execution_count": 38,
   "id": "405184e1",
   "metadata": {},
   "outputs": [],
   "source": [
    "a=np.random.normal(2.0, # ortalama \n",
    "                3.0, # standart sapma\n",
    "                5    # Değer adet\n",
    "                 )"
   ]
  },
  {
   "cell_type": "code",
   "execution_count": 39,
   "id": "de0385b2",
   "metadata": {},
   "outputs": [
    {
     "data": {
      "text/plain": [
       "array([2.22448117, 4.0782978 , 8.21640274, 3.99073904, 5.57696743])"
      ]
     },
     "execution_count": 39,
     "metadata": {},
     "output_type": "execute_result"
    }
   ],
   "source": [
    "a"
   ]
  },
  {
   "cell_type": "code",
   "execution_count": 40,
   "id": "ba786052",
   "metadata": {},
   "outputs": [],
   "source": [
    "np.random.seed(22)\n",
    "m1=np.random.randint(15,size=(4,4))  # içindeki elemanlar randomly 15'e kadar değer alabilir\n",
    "m2=np.random.randint(5,size=(4,4))   # # içindeki elemanlar randomly 5'e kadar değer alabilir"
   ]
  },
  {
   "cell_type": "code",
   "execution_count": 41,
   "id": "696bb85d",
   "metadata": {},
   "outputs": [
    {
     "data": {
      "text/plain": [
       "array([[ 5,  4, 12,  0],\n",
       "       [ 4,  6,  6, 11],\n",
       "       [ 4,  8,  4, 13],\n",
       "       [ 2, 14, 12, 13]])"
      ]
     },
     "execution_count": 41,
     "metadata": {},
     "output_type": "execute_result"
    }
   ],
   "source": [
    "m1"
   ]
  },
  {
   "cell_type": "code",
   "execution_count": 42,
   "id": "c4c5934c",
   "metadata": {},
   "outputs": [
    {
     "data": {
      "text/plain": [
       "array([[0, 2, 2, 1],\n",
       "       [0, 0, 3, 4],\n",
       "       [2, 2, 1, 1],\n",
       "       [3, 3, 2, 3]])"
      ]
     },
     "execution_count": 42,
     "metadata": {},
     "output_type": "execute_result"
    }
   ],
   "source": [
    "m2"
   ]
  },
  {
   "cell_type": "code",
   "execution_count": 43,
   "id": "7db62dd5",
   "metadata": {},
   "outputs": [
    {
     "name": "stdout",
     "output_type": "stream",
     "text": [
      "[[ 5  6 14  1]\n",
      " [ 4  6  9 15]\n",
      " [ 6 10  5 14]\n",
      " [ 5 17 14 16]]\n"
     ]
    }
   ],
   "source": [
    "# İki matrisin toplanması\n",
    "print(np.add(m1, m2))"
   ]
  },
  {
   "cell_type": "code",
   "execution_count": 44,
   "id": "9dc06a95",
   "metadata": {},
   "outputs": [
    {
     "data": {
      "text/plain": [
       "array([[ 5,  6, 14,  1],\n",
       "       [ 4,  6,  9, 15],\n",
       "       [ 6, 10,  5, 14],\n",
       "       [ 5, 17, 14, 16]])"
      ]
     },
     "execution_count": 44,
     "metadata": {},
     "output_type": "execute_result"
    }
   ],
   "source": [
    "# ya da \n",
    "m1+m2"
   ]
  },
  {
   "cell_type": "code",
   "execution_count": 47,
   "id": "4674d6df",
   "metadata": {},
   "outputs": [
    {
     "data": {
      "text/plain": [
       "array([[ 5,  2, 10, -1],\n",
       "       [ 4,  6,  3,  7],\n",
       "       [ 2,  6,  3, 12],\n",
       "       [-1, 11, 10, 10]])"
      ]
     },
     "execution_count": 47,
     "metadata": {},
     "output_type": "execute_result"
    }
   ],
   "source": [
    "np.subtract(m1, m2) # matriste çıkarma işlemi"
   ]
  },
  {
   "cell_type": "code",
   "execution_count": 48,
   "id": "0642533d",
   "metadata": {},
   "outputs": [
    {
     "data": {
      "text/plain": [
       "array([[ 5,  2, 10, -1],\n",
       "       [ 4,  6,  3,  7],\n",
       "       [ 2,  6,  3, 12],\n",
       "       [-1, 11, 10, 10]])"
      ]
     },
     "execution_count": 48,
     "metadata": {},
     "output_type": "execute_result"
    }
   ],
   "source": [
    "m1-m2"
   ]
  },
  {
   "cell_type": "code",
   "execution_count": 49,
   "id": "1fd7c0d0",
   "metadata": {},
   "outputs": [
    {
     "data": {
      "text/plain": [
       "array([[ 0,  8, 24,  0],\n",
       "       [ 0,  0, 18, 44],\n",
       "       [ 8, 16,  4, 13],\n",
       "       [ 6, 42, 24, 39]])"
      ]
     },
     "execution_count": 49,
     "metadata": {},
     "output_type": "execute_result"
    }
   ],
   "source": [
    "# Matris eleman elemana çarpımi\n",
    "m1 * m2"
   ]
  },
  {
   "cell_type": "code",
   "execution_count": 51,
   "id": "6811f054",
   "metadata": {},
   "outputs": [
    {
     "data": {
      "text/plain": [
       "array([[ 24,  34,  34,  33],\n",
       "       [ 45,  53,  54,  67],\n",
       "       [ 47,  55,  62,  79],\n",
       "       [ 63,  67,  84, 109]])"
      ]
     },
     "execution_count": 51,
     "metadata": {},
     "output_type": "execute_result"
    }
   ],
   "source": [
    "np.dot(m1,m2)   # matris çarpım. \n",
    "#Burada birinin satır sayısı ile diğerinin sütun sayısı denk olmalı(örneğin, (5,3) *(3,100) = (5,100) )"
   ]
  },
  {
   "cell_type": "code",
   "execution_count": 52,
   "id": "139ce3e8",
   "metadata": {},
   "outputs": [
    {
     "data": {
      "text/plain": [
       "array([[ 24,  34,  34,  33],\n",
       "       [ 45,  53,  54,  67],\n",
       "       [ 47,  55,  62,  79],\n",
       "       [ 63,  67,  84, 109]])"
      ]
     },
     "execution_count": 52,
     "metadata": {},
     "output_type": "execute_result"
    }
   ],
   "source": [
    "m1@m2   # bu da matris çarpımı. dot() yerine @ işaretiyle de yapılabilir."
   ]
  },
  {
   "cell_type": "code",
   "execution_count": 53,
   "id": "dcc35f23",
   "metadata": {},
   "outputs": [
    {
     "data": {
      "text/plain": [
       "array([[ 50,  40, 120,   0],\n",
       "       [ 40,  60,  60, 110],\n",
       "       [ 40,  80,  40, 130],\n",
       "       [ 20, 140, 120, 130]])"
      ]
     },
     "execution_count": 53,
     "metadata": {},
     "output_type": "execute_result"
    }
   ],
   "source": [
    "m1*10 # tüm elemanları 10 ile çarptık."
   ]
  },
  {
   "cell_type": "code",
   "execution_count": 3,
   "id": "5997ab3b",
   "metadata": {},
   "outputs": [
    {
     "data": {
      "text/plain": [
       "array([[5, 8],\n",
       "       [9, 5],\n",
       "       [0, 0]])"
      ]
     },
     "execution_count": 3,
     "metadata": {},
     "output_type": "execute_result"
    }
   ],
   "source": [
    "# eleman işlemleri\n",
    "np.random.seed(1)\n",
    "myMat=np.random.randint(10,size=(3,2))   # 10'a kadar random sayılarla 3x2 matris\n",
    "myMat"
   ]
  },
  {
   "cell_type": "code",
   "execution_count": 4,
   "id": "608539ce",
   "metadata": {},
   "outputs": [
    {
     "data": {
      "text/plain": [
       "(3, 2)"
      ]
     },
     "execution_count": 4,
     "metadata": {},
     "output_type": "execute_result"
    }
   ],
   "source": [
    "myMat.shape"
   ]
  },
  {
   "cell_type": "code",
   "execution_count": 6,
   "id": "69be14b7",
   "metadata": {},
   "outputs": [
    {
     "data": {
      "text/plain": [
       "2"
      ]
     },
     "execution_count": 6,
     "metadata": {},
     "output_type": "execute_result"
    }
   ],
   "source": [
    "myMat.ndim"
   ]
  },
  {
   "cell_type": "code",
   "execution_count": 10,
   "id": "55261639",
   "metadata": {
    "scrolled": true
   },
   "outputs": [
    {
     "data": {
      "text/plain": [
       "array([[25, 64],\n",
       "       [81, 25],\n",
       "       [ 0,  0]])"
      ]
     },
     "execution_count": 10,
     "metadata": {},
     "output_type": "execute_result"
    }
   ],
   "source": [
    "func = lambda x: x ** 2   # tek satırda fonksiyon yazarken lambda kullanıyoruz.\n",
    "vectorized = np.vectorize(func)\n",
    "vectorized(myMat)"
   ]
  },
  {
   "cell_type": "code",
   "execution_count": 11,
   "id": "e8a37185",
   "metadata": {},
   "outputs": [
    {
     "data": {
      "text/plain": [
       "array([[5, 8],\n",
       "       [9, 5],\n",
       "       [0, 0]])"
      ]
     },
     "execution_count": 11,
     "metadata": {},
     "output_type": "execute_result"
    }
   ],
   "source": [
    "myMat"
   ]
  },
  {
   "cell_type": "code",
   "execution_count": 7,
   "id": "8a9254cd",
   "metadata": {},
   "outputs": [],
   "source": [
    "def func(x):  # Normalde fonksiyonu bu şekilde yazıyoruz.\n",
    "    y=x**2\n",
    "    return(y)"
   ]
  },
  {
   "cell_type": "code",
   "execution_count": 8,
   "id": "d3e519e7",
   "metadata": {},
   "outputs": [
    {
     "data": {
      "text/plain": [
       "16"
      ]
     },
     "execution_count": 8,
     "metadata": {},
     "output_type": "execute_result"
    }
   ],
   "source": [
    "func(4)"
   ]
  },
  {
   "cell_type": "code",
   "execution_count": 12,
   "id": "52a016cf",
   "metadata": {},
   "outputs": [
    {
     "name": "stdout",
     "output_type": "stream",
     "text": [
      "[[ 2  4  6  8]\n",
      " [ 8 10 12 13]\n",
      " [14 16 18 20]]\n",
      "Minimum değer: 2\n",
      "Maksimum değer: 20\n",
      "Ortalama değer: 10.916666666666666\n",
      "Toplam değer: 131\n",
      "Varyans değeri: 28.57638888888889\n",
      "Standart Sapma değeri: 5.345688813323208\n"
     ]
    }
   ],
   "source": [
    "m = np.array([[2,4,6,8],[8,10,12,13],[14,16,18,20]])\n",
    "print(m)\n",
    "print(f\"Minimum değer: {m.min()}\")\n",
    "print(f\"Maksimum değer: {m.max()}\")\n",
    "print(f\"Ortalama değer: {m.mean()}\")\n",
    "print(f\"Toplam değer: {m.sum()}\")\n",
    "print(f\"Varyans değeri: {m.var()}\")\n",
    "print(f\"Standart Sapma değeri: {m.std()}\")"
   ]
  },
  {
   "cell_type": "code",
   "execution_count": 13,
   "id": "002be2d3",
   "metadata": {},
   "outputs": [
    {
     "data": {
      "text/plain": [
       "array([[ 2],\n",
       "       [ 4],\n",
       "       [ 6],\n",
       "       [ 8],\n",
       "       [ 8],\n",
       "       [10],\n",
       "       [12],\n",
       "       [13],\n",
       "       [14],\n",
       "       [16],\n",
       "       [18],\n",
       "       [20]])"
      ]
     },
     "execution_count": 13,
     "metadata": {},
     "output_type": "execute_result"
    }
   ],
   "source": [
    "m.reshape(12,1)  # reshape yaparken size'a dikkat. Yukarıdaki 3x4 bu da 12x1. Çarpımları 12 olmalı her durumda"
   ]
  },
  {
   "cell_type": "code",
   "execution_count": 15,
   "id": "6ca4c3bf",
   "metadata": {},
   "outputs": [
    {
     "data": {
      "text/plain": [
       "array([[ 2,  4],\n",
       "       [ 6,  8],\n",
       "       [ 8, 10],\n",
       "       [12, 13],\n",
       "       [14, 16],\n",
       "       [18, 20]])"
      ]
     },
     "execution_count": 15,
     "metadata": {},
     "output_type": "execute_result"
    }
   ],
   "source": [
    "m.reshape(6,2)"
   ]
  },
  {
   "cell_type": "code",
   "execution_count": 16,
   "id": "2a7fa933",
   "metadata": {},
   "outputs": [
    {
     "data": {
      "text/plain": [
       "array([[ 2,  4],\n",
       "       [ 6,  8],\n",
       "       [ 8, 10],\n",
       "       [12, 13],\n",
       "       [14, 16],\n",
       "       [18, 20]])"
      ]
     },
     "execution_count": 16,
     "metadata": {},
     "output_type": "execute_result"
    }
   ],
   "source": [
    "# -1 değeri ile yatay düzlemde kolon oluşturur\n",
    "m.reshape(6,-1)    # -1 yazdığımız yeri size'a uygun olarak kendiliğinden yazıyor. Burada aslında6x2"
   ]
  },
  {
   "cell_type": "code",
   "execution_count": 18,
   "id": "2cc164ad",
   "metadata": {},
   "outputs": [
    {
     "data": {
      "text/plain": [
       "array([ 2,  4,  6,  8,  8, 10, 12, 13, 14, 16, 18, 20])"
      ]
     },
     "execution_count": 18,
     "metadata": {},
     "output_type": "execute_result"
    }
   ],
   "source": [
    "# Tek boyutlu olarak tüm değerin gösterimi\n",
    "m.reshape(12)"
   ]
  },
  {
   "cell_type": "code",
   "execution_count": 19,
   "id": "4bb49847",
   "metadata": {},
   "outputs": [
    {
     "data": {
      "text/plain": [
       "array([ 2,  4,  6,  8,  8, 10, 12, 13, 14, 16, 18, 20])"
      ]
     },
     "execution_count": 19,
     "metadata": {},
     "output_type": "execute_result"
    }
   ],
   "source": [
    "# Ayrıca flatten yöntemi ile de bu tek boyutlu yapılabilir\n",
    "m.flatten()"
   ]
  },
  {
   "cell_type": "code",
   "execution_count": 20,
   "id": "b1cabbbe",
   "metadata": {},
   "outputs": [
    {
     "data": {
      "text/plain": [
       "array([[ 2,  8, 14],\n",
       "       [ 4, 10, 16],\n",
       "       [ 6, 12, 18],\n",
       "       [ 8, 13, 20]])"
      ]
     },
     "execution_count": 20,
     "metadata": {},
     "output_type": "execute_result"
    }
   ],
   "source": [
    "# Matrisin transpoze edilmesi... T ya da transpose kullanılır. Satırı sütuna çeviriyor, sütunu da satıra.\n",
    "m.T"
   ]
  },
  {
   "cell_type": "code",
   "execution_count": 21,
   "id": "e777ca13",
   "metadata": {},
   "outputs": [
    {
     "name": "stdout",
     "output_type": "stream",
     "text": [
      "[[1]\n",
      " [2]\n",
      " [3]\n",
      " [4]\n",
      " [5]]\n"
     ]
    }
   ],
   "source": [
    "# Bir dizinin transpoze edilerek vektörleştirilmesi. Tek satır tek sütun oldu.\n",
    "print(np.array([[1,2,3,4,5]]).T)"
   ]
  },
  {
   "cell_type": "code",
   "execution_count": 22,
   "id": "b450fca2",
   "metadata": {},
   "outputs": [
    {
     "data": {
      "text/plain": [
       "array([[ 2,  4],\n",
       "       [ 8, 10]])"
      ]
     },
     "execution_count": 22,
     "metadata": {},
     "output_type": "execute_result"
    }
   ],
   "source": [
    "m = np.array([[2,4],[8,10]])\n",
    "m"
   ]
  },
  {
   "cell_type": "code",
   "execution_count": 23,
   "id": "8a6efbf5",
   "metadata": {},
   "outputs": [
    {
     "data": {
      "text/plain": [
       "-11.999999999999995"
      ]
     },
     "execution_count": 23,
     "metadata": {},
     "output_type": "execute_result"
    }
   ],
   "source": [
    "# Determinant hesaplama\n",
    "np.linalg.det(m)"
   ]
  },
  {
   "cell_type": "code",
   "execution_count": 24,
   "id": "2e8e4efd",
   "metadata": {},
   "outputs": [
    {
     "name": "stdout",
     "output_type": "stream",
     "text": [
      "68\n"
     ]
    }
   ],
   "source": [
    "v1 = np.array([2,4,6])\n",
    "v2 = np.array([3,5,7])\n",
    "\n",
    "# dot product hesaplama\n",
    "np.dot(v1,v2)\n",
    "\n",
    "# @ işareti ile dot product hesaplama\n",
    "print(v1 @ v2)"
   ]
  },
  {
   "cell_type": "code",
   "execution_count": 25,
   "id": "bece16c7",
   "metadata": {},
   "outputs": [
    {
     "name": "stdout",
     "output_type": "stream",
     "text": [
      "[[-0.83333333  0.33333333]\n",
      " [ 0.66666667 -0.16666667]]\n"
     ]
    }
   ],
   "source": [
    "# Matrisin tersini bulan fonksiyon.\n",
    "print(np.linalg.inv(m))"
   ]
  },
  {
   "cell_type": "code",
   "execution_count": 26,
   "id": "e71bd083",
   "metadata": {},
   "outputs": [
    {
     "data": {
      "text/plain": [
       "array([[1., 0.],\n",
       "       [0., 1.]])"
      ]
     },
     "execution_count": 26,
     "metadata": {},
     "output_type": "execute_result"
    }
   ],
   "source": [
    "np.dot(m,np.linalg.inv(m))    # Bir matrisin kendiyle tersinin çarpımı birim matrisi verir. (eye)"
   ]
  },
  {
   "cell_type": "code",
   "execution_count": 31,
   "id": "e3aa5e71",
   "metadata": {},
   "outputs": [
    {
     "data": {
      "text/plain": [
       "array([ 0.        ,  0.52631579,  1.05263158,  1.57894737,  2.10526316,\n",
       "        2.63157895,  3.15789474,  3.68421053,  4.21052632,  4.73684211,\n",
       "        5.26315789,  5.78947368,  6.31578947,  6.84210526,  7.36842105,\n",
       "        7.89473684,  8.42105263,  8.94736842,  9.47368421, 10.        ])"
      ]
     },
     "execution_count": 31,
     "metadata": {},
     "output_type": "execute_result"
    }
   ],
   "source": [
    "x1=np.linspace(0,10, 20, endpoint=False)  # 0-10 arasını 20 sayı ile lineer doldur. \n",
    "x1                                       # Endpoint=False....Sondaki değeri dikkate alma."
   ]
  },
  {
   "cell_type": "code",
   "execution_count": 33,
   "id": "458e5b43",
   "metadata": {},
   "outputs": [
    {
     "data": {
      "text/plain": [
       "array([ 0.        ,  0.52631579,  1.05263158,  1.57894737,  2.10526316,\n",
       "        2.63157895,  3.15789474,  3.68421053,  4.21052632,  4.73684211,\n",
       "        5.26315789,  5.78947368,  6.31578947,  6.84210526,  7.36842105,\n",
       "        7.89473684,  8.42105263,  8.94736842,  9.47368421, 10.        ])"
      ]
     },
     "execution_count": 33,
     "metadata": {},
     "output_type": "execute_result"
    }
   ],
   "source": [
    "x1=np.linspace(0,10, 20, endpoint=True)  # Sondaki elemanı dikkate al. \n",
    "x1  "
   ]
  },
  {
   "cell_type": "code",
   "execution_count": 28,
   "id": "2a8d8f8d",
   "metadata": {},
   "outputs": [
    {
     "data": {
      "text/plain": [
       "array([ 100.        ,  177.827941  ,  316.22776602,  562.34132519,\n",
       "       1000.        ])"
      ]
     },
     "execution_count": 28,
     "metadata": {},
     "output_type": "execute_result"
    }
   ],
   "source": [
    "np.logspace(2.0, 3.0, num=5)   # Logaritmik olarak doldur. 10 üzeri 2 ile 10 üzeri 3 arasını"
   ]
  },
  {
   "cell_type": "code",
   "execution_count": 29,
   "id": "0150be06",
   "metadata": {},
   "outputs": [],
   "source": [
    "x1[0]=100"
   ]
  },
  {
   "cell_type": "code",
   "execution_count": 30,
   "id": "088411b7",
   "metadata": {},
   "outputs": [
    {
     "data": {
      "text/plain": [
       "array([100. ,   0.5,   1. ,   1.5,   2. ,   2.5,   3. ,   3.5,   4. ,\n",
       "         4.5,   5. ,   5.5,   6. ,   6.5,   7. ,   7.5,   8. ,   8.5,\n",
       "         9. ,   9.5])"
      ]
     },
     "execution_count": 30,
     "metadata": {},
     "output_type": "execute_result"
    }
   ],
   "source": [
    "x1"
   ]
  },
  {
   "cell_type": "code",
   "execution_count": 34,
   "id": "c79ba274",
   "metadata": {},
   "outputs": [
    {
     "data": {
      "text/plain": [
       "array([ 0.        ,  1.05263158,  1.57894737,  2.10526316,  2.63157895,\n",
       "        3.15789474,  3.68421053,  4.21052632,  4.73684211,  5.26315789,\n",
       "        5.78947368,  6.31578947,  6.84210526,  7.36842105,  7.89473684,\n",
       "        8.42105263,  8.94736842,  9.47368421, 10.        ])"
      ]
     },
     "execution_count": 34,
     "metadata": {},
     "output_type": "execute_result"
    }
   ],
   "source": [
    "np.delete(x1, 1)   # 1i elemanını sildirebiliriyoruz."
   ]
  },
  {
   "cell_type": "code",
   "execution_count": 35,
   "id": "cb27b20c",
   "metadata": {},
   "outputs": [
    {
     "name": "stdout",
     "output_type": "stream",
     "text": [
      "[[ 17  21  18  11]\n",
      " [ 43  57  36 231]\n",
      " [911  65 831 117]]\n"
     ]
    },
    {
     "data": {
      "text/plain": [
       "array([[ 17,  21,  18,  11],\n",
       "       [ 43,  57,  36, 231],\n",
       "       [911,  65, 831, 117]])"
      ]
     },
     "execution_count": 35,
     "metadata": {},
     "output_type": "execute_result"
    }
   ],
   "source": [
    "# Matrix oluşturma\n",
    "myArr = np.array([[17,21,18,11],[43,57,36,231],[911,65,831,117]])\n",
    "print(myArr)\n",
    "myArr"
   ]
  },
  {
   "cell_type": "code",
   "execution_count": 36,
   "id": "83c45899",
   "metadata": {},
   "outputs": [
    {
     "data": {
      "text/plain": [
       "array([[ 17,  21,  18,  11],\n",
       "       [911,  65, 831, 117]])"
      ]
     },
     "execution_count": 36,
     "metadata": {},
     "output_type": "execute_result"
    }
   ],
   "source": [
    "np.delete(myArr, 1, axis=0)  # axis 0 olrsa tüm satır, 1 olursa tüm sütun. Burada 1. indexteki satırı sildik."
   ]
  },
  {
   "cell_type": "code",
   "execution_count": 37,
   "id": "ba6cd064",
   "metadata": {},
   "outputs": [
    {
     "data": {
      "text/plain": [
       "array([[ 17,  18,  11],\n",
       "       [ 43,  36, 231],\n",
       "       [911, 831, 117]])"
      ]
     },
     "execution_count": 37,
     "metadata": {},
     "output_type": "execute_result"
    }
   ],
   "source": [
    "np.delete(myArr, 1, axis=1)  #bunu bir değişkene eşitlemezsek değişiklik kalıcı olmaz."
   ]
  }
 ],
 "metadata": {
  "kernelspec": {
   "display_name": "Python 3 (ipykernel)",
   "language": "python",
   "name": "python3"
  },
  "language_info": {
   "codemirror_mode": {
    "name": "ipython",
    "version": 3
   },
   "file_extension": ".py",
   "mimetype": "text/x-python",
   "name": "python",
   "nbconvert_exporter": "python",
   "pygments_lexer": "ipython3",
   "version": "3.9.7"
  }
 },
 "nbformat": 4,
 "nbformat_minor": 5
}
