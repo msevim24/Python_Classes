{
 "cells": [
  {
   "cell_type": "markdown",
   "id": "fe95407a",
   "metadata": {},
   "source": [
    "# Functions"
   ]
  },
  {
   "cell_type": "code",
   "execution_count": null,
   "id": "6eeb0324",
   "metadata": {},
   "outputs": [],
   "source": [
    "# 1) compare_thirty adında bir fonksiyon yazalım.Fonksiyon için kullanıcan bir int sayı girdisi alalım.\n",
    "# Alınan sayı 30'den büyükse ekrana \"Girdiğiniz sayı 30'den büyüktür\" yazsın, küçükse \"Girdiğiniz sayı 30'den küçüktür\" yazsın , \n",
    "# eşitse \"Girdiğiniz sayı 30'ye eşittir\" yazsın."
   ]
  },
  {
   "cell_type": "code",
   "execution_count": 4,
   "id": "8236991a",
   "metadata": {},
   "outputs": [
    {
     "name": "stdout",
     "output_type": "stream",
     "text": [
      "Girdiğiniz sayı 30'dan büyüktür.\n"
     ]
    }
   ],
   "source": [
    "def compare_thirty(number):\n",
    "    if number > 30:\n",
    "        print(\"Girdiğiniz sayı 30'dan büyüktür.\")\n",
    "    elif number < 30:\n",
    "        print(\"Girdiğiniz sayı 30'dan küçüktür.\")\n",
    "    elif number==30:\n",
    "        print(\"Girdiğiniz sayı 30'a eşittir.\")\n",
    "\n",
    "compare_thirty (32)   "
   ]
  },
  {
   "cell_type": "code",
   "execution_count": 9,
   "id": "f3ebbfcf",
   "metadata": {},
   "outputs": [
    {
     "name": "stdout",
     "output_type": "stream",
     "text": [
      "Girdiğiniz 30 sayı 30'a eşittir.\n",
      "Girdiğiniz 28 sayısı 30'dan küçüktür.\n"
     ]
    }
   ],
   "source": [
    "# süslü parantezlerle format fonksiyonunu kullanarak da yazabiliriz...\n",
    "def compare_thirty(number):\n",
    "    if number > 30:\n",
    "        print(\"Girdiğiniz {} sayısı 30'dan büyüktür.\".format(number))\n",
    "    elif number < 30:\n",
    "        print(f\"Girdiğiniz {number} sayısı 30'dan küçüktür.\")  # format'ı f ile de yaabiliriz. bu durumda paranteze number da yazılmalı\n",
    "    else:\n",
    "        print(f\"Girdiğiniz {number} sayı 30'a eşittir.\")\n",
    "\n",
    "compare_thirty(30)\n",
    "compare_thirty(28) # buralarda tekrar print yazmaya gerek yok. return ile yapsaydık olabilirdi."
   ]
  },
  {
   "cell_type": "code",
   "execution_count": null,
   "id": "ea680c17",
   "metadata": {},
   "outputs": [],
   "source": [
    "#2) Bir fonksiyon yazalım. Fonksiyon için kullanıcıdan bir int sayı girdisi alalım. \n",
    "# #Alınan girdinin tek mi yoksa çift mi olduğunu print ile yazdıralım.\n",
    "\n",
    "def odd_even(number):\n",
    "    if number % 2==0:   \n",
    "        print(\"Sayı çifttir\")\n",
    "    else:\n",
    "        print(\"Sayı tektir.\")\n",
    "odd_even(13)"
   ]
  },
  {
   "cell_type": "code",
   "execution_count": null,
   "id": "150324d3",
   "metadata": {},
   "outputs": [],
   "source": [
    "#3) Bir fonksiyon yazalım. Fonksiyon için kullanıcıdan bir string şifre girdisi alalım. \n",
    "# #Girilen string ifadenin karakter sayısı 5'ten kısaysa \"Şifreniz çok kısa\" , 8'den büyükse \"Şifreniz çok uzun\" , \n",
    "# #5 ile 8 arasındaysa(5 ve 8 dahil) \"Şifreniz başarıyla oluşturuldu\" yazısını printle yazdıralım.\n",
    "\n",
    "def password(key):\n",
    "    if len(key) < 5:\n",
    "        print(\"Şifreniz çok kısa\")\n",
    "    elif len(key) > 8:\n",
    "        print(\"Şifreniz çok uzun\")\n",
    "    else: \n",
    "        print(\"Şifreniz başarıyla oluşturuldu\")\n",
    "password(\"asdfg\")"
   ]
  },
  {
   "cell_type": "code",
   "execution_count": null,
   "id": "f1aff8eb",
   "metadata": {},
   "outputs": [],
   "source": [
    "#4) fizzBuzz adında bir fonksiyon yazalım. \n",
    "# Kullanıcıdan bir int sayı girdisi alalım, alınan sayı 2'e bölünüyorsa \"Fizz\" , 3'e bölünüyorsa \"Buzz\" ,\n",
    "# hem 2'e hem 3'e bölünüyorsa ekrana \"FizzBuzz\" printle yazdıralım.\n",
    "\n",
    "def fizzBuzz(sayi):\n",
    "    if (sayi % 2 == 0) & (sayi % 3== 0):  # buraya sayi % 6 == 0 şeklinde direkt 6'ya bölünüp bülünmediğini de yazabilirdik.\n",
    "        print(\"FizzBuzz\")    # ilk önce and fonksiyonunu yazdık, yoksa işlemiyor sistem.\n",
    "    elif sayi % 2 == 0:\n",
    "        print(\"Fizz\")\n",
    "    elif sayi % 3 == 0:\n",
    "        print(\"Buzz\")\n",
    "fizzBuzz(24)"
   ]
  },
  {
   "cell_type": "code",
   "execution_count": null,
   "id": "9ede95b5",
   "metadata": {},
   "outputs": [],
   "source": [
    "#5) maxMinDiff adında bir fonksiyon yazalım verilen listedeki en büyük ve en küçük sayılar arasındaki farkı bulup döndürsün.\n",
    "#Input [25,9,11,2,23,42,34,3,18]\n",
    "\n",
    "def maxMinDiff(liste):\n",
    "    return max(liste)- min(liste)   # return sayesinde ileride bunu tekrar kullanabiliriz.\n",
    "\n",
    "print(maxMinDiff([25,9,11,2,23,42,34,3,18]))  # listeyi fonksiyonun içine yazıyoruz.\n",
    "# print etmek için belirtmemiz gerekiyor."
   ]
  },
  {
   "cell_type": "code",
   "execution_count": null,
   "id": "81697261",
   "metadata": {},
   "outputs": [],
   "source": [
    "#6) maxFunc adında bir fonk. yazalım.\n",
    "# #Girilen sayılar arasından en büyük olanını DÖNDÜREN bir fonksiyon yazalım.\n",
    "\n",
    "def maxFunc(*sayi):  # inputun türü ya da sayısı belli değilse parametrenin önüne * yazıyoruz.\n",
    "    return max(sayi)\n",
    "    \n",
    "maxFunc(3,5,987,24,777)"
   ]
  },
  {
   "cell_type": "code",
   "execution_count": null,
   "id": "b9c74c25",
   "metadata": {},
   "outputs": [],
   "source": [
    "#8) \"howMany_a\" adında fonksiyon yazalım. Girilen cümlenin içerisinde kaç tane \"a\" harfi bulunduğunu bulup bize döndürsün.\n",
    "# Input : cümle = \"Araba almak koLAy da Arabaya yakıt koymak DAha zor\"\n",
    "\n",
    "def howMany_a(sentence):\n",
    "    return sentence.lower().count(\"a\")\n",
    "\n",
    "print(howMany_a(\"Araba almak koLAy da Arabaya yakıt koymak DAha zor\"))"
   ]
  },
  {
   "cell_type": "code",
   "execution_count": null,
   "id": "98874369",
   "metadata": {},
   "outputs": [],
   "source": [
    "#9) underSquare adında bir fonksiyon yazalım. İçine bir int sayı girdisi alalım.\n",
    "# Girilen sayıdan küçük olan bütün pozitif tam sayıların karesini liste halinde ekrana yazdıralım.\n",
    "#Input = 6   OutPut = [1,4,9,16,25]\n",
    "\n",
    "def underSquare(number):\n",
    "    liste = []\n",
    "    for i in range(1, number):  # sadece number desek 0 da dahil olurdu. \n",
    "        liste.append(i**2)      #burada sayımız dahil değil, dahil olsaydı number +1 yazacaktık.\n",
    "    return liste\n",
    "print(underSquare(8))"
   ]
  },
  {
   "cell_type": "code",
   "execution_count": null,
   "id": "dd16841a",
   "metadata": {},
   "outputs": [],
   "source": [
    "#10) \"isEven\" adında bir fonksiyon yazalım. \n",
    "# İçine bir int sayı girdisi alsın. Sayı çiftse True, tekse False şeklinde boolean değerler döndürsün.\n",
    "\n",
    "def isEven(number):\n",
    "    if number % 2 == 0:\n",
    "        return True\n",
    "    else:\n",
    "        return False\n",
    "print(isEven(12))\n",
    "print(isEven (13))"
   ]
  },
  {
   "cell_type": "code",
   "execution_count": 56,
   "id": "b4bbb798",
   "metadata": {},
   "outputs": [],
   "source": [
    "# ya da tek satırda if'li yapı yazılırsa\n",
    "def isEven(number):\n",
    "    return bool(number if number % 2== 0 else False)"
   ]
  },
  {
   "cell_type": "code",
   "execution_count": 57,
   "id": "c098bf28",
   "metadata": {},
   "outputs": [
    {
     "data": {
      "text/plain": [
       "True"
      ]
     },
     "execution_count": 57,
     "metadata": {},
     "output_type": "execute_result"
    }
   ],
   "source": [
    "isEven(4)"
   ]
  },
  {
   "cell_type": "code",
   "execution_count": 63,
   "id": "9ea9ac6c",
   "metadata": {},
   "outputs": [
    {
     "name": "stdout",
     "output_type": "stream",
     "text": [
      "12\n"
     ]
    }
   ],
   "source": [
    "#11) \"allEvenSum\" adında bir fonksiyon yazalım. İçine bir int sayı girdisi alsın. \n",
    "#1'den başlayıp girilen sayıya kadar olan bütün çift sayıların toplamını döndürsün.\n",
    "\n",
    "def allEvenSum(sayi):\n",
    "    liste = []\n",
    "    for i in range (0, sayi):\n",
    "        if i %2 == 0:\n",
    "             liste.append(i)  # çift ise listeye ekle\n",
    "    return sum(liste)\n",
    "print(allEvenSum(8))   # yani 2,4,6 toplamı"
   ]
  },
  {
   "cell_type": "code",
   "execution_count": 64,
   "id": "b87c351e",
   "metadata": {},
   "outputs": [
    {
     "name": "stdout",
     "output_type": "stream",
     "text": [
      "12\n"
     ]
    }
   ],
   "source": [
    "# daha kısa bir şekilde yazarsak...\n",
    "def allEvenSum(number):\n",
    "    toplam = 0    # Liste yapmadan 0'dan başlayararak toplamak istiyoruz\n",
    "    for i in range(number):\n",
    "        if i % 2 == 0:\n",
    "            toplam += i\n",
    "    return toplam\n",
    "\n",
    "print(allEvenSum(8))"
   ]
  },
  {
   "cell_type": "code",
   "execution_count": 65,
   "id": "5049081c",
   "metadata": {},
   "outputs": [
    {
     "name": "stdout",
     "output_type": "stream",
     "text": [
      "1092\n"
     ]
    }
   ],
   "source": [
    "#12) 4,7 ve 13 ile bölünen 4 basamaklı en küçük sayıyı bulup ekrana yazdırtalım.\n",
    "for i in range(1000,10000):\n",
    "    if (i % 4 ==0) & (i % 7 == 0) & (i % 13 ==0):\n",
    "        print(i) \n",
    "        break   # en küçük sayıyıyı bulunca döngüden çıksın \n"
   ]
  },
  {
   "cell_type": "code",
   "execution_count": null,
   "id": "bfa9ffda",
   "metadata": {},
   "outputs": [],
   "source": [
    "#13) \"isPrime\" adında bir fonksiyon yazalım. Girilen sayının asal olup olmadığına göre True ya da False şeklinde bir boolean değer döndürsün.\n",
    "#Input : 5 , Output : True , Input : 6 , Output : False , Input : 2 , Output : True , Input : 1 , Output : False , Input : -5 , Output : False , Input : 9 , Output : False"
   ]
  },
  {
   "cell_type": "code",
   "execution_count": 75,
   "id": "61fec3d6",
   "metadata": {},
   "outputs": [
    {
     "name": "stdout",
     "output_type": "stream",
     "text": [
      "True\n"
     ]
    }
   ],
   "source": [
    "def isPrime(sayi):\n",
    "    for i in range (2, sayi):\n",
    "        if sayi % i == 0:  # kendisi ve 1 haricindeki sayılara bölünebiliyorsa asal değildir.\n",
    "            return False\n",
    "    return True\n",
    "print(isPrime(13))"
   ]
  },
  {
   "cell_type": "code",
   "execution_count": 76,
   "id": "b8de20a5",
   "metadata": {},
   "outputs": [
    {
     "name": "stdout",
     "output_type": "stream",
     "text": [
      "False\n"
     ]
    }
   ],
   "source": [
    "# negatif sayıları da içersin dersek\n",
    "def isPrime(sayi):\n",
    "    if sayi < 2:\n",
    "        return False\n",
    "    for i in range (2, sayi):\n",
    "        if sayi % i == 0:  # kendisi ve 1 haricindeki sayılara bölünebiliyorsa asal değildir.\n",
    "            return False # return False olmazsa True yazması için döngünün dışına ikinci bir return yazıyoruz.\n",
    "    return True\n",
    "print(isPrime(-13))"
   ]
  },
  {
   "cell_type": "code",
   "execution_count": null,
   "id": "7fc34f62",
   "metadata": {},
   "outputs": [],
   "source": [
    "#14) fiboList_creator adında fibonacci listesi oluşturan bir fonksiyon yazalım. \n",
    "# İçine bir int sayı girdisi alsın ve o uzunlukta bir fibonacci listesi döndürsün\n",
    "#Input : 6 Output : [1,1,2,3,5,8]\n",
    "#Hatırlatma : Fibonacci sayıları ilk 2 elemanı 1 olan ve ondan sonraki her elemanı kendisinden önceki 2 elemanın toplamı şeklinde oluşturularak ilerleyen sayılardır.\n",
    "\n",
    "# Ödev"
   ]
  },
  {
   "cell_type": "code",
   "execution_count": null,
   "id": "b5eac678",
   "metadata": {},
   "outputs": [],
   "source": [
    "# 15) Biraz hızlı bir şekilde bir araba sürüyoruz ve polis bizi yolda durduruyor. \"caught_speeding\" adında bir fonksiyon yazalım, 3 muhtemel sonucu olsun.\n",
    "#1) Hızınız 60 veya daha aşağıdaysa \"No Ticket\" yazısı döndürelim\n",
    "#2) Hızınız 61-80 aralığındaysa \"Small Ticket\" yazısı döndürelim\n",
    "#3) Hızınız 81 ve üzeriyse \"Big Ticket\" yazısı döndürelim\n",
    "#!!! Eğer polis sizi doğum gününüzde durdurdaysa bütün hız aralıklarında 5 daha fazla hız yapmanıza göz yumacak. Eğer doğum gününüzde değilseniz normal kurallar geçerli.\n",
    "# İpucu : \"caught_speeding\" adındaki fonksiyonumuz 2 parametre alsın ; Hız parametresi ve True ya da False şeklinde boolean değerler döndüren bir doğum günü kontrol parametresi."
   ]
  },
  {
   "cell_type": "code",
   "execution_count": 79,
   "id": "fc60d756",
   "metadata": {},
   "outputs": [
    {
     "name": "stdout",
     "output_type": "stream",
     "text": [
      "Small Ticket\n",
      "Big Ticket\n"
     ]
    }
   ],
   "source": [
    "# iki parametreyle\n",
    "def caught_speeding (speed, birthday):\n",
    "    if birthday == True:\n",
    "         speed = speed -5   # eğer doğum günü değilse direkt aşağıdaki döngüye girer.\n",
    "    \n",
    "    if speed < 60:\n",
    "        return \"No Ticket\"\n",
    "    elif 60 < speed < 80:\n",
    "        return \"Small Ticket\"\n",
    "    elif speed > 80:\n",
    "        return \"Big Ticket\"\n",
    "\n",
    "print(caught_speeding(81,True))   # Small ticket\n",
    "print(caught_speeding(81, False)) # Big ticket"
   ]
  },
  {
   "cell_type": "code",
   "execution_count": null,
   "id": "9eb8cff1",
   "metadata": {},
   "outputs": [],
   "source": [
    "# Ödev sorusu : \n",
    "#Üst Düzey 2)\n",
    "#1) isPrime adında bir fonksiyon yazalım. Girilen sayının asal olup olmadığına göre True ya da False şeklinde bir boolean değer döndürsün.\n",
    "#2) 1000'e kadar toplam kaç tane asal sayı olduğunu bulalım\n",
    "#3) 3 basamaklı en büyük asal sayıyı bulalım\n",
    "#4) 1000'e kadar olan bütün asal sayıların toplamını bulalım."
   ]
  }
 ],
 "metadata": {
  "interpreter": {
   "hash": "610a6f344c2137faf927ea819c63f6cee33a2c04455044b28099f39fe9722347"
  },
  "kernelspec": {
   "display_name": "Python 3 (ipykernel)",
   "language": "python",
   "name": "python3"
  },
  "language_info": {
   "codemirror_mode": {
    "name": "ipython",
    "version": 3
   },
   "file_extension": ".py",
   "mimetype": "text/x-python",
   "name": "python",
   "nbconvert_exporter": "python",
   "pygments_lexer": "ipython3",
   "version": "3.9.7"
  }
 },
 "nbformat": 4,
 "nbformat_minor": 5
}
