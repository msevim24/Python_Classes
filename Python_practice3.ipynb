{
 "cells": [
  {
   "cell_type": "markdown",
   "id": "9ef8c89d",
   "metadata": {},
   "source": [
    "# If "
   ]
  },
  {
   "cell_type": "code",
   "execution_count": 4,
   "id": "6a5892e2",
   "metadata": {},
   "outputs": [
    {
     "name": "stdin",
     "output_type": "stream",
     "text": [
      "Yaşınızı giriniz ? 15\n"
     ]
    },
    {
     "name": "stdout",
     "output_type": "stream",
     "text": [
      "Ali Gel\n"
     ]
    }
   ],
   "source": [
    "x=int(input(\"Yaşınızı giriniz ?\" ))\n",
    "if x==20:\n",
    "    print(\"Aferin\")\n",
    "elif x<20:\n",
    "    print(\"Ali Gel\")\n",
    "else:\n",
    "    print(\"Gülümse\")"
   ]
  },
  {
   "cell_type": "code",
   "execution_count": 12,
   "id": "99d4360f",
   "metadata": {},
   "outputs": [
    {
     "name": "stdout",
     "output_type": "stream",
     "text": [
      "yok\n",
      "['a', 'b', 'c', 'f', 't', 'n', 'n']\n"
     ]
    },
    {
     "data": {
      "text/plain": [
       "['a', 'b', 'c', 'f', 't', 'n', 'n']"
      ]
     },
     "execution_count": 12,
     "metadata": {},
     "output_type": "execute_result"
    }
   ],
   "source": [
    "lis=[\"a\",\"b\",\"c\",\"f\",\"t\"]\n",
    "if \"n\" in lis:\n",
    "    print(\"var\")\n",
    "else:\n",
    "    print(\"yok\")\n",
    "    lis.append('n')\n",
    "    lis=lis+[\"n\"]\n",
    "    print(lis)\n",
    "lis"
   ]
  },
  {
   "cell_type": "code",
   "execution_count": 1,
   "id": "9a9db0d6",
   "metadata": {},
   "outputs": [
    {
     "name": "stdout",
     "output_type": "stream",
     "text": [
      "B\n"
     ]
    }
   ],
   "source": [
    "a = 500 # Sonc=50\n",
    "b= 600\n",
    "print(\"A\") if a > b else print(\"=\") if a == b else print(\"B\")"
   ]
  },
  {
   "cell_type": "code",
   "execution_count": 2,
   "id": "95860529",
   "metadata": {},
   "outputs": [
    {
     "name": "stdout",
     "output_type": "stream",
     "text": [
      "B\n"
     ]
    }
   ],
   "source": [
    "if a>b :\n",
    "    print('A')\n",
    "elif a==b :\n",
    "    print('=')\n",
    "else :\n",
    "    print('B')"
   ]
  },
  {
   "cell_type": "code",
   "execution_count": 15,
   "id": "9ababf13",
   "metadata": {},
   "outputs": [
    {
     "name": "stdin",
     "output_type": "stream",
     "text": [
      "Bir kelime gir: ahm5t\n"
     ]
    },
    {
     "data": {
      "text/plain": [
       "True"
      ]
     },
     "execution_count": 15,
     "metadata": {},
     "output_type": "execute_result"
    }
   ],
   "source": [
    "x=input(\"Bir kelime gir:\")\n",
    "x[3].isdigit()"
   ]
  },
  {
   "cell_type": "code",
   "execution_count": 16,
   "id": "b0aa9afa",
   "metadata": {},
   "outputs": [
    {
     "name": "stdin",
     "output_type": "stream",
     "text": [
      "Bir kelime gir : aaaaaaaaaagt\n"
     ]
    },
    {
     "name": "stdout",
     "output_type": "stream",
     "text": [
      "Gird. kelimenin içinde: 10 adet a vardır.\n"
     ]
    }
   ],
   "source": [
    "x=input(\"Bir kelime gir :\")\n",
    "print(\"Gird. kelimenin içinde: {} adet a vardır.\".format(x.lower().count(\"a\")))"
   ]
  },
  {
   "cell_type": "code",
   "execution_count": null,
   "id": "91e6f377",
   "metadata": {},
   "outputs": [],
   "source": []
  },
  {
   "cell_type": "markdown",
   "id": "d314c066",
   "metadata": {},
   "source": [
    "# For Loop"
   ]
  },
  {
   "cell_type": "code",
   "execution_count": 18,
   "id": "1798bd49",
   "metadata": {
    "tags": []
   },
   "outputs": [
    {
     "name": "stdout",
     "output_type": "stream",
     "text": [
      "a\tb\td\t1\t2\t3\t\n",
      "a\n",
      "b\n",
      "d\n",
      "1\n",
      "2\n",
      "3\n"
     ]
    }
   ],
   "source": [
    "Kisiler=[\"a\",\"b\",\"d\",1,2,3]\n",
    "for kisi in Kisiler:\n",
    "    print(kisi,end=\"\\t\")\n",
    "print()\n",
    "for kisi in Kisiler:\n",
    "    print(kisi)"
   ]
  },
  {
   "cell_type": "code",
   "execution_count": 28,
   "id": "db0c4857",
   "metadata": {
    "tags": []
   },
   "outputs": [
    {
     "name": "stdout",
     "output_type": "stream",
     "text": [
      "0 ali\n",
      "1 b\n",
      "2 d\n",
      "3 1\n",
      "4 2\n",
      "5 3\n"
     ]
    }
   ],
   "source": [
    "Kisiler1=[\"ali\",\"b\",\"d\",1,2,3]\n",
    "dongu=0\n",
    "for kisi in Kisiler1:\n",
    "    print(dongu,kisi)  \n",
    "    dongu+=1  # dongu=dongu+1"
   ]
  },
  {
   "cell_type": "code",
   "execution_count": 32,
   "id": "c0deb224-6db3-40f3-aea2-bdef7fa54187",
   "metadata": {
    "tags": []
   },
   "outputs": [
    {
     "name": "stdout",
     "output_type": "stream",
     "text": [
      "0 ali\n",
      "1 b\n",
      "2 d\n",
      "3 1\n",
      "4 2\n",
      "5 3\n"
     ]
    }
   ],
   "source": [
    "for c, v in enumerate(Kisiler1):\n",
    "     print(c, v)"
   ]
  },
  {
   "cell_type": "code",
   "execution_count": 33,
   "id": "fec1ad3b",
   "metadata": {
    "tags": []
   },
   "outputs": [
    {
     "name": "stdout",
     "output_type": "stream",
     "text": [
      "Ahmet Mımız\n",
      "['Ahmet', 'Mımız']\n",
      "Selami Yamaç\n",
      "['Selami', 'Yamaç']\n",
      "Abbas Yolcu\n",
      "['Abbas', 'Yolcu']\n",
      "Hasan Kurut\n",
      "['Hasan', 'Kurut']\n"
     ]
    }
   ],
   "source": [
    "Liste=[\"Ahmet Mımız\",\"Selami Yamaç\",\"Abbas Yolcu\",\"Hasan Kurut\"]\n",
    "for i in Liste:\n",
    "    print(i)\n",
    "    s=i.split()\n",
    "    print(s)   "
   ]
  },
  {
   "cell_type": "code",
   "execution_count": 1,
   "id": "b271a07b",
   "metadata": {
    "tags": []
   },
   "outputs": [
    {
     "name": "stdout",
     "output_type": "stream",
     "text": [
      "1.Adı Ahmet,  Soyadı Mızmız\n",
      "2.Adı Selami,  Soyadı Yan\n",
      "3.Adı Abbas,  Soyadı Yolcu\n",
      "4.Adı Hasan,  Soyadı Kurut\n"
     ]
    }
   ],
   "source": [
    "sira=1\n",
    "Liste=[\"Ahmet Mızmız\",\"Selami Yan\",\"Abbas Yolcu\",\"Hasan Kurut\"]\n",
    "for i in Liste:\n",
    "    adi,soyadi=i.split()[0],i.split()[1]\n",
    "    print('{}.Adı {},  Soyadı {}'.format(sira,adi,soyadi))\n",
    "    sira+=1\n",
    "   # print('{0}.Adı {1},Soyadı {2}'.format(sira,adi,soyadi))"
   ]
  },
  {
   "cell_type": "code",
   "execution_count": 36,
   "id": "5df160ef-b5db-4d0f-a201-97403a8c11c5",
   "metadata": {},
   "outputs": [
    {
     "data": {
      "text/plain": [
       "4"
      ]
     },
     "execution_count": 36,
     "metadata": {},
     "output_type": "execute_result"
    }
   ],
   "source": [
    "len(Liste)"
   ]
  },
  {
   "cell_type": "markdown",
   "id": "8cb39689",
   "metadata": {},
   "source": [
    "# Tuple"
   ]
  },
  {
   "cell_type": "code",
   "execution_count": 2,
   "id": "a685f330",
   "metadata": {
    "tags": []
   },
   "outputs": [
    {
     "name": "stdout",
     "output_type": "stream",
     "text": [
      "1\n",
      "22\n",
      "ahmet\n"
     ]
    },
    {
     "data": {
      "text/plain": [
       "tuple"
      ]
     },
     "execution_count": 2,
     "metadata": {},
     "output_type": "execute_result"
    }
   ],
   "source": [
    "x=1,22,\"ahmet\"\n",
    "for y in x:\n",
    "    print(y)\n",
    "type(x)"
   ]
  },
  {
   "cell_type": "code",
   "execution_count": 3,
   "id": "a31613b6",
   "metadata": {
    "tags": []
   },
   "outputs": [
    {
     "name": "stdout",
     "output_type": "stream",
     "text": [
      "ali veli\n",
      "1 2\n"
     ]
    },
    {
     "data": {
      "text/plain": [
       "tuple"
      ]
     },
     "execution_count": 3,
     "metadata": {},
     "output_type": "execute_result"
    }
   ],
   "source": [
    "a=([\"ali\",\"veli\"],[1,2])\n",
    "#print(type(a))  <class 'tuple'>\n",
    "for f in a:\n",
    "    print(f[0],f[1])\n",
    "type(a)"
   ]
  },
  {
   "cell_type": "code",
   "execution_count": 4,
   "id": "afb11acd",
   "metadata": {
    "tags": []
   },
   "outputs": [
    {
     "name": "stdout",
     "output_type": "stream",
     "text": [
      "veli\n",
      "2\n"
     ]
    }
   ],
   "source": [
    "a=([\"ali\",\"veli\"],[1,2])\n",
    "for i,j in a:                   #değişken sayısı ile eleman sayısı aynı olmalı i,j=ali,veli\n",
    "    print(j)                     #sayısal işlemde yapılabilir."
   ]
  },
  {
   "cell_type": "code",
   "execution_count": 5,
   "id": "6e3de3fc",
   "metadata": {
    "tags": []
   },
   "outputs": [
    {
     "name": "stdout",
     "output_type": "stream",
     "text": [
      "2\t12\t30\t56\t"
     ]
    },
    {
     "data": {
      "text/plain": [
       "(16, 20)"
      ]
     },
     "execution_count": 5,
     "metadata": {},
     "output_type": "execute_result"
    }
   ],
   "source": [
    "a=([1,2],[3,4],[5,6],[7,8])\n",
    "ti=0;tj=0\n",
    "for i,j in a:\n",
    "    print(i*j,end='\\t')\n",
    "    ti+=i\n",
    "    tj+=j\n",
    "ti,tj"
   ]
  },
  {
   "cell_type": "markdown",
   "id": "262b70f6",
   "metadata": {},
   "source": [
    "# Dictionary"
   ]
  },
  {
   "cell_type": "code",
   "execution_count": 40,
   "id": "84c8c6d2",
   "metadata": {},
   "outputs": [
    {
     "name": "stdout",
     "output_type": "stream",
     "text": [
      "key: no         \t value : 1\n",
      "key: Kitap adı   \t value : Keloğlan ile Balkız\n",
      "key: Yazarının adı \t value : Recep Atma\n"
     ]
    }
   ],
   "source": [
    "kayit={\n",
    "    'no        ':1,\n",
    "    'Kitap adı  ':'Keloğlan ile Balkız',\n",
    "    'Yazarının adı':'Recep Atma'\n",
    "    }\n",
    "for x,y in kayit.items():\n",
    "    print(\"key: {} \\t value : {}\".format(x,y))"
   ]
  },
  {
   "cell_type": "code",
   "execution_count": 5,
   "id": "0742d557",
   "metadata": {},
   "outputs": [
    {
     "name": "stdout",
     "output_type": "stream",
     "text": [
      "\"key: no        \t value : 1\n",
      "\"key: Kitap adı \t value : Keloğlan ile Balkız\n",
      "\"key: Yazarının adı \t value : Sezai Atma\n"
     ]
    }
   ],
   "source": [
    "kayit={\n",
    "    'no       ':1,\n",
    "    'Kitap adı':'Keloğlan ile Balkız',\n",
    "    'Yazarının adı':'Sezai Atma'\n",
    "    }\n",
    "kayit\n",
    "for x in kayit.items():\n",
    "     print(\"\\\"key: {} \\t value : {}\".format(x[0],x[1]))"
   ]
  },
  {
   "cell_type": "code",
   "execution_count": 26,
   "id": "d4340b1c",
   "metadata": {},
   "outputs": [
    {
     "data": {
      "text/plain": [
       "\"ello World 'ali'\""
      ]
     },
     "execution_count": 26,
     "metadata": {},
     "output_type": "execute_result"
    }
   ],
   "source": [
    "myfruuit=\"Hello WorHld 'ali'\"\n",
    "myfruuit.replace(\"H\",\"\")"
   ]
  },
  {
   "cell_type": "code",
   "execution_count": 29,
   "id": "9227af54",
   "metadata": {},
   "outputs": [
    {
     "data": {
      "text/plain": [
       "'numara    45'"
      ]
     },
     "execution_count": 29,
     "metadata": {},
     "output_type": "execute_result"
    }
   ],
   "source": [
    "n=45\n",
    "\"numara    %d\" %n\n",
    "#print(\"numara   %d\" %n)"
   ]
  },
  {
   "cell_type": "code",
   "execution_count": 44,
   "id": "dcf2e2c2",
   "metadata": {},
   "outputs": [
    {
     "data": {
      "text/plain": [
       "'john is 15 years old'"
      ]
     },
     "execution_count": 44,
     "metadata": {},
     "output_type": "execute_result"
    }
   ],
   "source": [
    "name=\"john\"\n",
    "age=15\n",
    "\"%s is %d years old\" %(name,age)  #%g float için"
   ]
  },
  {
   "cell_type": "code",
   "execution_count": 31,
   "id": "033eb271",
   "metadata": {},
   "outputs": [
    {
     "name": "stdout",
     "output_type": "stream",
     "text": [
      "hıdır  mıdır  Var \n"
     ]
    }
   ],
   "source": [
    "data={\n",
    "    \"ad\":\"hıdır\",\n",
    "    \"s\":\"mıdır\",\n",
    "    \"S\":\"Var\"\n",
    "    }\n",
    "print(\"{ad}  {s}  {S} \".format_map(data))"
   ]
  },
  {
   "cell_type": "code",
   "execution_count": 32,
   "id": "e3b54230",
   "metadata": {},
   "outputs": [
    {
     "data": {
      "text/plain": [
       "4"
      ]
     },
     "execution_count": 32,
     "metadata": {},
     "output_type": "execute_result"
    }
   ],
   "source": [
    "s=\"adgsrgb  ıjjJhgOIUYıopjhHHd\"\n",
    "s.lower().count(\"j\")"
   ]
  },
  {
   "cell_type": "code",
   "execution_count": 37,
   "id": "5608d82c",
   "metadata": {},
   "outputs": [
    {
     "name": "stdout",
     "output_type": "stream",
     "text": [
      "--#--\n",
      "-###-\n",
      "#####\n",
      "-###-\n",
      "--#--\n"
     ]
    }
   ],
   "source": [
    "for i in range(1,5,2): \n",
    "    print((\"#\"*i).center(5,\"-\"))\n",
    "for i in range(5,0,-2):\n",
    "    print((\"#\"*i).center(5,\"-\"))"
   ]
  },
  {
   "cell_type": "code",
   "execution_count": 38,
   "id": "6a4d78fb",
   "metadata": {},
   "outputs": [
    {
     "name": "stdout",
     "output_type": "stream",
     "text": [
      "murat.akca@techproed.com\n",
      "murat.akca\n"
     ]
    }
   ],
   "source": [
    "data=\"From murat.akca@techproed.com Sat Jan 4 19:10:16 2011\"\n",
    "y=data.split()\n",
    "for x in y:\n",
    "    if \"@\" in x:\n",
    "        print(x)\n",
    "        print(x.split(\"@\")[0])\n",
    "        "
   ]
  },
  {
   "cell_type": "markdown",
   "id": "ad1a49a2",
   "metadata": {},
   "source": [
    "# Template"
   ]
  },
  {
   "cell_type": "code",
   "execution_count": 6,
   "id": "a46dc33c",
   "metadata": {},
   "outputs": [
    {
     "name": "stdout",
     "output_type": "stream",
     "text": [
      "Sayın Esra Hanımefendi\n",
      "April,2021 tarihinde yapmıs oldugunuz,\n",
      "\n",
      "is ile ilgili basvurunuz onaylanmıştır. İşe alındınız\n"
     ]
    }
   ],
   "source": [
    "from  string import Template\n",
    "text=Template(\"\"\"Sayın $name Hanımefendi\\n$date tarihinde yapmıs oldugunuz,\n",
    "\\n$konu ile ilgili basvurunuz onaylanmıştır. İşe alındınız\"\"\")\n",
    "sonuc=text.substitute(name=\"Esra\",date=\"April,2021\",konu=\"is\")\n",
    "print(sonuc)"
   ]
  },
  {
   "cell_type": "code",
   "execution_count": 10,
   "id": "0b4b895b",
   "metadata": {},
   "outputs": [
    {
     "name": "stdout",
     "output_type": "stream",
     "text": [
      "True\n",
      "False\n"
     ]
    }
   ],
   "source": [
    "x=6;y=6000\n",
    "print(x is not y)    #is - is not\n",
    "print(50<=x<100)"
   ]
  },
  {
   "cell_type": "code",
   "execution_count": 46,
   "id": "056e2ab5",
   "metadata": {},
   "outputs": [
    {
     "name": "stdin",
     "output_type": "stream",
     "text": [
      "Saniye değerini gir :?  56800\n"
     ]
    },
    {
     "name": "stdout",
     "output_type": "stream",
     "text": [
      "15 46 40\n"
     ]
    }
   ],
   "source": [
    "Sec=int(input(\"Saniye değerini gir :? \"))\n",
    "h=Sec//3600    # // bölme işlemindeki bölümün tam sayı kısmını verir\n",
    "Sec=Sec%3600\n",
    "minut=Sec//60\n",
    "Sec=Sec%60\n",
    "print(h,minut,Sec)"
   ]
  },
  {
   "cell_type": "code",
   "execution_count": 47,
   "id": "c22ff6bf",
   "metadata": {},
   "outputs": [
    {
     "data": {
      "text/plain": [
       "False"
      ]
     },
     "execution_count": 47,
     "metadata": {},
     "output_type": "execute_result"
    }
   ],
   "source": [
    "x=1.11-1.10\n",
    "y=2.11-2.10\n",
    "x==y"
   ]
  },
  {
   "cell_type": "code",
   "execution_count": 48,
   "id": "96546ae4",
   "metadata": {},
   "outputs": [
    {
     "data": {
      "text/plain": [
       "True"
      ]
     },
     "execution_count": 48,
     "metadata": {},
     "output_type": "execute_result"
    }
   ],
   "source": [
    "x='z'; y='yazma'\n",
    "x in y"
   ]
  },
  {
   "cell_type": "code",
   "execution_count": 53,
   "id": "27410885",
   "metadata": {},
   "outputs": [
    {
     "data": {
      "text/plain": [
       "4.0"
      ]
     },
     "execution_count": 53,
     "metadata": {},
     "output_type": "execute_result"
    }
   ],
   "source": [
    "round(3.500,0)  "
   ]
  },
  {
   "cell_type": "code",
   "execution_count": 54,
   "id": "717d8dee",
   "metadata": {},
   "outputs": [
    {
     "data": {
      "text/plain": [
       "True"
      ]
     },
     "execution_count": 54,
     "metadata": {},
     "output_type": "execute_result"
    }
   ],
   "source": [
    "bool([\"0\"])"
   ]
  },
  {
   "cell_type": "code",
   "execution_count": 55,
   "id": "5ae8e2db",
   "metadata": {},
   "outputs": [
    {
     "name": "stdin",
     "output_type": "stream",
     "text": [
      "İsminiz:?  afet\n"
     ]
    },
    {
     "name": "stdout",
     "output_type": "stream",
     "text": [
      "Tekrar giriniz\n"
     ]
    }
   ],
   "source": [
    "username=\"şahap\"\n",
    "x=input(\"İsminiz:? \")\n",
    "y=x.lower()\n",
    "z=bool(y==username)\n",
    "if z:\n",
    "    print(z)\n",
    "else:\n",
    "    print(\"Tekrar giriniz\")"
   ]
  },
  {
   "cell_type": "code",
   "execution_count": 61,
   "id": "e28cd220",
   "metadata": {
    "scrolled": true
   },
   "outputs": [
    {
     "data": {
      "text/plain": [
       "[10, 9, 8, 7, 6, 5, 4, 3, 2, 1]"
      ]
     },
     "execution_count": 61,
     "metadata": {},
     "output_type": "execute_result"
    }
   ],
   "source": [
    "# dir(\"string\")\n",
    "[*range(10,0,-1)]"
   ]
  },
  {
   "cell_type": "code",
   "execution_count": 15,
   "id": "57da4eb8",
   "metadata": {},
   "outputs": [
    {
     "data": {
      "text/plain": [
       "range(0, 10)"
      ]
     },
     "execution_count": 15,
     "metadata": {},
     "output_type": "execute_result"
    }
   ],
   "source": [
    "a=range(0,10,1)\n",
    "#list(a)\n",
    "#[*range(0,10,1)]\n",
    "#[*a]\n",
    "a"
   ]
  },
  {
   "cell_type": "code",
   "execution_count": 16,
   "id": "d5f372bc",
   "metadata": {},
   "outputs": [
    {
     "name": "stdout",
     "output_type": "stream",
     "text": [
      "7\t8\t9\t"
     ]
    }
   ],
   "source": [
    "for i in range(10):\n",
    "    if i>6:\n",
    "        print(i,end='\\t')"
   ]
  },
  {
   "cell_type": "code",
   "execution_count": 65,
   "id": "68f56824",
   "metadata": {},
   "outputs": [
    {
     "name": "stdout",
     "output_type": "stream",
     "text": [
      "(0, 'a')\n",
      "(1, 'b')\n",
      "(2, 'c')\n",
      "(3, 'd')\n"
     ]
    }
   ],
   "source": [
    "harfler=[\"a\",\"b\",\"c\",\"d\"]\n",
    "for h in enumerate(harfler):\n",
    "    print(h)\n",
    "#type(h) tuple"
   ]
  },
  {
   "cell_type": "code",
   "execution_count": 21,
   "id": "1fc5ebe8",
   "metadata": {},
   "outputs": [
    {
     "name": "stdout",
     "output_type": "stream",
     "text": [
      "1. harf a dir.\n",
      "2. harf b dir.\n",
      "3. harf c dir.\n",
      "4. harf d dir.\n"
     ]
    }
   ],
   "source": [
    "harfler=[\"a\",\"b\",\"c\",\"d\"]\n",
    "for index,h in enumerate(harfler):\n",
    "    #print(index,h)   #index in 1 den başlaması için index+1\n",
    "    print(\"{}. harf {} dir.\".format(index+1,h))"
   ]
  },
  {
   "cell_type": "code",
   "execution_count": 66,
   "id": "f63ee2e0",
   "metadata": {},
   "outputs": [
    {
     "name": "stdout",
     "output_type": "stream",
     "text": [
      "('Istanbul', '34')\n",
      "('İzmir', '35')\n",
      "('Ankara', '06')\n"
     ]
    }
   ],
   "source": [
    "sehirler=['Istanbul',\"İzmir\",\"Ankara\"]\n",
    "plakalar=[\"34\",\"35\",\"06\"]\n",
    "for sehir in zip(sehirler,plakalar):   #boyutlar aynı olmalı\n",
    "    print(sehir)\n",
    "# for sehir,plaka in zip(sehirler,plakalar):  \n",
    "#    print(plaka,sehir)\n",
    "    "
   ]
  },
  {
   "cell_type": "raw",
   "id": "a73fc6e3",
   "metadata": {},
   "source": [
    "# komut yazarken tab a basarsan hatırlatma yapar"
   ]
  },
  {
   "cell_type": "markdown",
   "id": "f4a11e21",
   "metadata": {},
   "source": [
    "# break, continue, pass   (for, while gibi döngülerde kullanılır.)"
   ]
  },
  {
   "cell_type": "code",
   "execution_count": 21,
   "id": "48921bbf",
   "metadata": {},
   "outputs": [
    {
     "name": "stdout",
     "output_type": "stream",
     "text": [
      "3 harfi d indeksinde bulundu\n",
      "7 harfi d indeksinde bulundu\n",
      "11 harfi d indeksinde bulundu\n",
      "15 harfi d indeksinde bulundu\n",
      "19 harfi d indeksinde bulundu\n",
      "23 harfi d indeksinde bulundu\n",
      "27 harfi d indeksinde bulundu\n",
      "31 harfi d indeksinde bulundu\n",
      "35 harfi d indeksinde bulundu\n",
      "39 harfi d indeksinde bulundu\n"
     ]
    }
   ],
   "source": [
    "harfler=[\"a\",\"b\",\"c\",\"d\"]*10\n",
    "for i,j in enumerate(harfler):\n",
    "    if j==\"d\":\n",
    "        print(\"{} harfi {} indeksinde bulundu\".format(i,j))\n",
    "        #break\n",
    "        "
   ]
  },
  {
   "cell_type": "code",
   "execution_count": 19,
   "id": "1632d44b-63b8-4c81-8ca9-580577f17e0a",
   "metadata": {},
   "outputs": [
    {
     "data": {
      "text/plain": [
       "3"
      ]
     },
     "execution_count": 19,
     "metadata": {},
     "output_type": "execute_result"
    }
   ],
   "source": [
    "harfler.index(\"d\")  # harfler.index(\"d\",4,15)"
   ]
  },
  {
   "cell_type": "code",
   "execution_count": 26,
   "id": "7cda2ab6",
   "metadata": {},
   "outputs": [
    {
     "name": "stdout",
     "output_type": "stream",
     "text": [
      "1\t3\t5\t7\t9\t11\t13\t15\t17\t19\t"
     ]
    }
   ],
   "source": [
    "sayi=range(20)\n",
    "for i in sayi:\n",
    "    if i%2==0:\n",
    "        continue #b döngüyü atla\n",
    "    print(i,end='\\t')\n",
    "    "
   ]
  },
  {
   "cell_type": "code",
   "execution_count": 27,
   "id": "8cc8cbb1",
   "metadata": {},
   "outputs": [
    {
     "name": "stdout",
     "output_type": "stream",
     "text": [
      "1\t3\t5\t7\t9\t11\t13\t15\t17\t19\t"
     ]
    }
   ],
   "source": [
    "sayi=range(20)\n",
    "for i in sayi:\n",
    "    if i%2==0:\n",
    "        pass # hiç bir şey yapma\n",
    "    else:\n",
    "        print(i,end='\\t')"
   ]
  },
  {
   "cell_type": "code",
   "execution_count": 68,
   "id": "b697dd2a",
   "metadata": {},
   "outputs": [
    {
     "name": "stdin",
     "output_type": "stream",
     "text": [
      "sayi gir : 20\n"
     ]
    },
    {
     "name": "stdout",
     "output_type": "stream",
     "text": [
      "20\n"
     ]
    }
   ],
   "source": [
    "#pass ile ilgili önemli kullanım if deki else kısımla ilgili deneme yapıyorsanız.\n",
    "sayi=int(input(\"sayi gir :\"))\n",
    "if sayi==10:\n",
    "    pass\n",
    "else:\n",
    "    print(sayi)"
   ]
  },
  {
   "cell_type": "code",
   "execution_count": 69,
   "id": "49a37e7d",
   "metadata": {},
   "outputs": [],
   "source": [
    "kullanici1={\n",
    "    \"ad\":'Selahattin',\n",
    "    'soyad':'Anık',\n",
    "    'uzmanlık':['Kaynak']  \n",
    "}\n",
    "kullanici2={\n",
    "    \"ad\":'Akbay',\n",
    "    'soyad':'Gkçen',\n",
    "    'uzmanlık':['Tasarım']  \n",
    "}\n",
    "kullanici3={\n",
    "    \"ad\":'Ali',\n",
    "    'soyad':'Gel',\n",
    "    'uzmanlık':['Tasarım']  \n",
    "}\n",
    "kullanici3[\"uzmanlık\"].append('Fluent')\n",
    "kullanici2[\"uzmanlık\"].append('Python')\n"
   ]
  },
  {
   "cell_type": "code",
   "execution_count": 70,
   "id": "2fc512f3",
   "metadata": {},
   "outputs": [
    {
     "data": {
      "text/plain": [
       "['Tasarım', 'Fluent']"
      ]
     },
     "execution_count": 70,
     "metadata": {},
     "output_type": "execute_result"
    }
   ],
   "source": [
    "kullanici3.get(\"uzmanlık\")"
   ]
  },
  {
   "cell_type": "code",
   "execution_count": 71,
   "id": "71fd54d1",
   "metadata": {},
   "outputs": [
    {
     "name": "stdout",
     "output_type": "stream",
     "text": [
      "Selahattin Anık\n"
     ]
    }
   ],
   "source": [
    "kullanici_list=[kullanici1,kullanici2,kullanici3]\n",
    "#kaynak alanındaki kullanıcıların listesi\n",
    "for kullanici in kullanici_list:\n",
    "    if kullanici.get(\"uzmanlık\")==[\"Kaynak\"]:\n",
    "        print(kullanici.get(\"ad\"),kullanici.get(\"soyad\"))"
   ]
  },
  {
   "cell_type": "code",
   "execution_count": 72,
   "id": "6d5f3299",
   "metadata": {},
   "outputs": [
    {
     "name": "stdout",
     "output_type": "stream",
     "text": [
      "Akbay Gkçen\n",
      "Ali Gel\n"
     ]
    }
   ],
   "source": [
    "for kullanici in kullanici_list:\n",
    "       if \"Tasarım\" in kullanici.get(\"uzmanlık\"):\n",
    "            print(kullanici.get(\"ad\"),kullanici.get(\"soyad\"))"
   ]
  },
  {
   "cell_type": "code",
   "execution_count": 73,
   "id": "fa8ce91e",
   "metadata": {},
   "outputs": [
    {
     "name": "stdout",
     "output_type": "stream",
     "text": [
      "Akbay Gkçen\n"
     ]
    }
   ],
   "source": [
    "for kullanici in kullanici_list:\n",
    "       if \"Python\" in kullanici.get(\"uzmanlık\"):\n",
    "            print(kullanici.get(\"ad\"),kullanici.get(\"soyad\"))"
   ]
  },
  {
   "cell_type": "code",
   "execution_count": 76,
   "id": "0850f2eb",
   "metadata": {},
   "outputs": [
    {
     "name": "stdin",
     "output_type": "stream",
     "text": [
      "yarıçapı giriniz :?  12\n"
     ]
    },
    {
     "name": "stdout",
     "output_type": "stream",
     "text": [
      "Dairenin çapı 24.0 dir. Çevresi 75.36 alanı 452.16\n"
     ]
    }
   ],
   "source": [
    "r=float(input(\"yarıçapı giriniz :? \"))\n",
    "cap=2*r\n",
    "cevre=2*3.14*r\n",
    "alan=3.14*r**2\n",
    "print(\"Dairenin çapı {} dir. Çevresi {} alanı {}\".format(cap,cevre,alan))"
   ]
  },
  {
   "cell_type": "code",
   "execution_count": 61,
   "id": "c25a04b9",
   "metadata": {},
   "outputs": [
    {
     "name": "stdout",
     "output_type": "stream",
     "text": [
      "123456879\n"
     ]
    }
   ],
   "source": [
    "x=123_456_879\n",
    "\n",
    "print(x)    # a%b a modülüs b"
   ]
  },
  {
   "cell_type": "code",
   "execution_count": 53,
   "id": "77e0bbfb",
   "metadata": {},
   "outputs": [
    {
     "name": "stdout",
     "output_type": "stream",
     "text": [
      "sayi:? 16\n",
      "True\n"
     ]
    }
   ],
   "source": [
    "a=float(input(\"sayi:? \"))\n",
    "c=a%2\n",
    "d=bool(c==0)\n",
    "print(d)       "
   ]
  },
  {
   "cell_type": "code",
   "execution_count": 77,
   "id": "ff94c571",
   "metadata": {},
   "outputs": [],
   "source": [
    "def isim_soy_ayirma(isim_soy):\n",
    "    isim=isim_soy.split()[0]\n",
    "    soyisim=isim_soy.split()[1]\n",
    "    return isim,soyisim"
   ]
  },
  {
   "cell_type": "code",
   "execution_count": 80,
   "id": "42b42ef8",
   "metadata": {},
   "outputs": [
    {
     "data": {
      "text/plain": [
       "('Ahmet', 'Bay')"
      ]
     },
     "execution_count": 80,
     "metadata": {},
     "output_type": "execute_result"
    }
   ],
   "source": [
    "isim_soy_ayirma(\"Ahmet Bay Tere\")"
   ]
  },
  {
   "cell_type": "code",
   "execution_count": 81,
   "id": "2fa0b9bc",
   "metadata": {},
   "outputs": [
    {
     "data": {
      "text/plain": [
       "['Selahattin', 'Anık']"
      ]
     },
     "execution_count": 81,
     "metadata": {},
     "output_type": "execute_result"
    }
   ],
   "source": [
    "\"Selahattin Anık\".split()"
   ]
  },
  {
   "cell_type": "code",
   "execution_count": 57,
   "id": "f8717dca",
   "metadata": {},
   "outputs": [
    {
     "name": "stdout",
     "output_type": "stream",
     "text": [
      "Ahmet\n",
      "Bay\n"
     ]
    }
   ],
   "source": [
    "a,b=isim_soy_ayirma(\"Ahmet Bay\")\n",
    "print(a)\n",
    "print(b)"
   ]
  },
  {
   "cell_type": "code",
   "execution_count": 65,
   "id": "ea32d223",
   "metadata": {},
   "outputs": [
    {
     "data": {
      "text/plain": [
       "'Göçe*Kel'"
      ]
     },
     "execution_count": 65,
     "metadata": {},
     "output_type": "execute_result"
    }
   ],
   "source": [
    "\"*\".join([\"Göçe\",\"Kel\"])  #2 den fazla argüman kllanılmazz. Yerine *Args"
   ]
  },
  {
   "cell_type": "code",
   "execution_count": 82,
   "id": "9069eb71",
   "metadata": {},
   "outputs": [],
   "source": [
    "def ekleme(*args):\n",
    "    return \"-\".join(args)"
   ]
  },
  {
   "cell_type": "code",
   "execution_count": 84,
   "id": "6c01b885",
   "metadata": {},
   "outputs": [
    {
     "data": {
      "text/plain": [
       "'hasan-hüseyin-kemal-Ali'"
      ]
     },
     "execution_count": 84,
     "metadata": {},
     "output_type": "execute_result"
    }
   ],
   "source": [
    "ekleme(\"hasan\",\"hüseyin\",\"kemal\",\"Ali\")"
   ]
  },
  {
   "cell_type": "code",
   "execution_count": 85,
   "id": "c6875713",
   "metadata": {},
   "outputs": [],
   "source": [
    "def ekleme1(*args):\n",
    "    for item in args:\n",
    "        print(item)\n",
    "    return \" \".join(args)"
   ]
  },
  {
   "cell_type": "code",
   "execution_count": 86,
   "id": "f019735d",
   "metadata": {},
   "outputs": [
    {
     "name": "stdout",
     "output_type": "stream",
     "text": [
      "hasan\n",
      "hüseyin\n",
      "kemal\n"
     ]
    },
    {
     "data": {
      "text/plain": [
       "'hasan hüseyin kemal'"
      ]
     },
     "execution_count": 86,
     "metadata": {},
     "output_type": "execute_result"
    }
   ],
   "source": [
    "ekleme1(\"hasan\",\"hüseyin\",\"kemal\")"
   ]
  },
  {
   "cell_type": "code",
   "execution_count": 90,
   "id": "150c412f",
   "metadata": {},
   "outputs": [],
   "source": [
    "def ikinci_ad(**kwargs):\n",
    "    if \"ikinci\" in kwargs:\n",
    "        print(kwargs[\"ikinci\"])\n",
    "    else:\n",
    "        print(\"ikinci adı yok\")"
   ]
  },
  {
   "cell_type": "code",
   "execution_count": 92,
   "id": "a6e95513",
   "metadata": {},
   "outputs": [
    {
     "name": "stdout",
     "output_type": "stream",
     "text": [
      "Sali\n"
     ]
    }
   ],
   "source": [
    "ikinci_ad(adi=\"Ali\",ikinci=\"Sali\", soy=\"gel\")"
   ]
  },
  {
   "cell_type": "code",
   "execution_count": 67,
   "id": "8b032fad",
   "metadata": {},
   "outputs": [
    {
     "name": "stdout",
     "output_type": "stream",
     "text": [
      "ikinci adı yok\n"
     ]
    }
   ],
   "source": [
    "ikici_ad(adi=\"ali\",soy=\"gel\")"
   ]
  },
  {
   "cell_type": "markdown",
   "id": "4553286c",
   "metadata": {},
   "source": [
    "# Yazıyı şifreleme"
   ]
  },
  {
   "cell_type": "code",
   "execution_count": 2,
   "id": "d6e0f940",
   "metadata": {},
   "outputs": [
    {
     "name": "stdout",
     "output_type": "stream",
     "text": [
      "th37 37 7tr3ng 2x1m6l2....w4w!!!\n"
     ]
    }
   ],
   "source": [
    "string =\"this is string example....wow!!!\"\n",
    "intab = \"aeioups\"\n",
    "outtab = \"1234567\"\n",
    "trantab = stri.maketrans(intab,outtab)\n",
    "print(stri.translate(trantab))"
   ]
  },
  {
   "cell_type": "code",
   "execution_count": 70,
   "id": "e74002f6",
   "metadata": {},
   "outputs": [
    {
     "name": "stdout",
     "output_type": "stream",
     "text": [
      "this is string example....wow!!!\n"
     ]
    }
   ],
   "source": [
    "stri=\"th37 37 7tr3ng 2x1m6l2....w4w!!!\"\n",
    "intab = \"aeioups\"\n",
    "outtab = \"1234567\"\n",
    "trantab = stri.maketrans(outtab,intab)\n",
    "print(stri.translate(trantab))"
   ]
  },
  {
   "cell_type": "markdown",
   "id": "d5e83f2e",
   "metadata": {},
   "source": [
    "# map,filter"
   ]
  },
  {
   "cell_type": "code",
   "execution_count": 72,
   "id": "e25df698",
   "metadata": {},
   "outputs": [
    {
     "data": {
      "text/plain": [
       "[0, 2, 4, 6, 8, 10, 12, 14, 16, 18]"
      ]
     },
     "execution_count": 72,
     "metadata": {},
     "output_type": "execute_result"
    }
   ],
   "source": [
    "cift_say=[cift for cift in range(20) if cift%2==0]\n",
    "cift_say "
   ]
  },
  {
   "cell_type": "code",
   "execution_count": 73,
   "id": "ff5c2b63",
   "metadata": {},
   "outputs": [],
   "source": [
    "def kare(x):\n",
    "    return x**2 "
   ]
  },
  {
   "cell_type": "code",
   "execution_count": 75,
   "id": "b42304f9",
   "metadata": {},
   "outputs": [
    {
     "data": {
      "text/plain": [
       "9"
      ]
     },
     "execution_count": 75,
     "metadata": {},
     "output_type": "execute_result"
    }
   ],
   "source": [
    "kare(3)"
   ]
  },
  {
   "cell_type": "code",
   "execution_count": 7,
   "id": "b0bc2c27",
   "metadata": {},
   "outputs": [
    {
     "name": "stdout",
     "output_type": "stream",
     "text": [
      "[1, 2, 3, 4]\n",
      "1 1\n",
      "2 4\n",
      "3 9\n",
      "4 16\n"
     ]
    }
   ],
   "source": [
    "sayi=list(range(1,5))\n",
    "print(sayi)\n",
    "for s in range(len(sayi)):\n",
    "       print(s+1,kare(sayi[s]))"
   ]
  },
  {
   "cell_type": "code",
   "execution_count": 83,
   "id": "771c3e89",
   "metadata": {},
   "outputs": [
    {
     "name": "stdout",
     "output_type": "stream",
     "text": [
      "[1, 4, 9, 16]\n"
     ]
    }
   ],
   "source": [
    "lis=range(1,5)\n",
    "print(list((map(lambda x: x**2,lis))))"
   ]
  },
  {
   "cell_type": "code",
   "execution_count": 78,
   "id": "39660372",
   "metadata": {},
   "outputs": [
    {
     "data": {
      "text/plain": [
       "6"
      ]
     },
     "execution_count": 78,
     "metadata": {},
     "output_type": "execute_result"
    }
   ],
   "source": [
    "(lambda x: x + 3)(3)"
   ]
  },
  {
   "cell_type": "code",
   "execution_count": 84,
   "id": "f4b8ecd7",
   "metadata": {},
   "outputs": [
    {
     "data": {
      "text/plain": [
       "[1, 4, 25, 64, 81]"
      ]
     },
     "execution_count": 84,
     "metadata": {},
     "output_type": "execute_result"
    }
   ],
   "source": [
    "lis=[1,2,5,8,9]\n",
    "[*map(lambda x: x**2,lis)]"
   ]
  },
  {
   "cell_type": "code",
   "execution_count": 80,
   "id": "773475df",
   "metadata": {},
   "outputs": [
    {
     "name": "stdout",
     "output_type": "stream",
     "text": [
      "[1, 4, 25, 64, 81]\n"
     ]
    }
   ],
   "source": [
    "lis=[1,2,5,8,9]\n",
    "print(list(map(lambda x: x**2,lis)))"
   ]
  },
  {
   "cell_type": "code",
   "execution_count": 86,
   "id": "53650d1e",
   "metadata": {},
   "outputs": [],
   "source": [
    "def cift_sayi(x):\n",
    "    #if x%2==0:\n",
    "    #    return(x)  \n",
    "    return x if x%2==0 else None   #(Else kuullanılmalıı)"
   ]
  },
  {
   "cell_type": "code",
   "execution_count": 82,
   "id": "4208202f",
   "metadata": {},
   "outputs": [
    {
     "name": "stdout",
     "output_type": "stream",
     "text": [
      "7.681476593017578\n"
     ]
    }
   ],
   "source": [
    "import time\n",
    "start = time.time()\n",
    "sayilar=range(1,50000000)\n",
    "[*filter(cift_sayi,sayilar)]\n",
    "stop=time.time()\n",
    "print(stop-start)"
   ]
  },
  {
   "cell_type": "code",
   "execution_count": 90,
   "id": "5aba0eed",
   "metadata": {},
   "outputs": [
    {
     "data": {
      "text/plain": [
       "[2, 6]"
      ]
     },
     "execution_count": 90,
     "metadata": {},
     "output_type": "execute_result"
    }
   ],
   "source": [
    "sayilar=[1,2,5,6]\n",
    "#[*filter(cift_sayi,sayilar)]\n",
    "[*filter(lambda x:x if x%2==0 else None,sayilar)]   #Tek satırda broad cast"
   ]
  },
  {
   "cell_type": "code",
   "execution_count": 8,
   "id": "fda06d0f",
   "metadata": {},
   "outputs": [
    {
     "name": "stdout",
     "output_type": "stream",
     "text": [
      "2,   0.5   \n",
      "4,   1.0   \n",
      "10,   2.5   \n",
      "16,   4.0   \n",
      "18,   4.5   \n"
     ]
    }
   ],
   "source": [
    "def iki(x):return x*2\n",
    "def yar(x):return x/2\n",
    "lis=[1,2,5,8,9]\n",
    "f=[iki,yar]\n",
    "for i in lis:\n",
    "    #print(list(map(lambda x:x(i),fonk)))\n",
    "    #print([*map(lambda x:x(i),fonk)])\n",
    "    l=(list(map(lambda x:x(i),f)))\n",
    "    print('{},   {}   '.format(l[0],l[1]))"
   ]
  },
  {
   "cell_type": "code",
   "execution_count": 84,
   "id": "9d4b1616",
   "metadata": {},
   "outputs": [
    {
     "data": {
      "text/plain": [
       "['keratin', 'selami', 'ali', 'za', 'a']"
      ]
     },
     "execution_count": 84,
     "metadata": {},
     "output_type": "execute_result"
    }
   ],
   "source": [
    "k=[\"ali\",\"selami\",\"keratin\",\"a\",\"za\"]\n",
    "k.sort(key=len,reverse=True)     #boyuta göre sıralıyor.\n",
    "k"
   ]
  },
  {
   "cell_type": "code",
   "execution_count": 85,
   "id": "08121b1f",
   "metadata": {},
   "outputs": [
    {
     "data": {
      "text/plain": [
       "0"
      ]
     },
     "execution_count": 85,
     "metadata": {},
     "output_type": "execute_result"
    }
   ],
   "source": [
    "k.index(\"keratin\")"
   ]
  },
  {
   "cell_type": "code",
   "execution_count": null,
   "id": "e180e3e6",
   "metadata": {},
   "outputs": [],
   "source": [
    "l=1,2,3,4,\"ali\"    #tuples\n",
    "h=(15)    # int\n",
    "f=(15,)  #tuple"
   ]
  },
  {
   "cell_type": "code",
   "execution_count": null,
   "id": "fbf62509",
   "metadata": {},
   "outputs": [],
   "source": [
    "myTuple=range(10)\n",
    "type(tuple(myTuple))"
   ]
  },
  {
   "cell_type": "code",
   "execution_count": 86,
   "id": "ab34b738",
   "metadata": {},
   "outputs": [
    {
     "data": {
      "text/plain": [
       "['Ayşe', 'Mehmet', 'Ali', 'Ahmet']"
      ]
     },
     "execution_count": 86,
     "metadata": {},
     "output_type": "execute_result"
    }
   ],
   "source": [
    "i=(\"Ahmet\",\"Mehmet\",\"Ali\",\"Ayşe\")\n",
    "f=list(i)\n",
    "f[0],f[3]=f[3],f[0]\n",
    "f"
   ]
  },
  {
   "cell_type": "code",
   "execution_count": 87,
   "id": "662e2ad7",
   "metadata": {},
   "outputs": [],
   "source": [
    "mySet={1,2,3,3,3,4}"
   ]
  },
  {
   "cell_type": "code",
   "execution_count": 88,
   "id": "0b74e8d1",
   "metadata": {},
   "outputs": [
    {
     "data": {
      "text/plain": [
       "{1, 2, 3, 4}"
      ]
     },
     "execution_count": 88,
     "metadata": {},
     "output_type": "execute_result"
    }
   ],
   "source": [
    "mySet"
   ]
  },
  {
   "cell_type": "code",
   "execution_count": 11,
   "id": "b75aba65",
   "metadata": {},
   "outputs": [],
   "source": [
    "mySet.add(5)"
   ]
  },
  {
   "cell_type": "code",
   "execution_count": 92,
   "id": "a914e850",
   "metadata": {},
   "outputs": [
    {
     "name": "stdout",
     "output_type": "stream",
     "text": [
      "{2, 3, 4, 5, 100, 45}\n",
      "{3, 4, 5, 100, 45}\n"
     ]
    }
   ],
   "source": [
    "my={4,5,45,100}\n",
    "mySet.update(my)\n",
    "print(mySet)\n",
    "mySet.pop()    #ilk terimi siliyor.set te sıra önemli değildir.\n",
    "print(mySet)"
   ]
  },
  {
   "cell_type": "code",
   "execution_count": 93,
   "id": "1af1a7e4",
   "metadata": {},
   "outputs": [],
   "source": [
    "my.remove(100)   #Eğer değer yoksa hata verir."
   ]
  },
  {
   "cell_type": "code",
   "execution_count": 94,
   "id": "f693c39c",
   "metadata": {},
   "outputs": [],
   "source": [
    "my.discard(40)    #Eğer değer yoksa boş"
   ]
  },
  {
   "cell_type": "code",
   "execution_count": 95,
   "id": "27d83c03",
   "metadata": {},
   "outputs": [
    {
     "data": {
      "text/plain": [
       "{4, 5, 45}"
      ]
     },
     "execution_count": 95,
     "metadata": {},
     "output_type": "execute_result"
    }
   ],
   "source": [
    "my"
   ]
  },
  {
   "cell_type": "code",
   "execution_count": 17,
   "id": "59170d6d",
   "metadata": {},
   "outputs": [
    {
     "data": {
      "text/plain": [
       "{1, 2, 3, 4, 5, 6, 7, 45, 77, 88, 99, 100, 500}"
      ]
     },
     "execution_count": 17,
     "metadata": {},
     "output_type": "execute_result"
    }
   ],
   "source": [
    "my2={99,88,77}\n",
    "my={4,5,45,100}\n",
    "my6={1,2,3,4,500,6,7,100}\n",
    "my.union(my6,my2)      # Return the union of sets as a new set."
   ]
  },
  {
   "cell_type": "code",
   "execution_count": 96,
   "id": "97f22954",
   "metadata": {},
   "outputs": [
    {
     "data": {
      "text/plain": [
       "{1, 3, 4, 5, 6, 7, 45, 77, 88, 99, 100, 200}"
      ]
     },
     "execution_count": 96,
     "metadata": {},
     "output_type": "execute_result"
    }
   ],
   "source": [
    "my2={99,88,77}\n",
    "my={4,5,45,100}\n",
    "my6={1,200,3,4,5,6,7,100}   #sette sıralamanın önemi yoktur. sıralıyor\n",
    "my.update(my6,my2)      #Update a set with the union of itself and others.\n",
    "my"
   ]
  },
  {
   "cell_type": "code",
   "execution_count": 98,
   "id": "b3cb0a19",
   "metadata": {},
   "outputs": [
    {
     "data": {
      "text/plain": [
       "{1, 2, 3, 4, 5, 6, 7, 50, 100}"
      ]
     },
     "execution_count": 98,
     "metadata": {},
     "output_type": "execute_result"
    }
   ],
   "source": [
    "my2={99,88,77}\n",
    "my={4,5,45,100}\n",
    "my6={1,2,3,4,5,6,7,100}   #listeyi sete çevirirseniz tekrarlayan elemanlar silinir\n",
    "my6.add(50)\n",
    "my6"
   ]
  },
  {
   "cell_type": "code",
   "execution_count": 99,
   "id": "35a8743a",
   "metadata": {},
   "outputs": [
    {
     "data": {
      "text/plain": [
       "{1, 2, 3, 4, 5, 6, 7, 50}"
      ]
     },
     "execution_count": 99,
     "metadata": {},
     "output_type": "execute_result"
    }
   ],
   "source": [
    "my6.remove(100)\n",
    "my6"
   ]
  },
  {
   "cell_type": "code",
   "execution_count": 101,
   "id": "bc943f40",
   "metadata": {},
   "outputs": [],
   "source": [
    "my2={99,88,77,\"Ali\"}\n",
    "my={4,5,45,100}\n",
    "my6={1,2,3,4,5,6,7,100}   \n"
   ]
  },
  {
   "cell_type": "code",
   "execution_count": 102,
   "id": "c5233ab6",
   "metadata": {},
   "outputs": [],
   "source": [
    "my.discard(\"Ali\")"
   ]
  },
  {
   "cell_type": "code",
   "execution_count": 103,
   "id": "f641057d",
   "metadata": {},
   "outputs": [],
   "source": [
    "my.remove(5)"
   ]
  },
  {
   "cell_type": "code",
   "execution_count": 104,
   "id": "3ce641fb",
   "metadata": {},
   "outputs": [
    {
     "ename": "SyntaxError",
     "evalue": "cannot delete function call (Temp/ipykernel_10628/2622397936.py, line 1)",
     "output_type": "error",
     "traceback": [
      "\u001b[1;36m  File \u001b[1;32m\"C:\\Users\\DELL\\AppData\\Local\\Temp/ipykernel_10628/2622397936.py\"\u001b[1;36m, line \u001b[1;32m1\u001b[0m\n\u001b[1;33m    del my(5)\u001b[0m\n\u001b[1;37m        ^\u001b[0m\n\u001b[1;31mSyntaxError\u001b[0m\u001b[1;31m:\u001b[0m cannot delete function call\n"
     ]
    }
   ],
   "source": [
    "del my(5)  #5. indis olmadığından hata verir"
   ]
  },
  {
   "cell_type": "code",
   "execution_count": 107,
   "id": "31825c3e",
   "metadata": {},
   "outputs": [
    {
     "ename": "AttributeError",
     "evalue": "'frozenset' object has no attribute 'add'",
     "output_type": "error",
     "traceback": [
      "\u001b[1;31m---------------------------------------------------------------------------\u001b[0m",
      "\u001b[1;31mAttributeError\u001b[0m                            Traceback (most recent call last)",
      "\u001b[1;32m~\\AppData\\Local\\Temp/ipykernel_10628/292088635.py\u001b[0m in \u001b[0;36m<module>\u001b[1;34m\u001b[0m\n\u001b[0;32m      1\u001b[0m \u001b[0mb_my\u001b[0m\u001b[1;33m=\u001b[0m\u001b[0mfrozenset\u001b[0m\u001b[1;33m(\u001b[0m\u001b[0mmy\u001b[0m\u001b[1;33m)\u001b[0m   \u001b[1;31m#Freeze the list, and make it unchangeable:\u001b[0m\u001b[1;33m\u001b[0m\u001b[1;33m\u001b[0m\u001b[0m\n\u001b[0;32m      2\u001b[0m \u001b[0mb_my\u001b[0m\u001b[1;33m\u001b[0m\u001b[1;33m\u001b[0m\u001b[0m\n\u001b[1;32m----> 3\u001b[1;33m \u001b[0mb_my\u001b[0m\u001b[1;33m.\u001b[0m\u001b[0madd\u001b[0m\u001b[1;33m(\u001b[0m\u001b[1;36m6\u001b[0m\u001b[1;33m)\u001b[0m\u001b[1;33m\u001b[0m\u001b[1;33m\u001b[0m\u001b[0m\n\u001b[0m",
      "\u001b[1;31mAttributeError\u001b[0m: 'frozenset' object has no attribute 'add'"
     ]
    }
   ],
   "source": [
    "b_my=frozenset(my)   #Freeze the list, and make it unchangeable:\n",
    "b_my\n",
    "b_my.add(6)"
   ]
  },
  {
   "cell_type": "code",
   "execution_count": 109,
   "id": "e3de4a12",
   "metadata": {},
   "outputs": [
    {
     "data": {
      "text/plain": [
       "{'a': 'Ali', 'b': 'yyyyy', 'c': 'Gel', 'd': 'Hasan', 'f': 'grt'}"
      ]
     },
     "execution_count": 109,
     "metadata": {},
     "output_type": "execute_result"
    }
   ],
   "source": [
    "dicti={\n",
    "       'a':'Ali',\n",
    "       'b':1,\n",
    "       'c':'Gel'}\n",
    "dicti.update({'d':'Hasan'})\n",
    "dicti[\"f\"]=\"grt\"\n",
    "dicti[\"b\"]=\"yyyyy\"\n",
    "dicti"
   ]
  },
  {
   "cell_type": "code",
   "execution_count": 110,
   "id": "78f42214",
   "metadata": {},
   "outputs": [
    {
     "data": {
      "text/plain": [
       "'Ali'"
      ]
     },
     "execution_count": 110,
     "metadata": {},
     "output_type": "execute_result"
    }
   ],
   "source": [
    "dicti.get('a')"
   ]
  },
  {
   "cell_type": "code",
   "execution_count": 111,
   "id": "9e63b231",
   "metadata": {},
   "outputs": [
    {
     "name": "stdout",
     "output_type": "stream",
     "text": [
      "[False, False, True, False, False, True, False]\n",
      "[6, 27]\n"
     ]
    }
   ],
   "source": [
    "#Dizi elemanlarının seçiminde kllanılır.\n",
    "Liste=[1,5,6,8,25,27,80]\n",
    "print(list(map(lambda x:x%3==0,Liste)))\n",
    "print(list(filter(lambda x:x%3==0,Liste)))"
   ]
  },
  {
   "cell_type": "markdown",
   "id": "3dd31e97",
   "metadata": {},
   "source": [
    "# reduce"
   ]
  },
  {
   "cell_type": "code",
   "execution_count": 115,
   "id": "aac01131",
   "metadata": {},
   "outputs": [
    {
     "name": "stdout",
     "output_type": "stream",
     "text": [
      "20\n"
     ]
    }
   ],
   "source": [
    "#Dizi elemanlarının toplamı çarpımı gibi işlemleri yapar\n",
    "Liste=[1,5,6,8]\n",
    "from functools import reduce\n",
    "toplam=reduce(lambda x,y:x+y , Liste)\n",
    "print(toplam)"
   ]
  },
  {
   "cell_type": "markdown",
   "id": "247d3a04",
   "metadata": {},
   "source": [
    "# Random"
   ]
  },
  {
   "cell_type": "code",
   "execution_count": 116,
   "id": "22ad4bba",
   "metadata": {},
   "outputs": [],
   "source": [
    "import random"
   ]
  },
  {
   "cell_type": "code",
   "execution_count": 119,
   "id": "8fdb1271",
   "metadata": {},
   "outputs": [
    {
     "data": {
      "text/plain": [
       "0.902326339186072"
      ]
     },
     "execution_count": 119,
     "metadata": {},
     "output_type": "execute_result"
    }
   ],
   "source": [
    "random.random()"
   ]
  },
  {
   "cell_type": "code",
   "execution_count": 122,
   "id": "00952d6e",
   "metadata": {},
   "outputs": [
    {
     "data": {
      "text/plain": [
       "9.369843140390202"
      ]
     },
     "execution_count": 122,
     "metadata": {},
     "output_type": "execute_result"
    }
   ],
   "source": [
    "random.uniform(1,10)"
   ]
  },
  {
   "cell_type": "code",
   "execution_count": 123,
   "id": "2140eab4",
   "metadata": {},
   "outputs": [
    {
     "data": {
      "text/plain": [
       "8"
      ]
     },
     "execution_count": 123,
     "metadata": {},
     "output_type": "execute_result"
    }
   ],
   "source": [
    "random.randint(2,10)"
   ]
  },
  {
   "cell_type": "code",
   "execution_count": 126,
   "id": "a94ad2dd",
   "metadata": {},
   "outputs": [
    {
     "data": {
      "text/plain": [
       "2"
      ]
     },
     "execution_count": 126,
     "metadata": {},
     "output_type": "execute_result"
    }
   ],
   "source": [
    "\n",
    "random.choice(range(1,10))"
   ]
  },
  {
   "cell_type": "code",
   "execution_count": 127,
   "id": "5ad71d92",
   "metadata": {},
   "outputs": [
    {
     "data": {
      "text/plain": [
       "[5, 9, 1, 2, 6]"
      ]
     },
     "execution_count": 127,
     "metadata": {},
     "output_type": "execute_result"
    }
   ],
   "source": [
    "random.sample(range(1,10),k=5)  # rastgele 5 tane eleman seçildi k yazılmayabilir"
   ]
  },
  {
   "cell_type": "code",
   "execution_count": null,
   "id": "1027a2ed",
   "metadata": {},
   "outputs": [],
   "source": []
  },
  {
   "cell_type": "code",
   "execution_count": 129,
   "id": "a9a071db",
   "metadata": {},
   "outputs": [
    {
     "name": "stdout",
     "output_type": "stream",
     "text": [
      "[1, 2, 3, 4, 5, 6, 7, 8, 9]\n",
      "[9, 8, 6, 5, 2, 1, 3, 4, 7]\n"
     ]
    }
   ],
   "source": [
    "liste=[*range(1,10)]\n",
    "print(liste)\n",
    "random.shuffle(liste)   # Geriye None döndürür. \n",
    "print(liste)"
   ]
  },
  {
   "cell_type": "markdown",
   "id": "c5a18f90",
   "metadata": {},
   "source": [
    "# Math"
   ]
  },
  {
   "cell_type": "code",
   "execution_count": null,
   "id": "daff6e30",
   "metadata": {},
   "outputs": [],
   "source": [
    "import math"
   ]
  },
  {
   "cell_type": "code",
   "execution_count": 130,
   "id": "50a171db",
   "metadata": {},
   "outputs": [
    {
     "data": {
      "text/plain": [
       "3"
      ]
     },
     "execution_count": 130,
     "metadata": {},
     "output_type": "execute_result"
    }
   ],
   "source": [
    "math.ceil(2.1) #tavan"
   ]
  },
  {
   "cell_type": "code",
   "execution_count": 131,
   "id": "52c632e5",
   "metadata": {},
   "outputs": [
    {
     "data": {
      "text/plain": [
       "2"
      ]
     },
     "execution_count": 131,
     "metadata": {},
     "output_type": "execute_result"
    }
   ],
   "source": [
    "math.floor(2.9)  #taban"
   ]
  },
  {
   "cell_type": "code",
   "execution_count": null,
   "id": "c62f5e46",
   "metadata": {},
   "outputs": [],
   "source": [
    "round(3.5000)"
   ]
  },
  {
   "cell_type": "code",
   "execution_count": null,
   "id": "19a66618",
   "metadata": {},
   "outputs": [],
   "source": [
    "math.factorial(100)"
   ]
  },
  {
   "cell_type": "code",
   "execution_count": null,
   "id": "d98f38b6",
   "metadata": {},
   "outputs": [],
   "source": [
    "math.log(2.718281844)"
   ]
  },
  {
   "cell_type": "code",
   "execution_count": null,
   "id": "a18b40ab",
   "metadata": {},
   "outputs": [],
   "source": [
    "math.log10(100)"
   ]
  },
  {
   "cell_type": "code",
   "execution_count": 141,
   "id": "07309a44",
   "metadata": {},
   "outputs": [
    {
     "data": {
      "text/plain": [
       "True"
      ]
     },
     "execution_count": 141,
     "metadata": {},
     "output_type": "execute_result"
    }
   ],
   "source": [
    "math.isfinite(-100)"
   ]
  },
  {
   "cell_type": "code",
   "execution_count": null,
   "id": "5f8bcb30",
   "metadata": {},
   "outputs": [],
   "source": [
    "math.pow(3,2)"
   ]
  },
  {
   "cell_type": "code",
   "execution_count": null,
   "id": "d1a34924",
   "metadata": {},
   "outputs": [],
   "source": [
    "math.pi"
   ]
  },
  {
   "cell_type": "code",
   "execution_count": null,
   "id": "7d5a7dc8",
   "metadata": {},
   "outputs": [],
   "source": [
    "list=range(1,8)\n",
    "random.choices(list,k=4)"
   ]
  },
  {
   "cell_type": "code",
   "execution_count": 52,
   "id": "7ec75b36",
   "metadata": {},
   "outputs": [],
   "source": [
    "list1=random.sample(range(1,10),6)\n",
    "list2=random.sample(range(1,10),6)\n",
    "list3=random.sample(range(1,10),6)\n",
    "list4=random.sample(range(1,10),6)\n"
   ]
  },
  {
   "cell_type": "code",
   "execution_count": 53,
   "id": "6d87ebb8",
   "metadata": {},
   "outputs": [
    {
     "name": "stdout",
     "output_type": "stream",
     "text": [
      "[[4, 7, 1, 6, 3, 9], [6, 5, 4, 3, 9, 7], [4, 6, 2, 7, 5, 8], [5, 7, 9, 1, 2, 3]]\n",
      "[4, 7, 1, 6, 3, 9, 6, 5, 4, 3, 9, 7, 4, 6, 2, 7, 5, 8, 5, 7, 9, 1, 2, 3]\n"
     ]
    }
   ],
   "source": [
    "List_listesi=[list1,list2,list3,list4]\n",
    "List_toplam=list1+list2+list3+list4\n",
    "print(List_listesi)\n",
    "print(List_toplam)"
   ]
  },
  {
   "cell_type": "code",
   "execution_count": null,
   "id": "7f51ce26",
   "metadata": {},
   "outputs": [],
   "source": [
    "for index,liste in enumerate(List_listesi):\n",
    "    print(\"{}. liste \\t {} \".format(index+1,liste))\n",
    "Counter(List_toplam)"
   ]
  },
  {
   "cell_type": "code",
   "execution_count": 1,
   "id": "ab4f4f4d",
   "metadata": {},
   "outputs": [
    {
     "data": {
      "text/plain": [
       "Counter({'a': 1,\n",
       "         's': 2,\n",
       "         'd': 1,\n",
       "         ' ': 5,\n",
       "         'f': 17,\n",
       "         'j': 2,\n",
       "         'r': 5,\n",
       "         'n': 1,\n",
       "         'e': 2,\n",
       "         '4': 2,\n",
       "         '8': 1,\n",
       "         't': 1,\n",
       "         '9': 1,\n",
       "         '6': 1,\n",
       "         '0': 1,\n",
       "         'k': 2,\n",
       "         'q': 1,\n",
       "         'w': 1,\n",
       "         'ğ': 1,\n",
       "         'l': 1,\n",
       "         'ş': 1,\n",
       "         'p': 1,\n",
       "         'o': 1,\n",
       "         'v': 2,\n",
       "         'm': 1})"
      ]
     },
     "execution_count": 1,
     "metadata": {},
     "output_type": "execute_result"
    }
   ],
   "source": [
    "from collections import Counter\n",
    "Counter(\"assd ffffjrrfn fffre48t9640rkfk qweğlşpovmvf ff fffffrj\")"
   ]
  },
  {
   "cell_type": "code",
   "execution_count": 2,
   "id": "885039bb",
   "metadata": {},
   "outputs": [
    {
     "name": "stdout",
     "output_type": "stream",
     "text": [
      "Bir gün, bir gün, bir çocuk\n",
      "Eve de gelmiş kimse yok\n",
      "Açmış bakmış dolabı,\n",
      "Şeker de sanmış ilacı.\n",
      "Yemiş yemiş bitirmiş,\n",
      "Akşama sancı başlamış.\n",
      "Kıvrım kıvrım kıvranmış,\n",
      "Yaptığından utanmış\n",
      "Kıvrım kıvrım kıvranmış,\n",
      "Hastaneyi boylamış\n"
     ]
    }
   ],
   "source": [
    "sarki=\"\"\"Bir gün, bir gün, bir çocuk\n",
    "Eve de gelmiş kimse yok\n",
    "Açmış bakmış dolabı,\n",
    "Şeker de sanmış ilacı.\n",
    "Yemiş yemiş bitirmiş,\n",
    "Akşama sancı başlamış.\n",
    "Kıvrım kıvrım kıvranmış,\n",
    "Yaptığından utanmış\n",
    "Kıvrım kıvrım kıvranmış,\n",
    "Hastaneyi boylamış\"\"\"\n",
    "#satır sonuna \\n yazılınca birden fazla satır yazılabilir.\n",
    "print(sarki)"
   ]
  },
  {
   "cell_type": "code",
   "execution_count": 146,
   "id": "b0be5bcf",
   "metadata": {},
   "outputs": [
    {
     "data": {
      "text/plain": [
       "Counter({'B': 1,\n",
       "         'i': 12,\n",
       "         'r': 11,\n",
       "         ' ': 24,\n",
       "         'g': 3,\n",
       "         'ü': 2,\n",
       "         'n': 10,\n",
       "         ',': 6,\n",
       "         'b': 7,\n",
       "         'ç': 2,\n",
       "         'o': 4,\n",
       "         'c': 3,\n",
       "         'u': 2,\n",
       "         'k': 10,\n",
       "         '\\n': 9,\n",
       "         'E': 1,\n",
       "         'v': 7,\n",
       "         'e': 10,\n",
       "         'd': 4,\n",
       "         'l': 5,\n",
       "         'm': 18,\n",
       "         'ş': 14,\n",
       "         's': 4,\n",
       "         'y': 4,\n",
       "         'A': 2,\n",
       "         'ı': 23,\n",
       "         'a': 17,\n",
       "         'Ş': 1,\n",
       "         '.': 2,\n",
       "         'Y': 2,\n",
       "         't': 4,\n",
       "         'K': 2,\n",
       "         'p': 1,\n",
       "         'ğ': 1,\n",
       "         'H': 1})"
      ]
     },
     "execution_count": 146,
     "metadata": {},
     "output_type": "execute_result"
    }
   ],
   "source": [
    "Counter(sarki)"
   ]
  },
  {
   "cell_type": "code",
   "execution_count": 3,
   "id": "40c17e87",
   "metadata": {},
   "outputs": [
    {
     "data": {
      "text/plain": [
       "Counter({'bir': 3,\n",
       "         'gün,': 2,\n",
       "         'çocuk': 1,\n",
       "         'eve': 1,\n",
       "         'de': 2,\n",
       "         'gelmiş': 1,\n",
       "         'kimse': 1,\n",
       "         'yok': 1,\n",
       "         'açmış': 1,\n",
       "         'bakmış': 1,\n",
       "         'dolabı,': 1,\n",
       "         'şeker': 1,\n",
       "         'sanmış': 1,\n",
       "         'ilacı.': 1,\n",
       "         'yemiş': 2,\n",
       "         'bitirmiş,': 1,\n",
       "         'akşama': 1,\n",
       "         'sancı': 1,\n",
       "         'başlamış.': 1,\n",
       "         'kıvrım': 4,\n",
       "         'kıvranmış,': 2,\n",
       "         'yaptığından': 1,\n",
       "         'utanmış': 1,\n",
       "         'hastaneyi': 1,\n",
       "         'boylamış': 1})"
      ]
     },
     "execution_count": 3,
     "metadata": {},
     "output_type": "execute_result"
    }
   ],
   "source": [
    "Counter(sarki.lower().split())"
   ]
  },
  {
   "cell_type": "code",
   "execution_count": 151,
   "id": "5a7c0d3f",
   "metadata": {},
   "outputs": [
    {
     "data": {
      "text/plain": [
       "[('kıvrım', 4),\n",
       " ('bir', 3),\n",
       " ('gün,', 2),\n",
       " ('de', 2),\n",
       " ('yemiş', 2),\n",
       " ('kıvranmış,', 2),\n",
       " ('çocuk', 1),\n",
       " ('eve', 1),\n",
       " ('gelmiş', 1),\n",
       " ('kimse', 1),\n",
       " ('yok', 1),\n",
       " ('açmış', 1),\n",
       " ('bakmış', 1),\n",
       " ('dolabı,', 1),\n",
       " ('şeker', 1),\n",
       " ('sanmış', 1),\n",
       " ('ilacı.', 1),\n",
       " ('bitirmiş,', 1),\n",
       " ('akşama', 1),\n",
       " ('sancı', 1),\n",
       " ('başlamış.', 1),\n",
       " ('yaptığından', 1),\n",
       " ('utanmış', 1),\n",
       " ('hastaneyi', 1),\n",
       " ('boylamış', 1)]"
      ]
     },
     "execution_count": 151,
     "metadata": {},
     "output_type": "execute_result"
    }
   ],
   "source": [
    "Counter(sarki.lower().split()).most_common() #çoktan aza doğru bütününü sıralama"
   ]
  },
  {
   "cell_type": "code",
   "execution_count": 4,
   "id": "f1bd8ed6",
   "metadata": {},
   "outputs": [
    {
     "data": {
      "text/plain": [
       "[('kıvrım', 4), ('bir', 3)]"
      ]
     },
     "execution_count": 4,
     "metadata": {},
     "output_type": "execute_result"
    }
   ],
   "source": [
    "Counter(sarki.lower().split()).most_common(2) #En fazla tekrar edenlerin ilk ikisi"
   ]
  },
  {
   "cell_type": "markdown",
   "id": "b903181a",
   "metadata": {},
   "source": [
    "# Time, Datetime"
   ]
  },
  {
   "cell_type": "code",
   "execution_count": 153,
   "id": "6f29c3a9",
   "metadata": {},
   "outputs": [],
   "source": [
    "import datetime    #eğer from datetime import date yazılırsa datetime.date yerine date yazılır.\n",
    "from datetime import date"
   ]
  },
  {
   "cell_type": "code",
   "execution_count": 155,
   "id": "236a4929",
   "metadata": {},
   "outputs": [
    {
     "data": {
      "text/plain": [
       "datetime.date(2022, 1, 17)"
      ]
     },
     "execution_count": 155,
     "metadata": {},
     "output_type": "execute_result"
    }
   ],
   "source": [
    "bugun=date.today()\n",
    "bugun"
   ]
  },
  {
   "cell_type": "code",
   "execution_count": 86,
   "id": "732ccb5f",
   "metadata": {},
   "outputs": [
    {
     "data": {
      "text/plain": [
       "datetime.date(2021, 10, 10)"
      ]
     },
     "execution_count": 86,
     "metadata": {},
     "output_type": "execute_result"
    }
   ],
   "source": [
    "dn=date(2021,10,10)\n",
    "dn"
   ]
  },
  {
   "cell_type": "code",
   "execution_count": 109,
   "id": "d189d318",
   "metadata": {},
   "outputs": [
    {
     "data": {
      "text/plain": [
       "datetime.timedelta(days=95)"
      ]
     },
     "execution_count": 109,
     "metadata": {},
     "output_type": "execute_result"
    }
   ],
   "source": [
    "fark=bugun-dn\n",
    "fark"
   ]
  },
  {
   "cell_type": "code",
   "execution_count": 110,
   "id": "cef43d7d",
   "metadata": {},
   "outputs": [
    {
     "data": {
      "text/plain": [
       "95"
      ]
     },
     "execution_count": 110,
     "metadata": {},
     "output_type": "execute_result"
    }
   ],
   "source": [
    "fark.days"
   ]
  },
  {
   "cell_type": "code",
   "execution_count": 91,
   "id": "9e9359a3",
   "metadata": {},
   "outputs": [
    {
     "data": {
      "text/plain": [
       "2022"
      ]
     },
     "execution_count": 91,
     "metadata": {},
     "output_type": "execute_result"
    }
   ],
   "source": [
    "bugun.year"
   ]
  },
  {
   "cell_type": "code",
   "execution_count": 92,
   "id": "01e760cc",
   "metadata": {},
   "outputs": [
    {
     "data": {
      "text/plain": [
       "1"
      ]
     },
     "execution_count": 92,
     "metadata": {},
     "output_type": "execute_result"
    }
   ],
   "source": [
    "bugun.month"
   ]
  },
  {
   "cell_type": "code",
   "execution_count": 93,
   "id": "a1c621f6",
   "metadata": {},
   "outputs": [
    {
     "data": {
      "text/plain": [
       "13"
      ]
     },
     "execution_count": 93,
     "metadata": {},
     "output_type": "execute_result"
    }
   ],
   "source": [
    "bugun.day"
   ]
  },
  {
   "cell_type": "code",
   "execution_count": 156,
   "id": "c800165d",
   "metadata": {},
   "outputs": [
    {
     "data": {
      "text/plain": [
       "datetime.IsoCalendarDate(year=2022, week=3, weekday=1)"
      ]
     },
     "execution_count": 156,
     "metadata": {},
     "output_type": "execute_result"
    }
   ],
   "source": [
    "date.isocalendar(bugun)"
   ]
  },
  {
   "cell_type": "code",
   "execution_count": 157,
   "id": "579ff4f6",
   "metadata": {},
   "outputs": [
    {
     "data": {
      "text/plain": [
       "0"
      ]
     },
     "execution_count": 157,
     "metadata": {},
     "output_type": "execute_result"
    }
   ],
   "source": [
    "date.weekday(bugun) #0 pazartesi, 1 salı...6 pazar"
   ]
  },
  {
   "cell_type": "code",
   "execution_count": 97,
   "id": "7be60327",
   "metadata": {},
   "outputs": [
    {
     "data": {
      "text/plain": [
       "'Thu Jan 13 00:00:00 2022'"
      ]
     },
     "execution_count": 97,
     "metadata": {},
     "output_type": "execute_result"
    }
   ],
   "source": [
    "date.ctime(bugun)"
   ]
  },
  {
   "cell_type": "code",
   "execution_count": 99,
   "id": "27d23eb9",
   "metadata": {},
   "outputs": [],
   "source": [
    "from datetime import time"
   ]
  },
  {
   "cell_type": "code",
   "execution_count": 100,
   "id": "b344248a",
   "metadata": {},
   "outputs": [
    {
     "name": "stdout",
     "output_type": "stream",
     "text": [
      "23:40:10\n"
     ]
    }
   ],
   "source": [
    "zaman=time(23,40,10)\n",
    "print(zaman)"
   ]
  },
  {
   "cell_type": "code",
   "execution_count": 101,
   "id": "f0964242",
   "metadata": {},
   "outputs": [
    {
     "data": {
      "text/plain": [
       "10"
      ]
     },
     "execution_count": 101,
     "metadata": {},
     "output_type": "execute_result"
    }
   ],
   "source": [
    "zaman.second    #hour,minute"
   ]
  },
  {
   "cell_type": "code",
   "execution_count": 102,
   "id": "1a902f3e",
   "metadata": {},
   "outputs": [
    {
     "name": "stdout",
     "output_type": "stream",
     "text": [
      "2021-12-10 23:15:00\n"
     ]
    }
   ],
   "source": [
    "a=datetime.datetime(2021,12,10,23,15,0)\n",
    "print(a)"
   ]
  },
  {
   "cell_type": "code",
   "execution_count": 103,
   "id": "efe58813",
   "metadata": {},
   "outputs": [
    {
     "data": {
      "text/plain": [
       "10"
      ]
     },
     "execution_count": 103,
     "metadata": {},
     "output_type": "execute_result"
    }
   ],
   "source": [
    "a.day"
   ]
  },
  {
   "cell_type": "code",
   "execution_count": 106,
   "id": "587ca41c",
   "metadata": {},
   "outputs": [
    {
     "name": "stdout",
     "output_type": "stream",
     "text": [
      "10.009807825088501\n"
     ]
    }
   ],
   "source": [
    "import time   \n",
    "a=time.time()\n",
    "time.sleep(10)    #Komutlar çalıştırıldığında sleep komutuna gelince verilen süre kadar beklenir\n",
    "b=time.time()\n",
    "print(b-a)"
   ]
  }
 ],
 "metadata": {
  "kernelspec": {
   "display_name": "Python 3 (ipykernel)",
   "language": "python",
   "name": "python3"
  },
  "language_info": {
   "codemirror_mode": {
    "name": "ipython",
    "version": 3
   },
   "file_extension": ".py",
   "mimetype": "text/x-python",
   "name": "python",
   "nbconvert_exporter": "python",
   "pygments_lexer": "ipython3",
   "version": "3.9.12"
  },
  "widgets": {
   "application/vnd.jupyter.widget-state+json": {
    "state": {},
    "version_major": 2,
    "version_minor": 0
   }
  }
 },
 "nbformat": 4,
 "nbformat_minor": 5
}
