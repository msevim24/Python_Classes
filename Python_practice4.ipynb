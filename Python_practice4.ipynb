{
 "cells": [
  {
   "cell_type": "markdown",
   "id": "e003ca24",
   "metadata": {},
   "source": [
    "Python"
   ]
  },
  {
   "cell_type": "code",
   "execution_count": 4,
   "id": "ffa29c28",
   "metadata": {},
   "outputs": [
    {
     "name": "stdout",
     "output_type": "stream",
     "text": [
      "11\n"
     ]
    }
   ],
   "source": [
    "#Soru 1: listedeki ilk elemanı çekelim\n",
    "lst = [11, 78, 34, 555, 895]\n",
    "answer =lst[0]\n",
    "print(answer)"
   ]
  },
  {
   "cell_type": "code",
   "execution_count": 5,
   "id": "c9d06d53",
   "metadata": {},
   "outputs": [
    {
     "name": "stdout",
     "output_type": "stream",
     "text": [
      "895\n"
     ]
    }
   ],
   "source": [
    "# Soru 2: Listenin son öğesini answer değişkeni aracılığıyla yazdırın.\n",
    "lst = [11, 78, 34, 555, 895]\n",
    "answer =lst[-1]\n",
    "print(answer)"
   ]
  },
  {
   "cell_type": "code",
   "execution_count": 8,
   "id": "38c43789",
   "metadata": {},
   "outputs": [
    {
     "data": {
      "text/plain": [
       "['passat', 'peugeot', 'volswagen', 'hyundai', 'skoda']"
      ]
     },
     "execution_count": 8,
     "metadata": {},
     "output_type": "execute_result"
    }
   ],
   "source": [
    "# Soru 3:\"skoda\" stringini .append() yöntemiyle listeye ekleyin.\n",
    "carList = ['passat', 'peugeot', 'volswagen', 'hyundai']\n",
    "carList.append(\"skoda\")     #append listede sona ekler\n",
    "print(carList)"
   ]
  },
  {
   "cell_type": "code",
   "execution_count": 13,
   "id": "c2418d6c",
   "metadata": {},
   "outputs": [
    {
     "name": "stdout",
     "output_type": "stream",
     "text": [
      "['passat', 'peugeot', 'volswagen', 'hyundai', ['bmw', 'mazda', 'lamborghini']]\n"
     ]
    }
   ],
   "source": [
    "# Soru 3:['bmw','mazda','lamborghini' ] .append() yöntemiyle listeye ekleyin.\n",
    "carList = ['passat', 'peugeot', 'volswagen', 'hyundai']\n",
    "carList.append(['bmw','mazda','lamborghini' ])\n",
    "print(carList)"
   ]
  },
  {
   "cell_type": "code",
   "execution_count": 22,
   "id": "e4b65b96",
   "metadata": {},
   "outputs": [
    {
     "data": {
      "text/plain": [
       "['passat', 'peugeot', 'volswagen', 'hyundai', 'bmw', 'mazda', 'lamborghini']"
      ]
     },
     "execution_count": 22,
     "metadata": {},
     "output_type": "execute_result"
    }
   ],
   "source": [
    "# Soru 4 ['bmw','mazda','lamborghini' ] listedeki elemanları ayrı ayrı carList'e ekleyelim\n",
    "carList = ['passat', 'peugeot', 'volswagen', 'hyundai']\n",
    "carList.extend(['bmw','mazda','lamborghini'])   #elemanları tek tek eklemek için extend\n",
    "carList"
   ]
  },
  {
   "cell_type": "code",
   "execution_count": 33,
   "id": "c1cfe65b",
   "metadata": {
    "scrolled": true
   },
   "outputs": [],
   "source": [
    "carList = ['passat', 'peugeot', 'volswagen', 'hyundai']\n",
    "for i in ['bmw','mazda','lamborghini' ]:\n",
    "    carList. append(i)"
   ]
  },
  {
   "cell_type": "code",
   "execution_count": 34,
   "id": "13181ab6",
   "metadata": {},
   "outputs": [
    {
     "data": {
      "text/plain": [
       "['passat', 'peugeot', 'volswagen', 'hyundai', 'bmw', 'mazda', 'lamborghini']"
      ]
     },
     "execution_count": 34,
     "metadata": {},
     "output_type": "execute_result"
    }
   ],
   "source": [
    "carList"
   ]
  },
  {
   "cell_type": "code",
   "execution_count": 31,
   "id": "f2ef1265",
   "metadata": {},
   "outputs": [
    {
     "data": {
      "text/plain": [
       "['passat', 'peugeot', 'ferrari', 'volswagen', 'hyundai']"
      ]
     },
     "execution_count": 31,
     "metadata": {},
     "output_type": "execute_result"
    }
   ],
   "source": [
    "# Soru 5: \"ferrari\"yi, gift_list'in 3. dizinine ekleyelim.\n",
    "carList = ['passat', 'peugeot', 'volswagen', 'hyundai']\n",
    "carList.insert(2, \"ferrari\")\n",
    "carList"
   ]
  },
  {
   "cell_type": "code",
   "execution_count": 36,
   "id": "930ba910",
   "metadata": {},
   "outputs": [
    {
     "data": {
      "text/plain": [
       "5"
      ]
     },
     "execution_count": 36,
     "metadata": {},
     "output_type": "execute_result"
    }
   ],
   "source": [
    "# Soru 6: .count() yöntemini kullanarak listede kaç kez 4 olduğunu sayın.\n",
    "lst = [14 , 4 , 125 , 44 , 77, 774, 4, 29, 76, 4, 1, 64, 2, 4, 4]\n",
    "answer = lst.count(4)\n",
    "answer"
   ]
  },
  {
   "cell_type": "code",
   "execution_count": 38,
   "id": "64d02332",
   "metadata": {
    "scrolled": true
   },
   "outputs": [
    {
     "name": "stdout",
     "output_type": "stream",
     "text": [
      "10\n"
     ]
    }
   ],
   "source": [
    "# tüm 4 karakterlerini buluyoruz\n",
    "lst = [14 , 4 , 125 , 44 , 77, 774, 4, 29, 76, 4, 1, 64, 2, 4, 4]\n",
    "count=0\n",
    "for i in lst:\n",
    "    for j in str(i):\n",
    "        if j==\"4\":\n",
    "            count+=1\n",
    "print(count)"
   ]
  },
  {
   "cell_type": "code",
   "execution_count": 46,
   "id": "788023c5",
   "metadata": {},
   "outputs": [
    {
     "data": {
      "text/plain": [
       "1222"
      ]
     },
     "execution_count": 46,
     "metadata": {},
     "output_type": "execute_result"
    }
   ],
   "source": [
    "# Soru 7: Listedeki tüm sayıların toplamı kaçtır?\n",
    "lst = [14 , 4 , 125 , 44, 77, 774, 4, 29, 76, 4, 1, 64, 2, 4]\n",
    "answer = sum(lst)\n",
    "answer"
   ]
  },
  {
   "cell_type": "code",
   "execution_count": 47,
   "id": "71b7a0b1",
   "metadata": {
    "scrolled": true
   },
   "outputs": [
    {
     "data": {
      "text/plain": [
       "1"
      ]
     },
     "execution_count": 47,
     "metadata": {},
     "output_type": "execute_result"
    }
   ],
   "source": [
    "# Soru 8: Listedeki minimum değer nedir?\n",
    "lst = [14 , 4 , 125 , 44 ,77, 774, 4, 29, 76, 4, 1, 64, 2, 4]\n",
    "answer = min(lst)\n",
    "answer"
   ]
  },
  {
   "cell_type": "code",
   "execution_count": 50,
   "id": "9c11b47a",
   "metadata": {},
   "outputs": [
    {
     "data": {
      "text/plain": [
       "774"
      ]
     },
     "execution_count": 50,
     "metadata": {},
     "output_type": "execute_result"
    }
   ],
   "source": [
    "# Soru 9: Listedeki maksimum değer nedir?\n",
    "lst = [14 , 4 , 125 , 44, 77, 774, 4, 29, 76, 4, 1, 64, 2, 4]\n",
    "answer =max(lst)\n",
    "answer"
   ]
  },
  {
   "cell_type": "code",
   "execution_count": 55,
   "id": "11a4bb5b",
   "metadata": {},
   "outputs": [
    {
     "data": {
      "text/plain": [
       "91"
      ]
     },
     "execution_count": 55,
     "metadata": {},
     "output_type": "execute_result"
    }
   ],
   "source": [
    "# Soru 10: Tuple'ın ilk öğesini answer öğesine atayın\n",
    "tt = (91, 111, 56, 71, 885, 47)\n",
    "answer =tt[0]     #Tuple değiştirilemez, liste değiştirilebilir.\n",
    "answer"
   ]
  },
  {
   "cell_type": "code",
   "execution_count": 57,
   "id": "410a706b",
   "metadata": {},
   "outputs": [
    {
     "name": "stdout",
     "output_type": "stream",
     "text": [
      "2\n"
     ]
    }
   ],
   "source": [
    "# Soru 11: 777 kaç kez oluşur?\n",
    "tt = (55, 6, 777, 54, 6, 76, 7777, 1, 777, 2, 6)\n",
    "answer = tt.count(777)\n",
    "print(answer)"
   ]
  },
  {
   "cell_type": "code",
   "execution_count": 58,
   "id": "796c2345",
   "metadata": {},
   "outputs": [
    {
     "name": "stdout",
     "output_type": "stream",
     "text": [
      "1306\n"
     ]
    }
   ],
   "source": [
    "# Soru 12 Tuple'daki tüm sayıların toplamı nedir?\n",
    "tt = (42, 1092, 11, 88, 65, 2, 6)\n",
    "answer = sum(tt)\n",
    "print(answer)"
   ]
  },
  {
   "cell_type": "code",
   "execution_count": 60,
   "id": "c32b169a",
   "metadata": {},
   "outputs": [
    {
     "data": {
      "text/plain": [
       "{'name': 'Emincan',\n",
       " 'location': 'Rize',\n",
       " 'born': 1996,\n",
       " 'job': 'data scientist',\n",
       " 'experience': 3}"
      ]
     },
     "execution_count": 60,
     "metadata": {},
     "output_type": "execute_result"
    }
   ],
   "source": [
    "# Soru 13 Sözlük içinden 'job' key'inin valuesini değiştirerek 'data scientist' yapalım -- --KEY ve VALUE\n",
    "dict1 = {\"name\": \"Emincan\", \"location\": \"Rize\", \"born\": 1996, \"job\": \"teacher\", \"experience\" : 3}\n",
    "dict1[\"job\"]=\"data scientist\"\n",
    "dict1"
   ]
  },
  {
   "cell_type": "code",
   "execution_count": 63,
   "id": "538e18fe",
   "metadata": {},
   "outputs": [
    {
     "data": {
      "text/plain": [
       "8"
      ]
     },
     "execution_count": 63,
     "metadata": {},
     "output_type": "execute_result"
    }
   ],
   "source": [
    "# Soru 15 len() işlevini kullanarak listede kaç öğe olduğunu öğrenin.\n",
    "lst = [11, 6 ,92, 10, 12, 101, 1000, 999]\n",
    "len(lst)\n"
   ]
  },
  {
   "cell_type": "code",
   "execution_count": 64,
   "id": "fd169d85",
   "metadata": {},
   "outputs": [
    {
     "data": {
      "text/plain": [
       "40"
      ]
     },
     "execution_count": 64,
     "metadata": {},
     "output_type": "execute_result"
    }
   ],
   "source": [
    "# Soru 16 Find out the length of the string given below.\n",
    "msg = \"Be patient, you will be a data scientist\"\n",
    "len(msg)"
   ]
  },
  {
   "cell_type": "code",
   "execution_count": 65,
   "id": "0d35fca3",
   "metadata": {},
   "outputs": [
    {
     "name": "stdout",
     "output_type": "stream",
     "text": [
      "5\n"
     ]
    }
   ],
   "source": [
    "# Soru 17 Find out the length of the string given below.\n",
    "dict = {\"Real Madrid\": 13,\"AC Milan\": 7,\"Bayern Munich\":5 ,\"Barcelona\": 5, \"Liverpool\": 5}\n",
    "answer = len(dict)\n",
    "print(answer)"
   ]
  },
  {
   "cell_type": "code",
   "execution_count": 69,
   "id": "a44440a2",
   "metadata": {},
   "outputs": [
    {
     "name": "stdout",
     "output_type": "stream",
     "text": [
      "[22, 41, 59, 120, 875, 1092]\n"
     ]
    }
   ],
   "source": [
    "# Soru 18 Sort the list in ascending order with .sort() method.\n",
    "lst = [1092, 120, 59, 22, 875, 41]\n",
    "lst.sort()\n",
    "print(lst)"
   ]
  },
  {
   "cell_type": "code",
   "execution_count": 70,
   "id": "785fc6c8",
   "metadata": {},
   "outputs": [
    {
     "name": "stdout",
     "output_type": "stream",
     "text": [
      "[1092, 875, 120, 59, 41, 22]\n"
     ]
    }
   ],
   "source": [
    "lst.sort(reverse=True)\n",
    "print(lst)"
   ]
  },
  {
   "cell_type": "code",
   "execution_count": 71,
   "id": "7acf9f50",
   "metadata": {},
   "outputs": [
    {
     "name": "stdout",
     "output_type": "stream",
     "text": [
      "['Ankara', 'Balıkesir', 'Diyarbakır', 'Edirne', 'Rize', 'Zonguldak', 'İzmir']\n"
     ]
    }
   ],
   "source": [
    "# Soru 19 This time sort the countries in alphabetic order.\n",
    "lst = [\"Rize\", \"Edirne\", \"Zonguldak\", \"İzmir\", \"Ankara\", \"Diyarbakır\", \"Balıkesir\"]\n",
    "lst.sort()\n",
    "print(lst)"
   ]
  },
  {
   "cell_type": "code",
   "execution_count": 72,
   "id": "4879f094",
   "metadata": {},
   "outputs": [
    {
     "name": "stdout",
     "output_type": "stream",
     "text": [
      "['İzmir', 'Zonguldak', 'Rize', 'Edirne', 'Diyarbakır', 'Balıkesir', 'Ankara']\n"
     ]
    }
   ],
   "source": [
    "# Soru 19 This time sort the countries in alphabetic order.\n",
    "lst = [\"Rize\", \"Edirne\", \"Zonguldak\", \"İzmir\", \"Ankara\", \"Diyarbakır\", \"Balıkesir\"]\n",
    "lst.sort(reverse=True)\n",
    "print(lst)"
   ]
  },
  {
   "cell_type": "code",
   "execution_count": 74,
   "id": "b3fad136",
   "metadata": {},
   "outputs": [
    {
     "name": "stdout",
     "output_type": "stream",
     "text": [
      "[11, 47, 100, 99, 1000]\n"
     ]
    }
   ],
   "source": [
    "# Soru 22 Pop metodunu kullanarak listenin son item'ını silelim.\n",
    "lst = [11, 47 , 100, 99, 1000, 999]\n",
    "lst.pop()\n",
    "print(lst)"
   ]
  },
  {
   "cell_type": "code",
   "execution_count": 75,
   "id": "86b2a140",
   "metadata": {},
   "outputs": [
    {
     "name": "stdout",
     "output_type": "stream",
     "text": [
      "999\n"
     ]
    }
   ],
   "source": [
    "lst = [11, 47 , 100, 99, 1000, 999]\n",
    "x=lst.pop()   \n",
    "print(x)   #silinen elemanı başka bir değişkene atarsak silineni de yazdırabiliriz"
   ]
  },
  {
   "cell_type": "code",
   "execution_count": 76,
   "id": "e0f21ff8",
   "metadata": {},
   "outputs": [
    {
     "name": "stdout",
     "output_type": "stream",
     "text": [
      "[11, 100, 99, 1000, 999]\n"
     ]
    }
   ],
   "source": [
    "# Soru 23 Pop metodunu kullanarak listenin 47 yazan item ını silelim.\n",
    "lst = [11, 47 , 100, 99, 1000, 999]\n",
    "lst.pop(1)\n",
    "print(lst)"
   ]
  },
  {
   "cell_type": "code",
   "execution_count": 79,
   "id": "c8aa0c33",
   "metadata": {},
   "outputs": [
    {
     "name": "stdout",
     "output_type": "stream",
     "text": [
      "['milk', 'eggs', 'bread', 'broccoli', 'lemons']\n"
     ]
    }
   ],
   "source": [
    "# Soru 24 Pop ve Remove metodlarını kullanarak listenin içindeki \"banana\" yazan item'ını silelim.\n",
    "lst = [\"milk\", \"banana\", \"eggs\", \"bread\", \"broccoli\", \"lemons\"]\n",
    "\n",
    "lst.remove(\"banana\")   #değeri ilk gördüğü yerde siliyor.\n",
    "print(lst)"
   ]
  },
  {
   "cell_type": "code",
   "execution_count": 80,
   "id": "0c36ed5f",
   "metadata": {},
   "outputs": [
    {
     "name": "stdout",
     "output_type": "stream",
     "text": [
      "['milk', 'eggs', 'bread', 'broccoli', 'lemons']\n"
     ]
    }
   ],
   "source": [
    "lst = [\"milk\", \"banana\", \"eggs\", \"bread\", \"broccoli\", \"lemons\"]\n",
    "lst.pop(1)\n",
    "print(lst)"
   ]
  },
  {
   "cell_type": "code",
   "execution_count": 81,
   "id": "104c9ee8",
   "metadata": {},
   "outputs": [
    {
     "data": {
      "text/plain": [
       "'rize'"
      ]
     },
     "execution_count": 81,
     "metadata": {},
     "output_type": "execute_result"
    }
   ],
   "source": [
    "# Soru 25: Slice the word until first \"s\". (rize)\n",
    "wrd = \"rizespor\"\n",
    "ans = wrd[0:4] # or wrd[:4]\n",
    "ans"
   ]
  },
  {
   "cell_type": "code",
   "execution_count": 82,
   "id": "01d10ea3",
   "metadata": {},
   "outputs": [
    {
     "data": {
      "text/plain": [
       "'spor'"
      ]
     },
     "execution_count": 82,
     "metadata": {},
     "output_type": "execute_result"
    }
   ],
   "source": [
    "# Soru 26 Slice the word so that you get \"spor\".\n",
    "wrd = \"rizespor\"\n",
    "ans =wrd[4:]\n",
    "ans"
   ]
  },
  {
   "cell_type": "code",
   "execution_count": 83,
   "id": "10816fa0",
   "metadata": {},
   "outputs": [
    {
     "data": {
      "text/plain": [
       "'rzso'"
      ]
     },
     "execution_count": 83,
     "metadata": {},
     "output_type": "execute_result"
    }
   ],
   "source": [
    "# Soru 27 Can you slice the word from beginning to the end with steps of 2 (including the last character.)?\n",
    "wrd = \"rizespor\"\n",
    "ans =wrd[::2]\n",
    "ans"
   ]
  },
  {
   "cell_type": "code",
   "execution_count": 84,
   "id": "20ec8b26",
   "metadata": {},
   "outputs": [
    {
     "data": {
      "text/plain": [
       "[4, 3, 2, 1, 0]"
      ]
     },
     "execution_count": 84,
     "metadata": {},
     "output_type": "execute_result"
    }
   ],
   "source": [
    "# Soru 28 Can you slice the list so that it's reversed without using the .reverse() method ?\n",
    "lst = [0,1,2,3,4]\n",
    "lst[::-1]  # -1 listeyi tersten sıralar\n",
    "\n",
    "#lst.reverse() ile de yapılabilirdi "
   ]
  },
  {
   "cell_type": "code",
   "execution_count": 88,
   "id": "c3578768",
   "metadata": {},
   "outputs": [
    {
     "data": {
      "text/plain": [
       "[3, 4]"
      ]
     },
     "execution_count": 88,
     "metadata": {},
     "output_type": "execute_result"
    }
   ],
   "source": [
    "# Soru 29 Slice the list so that only last 2 elements are included.\n",
    "lst = [0,1,2,3,4]\n",
    "lst[-2:]"
   ]
  },
  {
   "cell_type": "code",
   "execution_count": 91,
   "id": "fb8f98bd",
   "metadata": {},
   "outputs": [
    {
     "data": {
      "text/plain": [
       "[50, 20]"
      ]
     },
     "execution_count": 91,
     "metadata": {},
     "output_type": "execute_result"
    }
   ],
   "source": [
    "# Soru 30 Slice the second and third elements (50 and 20) in the list.\n",
    "lst = [40,50,20,30,90]\n",
    "ans = lst[1:3]\n",
    "ans"
   ]
  },
  {
   "cell_type": "code",
   "execution_count": 98,
   "id": "589da91e",
   "metadata": {},
   "outputs": [
    {
     "name": "stdout",
     "output_type": "stream",
     "text": [
      "25\n"
     ]
    }
   ],
   "source": [
    "def karesiniAl(sayı):  #fonksiyon içerisinde print edilebilir ya da içeride return edilip dışarıda print edilebilir.\n",
    "    print(sayı**2)\n",
    "karesiniAl(5)"
   ]
  },
  {
   "cell_type": "code",
   "execution_count": 99,
   "id": "d4b61c6a",
   "metadata": {},
   "outputs": [
    {
     "name": "stdout",
     "output_type": "stream",
     "text": [
      "25\n"
     ]
    }
   ],
   "source": [
    "def karesiniAl(sayı):  \n",
    "    return sayı**2\n",
    "print(karesiniAl(5))"
   ]
  },
  {
   "cell_type": "code",
   "execution_count": 117,
   "id": "2cd9621e",
   "metadata": {},
   "outputs": [],
   "source": [
    "# 1) Bir fonksiyon yazalım. Fonksiyon için kullanıcan bir int sayı girdisi alalım. \n",
    "#Alınan sayı 20'den büyükse ekrana \"Girdiğiniz sayı 20'den büyüktür\" yazsın, \n",
    "#küçükse \"Girdiğiniz sayı 20'den küçüktür\" yazsın , eşitse \"Girdiğiniz sayı 20'ye eşittir\" yazsın.\n",
    "\n",
    "def kıyas(sayı):\n",
    "    if sayı>20:\n",
    "          print(\"Girdiğiniz sayı 20'den büyüktür\")\n",
    "    elif sayı==20:\n",
    "          print(\"Girdiğiniz sayı 20'ye eşittir\")\n",
    "    else:\n",
    "        print(\"Girdiğiniz sayı 20'den küçüktür\")"
   ]
  },
  {
   "cell_type": "code",
   "execution_count": 119,
   "id": "129d2620",
   "metadata": {},
   "outputs": [
    {
     "name": "stdout",
     "output_type": "stream",
     "text": [
      "Girdiğiniz sayı 20'den büyüktür\n"
     ]
    }
   ],
   "source": [
    "kıyas(21)"
   ]
  }
 ],
 "metadata": {
  "kernelspec": {
   "display_name": "Python 3 (ipykernel)",
   "language": "python",
   "name": "python3"
  },
  "language_info": {
   "codemirror_mode": {
    "name": "ipython",
    "version": 3
   },
   "file_extension": ".py",
   "mimetype": "text/x-python",
   "name": "python",
   "nbconvert_exporter": "python",
   "pygments_lexer": "ipython3",
   "version": "3.9.7"
  }
 },
 "nbformat": 4,
 "nbformat_minor": 5
}
