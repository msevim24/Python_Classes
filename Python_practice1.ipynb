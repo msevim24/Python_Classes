{
 "cells": [
  {
   "cell_type": "markdown",
   "id": "158a261f",
   "metadata": {},
   "source": [
    "Python functions"
   ]
  },
  {
   "cell_type": "code",
   "execution_count": 2,
   "id": "d73dd70e",
   "metadata": {},
   "outputs": [],
   "source": [
    "def kare(a):  #bir sayının karesini alan bir fonksiyon\n",
    "    b=a**2\n",
    "    print(b)"
   ]
  },
  {
   "cell_type": "code",
   "execution_count": 15,
   "id": "9f11e5db",
   "metadata": {},
   "outputs": [
    {
     "name": "stdout",
     "output_type": "stream",
     "text": [
      "25\n"
     ]
    }
   ],
   "source": [
    "kare(5)   # bu durumda b'yi yazdırmaz ancak bizim fonskiyona sayı girmemiz gerekir."
   ]
  },
  {
   "cell_type": "code",
   "execution_count": 16,
   "id": "e1ff2a16",
   "metadata": {},
   "outputs": [],
   "source": [
    "# b tek başına yazdırılmaya çalışınca hata verir. Bu yüzden onu global b olarak tanıtmamız gerekir.\n",
    "def kare(a):  \n",
    "    global b\n",
    "    b=a**2\n",
    "    print(b)"
   ]
  },
  {
   "cell_type": "code",
   "execution_count": 17,
   "id": "68740630",
   "metadata": {
    "scrolled": true
   },
   "outputs": [
    {
     "data": {
      "text/plain": [
       "25"
      ]
     },
     "execution_count": 17,
     "metadata": {},
     "output_type": "execute_result"
    }
   ],
   "source": [
    "b"
   ]
  },
  {
   "cell_type": "code",
   "execution_count": 18,
   "id": "008c29e2",
   "metadata": {},
   "outputs": [],
   "source": [
    "def selam():\n",
    "    print(\"merhaba\")\n",
    "    "
   ]
  },
  {
   "cell_type": "code",
   "execution_count": 19,
   "id": "208d2237",
   "metadata": {
    "scrolled": true
   },
   "outputs": [
    {
     "name": "stdout",
     "output_type": "stream",
     "text": [
      "merhaba\n"
     ]
    }
   ],
   "source": [
    "selam()"
   ]
  },
  {
   "cell_type": "code",
   "execution_count": 22,
   "id": "5292bce9",
   "metadata": {},
   "outputs": [],
   "source": [
    "def selam(a):     # döndürmek için return de yazabiliriz.\n",
    "    print(\"merhaba\")\n",
    "    b=a**2\n",
    "    return(b) "
   ]
  },
  {
   "cell_type": "code",
   "execution_count": 23,
   "id": "4a49a290",
   "metadata": {
    "scrolled": true
   },
   "outputs": [
    {
     "name": "stdout",
     "output_type": "stream",
     "text": [
      "merhaba\n"
     ]
    },
    {
     "data": {
      "text/plain": [
       "25"
      ]
     },
     "execution_count": 23,
     "metadata": {},
     "output_type": "execute_result"
    }
   ],
   "source": [
    "selam(5)"
   ]
  },
  {
   "cell_type": "code",
   "execution_count": 26,
   "id": "2a86d9f0",
   "metadata": {},
   "outputs": [
    {
     "name": "stdout",
     "output_type": "stream",
     "text": [
      "25\n"
     ]
    }
   ],
   "source": [
    "say=kare(5)  # Başka bir değişkene atarsak printi getirmez ancak returne yazdığımızı getirir. \n",
    "            # Burada sayı geldi merhaba gelmedi"
   ]
  },
  {
   "cell_type": "code",
   "execution_count": 20,
   "id": "2bfaa2ab",
   "metadata": {},
   "outputs": [
    {
     "name": "stdout",
     "output_type": "stream",
     "text": [
      "I am from Norway\n"
     ]
    }
   ],
   "source": [
    "def my_function(country = \"Norway\"):\n",
    "    print(\"I am from \" + country)\n",
    "my_function()"
   ]
  },
  {
   "cell_type": "code",
   "execution_count": 21,
   "id": "6327806f",
   "metadata": {},
   "outputs": [
    {
     "name": "stdout",
     "output_type": "stream",
     "text": [
      "I am from Turkey\n"
     ]
    }
   ],
   "source": [
    "def my_function(country = \"Norway\"):   #aşağıda değeri değiştirirsek onu yazar.\n",
    "    print(\"I am from \" + country)\n",
    "my_function(\"Turkey\")"
   ]
  },
  {
   "cell_type": "code",
   "execution_count": 27,
   "id": "24153da8",
   "metadata": {},
   "outputs": [],
   "source": [
    "import random\n",
    "from random import randint, choice"
   ]
  },
  {
   "cell_type": "code",
   "execution_count": 28,
   "id": "0a4d852f",
   "metadata": {},
   "outputs": [],
   "source": [
    "character=\"a13467876+%&/=\""
   ]
  },
  {
   "cell_type": "code",
   "execution_count": 29,
   "id": "1886fa4f",
   "metadata": {},
   "outputs": [],
   "source": [
    "password=\"\"    #içi boş olan bir passwort\n",
    "for i in range(8):\n",
    "    password += random.choice(character)   \n",
    "# yukarıdaki character içinden 8 tanesiyle random şifre oluşturan bir for döngüsü"
   ]
  },
  {
   "cell_type": "code",
   "execution_count": 30,
   "id": "ae74d6d9",
   "metadata": {},
   "outputs": [
    {
     "data": {
      "text/plain": [
       "'37+3%6=/'"
      ]
     },
     "execution_count": 30,
     "metadata": {},
     "output_type": "execute_result"
    }
   ],
   "source": [
    "password   # yukarıya da print(password) yazabilirdik."
   ]
  },
  {
   "cell_type": "code",
   "execution_count": 31,
   "id": "650bf2da",
   "metadata": {},
   "outputs": [
    {
     "data": {
      "text/plain": [
       "'&71+36=4'"
      ]
     },
     "execution_count": 31,
     "metadata": {},
     "output_type": "execute_result"
    }
   ],
   "source": [
    "(\"\").join(random.sample(character, k=8))   # bu şekilde de tanımlanan character'den random bir çıktı alabiliriz."
   ]
  },
  {
   "cell_type": "code",
   "execution_count": 33,
   "id": "725a4153",
   "metadata": {},
   "outputs": [
    {
     "data": {
      "text/plain": [
       "'= 7 a 3 7 6 8 /'"
      ]
     },
     "execution_count": 33,
     "metadata": {},
     "output_type": "execute_result"
    }
   ],
   "source": [
    "(\" \").join(random.sample(character, k=8)) # boşluk ile de yazdırabilirdik"
   ]
  },
  {
   "cell_type": "code",
   "execution_count": 32,
   "id": "8f7a131e",
   "metadata": {},
   "outputs": [
    {
     "data": {
      "text/plain": [
       "'8+467%38136%6'"
      ]
     },
     "execution_count": 32,
     "metadata": {},
     "output_type": "execute_result"
    }
   ],
   "source": [
    "character=\"a13467876+%&/=\"\n",
    "password=\"\"\n",
    "for index in range(randint(3,15)):       # 3 ile 15 arası random değer atıyor\n",
    "    password += choice(character)   \n",
    "password"
   ]
  },
  {
   "cell_type": "code",
   "execution_count": 35,
   "id": "af7a8fe2",
   "metadata": {},
   "outputs": [
    {
     "name": "stdout",
     "output_type": "stream",
     "text": [
      "[2000, 1996, 1992, 1988, 1984, 1980, 1976, 1972, 1968, 1964, 1960, 1956, 1952, 1948, 1944, 1940, 1936, 1932, 1928, 1924, 1920, 1916, 1912, 1908, 1904]\n"
     ]
    }
   ],
   "source": [
    "yil=[]\n",
    "for i in range(2000, 1900, -1): # öne büyük sayı arkaya küçük sayı yazarsak sona azalt anlamında -1 yazıyoruz.\n",
    "    if i%4==0:      # 4'e bölünen sayılar\n",
    "        yil.append(i)   # append ile listeye ekliyor.\n",
    "print(yil)"
   ]
  },
  {
   "cell_type": "code",
   "execution_count": 36,
   "id": "e6b91027",
   "metadata": {},
   "outputs": [],
   "source": [
    "p=\"neden\"\n",
    "k=\"yatak\"\n",
    "ters=k[::-1]  #tersten yazdırıyor"
   ]
  },
  {
   "cell_type": "code",
   "execution_count": 37,
   "id": "766ec392",
   "metadata": {},
   "outputs": [
    {
     "data": {
      "text/plain": [
       "'katay'"
      ]
     },
     "execution_count": 37,
     "metadata": {},
     "output_type": "execute_result"
    }
   ],
   "source": [
    "ters"
   ]
  },
  {
   "cell_type": "code",
   "execution_count": 38,
   "id": "c7f986e7",
   "metadata": {},
   "outputs": [
    {
     "data": {
      "text/plain": [
       "[1, 2, 3, 'a', 'b', 'c']"
      ]
     },
     "execution_count": 38,
     "metadata": {},
     "output_type": "execute_result"
    }
   ],
   "source": [
    "mylist =[1,2,3]\n",
    "mystr=[\"a\", \"b\", \"c\"]\n",
    "t=mylist+mystr\n",
    "t"
   ]
  },
  {
   "cell_type": "code",
   "execution_count": 39,
   "id": "cbd9e5e7",
   "metadata": {},
   "outputs": [
    {
     "name": "stdout",
     "output_type": "stream",
     "text": [
      "[1, 4, 9, 16, 25, 36] [1, 4, 9, 16, 25, 36]\n"
     ]
    }
   ],
   "source": [
    "nmbers=[1,2,3,4,5,6]    # burada range ile liste örtüştüğü için iki türlü de for döngüsüyle yazdırabiliriz.\n",
    "sayi1=[nmber**2 for nmber in nmbers]\n",
    "sayi2=[nmber**2 for nmber in range(1,7)]\n",
    "print(sayi1, sayi2)"
   ]
  },
  {
   "cell_type": "code",
   "execution_count": 40,
   "id": "4ac9692e",
   "metadata": {},
   "outputs": [
    {
     "name": "stdout",
     "output_type": "stream",
     "text": [
      "[6, 12, 18, 24, 30, 36, 42, 48, 54, 60, 66, 72, 78, 84, 90, 96]\n"
     ]
    }
   ],
   "source": [
    "sayi3= [nmber*2 for nmber in range(1,50) if nmber%3==0]  # 1-50 arası 3'e bölünen sayıları al ve 2 ile çarp\n",
    "print(sayi3)"
   ]
  },
  {
   "cell_type": "code",
   "execution_count": 42,
   "id": "c6ae80a1",
   "metadata": {},
   "outputs": [
    {
     "name": "stdout",
     "output_type": "stream",
     "text": [
      "[2, 4, 9, 8, 10, 36, 14, 16, 81, 20]\n"
     ]
    }
   ],
   "source": [
    "sayi4= [nmber**2 if nmber%3==0 else nmber*2 for nmber in range(1,11)]  \n",
    "print(sayi4)    #eğer 3'e bölünüyorsa karesini, bölünmüyorsa 2 katını al"
   ]
  },
  {
   "cell_type": "code",
   "execution_count": 46,
   "id": "f3079fb7",
   "metadata": {},
   "outputs": [
    {
     "data": {
      "text/plain": [
       "['Oya', 'orçun']"
      ]
     },
     "execution_count": 46,
     "metadata": {},
     "output_type": "execute_result"
    }
   ],
   "source": [
    "listem=[\"Ahmet\", \"Mehmet\", \"Oya\", \"orçun\"]\n",
    "l=[lis for lis in listem if lis.upper().startswith(\"O\")]  # O ile başlıyorsa listedeki değeri göster.\n",
    "l                                                         # önce upper ile hepsini büyük yazdırıyoruz."
   ]
  },
  {
   "cell_type": "code",
   "execution_count": 48,
   "id": "292a544d",
   "metadata": {},
   "outputs": [
    {
     "data": {
      "text/plain": [
       "['Oya']"
      ]
     },
     "execution_count": 48,
     "metadata": {},
     "output_type": "execute_result"
    }
   ],
   "source": [
    "# eğer upper() olmazsa sadece belirtilen harfle başlayan gelir.\n",
    "listem=[\"Ahmet\", \"Mehmet\", \"Oya\", \"orçun\"]\n",
    "l=[lis for lis in listem if lis.startswith(\"O\")] \n",
    "l"
   ]
  },
  {
   "cell_type": "code",
   "execution_count": 50,
   "id": "9c7022e7",
   "metadata": {},
   "outputs": [
    {
     "data": {
      "text/plain": [
       "[20, 20, 30, 40, 30, 60, 90, 120, 40, 80, 120, 160]"
      ]
     },
     "execution_count": 50,
     "metadata": {},
     "output_type": "execute_result"
    }
   ],
   "source": [
    "listee=[5, 10, 30, 40]\n",
    "li=[1,2,3,4]\n",
    "s=[x*y for x in listee for y in li if x*y>15]   # x ve ye değerleri için içiçe döngü\n",
    "s                # x'ten bir değer alıp sonra x*y>15 şartı sağlanana kadar y'den değer alıyor.Sonra ancak x'e dönüyor."
   ]
  },
  {
   "cell_type": "code",
   "execution_count": 53,
   "id": "7c83079e",
   "metadata": {},
   "outputs": [
    {
     "name": "stdout",
     "output_type": "stream",
     "text": [
      "20 is in list\n"
     ]
    }
   ],
   "source": [
    "if 20 in [x*y for x in listee for y in li if x*y>15]:  # parantez içindekinden 20 sonucu çıkınca print'dekini yaz.\n",
    "    print(\"20 is in list\")"
   ]
  },
  {
   "cell_type": "code",
   "execution_count": 54,
   "id": "6012a281",
   "metadata": {},
   "outputs": [
    {
     "name": "stdout",
     "output_type": "stream",
     "text": [
      "40 is in list\n"
     ]
    }
   ],
   "source": [
    "if 40 in [x*y for x in listee for y in li if x*y>15]:  # parantez içindekinden 20 sonucu çıkınca print'dekini yaz.\n",
    "    print(\"40 is in list\")"
   ]
  },
  {
   "cell_type": "code",
   "execution_count": 55,
   "id": "65dc3e48",
   "metadata": {},
   "outputs": [
    {
     "data": {
      "text/plain": [
       "6"
      ]
     },
     "execution_count": 55,
     "metadata": {},
     "output_type": "execute_result"
    }
   ],
   "source": [
    "coordinate=[1,2,3]\n",
    "x,y,z=coordinate\n",
    "multiply=x*y*z\n",
    "multiply"
   ]
  },
  {
   "cell_type": "code",
   "execution_count": 58,
   "id": "eaf4aa34",
   "metadata": {},
   "outputs": [
    {
     "data": {
      "text/plain": [
       "840"
      ]
     },
     "execution_count": 58,
     "metadata": {},
     "output_type": "execute_result"
    }
   ],
   "source": [
    "coordinate=[1,2,3,4,5,6,7]\n",
    "x,y,z,t=coordinate[3:7]   # listedeki değerler arasıdan indexlerle verdik\n",
    "multiply=x*y*z*t\n",
    "multiply"
   ]
  },
  {
   "cell_type": "code",
   "execution_count": 62,
   "id": "d7a0d22f",
   "metadata": {},
   "outputs": [
    {
     "name": "stdout",
     "output_type": "stream",
     "text": [
      "6\n",
      "120\n"
     ]
    }
   ],
   "source": [
    "coordinate=[1,2,3,4,5,6]\n",
    "for index in range(int(len(coordinate)/3)):   # içindeki sayıları 6'ya bölecek ve int'e çevirecek.\n",
    "    x,y,z,=coordinate[index*3:3+index*3]    # burada coordinattaki sayılarla bir index tanımlıyoruz, [0:3] ve [3:6] gibi\n",
    "    multiply=x*y*z\n",
    "    print(multiply)"
   ]
  },
  {
   "cell_type": "code",
   "execution_count": 63,
   "id": "2a549fde",
   "metadata": {},
   "outputs": [
    {
     "name": "stdout",
     "output_type": "stream",
     "text": [
      "List size:  8856\n",
      "Tuple size:  8032\n"
     ]
    }
   ],
   "source": [
    "import sys\n",
    "evenNumberList=[number for number in range(2,2000,2)]\n",
    "evenNumberTuple=tuple(evenNumberList)\n",
    "\n",
    "print(\"List size: \", sys.getsizeof(evenNumberList))    #byte olarak\n",
    "print(\"Tuple size: \", sys.getsizeof(evenNumberTuple)) \n",
    "\n",
    "# hafızada aynı uzunluktaki bir liste list ve tuple olarak ne kadar yer kaplıyor.Tuple daha az yer kaplıyor."
   ]
  },
  {
   "cell_type": "code",
   "execution_count": 65,
   "id": "cd7fd698",
   "metadata": {},
   "outputs": [
    {
     "name": "stdout",
     "output_type": "stream",
     "text": [
      "List time test :  0.8055881000000227\n",
      "List time test :  0.18390799999997398\n"
     ]
    }
   ],
   "source": [
    "import timeit\n",
    "\n",
    "print(\"List time test : \",timeit.timeit(stmt=\"numbers=[1,2,3,4,5,6,7,8,9,10,11,12,13,14,15]\",number=10000000))\n",
    "print(\"List time test : \",timeit.timeit(stmt=\"numbers=(1,2,3,4,5,6,7,8,9,10,11,12,13,14,15)\",number=10000000))\n",
    "#10000000 kez çalıştırıyor. Default değeri 1 milyyondr. Burada da Tuple ile list hız farkına baktık"
   ]
  },
  {
   "cell_type": "code",
   "execution_count": null,
   "id": "9a0f40f7",
   "metadata": {},
   "outputs": [],
   "source": [
    "name=\"Ali\"\n",
    "print(f\"name \\\"{name}\\\" var\")    # Tırnak içerisinde gösterilmek istenirse\n",
    "# ters slash olmazsa çıktıyı tırnak içinde gösteremeyiz ve hata verir"
   ]
  },
  {
   "cell_type": "code",
   "execution_count": null,
   "id": "5fb33406",
   "metadata": {},
   "outputs": [],
   "source": [
    "# Set (kümeler)  a={} set boş kümme olmazz, dictiniary boş küme olur.\n",
    "# kümelerde insert yok. Çünkü sıralama yok.\n",
    "# sette tekrarlanan ifade olmaz.\n",
    "numbers=[1,1,2,1,3,4,5]\n",
    "kume=set(numbers)\n",
    "kume"
   ]
  },
  {
   "cell_type": "code",
   "execution_count": 67,
   "id": "05d5e910",
   "metadata": {},
   "outputs": [
    {
     "data": {
      "text/plain": [
       "{6, 12, 18}"
      ]
     },
     "execution_count": 67,
     "metadata": {},
     "output_type": "execute_result"
    }
   ],
   "source": [
    "# Set ile de (süslü parantezle() yazılabilir\n",
    "sayi={i for i in range(2,21,2) if i%3==0} \n",
    "sayi"
   ]
  },
  {
   "cell_type": "code",
   "execution_count": 68,
   "id": "b4b0c659",
   "metadata": {},
   "outputs": [
    {
     "data": {
      "text/plain": [
       "<generator object <genexpr> at 0x0000019647E280B0>"
      ]
     },
     "execution_count": 68,
     "metadata": {},
     "output_type": "execute_result"
    }
   ],
   "source": [
    "#Ancak tuple de bu şekilde yazamazsın. Çünkü append komutu yyok\n",
    "\n",
    "sayi=(i for i in range(2,21,2) if i%3==0)\n",
    "sayi"
   ]
  },
  {
   "cell_type": "code",
   "execution_count": 69,
   "id": "9d750948",
   "metadata": {},
   "outputs": [
    {
     "data": {
      "text/plain": [
       "{' ', 'P', 'a', 'e', 'h', 'i', 'm', 'n', 'o', 's', 't', 'w', 'y'}"
      ]
     },
     "execution_count": 69,
     "metadata": {},
     "output_type": "execute_result"
    }
   ],
   "source": [
    "string=\"Python is awesome\"\n",
    "stringSet=set(string)\n",
    "stringSet"
   ]
  },
  {
   "cell_type": "code",
   "execution_count": 70,
   "id": "468cc10f",
   "metadata": {},
   "outputs": [
    {
     "data": {
      "text/plain": [
       "{'Python', 'awesome', 'is'}"
      ]
     },
     "execution_count": 70,
     "metadata": {},
     "output_type": "execute_result"
    }
   ],
   "source": [
    "string=\"Python is is awesome\"\n",
    "stringSet=set(string.split())\n",
    "stringSet                   # boşluklardan split yapacak ama \"is\" ifadesini bir defa yazacak."
   ]
  },
  {
   "cell_type": "code",
   "execution_count": 72,
   "id": "50c38d44",
   "metadata": {},
   "outputs": [
    {
     "data": {
      "text/plain": [
       "{'a', 'e', 'i', 'o', 'w', 'y'}"
      ]
     },
     "execution_count": 72,
     "metadata": {},
     "output_type": "execute_result"
    }
   ],
   "source": [
    "vowels={'a','e','i','o','u','y','w'}\n",
    "d=\"Python is awesome\"\n",
    "d=set(d)\n",
    "c=vowels & d        # bu şekilde \"Python is awesome\" içindeki vowels harflerini aldı. Yani iki kümenin kesişimi.\n",
    "c"
   ]
  },
  {
   "cell_type": "code",
   "execution_count": 73,
   "id": "9125c12f",
   "metadata": {},
   "outputs": [
    {
     "name": "stdout",
     "output_type": "stream",
     "text": [
      "i\n",
      "a\n",
      "e\n",
      "y\n",
      "u\n",
      "o\n",
      "w\n"
     ]
    }
   ],
   "source": [
    "# Kümenin elemanlarına indexle ulaşamazsın. \n",
    "for i in vowels:\n",
    "    print(i)"
   ]
  },
  {
   "cell_type": "code",
   "execution_count": 74,
   "id": "577d0283",
   "metadata": {},
   "outputs": [
    {
     "data": {
      "text/plain": [
       "[(11, 15), (55, 11), (11, 11)]"
      ]
     },
     "execution_count": 74,
     "metadata": {},
     "output_type": "execute_result"
    }
   ],
   "source": [
    "sampleList= [(11,15),(85,12),(55,11),(11,11)]\n",
    "liste=[i for i in sampleList if i[0]==11 or i[1]==11]\n",
    "liste        # ilk ya da ikinci elemanı 11 olanı yazdır."
   ]
  },
  {
   "cell_type": "code",
   "execution_count": 75,
   "id": "0a082f99",
   "metadata": {},
   "outputs": [
    {
     "name": "stdout",
     "output_type": "stream",
     "text": [
      "Kara\n",
      "Kaya\n",
      "Kara\n",
      "Kartopu\n"
     ]
    }
   ],
   "source": [
    "s=\"Duursuun Ali Kara Kaya Kara Kartopu ZZel\"\n",
    "for i in s.split():\n",
    "    if \"Ka\" in i:   # split ile böl ve içinde \"Ka\" olanları yazdır.\n",
    "        print(i)"
   ]
  },
  {
   "cell_type": "code",
   "execution_count": 76,
   "id": "11688c12",
   "metadata": {},
   "outputs": [
    {
     "data": {
      "text/plain": [
       "'yokk'"
      ]
     },
     "execution_count": 76,
     "metadata": {},
     "output_type": "execute_result"
    }
   ],
   "source": [
    "Customer={\n",
    "    \"name\": \"Ali\",\n",
    "    \"Tlf\" : \"0532 555 555\",\n",
    "    \"Sehir\": \"Ankara\",\n",
    "    \"Yaş\"  : 35\n",
    "}\n",
    "\n",
    "Customer.get(\"Baş\",\"yokk\") # Eğer dictinary'de olmayan bir key çağırırsak defalt olarak None döndürür. \n",
    "# Olmayan için yandaki ifadeyi yazar."
   ]
  },
  {
   "cell_type": "code",
   "execution_count": 77,
   "id": "43c432f1",
   "metadata": {},
   "outputs": [
    {
     "data": {
      "text/plain": [
       "'Ali'"
      ]
     },
     "execution_count": 77,
     "metadata": {},
     "output_type": "execute_result"
    }
   ],
   "source": [
    "Customer={\n",
    "    \"name\": \"Ali\",\n",
    "    \"Tlf\" : \"0532 555 555\",\n",
    "    \"Sehir\": \"Ankara\",\n",
    "    \"Yaş\"  : 35\n",
    "}\n",
    "\n",
    "\n",
    "Customer.get(\"name\",\"yokk\")  # olan bir key yazdığımız için karşısındaki value geldi."
   ]
  },
  {
   "cell_type": "code",
   "execution_count": 78,
   "id": "43791c6e",
   "metadata": {},
   "outputs": [
    {
     "data": {
      "text/plain": [
       "dict_keys(['name', 'Tlf', 'Sehir', 'Yaş'])"
      ]
     },
     "execution_count": 78,
     "metadata": {},
     "output_type": "execute_result"
    }
   ],
   "source": [
    "Customer.keys()  #sözlüğün key değerleine bakabiliriz."
   ]
  },
  {
   "cell_type": "code",
   "execution_count": null,
   "id": "ba411228",
   "metadata": {},
   "outputs": [],
   "source": [
    "Customer.values()   #sözlüğün velue'larına bakabiliriz."
   ]
  },
  {
   "cell_type": "code",
   "execution_count": 79,
   "id": "559e105f",
   "metadata": {},
   "outputs": [
    {
     "name": "stdout",
     "output_type": "stream",
     "text": [
      "name : Ali\n",
      "Tlf : 0532 555 555\n",
      "Sehir : Ankara\n",
      "Yaş : 35\n"
     ]
    }
   ],
   "source": [
    "for key,value in Customer.items():  # key ve valueları al ve şu şekilde yazdır.\n",
    "    print(f\"{key} : {value}\")"
   ]
  },
  {
   "cell_type": "code",
   "execution_count": 80,
   "id": "a55fda4f",
   "metadata": {},
   "outputs": [
    {
     "name": "stdout",
     "output_type": "stream",
     "text": [
      "name\n",
      "Tlf\n",
      "Sehir\n",
      "Yaş\n"
     ]
    }
   ],
   "source": [
    "for key in Customer:   # for döngüsüyle sadece keyleri aldık.\n",
    "    print(f\"{key}\")"
   ]
  },
  {
   "cell_type": "code",
   "execution_count": 81,
   "id": "fed5b791",
   "metadata": {},
   "outputs": [
    {
     "name": "stdout",
     "output_type": "stream",
     "text": [
      "Ali\n",
      "0532 555 555\n",
      "Ankara\n",
      "35\n"
     ]
    }
   ],
   "source": [
    "for key in Customer.keys():\n",
    "    print(Customer[key])"
   ]
  },
  {
   "cell_type": "code",
   "execution_count": 82,
   "id": "2e049b70",
   "metadata": {},
   "outputs": [
    {
     "data": {
      "text/plain": [
       "35"
      ]
     },
     "execution_count": 82,
     "metadata": {},
     "output_type": "execute_result"
    }
   ],
   "source": [
    "Customer.pop(\"Yaş\")"
   ]
  },
  {
   "cell_type": "code",
   "execution_count": 83,
   "id": "fb796038",
   "metadata": {},
   "outputs": [],
   "source": [
    "Customer.clear()  # tamamen sildik."
   ]
  },
  {
   "cell_type": "code",
   "execution_count": 84,
   "id": "597e7f43",
   "metadata": {},
   "outputs": [
    {
     "data": {
      "text/plain": [
       "{}"
      ]
     },
     "execution_count": 84,
     "metadata": {},
     "output_type": "execute_result"
    }
   ],
   "source": [
    "Customer"
   ]
  },
  {
   "cell_type": "code",
   "execution_count": 85,
   "id": "80182ec2",
   "metadata": {},
   "outputs": [],
   "source": [
    "Customer.update(name=\"Paşa Bey\",Şehir=\"Gülşehir\",Yaş=35,soner=\"Ay\")"
   ]
  },
  {
   "cell_type": "code",
   "execution_count": 86,
   "id": "7c090f82",
   "metadata": {},
   "outputs": [
    {
     "data": {
      "text/plain": [
       "{'name': 'Paşa Bey', 'Şehir': 'Gülşehir', 'Yaş': 35, 'soner': 'Ay'}"
      ]
     },
     "execution_count": 86,
     "metadata": {},
     "output_type": "execute_result"
    }
   ],
   "source": [
    "Customer"
   ]
  },
  {
   "cell_type": "code",
   "execution_count": 88,
   "id": "0c822912",
   "metadata": {},
   "outputs": [
    {
     "name": "stdout",
     "output_type": "stream",
     "text": [
      "274\n"
     ]
    },
    {
     "data": {
      "text/plain": [
       "'İki***Dört'"
      ]
     },
     "execution_count": 88,
     "metadata": {},
     "output_type": "execute_result"
    }
   ],
   "source": [
    "DigitMap={\"0\":\"Sıfır\",\"1\":\"Bir\",\"2\": \"İki\", \"3\":\"Üç\",\"4\":\"Dört\",\"5\":\"Beş\"}\n",
    "List=\"\"\n",
    "a=input()\n",
    "for i in a:\n",
    "    List+=DigitMap.get(i,\"***\")  # sözlükten valuları alıp gösteriyor. 4 olmadığı için *** işareti yazdırdık.\n",
    "List"
   ]
  },
  {
   "cell_type": "code",
   "execution_count": 89,
   "id": "9e027d41",
   "metadata": {},
   "outputs": [
    {
     "name": "stdout",
     "output_type": "stream",
     "text": [
      "Ali gel ** git ** ve **\n"
     ]
    }
   ],
   "source": [
    "cumle=\"Ali gel kötü_söz1 git kötü_söz2 ve köötü_söz3\"\n",
    "cmle=cumle.split()\n",
    "for i in range(len(cmle)):\n",
    "    if cmle[i]==\"kötü_söz1\" or cmle[i]==\"kötü_söz2\" or cmle[i]==\"köötü_söz3\":\n",
    "        cmle[i]=\"**\"\n",
    "print(\" \".join(cmle))"
   ]
  },
  {
   "cell_type": "code",
   "execution_count": 90,
   "id": "37950d80",
   "metadata": {},
   "outputs": [
    {
     "name": "stdout",
     "output_type": "stream",
     "text": [
      " Cümlesindeki farklı kelime sayısı : 8 dır.\n"
     ]
    }
   ],
   "source": [
    "sentences=\"This is an example set or tuple or dictionary \"\n",
    "sen=set(sentences.split())  # Mükerrer kelimeleri saymasını istemediğimizden set yapıyorz.\n",
    "print(f\" Cümlesindeki farklı kelime sayısı : {len(sen)} dır.\")"
   ]
  },
  {
   "cell_type": "code",
   "execution_count": 91,
   "id": "d1fbb504",
   "metadata": {},
   "outputs": [
    {
     "data": {
      "text/plain": [
       "['male', 'female', 'male', 'male']"
      ]
     },
     "execution_count": 91,
     "metadata": {},
     "output_type": "execute_result"
    }
   ],
   "source": [
    "train_df = [\"male\", \"female\", \"male\",\"male\"]\n",
    "train_df"
   ]
  },
  {
   "cell_type": "code",
   "execution_count": 92,
   "id": "c5a111dd",
   "metadata": {},
   "outputs": [
    {
     "data": {
      "text/plain": [
       "[1, 0, 1, 1]"
      ]
     },
     "execution_count": 92,
     "metadata": {},
     "output_type": "execute_result"
    }
   ],
   "source": [
    "train_df1 = [0 if k == 'female' else 1 for k in train_df]\n",
    "train_df1"
   ]
  },
  {
   "cell_type": "code",
   "execution_count": 93,
   "id": "90e91264",
   "metadata": {},
   "outputs": [
    {
     "name": "stdout",
     "output_type": "stream",
     "text": [
      "Collecting google\n",
      "  Downloading google-3.0.0-py2.py3-none-any.whl (45 kB)\n",
      "Requirement already satisfied: beautifulsoup4 in c:\\users\\admin\\anaconda3\\lib\\site-packages (from google) (4.10.0)\n",
      "Requirement already satisfied: soupsieve>1.2 in c:\\users\\admin\\anaconda3\\lib\\site-packages (from beautifulsoup4->google) (2.2.1)\n",
      "Installing collected packages: google\n",
      "Successfully installed google-3.0.0\n",
      "https://techproeducation.com/\n",
      "https://www.instagram.com/techproeducation/?hl=en\n",
      "https://www.youtube.com/c/techproeducation\n",
      "https://www.linkedin.com/company/techproeducation\n",
      "https://www.facebook.com/techproeducation/\n",
      "https://www.coursereport.com/schools/techproeducation\n",
      "https://github.com/techproeducation1\n",
      "https://twitter.com/techproedu\n",
      "https://linktr.ee/techproeducation\n",
      "https://careerkarma.com/schools/techpro-education/\n",
      "https://www.udemy.com/user/ibrahim-39792/\n",
      "https://techproed.com/\n",
      "https://www.signalhire.com/companies/techproeducation\n",
      "https://www.sikayetvar.com/techproeducationcom\n",
      "https://www.scamadviser.com/check-website/techproeducation.com\n",
      "https://techproeducation.quora.com/\n",
      "https://turkbet10nceo.netlify.app/397220/822024.html\n",
      "https://www.abdpost.com/techpro-education-ile-meslek-sahibi-olun/68772/\n",
      "https://trailblazer.me/id/serkand\n",
      "https://www.sonsuzteknoloji.com/salesforce-crm-ve-ozellikleri/logo-4/\n",
      "https://cursos.elpais.com/centros/codianacademy-techpro-education-1169048-centrodetalles.htm\n",
      "https://www.glassdoor.com/Reviews/Tech-Pro-Reviews-E31317.htm\n",
      "https://masdazilleblog.fr/da/346gc42677k/\n",
      "http://abdpostcom.blogspot.com/2021/09/techpro-education-kariyer-kurslar.html\n",
      "https://evasionnature.fr/ky/144fe70791l/\n",
      "https://www.eksiduyuru.com/duyuru/1512617/is-bulabilmek-icin-kurs-onerileri-aliyorum\n",
      "http://www.furnshops.com/\n"
     ]
    }
   ],
   "source": [
    "! pip install google                 #*** bir ifadenin geçtiği url'leri ararken bu döngüyü kullanabiliriz.****\n",
    "from googlesearch import search\n",
    "query = \"techproedcations\"\n",
    " \n",
    "for url in search(query):\n",
    "    print(url)"
   ]
  },
  {
   "cell_type": "code",
   "execution_count": null,
   "id": "0ee235a8",
   "metadata": {},
   "outputs": [],
   "source": []
  }
 ],
 "metadata": {
  "kernelspec": {
   "display_name": "Python 3 (ipykernel)",
   "language": "python",
   "name": "python3"
  },
  "language_info": {
   "codemirror_mode": {
    "name": "ipython",
    "version": 3
   },
   "file_extension": ".py",
   "mimetype": "text/x-python",
   "name": "python",
   "nbconvert_exporter": "python",
   "pygments_lexer": "ipython3",
   "version": "3.9.12"
  }
 },
 "nbformat": 4,
 "nbformat_minor": 5
}
