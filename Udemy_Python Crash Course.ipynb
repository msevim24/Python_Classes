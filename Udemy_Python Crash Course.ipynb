{
 "cells": [
  {
   "cell_type": "markdown",
   "id": "aa3e8a41",
   "metadata": {},
   "source": [
    "# Python Crash Course (Udemy)\n",
    "\n",
    "* Data types\n",
    "    * Numbers\n",
    "    * Strings\n",
    "    * Lists\n",
    "    * Dictionaries\n",
    "    * Booleans\n",
    "    * Tuples \n",
    "    * Sets\n",
    "* Comparison Operators\n",
    "* Logic Operators\n",
    "* if, elif, else Statements\n",
    "* for Loops\n",
    "* while Loops\n",
    "* range\n",
    "* List comprehension\n",
    "* Functions\n",
    "* Lambda expressions\n",
    "* map and filter\n",
    "* lower & upper case, split\n",
    "* Exercises  "
   ]
  },
  {
   "cell_type": "markdown",
   "id": "d86caf83",
   "metadata": {},
   "source": [
    "## Data types"
   ]
  },
  {
   "cell_type": "code",
   "execution_count": 24,
   "id": "1d66f53f",
   "metadata": {},
   "outputs": [
    {
     "data": {
      "text/plain": [
       "int"
      ]
     },
     "execution_count": 24,
     "metadata": {},
     "output_type": "execute_result"
    }
   ],
   "source": [
    "# Integer\n",
    "type (1)"
   ]
  },
  {
   "cell_type": "code",
   "execution_count": 25,
   "id": "cbbfe2c5",
   "metadata": {},
   "outputs": [
    {
     "data": {
      "text/plain": [
       "float"
      ]
     },
     "execution_count": 25,
     "metadata": {},
     "output_type": "execute_result"
    }
   ],
   "source": [
    "# Float\n",
    "type(2.0)"
   ]
  },
  {
   "cell_type": "code",
   "execution_count": 26,
   "id": "f33d6da9",
   "metadata": {},
   "outputs": [
    {
     "data": {
      "text/plain": [
       "str"
      ]
     },
     "execution_count": 26,
     "metadata": {},
     "output_type": "execute_result"
    }
   ],
   "source": [
    "# String\n",
    "type(\"word\")"
   ]
  },
  {
   "cell_type": "code",
   "execution_count": 27,
   "id": "26b73fd7",
   "metadata": {},
   "outputs": [
    {
     "data": {
      "text/plain": [
       "bool"
      ]
     },
     "execution_count": 27,
     "metadata": {},
     "output_type": "execute_result"
    }
   ],
   "source": [
    "# Boolean: True or False\n",
    "type(1+1==2) "
   ]
  },
  {
   "cell_type": "code",
   "execution_count": 28,
   "id": "86a6400b",
   "metadata": {},
   "outputs": [
    {
     "data": {
      "text/plain": [
       "bool"
      ]
     },
     "execution_count": 28,
     "metadata": {},
     "output_type": "execute_result"
    }
   ],
   "source": [
    "type(1+1==3) "
   ]
  },
  {
   "cell_type": "code",
   "execution_count": 29,
   "id": "ca80572d",
   "metadata": {},
   "outputs": [
    {
     "data": {
      "text/plain": [
       "True"
      ]
     },
     "execution_count": 29,
     "metadata": {},
     "output_type": "execute_result"
    }
   ],
   "source": [
    "True # boolean"
   ]
  },
  {
   "cell_type": "code",
   "execution_count": 30,
   "id": "52810288",
   "metadata": {},
   "outputs": [
    {
     "data": {
      "text/plain": [
       "False"
      ]
     },
     "execution_count": 30,
     "metadata": {},
     "output_type": "execute_result"
    }
   ],
   "source": [
    "False # boolean"
   ]
  },
  {
   "cell_type": "markdown",
   "id": "d3d2079c",
   "metadata": {},
   "source": [
    "## Mathematical Expressions"
   ]
  },
  {
   "cell_type": "code",
   "execution_count": 31,
   "id": "326e62ef",
   "metadata": {},
   "outputs": [
    {
     "data": {
      "text/plain": [
       "30"
      ]
     },
     "execution_count": 31,
     "metadata": {},
     "output_type": "execute_result"
    }
   ],
   "source": [
    "11+19"
   ]
  },
  {
   "cell_type": "code",
   "execution_count": 32,
   "id": "4bcd3478",
   "metadata": {},
   "outputs": [
    {
     "data": {
      "text/plain": [
       "5616"
      ]
     },
     "execution_count": 32,
     "metadata": {},
     "output_type": "execute_result"
    }
   ],
   "source": [
    "24*234"
   ]
  },
  {
   "cell_type": "code",
   "execution_count": 33,
   "id": "d1197f4f",
   "metadata": {},
   "outputs": [
    {
     "data": {
      "text/plain": [
       "61.75806451612903"
      ]
     },
     "execution_count": 33,
     "metadata": {},
     "output_type": "execute_result"
    }
   ],
   "source": [
    "7658/124"
   ]
  },
  {
   "cell_type": "code",
   "execution_count": 34,
   "id": "29fd2c29",
   "metadata": {},
   "outputs": [
    {
     "data": {
      "text/plain": [
       "36"
      ]
     },
     "execution_count": 34,
     "metadata": {},
     "output_type": "execute_result"
    }
   ],
   "source": [
    "#Exponents (**)\n",
    "6**2"
   ]
  },
  {
   "cell_type": "code",
   "execution_count": 35,
   "id": "32a4ff13",
   "metadata": {},
   "outputs": [
    {
     "data": {
      "text/plain": [
       "0"
      ]
     },
     "execution_count": 35,
     "metadata": {},
     "output_type": "execute_result"
    }
   ],
   "source": [
    "# Remainder (%)\n",
    "10 % 2 # What is the remainder when 10 is divided by 2?"
   ]
  },
  {
   "cell_type": "code",
   "execution_count": 36,
   "id": "3e450714",
   "metadata": {},
   "outputs": [
    {
     "data": {
      "text/plain": [
       "11"
      ]
     },
     "execution_count": 36,
     "metadata": {},
     "output_type": "execute_result"
    }
   ],
   "source": [
    "167 % 12"
   ]
  },
  {
   "cell_type": "code",
   "execution_count": 37,
   "id": "d6a550ea",
   "metadata": {},
   "outputs": [
    {
     "data": {
      "text/plain": [
       "75"
      ]
     },
     "execution_count": 37,
     "metadata": {},
     "output_type": "execute_result"
    }
   ],
   "source": [
    "# Order\n",
    "25 + 15 * 3 + 5  # 25 + (15*3) +5"
   ]
  },
  {
   "cell_type": "code",
   "execution_count": 38,
   "id": "f7c9c3eb",
   "metadata": {},
   "outputs": [
    {
     "data": {
      "text/plain": [
       "75"
      ]
     },
     "execution_count": 38,
     "metadata": {},
     "output_type": "execute_result"
    }
   ],
   "source": [
    "25 + (15*3) +5"
   ]
  },
  {
   "cell_type": "code",
   "execution_count": 39,
   "id": "522ea0b8",
   "metadata": {},
   "outputs": [
    {
     "data": {
      "text/plain": [
       "320"
      ]
     },
     "execution_count": 39,
     "metadata": {},
     "output_type": "execute_result"
    }
   ],
   "source": [
    "(25 + 15) * (3 + 5)"
   ]
  },
  {
   "cell_type": "code",
   "execution_count": 40,
   "id": "4b67e4c8",
   "metadata": {},
   "outputs": [],
   "source": [
    "var = 5"
   ]
  },
  {
   "cell_type": "code",
   "execution_count": 41,
   "id": "88c8a62c",
   "metadata": {},
   "outputs": [],
   "source": [
    "x = 3\n",
    "y = 5"
   ]
  },
  {
   "cell_type": "code",
   "execution_count": 42,
   "id": "701345d4",
   "metadata": {},
   "outputs": [
    {
     "data": {
      "text/plain": [
       "8"
      ]
     },
     "execution_count": 42,
     "metadata": {},
     "output_type": "execute_result"
    }
   ],
   "source": [
    "x+y"
   ]
  },
  {
   "cell_type": "markdown",
   "id": "cb9a4e64",
   "metadata": {},
   "source": [
    "## Strings"
   ]
  },
  {
   "cell_type": "code",
   "execution_count": 43,
   "id": "fa22e3cb",
   "metadata": {},
   "outputs": [
    {
     "data": {
      "text/plain": [
       "'single quote'"
      ]
     },
     "execution_count": 43,
     "metadata": {},
     "output_type": "execute_result"
    }
   ],
   "source": [
    "'single quote'"
   ]
  },
  {
   "cell_type": "code",
   "execution_count": 44,
   "id": "2af40d01",
   "metadata": {},
   "outputs": [
    {
     "data": {
      "text/plain": [
       "'double quote'"
      ]
     },
     "execution_count": 44,
     "metadata": {},
     "output_type": "execute_result"
    }
   ],
   "source": [
    "\"double quote\""
   ]
  },
  {
   "cell_type": "code",
   "execution_count": 45,
   "id": "9b272502",
   "metadata": {},
   "outputs": [
    {
     "data": {
      "text/plain": [
       "'It is up to you!'"
      ]
     },
     "execution_count": 45,
     "metadata": {},
     "output_type": "execute_result"
    }
   ],
   "source": [
    "\"It is up to you!\""
   ]
  },
  {
   "cell_type": "code",
   "execution_count": 120,
   "id": "b8d9885e",
   "metadata": {},
   "outputs": [
    {
     "ename": "SyntaxError",
     "evalue": "invalid syntax (1251844432.py, line 1)",
     "output_type": "error",
     "traceback": [
      "\u001b[1;36m  Cell \u001b[1;32mIn[120], line 1\u001b[1;36m\u001b[0m\n\u001b[1;33m    'However, don't use single quote in this case, if there is an apostrophe like don't'\u001b[0m\n\u001b[1;37m                  ^\u001b[0m\n\u001b[1;31mSyntaxError\u001b[0m\u001b[1;31m:\u001b[0m invalid syntax\n"
     ]
    }
   ],
   "source": [
    "'However, don't use single quote in this case, if there is an apostrophe like don't'"
   ]
  },
  {
   "cell_type": "code",
   "execution_count": 119,
   "id": "a270b68e",
   "metadata": {},
   "outputs": [
    {
     "data": {
      "text/plain": [
       "\"Instead, use double quote if there is a word with apostrophe like don't\""
      ]
     },
     "execution_count": 119,
     "metadata": {},
     "output_type": "execute_result"
    }
   ],
   "source": [
    "\"Instead, use double quote if there is a word with apostrophe like don't\""
   ]
  },
  {
   "cell_type": "code",
   "execution_count": 49,
   "id": "384ce616",
   "metadata": {},
   "outputs": [
    {
     "data": {
      "text/plain": [
       "'hello world'"
      ]
     },
     "execution_count": 49,
     "metadata": {},
     "output_type": "execute_result"
    }
   ],
   "source": [
    "\"hello world\""
   ]
  },
  {
   "cell_type": "code",
   "execution_count": 50,
   "id": "800090e8",
   "metadata": {
    "scrolled": true
   },
   "outputs": [
    {
     "name": "stdout",
     "output_type": "stream",
     "text": [
      "hello world\n"
     ]
    }
   ],
   "source": [
    "print(\"hello world\") # see the difference in output"
   ]
  },
  {
   "cell_type": "markdown",
   "id": "650e0132",
   "metadata": {},
   "source": [
    "#### format()"
   ]
  },
  {
   "cell_type": "code",
   "execution_count": 51,
   "id": "d1a7d042",
   "metadata": {},
   "outputs": [
    {
     "name": "stdout",
     "output_type": "stream",
     "text": [
      "My name is Julia\n"
     ]
    }
   ],
   "source": [
    "print(\"My name is {}\".format(\"Julia\"))"
   ]
  },
  {
   "cell_type": "code",
   "execution_count": 52,
   "id": "7ddd3e9d",
   "metadata": {},
   "outputs": [
    {
     "name": "stdout",
     "output_type": "stream",
     "text": [
      "My name is Julia and I am 35 years old\n"
     ]
    }
   ],
   "source": [
    "print(\"My name is {} and I am {} years old\".format(\"Julia\", \"35\"))"
   ]
  },
  {
   "cell_type": "code",
   "execution_count": 53,
   "id": "5e9e9dbd",
   "metadata": {},
   "outputs": [
    {
     "name": "stdout",
     "output_type": "stream",
     "text": [
      "My name is Julia and I am 35 years old\n"
     ]
    }
   ],
   "source": [
    "print(\"My name is {} and I am {} years old\".format(\"Julia\", 35))"
   ]
  },
  {
   "cell_type": "code",
   "execution_count": 54,
   "id": "86496e65",
   "metadata": {},
   "outputs": [
    {
     "data": {
      "text/plain": [
       "'My name is Julia and I am 35 years old'"
      ]
     },
     "execution_count": 54,
     "metadata": {},
     "output_type": "execute_result"
    }
   ],
   "source": [
    "# without using print()\n",
    "\"My name is {} and I am {} years old\".format(\"Julia\", \"35\")"
   ]
  },
  {
   "cell_type": "code",
   "execution_count": 55,
   "id": "290facc2",
   "metadata": {},
   "outputs": [
    {
     "name": "stdout",
     "output_type": "stream",
     "text": [
      "First: A, Second: B\n"
     ]
    }
   ],
   "source": [
    "print(\"First: {}, Second: {}\".format(\"A\",\"B\"))"
   ]
  },
  {
   "cell_type": "code",
   "execution_count": 56,
   "id": "7728b8fa",
   "metadata": {},
   "outputs": [
    {
     "name": "stdout",
     "output_type": "stream",
     "text": [
      "First: A, Second: B\n"
     ]
    }
   ],
   "source": [
    "print(\"First: {x}, Second: {y}\".format(x=\"A\", y=\"B\"))"
   ]
  },
  {
   "cell_type": "code",
   "execution_count": 57,
   "id": "8bd9ff9f",
   "metadata": {},
   "outputs": [
    {
     "name": "stdout",
     "output_type": "stream",
     "text": [
      "First: B, Second: A\n"
     ]
    }
   ],
   "source": [
    "# reverse the order\n",
    "print(\"First: {y}, Second: {x}\".format(x=\"A\", y=\"B\"))"
   ]
  },
  {
   "cell_type": "markdown",
   "id": "ef6f2076",
   "metadata": {},
   "source": [
    "## Lists [ ] \n",
    "\n",
    "* The list is a datatype available in Python which can be written as a list of comma-separated values (items) between square brackets.\n",
    "* List are mutable .i.e it can be converted into another data type and can store any data element in it.\n",
    "* List can store any type of element."
   ]
  },
  {
   "cell_type": "code",
   "execution_count": 58,
   "id": "baa75177",
   "metadata": {},
   "outputs": [
    {
     "data": {
      "text/plain": [
       "[11, 22, 33]"
      ]
     },
     "execution_count": 58,
     "metadata": {},
     "output_type": "execute_result"
    }
   ],
   "source": [
    "[11,22,33]"
   ]
  },
  {
   "cell_type": "code",
   "execution_count": 59,
   "id": "70c1bf42",
   "metadata": {},
   "outputs": [
    {
     "data": {
      "text/plain": [
       "['string', 'number', 'together']"
      ]
     },
     "execution_count": 59,
     "metadata": {},
     "output_type": "execute_result"
    }
   ],
   "source": [
    "[\"string\", \"number\", \"together\"]"
   ]
  },
  {
   "cell_type": "code",
   "execution_count": 60,
   "id": "82c7f530",
   "metadata": {
    "scrolled": true
   },
   "outputs": [
    {
     "data": {
      "text/plain": [
       "['x', 3, 5, 'Y']"
      ]
     },
     "execution_count": 60,
     "metadata": {},
     "output_type": "execute_result"
    }
   ],
   "source": [
    "[\"x\", 3, 5, \"Y\"]"
   ]
  },
  {
   "cell_type": "code",
   "execution_count": 61,
   "id": "4e8ae43a",
   "metadata": {},
   "outputs": [],
   "source": [
    "mylist= [\"a\", 13, 41, \"b\", \"z\"]"
   ]
  },
  {
   "cell_type": "code",
   "execution_count": 62,
   "id": "b54ac771",
   "metadata": {},
   "outputs": [
    {
     "data": {
      "text/plain": [
       "'a'"
      ]
     },
     "execution_count": 62,
     "metadata": {},
     "output_type": "execute_result"
    }
   ],
   "source": [
    "# Indexing: show the first item\n",
    "mylist[0]\n"
   ]
  },
  {
   "cell_type": "code",
   "execution_count": 63,
   "id": "3de44d57",
   "metadata": {},
   "outputs": [
    {
     "data": {
      "text/plain": [
       "'z'"
      ]
     },
     "execution_count": 63,
     "metadata": {},
     "output_type": "execute_result"
    }
   ],
   "source": [
    "# the list item on the list\n",
    "mylist[4]"
   ]
  },
  {
   "cell_type": "code",
   "execution_count": 64,
   "id": "be3a7720",
   "metadata": {},
   "outputs": [
    {
     "data": {
      "text/plain": [
       "'z'"
      ]
     },
     "execution_count": 64,
     "metadata": {},
     "output_type": "execute_result"
    }
   ],
   "source": [
    "# or\n",
    "mylist[-1]"
   ]
  },
  {
   "cell_type": "code",
   "execution_count": 65,
   "id": "e1fefddf",
   "metadata": {},
   "outputs": [
    {
     "data": {
      "text/plain": [
       "['X', 13, 41, 'b', 'z']"
      ]
     },
     "execution_count": 65,
     "metadata": {},
     "output_type": "execute_result"
    }
   ],
   "source": [
    "# Replace the first item a with X \n",
    "mylist[0]=\"X\"\n",
    "mylist"
   ]
  },
  {
   "cell_type": "markdown",
   "id": "4ae7fdc7-4f62-4d63-add2-1d7ba6db4483",
   "metadata": {},
   "source": [
    "#### pop()\n",
    "* By default, pop removes the last item in the list. However, we can remove other items uisng its index."
   ]
  },
  {
   "cell_type": "code",
   "execution_count": 66,
   "id": "60dc4c79-c69c-4fdf-92b8-c5d93e39e0d7",
   "metadata": {},
   "outputs": [],
   "source": [
    "my_list=[111, 121, 131, 141,151]"
   ]
  },
  {
   "cell_type": "code",
   "execution_count": 67,
   "id": "187c1e08-db3c-4a06-b961-a69adeae012a",
   "metadata": {},
   "outputs": [],
   "source": [
    "# remove the last item of the list\n",
    "last=my_list.pop()"
   ]
  },
  {
   "cell_type": "code",
   "execution_count": 68,
   "id": "e90c41bf-5c5e-4790-b07e-bd6c45c41c40",
   "metadata": {},
   "outputs": [
    {
     "data": {
      "text/plain": [
       "151"
      ]
     },
     "execution_count": 68,
     "metadata": {},
     "output_type": "execute_result"
    }
   ],
   "source": [
    "# last item is saved in the \"last\" variable\n",
    "last"
   ]
  },
  {
   "cell_type": "code",
   "execution_count": 69,
   "id": "3197beb2-f247-4cd3-8e9c-0f7d1a708f8e",
   "metadata": {},
   "outputs": [
    {
     "data": {
      "text/plain": [
       "[111, 121, 131, 141]"
      ]
     },
     "execution_count": 69,
     "metadata": {},
     "output_type": "execute_result"
    }
   ],
   "source": [
    "# check the list\n",
    "my_list\n",
    "# last item was removed"
   ]
  },
  {
   "cell_type": "code",
   "execution_count": 70,
   "id": "35785c12-0a98-440a-b6ad-c947a70abca4",
   "metadata": {},
   "outputs": [],
   "source": [
    "# Let's remove \"131\"\n",
    "item131=my_list.pop(2)\n"
   ]
  },
  {
   "cell_type": "code",
   "execution_count": 71,
   "id": "6c4b005a-52d2-451f-809b-03ff944ffe53",
   "metadata": {},
   "outputs": [
    {
     "data": {
      "text/plain": [
       "[111, 121, 141]"
      ]
     },
     "execution_count": 71,
     "metadata": {},
     "output_type": "execute_result"
    }
   ],
   "source": [
    "my_list"
   ]
  },
  {
   "cell_type": "code",
   "execution_count": 72,
   "id": "c94b2f4a-7a45-4f85-b923-dbb3321ae919",
   "metadata": {},
   "outputs": [
    {
     "data": {
      "text/plain": [
       "131"
      ]
     },
     "execution_count": 72,
     "metadata": {},
     "output_type": "execute_result"
    }
   ],
   "source": [
    "item131"
   ]
  },
  {
   "cell_type": "markdown",
   "id": "e317f7f5",
   "metadata": {},
   "source": [
    "#### append()"
   ]
  },
  {
   "cell_type": "code",
   "execution_count": 66,
   "id": "832962bc",
   "metadata": {},
   "outputs": [],
   "source": [
    "# add an item to the list\n",
    "mylist.append(\"Y\")"
   ]
  },
  {
   "cell_type": "code",
   "execution_count": 67,
   "id": "ba055631",
   "metadata": {},
   "outputs": [
    {
     "data": {
      "text/plain": [
       "['X', 13, 41, 'b', 'z', 'Y']"
      ]
     },
     "execution_count": 67,
     "metadata": {},
     "output_type": "execute_result"
    }
   ],
   "source": [
    "mylist"
   ]
  },
  {
   "cell_type": "code",
   "execution_count": 68,
   "id": "040f3320",
   "metadata": {},
   "outputs": [
    {
     "data": {
      "text/plain": [
       "[6, 7, [11, 22, 33], 8]"
      ]
     },
     "execution_count": 68,
     "metadata": {},
     "output_type": "execute_result"
    }
   ],
   "source": [
    "# nested list: list inside the list\n",
    "newlist= [6,7, [11,22,33], 8]\n",
    "newlist"
   ]
  },
  {
   "cell_type": "code",
   "execution_count": 69,
   "id": "8ddf213b",
   "metadata": {},
   "outputs": [
    {
     "data": {
      "text/plain": [
       "[11, 22, 33]"
      ]
     },
     "execution_count": 69,
     "metadata": {},
     "output_type": "execute_result"
    }
   ],
   "source": [
    "# reach the list inside the list\n",
    "newlist[2]"
   ]
  },
  {
   "cell_type": "code",
   "execution_count": 70,
   "id": "4ac7f245",
   "metadata": {},
   "outputs": [
    {
     "data": {
      "text/plain": [
       "33"
      ]
     },
     "execution_count": 70,
     "metadata": {},
     "output_type": "execute_result"
    }
   ],
   "source": [
    "#how to reach 33\n",
    "newlist[2][2]"
   ]
  },
  {
   "cell_type": "markdown",
   "id": "838fedb9",
   "metadata": {},
   "source": [
    "## Dictionaries { 'key' : 'value'}"
   ]
  },
  {
   "cell_type": "code",
   "execution_count": 71,
   "id": "18773505",
   "metadata": {},
   "outputs": [],
   "source": [
    "d = {\"age1\": 10, \"age2\": 20}"
   ]
  },
  {
   "cell_type": "code",
   "execution_count": 72,
   "id": "47c275fe",
   "metadata": {},
   "outputs": [
    {
     "data": {
      "text/plain": [
       "10"
      ]
     },
     "execution_count": 72,
     "metadata": {},
     "output_type": "execute_result"
    }
   ],
   "source": [
    "# unlike the list there is no order\n",
    "# to see the value use the key\n",
    "d[\"age1\"]"
   ]
  },
  {
   "cell_type": "code",
   "execution_count": 50,
   "id": "7a5f15ea-e52a-492d-bc2e-b207930c5c14",
   "metadata": {},
   "outputs": [],
   "source": [
    "d1={\"k1\":\"v1\", \"k2\":\"v2\", \"k3\":\"v3\" }"
   ]
  },
  {
   "cell_type": "code",
   "execution_count": 51,
   "id": "5540c84c-44ec-435f-9bd0-494990fbb7dd",
   "metadata": {},
   "outputs": [
    {
     "data": {
      "text/plain": [
       "dict_keys(['k1', 'k2', 'k3'])"
      ]
     },
     "execution_count": 51,
     "metadata": {},
     "output_type": "execute_result"
    }
   ],
   "source": [
    "# see all keys in a dictionary\n",
    "d1.keys()"
   ]
  },
  {
   "cell_type": "code",
   "execution_count": 52,
   "id": "aaaa0396-fb16-4b66-8a2b-1911db87ef2d",
   "metadata": {},
   "outputs": [
    {
     "data": {
      "text/plain": [
       "dict_items([('k1', 'v1'), ('k2', 'v2'), ('k3', 'v3')])"
      ]
     },
     "execution_count": 52,
     "metadata": {},
     "output_type": "execute_result"
    }
   ],
   "source": [
    "# see keys and values\n",
    "d1.items()"
   ]
  },
  {
   "cell_type": "code",
   "execution_count": 53,
   "id": "7b93b2e5-c1f0-41e9-a032-4d10e4b416fa",
   "metadata": {},
   "outputs": [
    {
     "data": {
      "text/plain": [
       "dict_values(['v1', 'v2', 'v3'])"
      ]
     },
     "execution_count": 53,
     "metadata": {},
     "output_type": "execute_result"
    }
   ],
   "source": [
    "# all values in a dictionary\n",
    "d1.values()"
   ]
  },
  {
   "cell_type": "markdown",
   "id": "fe6b0c8b",
   "metadata": {},
   "source": [
    "## Tuples ()\n",
    "\n",
    "#### Tuples vs Lists: \n",
    "* The list structure is dynamic, and readily changed whereas the tuple structure is static and cannot be changed (immutable).\n",
    "* This means that the tuple is generally faster than the list.\n",
    "* Lists are denoted by square brackets [ ] and tuples are denoted with parenthesis ()."
   ]
  },
  {
   "cell_type": "code",
   "execution_count": 73,
   "id": "b70ff9ce",
   "metadata": {},
   "outputs": [],
   "source": [
    "t=(7,8,9,10)"
   ]
  },
  {
   "cell_type": "code",
   "execution_count": 74,
   "id": "ce0c8c1a",
   "metadata": {},
   "outputs": [
    {
     "ename": "TypeError",
     "evalue": "'tuple' object does not support item assignment",
     "output_type": "error",
     "traceback": [
      "\u001b[1;31m---------------------------------------------------------------------------\u001b[0m",
      "\u001b[1;31mTypeError\u001b[0m                                 Traceback (most recent call last)",
      "Cell \u001b[1;32mIn[74], line 2\u001b[0m\n\u001b[0;32m      1\u001b[0m \u001b[38;5;66;03m# Let's try to change the first element from 7 to 1\u001b[39;00m\n\u001b[1;32m----> 2\u001b[0m t[\u001b[38;5;241m0\u001b[39m] \u001b[38;5;241m=\u001b[39m \u001b[38;5;241m1\u001b[39m\n",
      "\u001b[1;31mTypeError\u001b[0m: 'tuple' object does not support item assignment"
     ]
    }
   ],
   "source": [
    "# Let's try to change the first element from 7 to 1\n",
    "t[0] = 1\n",
    "\n",
    "# Warning: 'tuple' object does not support item assignment"
   ]
  },
  {
   "cell_type": "markdown",
   "id": "4083f13d",
   "metadata": {},
   "source": [
    "## Sets {}\n",
    "\n",
    "* Sets are an unordered collection of elements or unintended collection of items In python.\n",
    "* Here the order in which the elements are added into the set is not fixed, it can change frequently.\n",
    "* It is defined under curly braces{}\n",
    "* Sets are mutable, however, only immutable objects can be stored in it."
   ]
  },
  {
   "cell_type": "code",
   "execution_count": 75,
   "id": "19ff9dd2",
   "metadata": {},
   "outputs": [],
   "source": [
    "# It looks like a dictionat but there is no key:value pairs\n",
    "s={11,12,13}"
   ]
  },
  {
   "cell_type": "code",
   "execution_count": 76,
   "id": "3497f071",
   "metadata": {},
   "outputs": [
    {
     "data": {
      "text/plain": [
       "set"
      ]
     },
     "execution_count": 76,
     "metadata": {},
     "output_type": "execute_result"
    }
   ],
   "source": [
    "type(s)"
   ]
  },
  {
   "cell_type": "code",
   "execution_count": 77,
   "id": "57931bf0",
   "metadata": {},
   "outputs": [
    {
     "data": {
      "text/plain": [
       "{1, 2, 3, 4, 5}"
      ]
     },
     "execution_count": 77,
     "metadata": {},
     "output_type": "execute_result"
    }
   ],
   "source": [
    "# It displays only the unique elements\n",
    "s2={1,2,3,4,5,4,3,2,1,1,1}\n",
    "s2"
   ]
  },
  {
   "cell_type": "code",
   "execution_count": 78,
   "id": "87929024",
   "metadata": {},
   "outputs": [
    {
     "name": "stdout",
     "output_type": "stream",
     "text": [
      "\n",
      "Set with the use of List: \n",
      "{'List', 'a', 'Is', '?', 'this'}\n"
     ]
    }
   ],
   "source": [
    "# Creating a Set with the use of a List \n",
    "s3 = set([\"Is\", \"this\", \"a\", \"List\", \"?\"]) \n",
    "print(\"\\nSet with the use of List: \") \n",
    "print(s3)"
   ]
  },
  {
   "cell_type": "code",
   "execution_count": 79,
   "id": "42f9619d",
   "metadata": {},
   "outputs": [
    {
     "data": {
      "text/plain": [
       "set"
      ]
     },
     "execution_count": 79,
     "metadata": {},
     "output_type": "execute_result"
    }
   ],
   "source": [
    "type(s3)"
   ]
  },
  {
   "cell_type": "markdown",
   "id": "c5656d86",
   "metadata": {},
   "source": [
    "## Comparison Operators"
   ]
  },
  {
   "cell_type": "code",
   "execution_count": 80,
   "id": "90319137",
   "metadata": {},
   "outputs": [
    {
     "data": {
      "text/plain": [
       "True"
      ]
     },
     "execution_count": 80,
     "metadata": {},
     "output_type": "execute_result"
    }
   ],
   "source": [
    "5<10"
   ]
  },
  {
   "cell_type": "code",
   "execution_count": 81,
   "id": "80df3ff7",
   "metadata": {},
   "outputs": [
    {
     "data": {
      "text/plain": [
       "False"
      ]
     },
     "execution_count": 81,
     "metadata": {},
     "output_type": "execute_result"
    }
   ],
   "source": [
    "6>=12"
   ]
  },
  {
   "cell_type": "code",
   "execution_count": 82,
   "id": "a63e7a9f",
   "metadata": {},
   "outputs": [
    {
     "data": {
      "text/plain": [
       "True"
      ]
     },
     "execution_count": 82,
     "metadata": {},
     "output_type": "execute_result"
    }
   ],
   "source": [
    "#Equality\n",
    "10==10"
   ]
  },
  {
   "cell_type": "code",
   "execution_count": 83,
   "id": "a27c76df",
   "metadata": {},
   "outputs": [
    {
     "data": {
      "text/plain": [
       "True"
      ]
     },
     "execution_count": 83,
     "metadata": {},
     "output_type": "execute_result"
    }
   ],
   "source": [
    "\"x\"==\"x\""
   ]
  },
  {
   "cell_type": "code",
   "execution_count": 86,
   "id": "3af10b40",
   "metadata": {},
   "outputs": [
    {
     "data": {
      "text/plain": [
       "False"
      ]
     },
     "execution_count": 86,
     "metadata": {},
     "output_type": "execute_result"
    }
   ],
   "source": [
    "# case sensitive\n",
    "\"Y\"==\"y\""
   ]
  },
  {
   "cell_type": "code",
   "execution_count": 87,
   "id": "7a82a8ff",
   "metadata": {},
   "outputs": [
    {
     "data": {
      "text/plain": [
       "True"
      ]
     },
     "execution_count": 87,
     "metadata": {},
     "output_type": "execute_result"
    }
   ],
   "source": [
    "# Not equal (!=)\n",
    "10!=12"
   ]
  },
  {
   "cell_type": "markdown",
   "id": "5fd7247f-ed3d-4ddd-a278-cc327af87caf",
   "metadata": {},
   "source": [
    "## Logic Operators (and, or)"
   ]
  },
  {
   "cell_type": "code",
   "execution_count": 88,
   "id": "a8ba78cd-0c75-44ef-920c-968acdfed9d4",
   "metadata": {},
   "outputs": [
    {
     "data": {
      "text/plain": [
       "True"
      ]
     },
     "execution_count": 88,
     "metadata": {},
     "output_type": "execute_result"
    }
   ],
   "source": [
    "(5==5) and (\"y\"==\"y\") # both must be true"
   ]
  },
  {
   "cell_type": "code",
   "execution_count": 89,
   "id": "ae1d783d-d287-450d-bdf6-eff4bb2aadab",
   "metadata": {},
   "outputs": [
    {
     "data": {
      "text/plain": [
       "False"
      ]
     },
     "execution_count": 89,
     "metadata": {},
     "output_type": "execute_result"
    }
   ],
   "source": [
    "(5==6) and (\"y\"==\"y\") # parantheses are recommended"
   ]
  },
  {
   "cell_type": "code",
   "execution_count": 90,
   "id": "337f8f69-eb98-4239-b996-4aab2de46bca",
   "metadata": {},
   "outputs": [
    {
     "data": {
      "text/plain": [
       "True"
      ]
     },
     "execution_count": 90,
     "metadata": {},
     "output_type": "execute_result"
    }
   ],
   "source": [
    "(5==6) or (\"y\"==\"y\") # one true is enough"
   ]
  },
  {
   "cell_type": "markdown",
   "id": "e86d3543-07e5-44e5-ad38-95e87de418a2",
   "metadata": {},
   "source": [
    "## If statement"
   ]
  },
  {
   "cell_type": "markdown",
   "id": "224e00e5-4325-4803-a56c-00e3d7cf88f8",
   "metadata": {},
   "source": []
  },
  {
   "cell_type": "code",
   "execution_count": 91,
   "id": "df1a09f5-3d45-4732-8816-0eb07f3059e5",
   "metadata": {},
   "outputs": [
    {
     "name": "stdout",
     "output_type": "stream",
     "text": [
      "Hello!\n"
     ]
    }
   ],
   "source": [
    "# Logic operators with if statement\n",
    "if 1==1:\n",
    "    print(\"Hello!\")"
   ]
  },
  {
   "cell_type": "code",
   "execution_count": 92,
   "id": "267630d0-65da-4729-a753-955064e2a23b",
   "metadata": {},
   "outputs": [],
   "source": [
    "if 1==2:\n",
    "    print(\"Hello!\") # no answer"
   ]
  },
  {
   "cell_type": "code",
   "execution_count": 96,
   "id": "917ce3b5-e953-448e-8f9e-e04815418701",
   "metadata": {},
   "outputs": [
    {
     "name": "stdout",
     "output_type": "stream",
     "text": [
      "Bye!\n"
     ]
    }
   ],
   "source": [
    "# if, else\n",
    "if 1==2:\n",
    "    print(\"Hello!\")\n",
    "else:\n",
    "    print(\"Bye!\")"
   ]
  },
  {
   "cell_type": "code",
   "execution_count": 97,
   "id": "55f162c7-be74-42e3-84d1-63d862651e34",
   "metadata": {},
   "outputs": [
    {
     "name": "stdout",
     "output_type": "stream",
     "text": [
      "Welcome!\n"
     ]
    }
   ],
   "source": [
    "# if, elif, else\n",
    "if 1==2:\n",
    "    print(\"Hello!\")\n",
    "elif 2==2:\n",
    "    print(\"Welcome!\")\n",
    "else:\n",
    "    print(\"Bye!\")"
   ]
  },
  {
   "cell_type": "markdown",
   "id": "1a65438c-728d-4bed-b60c-6d35033659ce",
   "metadata": {},
   "source": [
    "## For loop"
   ]
  },
  {
   "attachments": {
    "50527d2a-fb15-4fa8-a0f4-2b7cd04b1f65.png": {
     "image/png": "[encoded data removed]"
    }
   },
   "cell_type": "markdown",
   "id": "03a0d809-d4b5-4dab-b7ba-3088f2f722f8",
   "metadata": {},
   "source": [
    "![image.png](attachment:50527d2a-fb15-4fa8-a0f4-2b7cd04b1f65.png)"
   ]
  },
  {
   "cell_type": "code",
   "execution_count": 98,
   "id": "b1e6f120-607b-4687-8ffe-c7f80a44b3f3",
   "metadata": {},
   "outputs": [
    {
     "name": "stdout",
     "output_type": "stream",
     "text": [
      "1\n",
      "2\n",
      "3\n",
      "4\n",
      "5\n"
     ]
    }
   ],
   "source": [
    "# print each item of a sequence\n",
    "seq= [1,2,3,4,5]\n",
    "\n",
    "for item in seq:\n",
    "    print(item)"
   ]
  },
  {
   "cell_type": "code",
   "execution_count": 99,
   "id": "e87a512c-ed24-4435-855c-ea45c68a259c",
   "metadata": {},
   "outputs": [
    {
     "name": "stdout",
     "output_type": "stream",
     "text": [
      "abc\n",
      "abc\n",
      "abc\n",
      "abc\n",
      "abc\n"
     ]
    }
   ],
   "source": [
    "# print 5 times \"abc\"\n",
    "seq= [1,2,3,4,5]\n",
    "\n",
    "for item in seq:\n",
    "    print(\"abc\")"
   ]
  },
  {
   "cell_type": "code",
   "execution_count": 100,
   "id": "055a0105-cdcf-4170-881e-f670571bf507",
   "metadata": {},
   "outputs": [
    {
     "name": "stdout",
     "output_type": "stream",
     "text": [
      "2\n",
      "4\n",
      "6\n",
      "8\n",
      "10\n"
     ]
    }
   ],
   "source": [
    "# print numbers from 2 to 10\n",
    "seq= [1,2,3,4,5]\n",
    "\n",
    "for item in seq:\n",
    "    print(item+item)"
   ]
  },
  {
   "cell_type": "code",
   "execution_count": 101,
   "id": "25fe142c-259c-4812-8240-f6ee5f080123",
   "metadata": {},
   "outputs": [
    {
     "name": "stdout",
     "output_type": "stream",
     "text": [
      "2\n",
      "4\n",
      "6\n",
      "8\n",
      "10\n"
     ]
    }
   ],
   "source": [
    "# another way\n",
    "seq= [1,2,3,4,5]\n",
    "\n",
    "for item in seq:\n",
    "    print(item*2)"
   ]
  },
  {
   "cell_type": "code",
   "execution_count": 118,
   "id": "65c345e9-3b2e-4cec-8c6a-d48c26aaf73f",
   "metadata": {},
   "outputs": [
    {
     "name": "stdout",
     "output_type": "stream",
     "text": [
      "String Iteration\n",
      "G\n",
      "e\n",
      "e\n",
      "k\n",
      "s\n"
     ]
    }
   ],
   "source": [
    "# For loop with string\n",
    "\n",
    "# Iterating over a String\n",
    "print(\"String Iteration\")\n",
    "\n",
    "s = \"Geeks\"\n",
    "for i in s:\n",
    "    print(i)"
   ]
  },
  {
   "cell_type": "code",
   "execution_count": 119,
   "id": "2da34b31-e572-47cf-9e15-ba27254615bd",
   "metadata": {},
   "outputs": [
    {
     "name": "stdout",
     "output_type": "stream",
     "text": [
      "1 1\n",
      "1 2\n",
      "1 3\n",
      "2 1\n",
      "2 2\n",
      "2 3\n",
      "3 1\n",
      "3 2\n",
      "3 3\n"
     ]
    }
   ],
   "source": [
    "# For loop inside a for loop\n",
    "\n",
    "for i in range(1, 4):\n",
    "    for j in range(1, 4):\n",
    "        print(i, j)"
   ]
  },
  {
   "cell_type": "code",
   "execution_count": 120,
   "id": "9e67892f-8ca6-40aa-8d80-9dd92ec8867b",
   "metadata": {},
   "outputs": [
    {
     "name": "stdout",
     "output_type": "stream",
     "text": [
      "apple is red\n",
      "banana is yellow\n",
      "cherry is green\n"
     ]
    }
   ],
   "source": [
    "# For loop with zip()\n",
    "\n",
    "fruits = [\"apple\", \"banana\", \"cherry\"]\n",
    "colors = [\"red\", \"yellow\", \"green\"]\n",
    "for fruit, color in zip(fruits, colors):\n",
    "    print(fruit, \"is\", color)"
   ]
  },
  {
   "cell_type": "code",
   "execution_count": 121,
   "id": "4850055b-7ca6-4c5a-802b-b3d832612764",
   "metadata": {},
   "outputs": [
    {
     "name": "stdout",
     "output_type": "stream",
     "text": [
      "Current Letter : g\n",
      "Current Letter : k\n",
      "Current Letter : f\n",
      "Current Letter : o\n",
      "Current Letter : r\n",
      "Current Letter : g\n",
      "Current Letter : k\n"
     ]
    }
   ],
   "source": [
    "# Continue Statement\n",
    "\n",
    "# Prints all letters except 'e' and 's'\n",
    "\n",
    "for letter in 'geeksforgeeks':\n",
    "\n",
    "    if letter == 'e' or letter == 's':\n",
    "        continue\n",
    "    print('Current Letter :', letter)"
   ]
  },
  {
   "cell_type": "code",
   "execution_count": 122,
   "id": "2fdd1aa8-ba81-47c1-827f-436bb6627421",
   "metadata": {},
   "outputs": [
    {
     "name": "stdout",
     "output_type": "stream",
     "text": [
      "Current Letter : e\n"
     ]
    }
   ],
   "source": [
    "# Break Statement\n",
    "\n",
    "for letter in 'geeksforgeeks':\n",
    "\n",
    "    # break the loop as soon it sees 'e'or 's'\n",
    "    if letter == 'e' or letter == 's':\n",
    "        break\n",
    "\n",
    "print('Current Letter :', letter)"
   ]
  },
  {
   "cell_type": "code",
   "execution_count": 123,
   "id": "403e53d0-8e84-446b-b50d-daa220cb5834",
   "metadata": {},
   "outputs": [
    {
     "name": "stdout",
     "output_type": "stream",
     "text": [
      "Last Letter : s\n"
     ]
    }
   ],
   "source": [
    "# Pass Statement\n",
    "\n",
    "# An empty loop\n",
    "for letter in 'geeksforgeeks':\n",
    "    pass\n",
    "print('Last Letter :', letter)"
   ]
  },
  {
   "cell_type": "code",
   "execution_count": 124,
   "id": "891e80b1-941d-4edf-be77-3caf829b957a",
   "metadata": {},
   "outputs": [
    {
     "name": "stdout",
     "output_type": "stream",
     "text": [
      "0 1 2 3 4 5 6 7 8 9 \n",
      "Sum of first 10 numbers : 45\n"
     ]
    }
   ],
   "source": [
    "# Loops with range\n",
    "\n",
    "# Python Program to show range() basics\n",
    "\n",
    "# printing a number\n",
    "for i in range(10):\n",
    "    print(i, end=\" \")\n",
    "\n",
    "# Sum of first 10 numbers\n",
    "sum = 0\n",
    "for i in range(1, 10):\n",
    "    sum = sum + i\n",
    "print(\"\\nSum of first 10 numbers :\", sum)"
   ]
  },
  {
   "cell_type": "code",
   "execution_count": 125,
   "id": "451affb6-6403-4af5-9798-f5717e56d01a",
   "metadata": {},
   "outputs": [
    {
     "name": "stdout",
     "output_type": "stream",
     "text": [
      "Day 1: Run 3.0 miles\n",
      "Day 2: Run 3.5 miles\n",
      "Day 3: Run 4.0 miles\n",
      "Day 4: Run 4.5 miles\n",
      "Day 5: Run 5.0 miles\n",
      "Day 6: Run 5.5 miles\n",
      "Day 7: Run 6.0 miles\n"
     ]
    }
   ],
   "source": [
    "# Different question with range\n",
    "\n",
    "for day in range(1, 8):\n",
    "    distance = 3 + (day - 1) * 0.5\n",
    "    print(f\"Day {day}: Run {distance:.1f} miles\")"
   ]
  },
  {
   "cell_type": "markdown",
   "id": "ae2247d0-b679-48eb-8587-ed6ea3f769df",
   "metadata": {},
   "source": [
    "## While loop"
   ]
  },
  {
   "attachments": {
    "0532bbfd-5fb3-4c44-b61d-8347543f16ce.png": {
     "image/png": "[encoded data removed]"
    }
   },
   "cell_type": "markdown",
   "id": "74f90170-216f-4cf8-bd26-7bd931266da3",
   "metadata": {},
   "source": [
    "![image.png](attachment:0532bbfd-5fb3-4c44-b61d-8347543f16ce.png)"
   ]
  },
  {
   "cell_type": "code",
   "execution_count": 103,
   "id": "18ee2bde-6045-4976-8734-f53541128fe0",
   "metadata": {},
   "outputs": [
    {
     "name": "stdout",
     "output_type": "stream",
     "text": [
      "i is 1\n",
      "i is 2\n",
      "i is 3\n"
     ]
    }
   ],
   "source": [
    "i = 1\n",
    "while i<=3:\n",
    "    print(\"i is {}\".format(i))\n",
    "    i = i+1"
   ]
  },
  {
   "cell_type": "code",
   "execution_count": 110,
   "id": "2185076f-f827-4e87-adbc-7848c16c644c",
   "metadata": {},
   "outputs": [
    {
     "name": "stdout",
     "output_type": "stream",
     "text": [
      "Current Letter : g\n",
      "Current Letter : k\n",
      "Current Letter : f\n",
      "Current Letter : o\n",
      "Current Letter : r\n",
      "Current Letter : g\n",
      "Current Letter : k\n"
     ]
    }
   ],
   "source": [
    "# Python \"Continue Statement\" returns the control to the beginning of the loop.\n",
    "\n",
    "# Prints all letters except 'e' and 's' \n",
    "i = 0\n",
    "a = 'geeksforgeeks'\n",
    "  \n",
    "while i < len(a): \n",
    "    if a[i] == 'e' or a[i] == 's': \n",
    "        i += 1\n",
    "        continue\n",
    "          \n",
    "    print('Current Letter :', a[i]) \n",
    "    i += 1"
   ]
  },
  {
   "cell_type": "code",
   "execution_count": 111,
   "id": "7521d36f-34d1-4fb7-b467-294bcc803cd3",
   "metadata": {},
   "outputs": [
    {
     "name": "stdout",
     "output_type": "stream",
     "text": [
      "Current Letter : g\n"
     ]
    }
   ],
   "source": [
    "# Python \"Break Statement\" brings control out of the loop.\n",
    "\n",
    "\n",
    "# break the loop when it sees 'e' or 's' \n",
    "i = 0\n",
    "a = 'geeksforgeeks'\n",
    "  \n",
    "while i < len(a): \n",
    "    if a[i] == 'e' or a[i] == 's': \n",
    "        i += 1\n",
    "        break\n",
    "          \n",
    "    print('Current Letter :', a[i]) \n",
    "    i += 1"
   ]
  },
  {
   "cell_type": "code",
   "execution_count": 112,
   "id": "9543f3d4-fb57-407d-a3ad-37ecd39b4e57",
   "metadata": {},
   "outputs": [
    {
     "name": "stdout",
     "output_type": "stream",
     "text": [
      "Value of i : 13\n"
     ]
    }
   ],
   "source": [
    "# The Python \"pass statement\" to write empty loops. Pass is also used for empty control statements, functions, and classes.\n",
    "\n",
    "\n",
    "# An empty loop \n",
    "a = 'geeksforgeeks'\n",
    "i = 0\n",
    "  \n",
    "while i < len(a): \n",
    "    i += 1\n",
    "    pass\n",
    "    \n",
    "print('Value of i :', i) "
   ]
  },
  {
   "cell_type": "code",
   "execution_count": 113,
   "id": "5de33ada-7c46-45d9-989b-e1d2b91fa4f4",
   "metadata": {},
   "outputs": [
    {
     "name": "stdout",
     "output_type": "stream",
     "text": [
      "1\n",
      "2\n",
      "3\n",
      "4\n",
      "No Break\n",
      "\n",
      "1\n"
     ]
    }
   ],
   "source": [
    "# While loop with else\n",
    "\n",
    "\n",
    "\n",
    "# Python program to demonstrate while-else loop \n",
    "  \n",
    "i = 0\n",
    "while i < 4: \n",
    "    i += 1\n",
    "    print(i) \n",
    "else:  # Executed because no break in for \n",
    "    print(\"No Break\\n\") \n",
    "  \n",
    "i = 0\n",
    "while i < 4: \n",
    "    i += 1\n",
    "    print(i) \n",
    "    break\n",
    "else:  # Not executed as there is a break \n",
    "    print(\"No Break\") "
   ]
  },
  {
   "cell_type": "code",
   "execution_count": 114,
   "id": "1c1e6c07-1422-4320-b906-2d5dad3fed4d",
   "metadata": {},
   "outputs": [
    {
     "name": "stdout",
     "output_type": "stream",
     "text": [
      "The ball is at a height of 10 meters.\n",
      "The ball is at a height of 5.0 meters.\n",
      "The ball is at a height of 2.5 meters.\n",
      "The ball is at a height of 1.25 meters.\n",
      "The ball is at a height of 0.625 meters.\n",
      "The ball is at a height of 0.3125 meters.\n",
      "The ball is at a height of 0.15625 meters.\n",
      "The ball has stopped bouncing.\n"
     ]
    }
   ],
   "source": [
    "# While loop exercise question based on bouncing ball problem\n",
    "\n",
    "initial_height = 10 \n",
    "bounce_factor = 0.5 \n",
    "height = initial_height \n",
    "while height > 0.1:   \n",
    "    print(\"The ball is at a height of\", height, \"meters.\") \n",
    "    height *= bounce_factor   \n",
    "print(\"The ball has stopped bouncing.\")"
   ]
  },
  {
   "cell_type": "code",
   "execution_count": 115,
   "id": "ae089870-db1a-40cc-b7e1-aeba5dc5d835",
   "metadata": {},
   "outputs": [
    {
     "name": "stdout",
     "output_type": "stream",
     "text": [
      "10\n",
      "9\n",
      "8\n",
      "7\n",
      "6\n",
      "5\n",
      "4\n",
      "3\n",
      "2\n",
      "1\n",
      "Blast off!\n"
     ]
    }
   ],
   "source": [
    "# Cound down problem with While loop\n",
    "\n",
    "countdown = 10\n",
    "while countdown > 0: \n",
    "    print(countdown) \n",
    "    countdown -= 1\n",
    "print(\"Blast off!\") "
   ]
  },
  {
   "cell_type": "markdown",
   "id": "afd678da-8175-4b84-a32a-5f6c84b629d2",
   "metadata": {},
   "source": [
    "## range()"
   ]
  },
  {
   "cell_type": "code",
   "execution_count": 104,
   "id": "1728ae44-6359-4eb7-9bdd-49c1bc0eec10",
   "metadata": {},
   "outputs": [],
   "source": [
    "# numbers of list from 0 to 10\n",
    "x=[0, 1,2,3,4,5,6,7,8,9,10]"
   ]
  },
  {
   "cell_type": "code",
   "execution_count": 108,
   "id": "80726e20-0d30-4c77-a57a-488192a05e51",
   "metadata": {},
   "outputs": [
    {
     "data": {
      "text/plain": [
       "range(0, 11)"
      ]
     },
     "execution_count": 108,
     "metadata": {},
     "output_type": "execute_result"
    }
   ],
   "source": [
    "# easy way to do it using range()\n",
    "range(11) # the last number (end point) is noot included"
   ]
  },
  {
   "cell_type": "code",
   "execution_count": 109,
   "id": "b8d2fc7b-4ee2-4f61-80a0-e7955f532a27",
   "metadata": {},
   "outputs": [
    {
     "data": {
      "text/plain": [
       "[0, 1, 2, 3, 4, 5, 6, 7, 8, 9, 10]"
      ]
     },
     "execution_count": 109,
     "metadata": {},
     "output_type": "execute_result"
    }
   ],
   "source": [
    "# to see the list\n",
    "list(range(11))"
   ]
  },
  {
   "cell_type": "code",
   "execution_count": 112,
   "id": "3b207870-5e09-4eee-80e6-9a0bd31426da",
   "metadata": {},
   "outputs": [
    {
     "data": {
      "text/plain": [
       "[0, 2, 4, 6, 8, 10]"
      ]
     },
     "execution_count": 112,
     "metadata": {},
     "output_type": "execute_result"
    }
   ],
   "source": [
    "# we can also add step (start, stop, step)\n",
    "# even numbers in this list\n",
    "list(range(0, 11,2))"
   ]
  },
  {
   "cell_type": "code",
   "execution_count": 113,
   "id": "fbe68135-3f2e-48b6-8941-d91be1f1924f",
   "metadata": {},
   "outputs": [
    {
     "name": "stdout",
     "output_type": "stream",
     "text": [
      "Hello!\n",
      "Hello!\n",
      "Hello!\n",
      "Hello!\n",
      "Hello!\n"
     ]
    }
   ],
   "source": [
    "# print 5 times \"Hello!\" using range and for loop\n",
    "for x in range(5):\n",
    "    print(\"Hello!\")"
   ]
  },
  {
   "cell_type": "markdown",
   "id": "c4707fdc-bf60-4f01-8ed0-a5f1bb55f8c3",
   "metadata": {},
   "source": [
    "## List Comprehension"
   ]
  },
  {
   "cell_type": "code",
   "execution_count": 114,
   "id": "ad5d78d7-db7f-4155-aba0-f32173c84363",
   "metadata": {},
   "outputs": [],
   "source": [
    "# use the \"x\" list below and print an \"output\" list with square of each number in x list\n",
    "x = [1,2,3,4,5,6]"
   ]
  },
  {
   "cell_type": "code",
   "execution_count": 117,
   "id": "58f45453-1dea-420a-95cd-b77f4371ca11",
   "metadata": {},
   "outputs": [
    {
     "name": "stdout",
     "output_type": "stream",
     "text": [
      "[1, 4, 9, 16, 25, 36]\n"
     ]
    }
   ],
   "source": [
    "output = [] # firs create an empty list\n",
    "for num in x:\n",
    "    output.append(num**2) # use append funtion to add new numbers to output list\n",
    "print(output) # print goes outside the for loop"
   ]
  },
  {
   "cell_type": "code",
   "execution_count": 118,
   "id": "6f716442-1ef1-4a80-ad7e-58183e5fb854",
   "metadata": {},
   "outputs": [
    {
     "data": {
      "text/plain": [
       "[1, 4, 9, 16, 25, 36]"
      ]
     },
     "execution_count": 118,
     "metadata": {},
     "output_type": "execute_result"
    }
   ],
   "source": [
    "# To have the result we can use List comprehension \n",
    "[num**2 for num in x] \n",
    "\n",
    "89# here, what we do is come first (num**2)"
   ]
  },
  {
   "cell_type": "markdown",
   "id": "bb2c29bb-c6d6-46fd-81c3-80a35a295a99",
   "metadata": {},
   "source": [
    "## Functions"
   ]
  },
  {
   "cell_type": "code",
   "execution_count": 1,
   "id": "3233d6e6-eb0d-45fa-9d0f-3c7273c32a0d",
   "metadata": {},
   "outputs": [],
   "source": [
    "def my_func():\n",
    "    print(\"Hello!\")"
   ]
  },
  {
   "cell_type": "code",
   "execution_count": 2,
   "id": "095f1836-24cd-4093-a15f-202041fcf1ca",
   "metadata": {},
   "outputs": [
    {
     "name": "stdout",
     "output_type": "stream",
     "text": [
      "Hello!\n"
     ]
    }
   ],
   "source": [
    "# call the funtion\n",
    "my_func()"
   ]
  },
  {
   "cell_type": "code",
   "execution_count": 74,
   "id": "02eef7e9-0f75-4cd7-bbaa-b2096438c0d9",
   "metadata": {},
   "outputs": [
    {
     "name": "stdout",
     "output_type": "stream",
     "text": [
      "Welcome Peter\n"
     ]
    }
   ],
   "source": [
    "# Add an argument, for example name\n",
    "def my_func(name):\n",
    "    print(\"Welcome \" + name)\n",
    "# Call Peter\n",
    "my_func(\"Peter\")"
   ]
  },
  {
   "cell_type": "code",
   "execution_count": 19,
   "id": "5993fdcf-2f29-4fc1-9c7d-dc8a0d06bc30",
   "metadata": {},
   "outputs": [],
   "source": [
    "# Argument as a defualt value\n",
    "def my_func(name=\"Username\"):  \n",
    "    print(\"Welcome \" + name)"
   ]
  },
  {
   "cell_type": "code",
   "execution_count": 20,
   "id": "51ac2629-bb7d-4fa2-959d-8d33e2ca8d09",
   "metadata": {},
   "outputs": [
    {
     "name": "stdout",
     "output_type": "stream",
     "text": [
      "Welcome Username\n"
     ]
    }
   ],
   "source": [
    "# If there is no name it gives the default value\n",
    "my_func()"
   ]
  },
  {
   "cell_type": "code",
   "execution_count": 21,
   "id": "69d619a0-4712-4c5a-90a5-7e77a13168be",
   "metadata": {},
   "outputs": [
    {
     "name": "stdout",
     "output_type": "stream",
     "text": [
      "Welcome Daisy\n"
     ]
    }
   ],
   "source": [
    "my_func(\"Daisy\")"
   ]
  },
  {
   "cell_type": "markdown",
   "id": "dec3571f-fb6c-492e-80ab-456d39ccb8ac",
   "metadata": {},
   "source": [
    "#### return\n",
    "\n",
    "* A return statement is overall used to invoke a function so that the passed statements can be executed.\n",
    "* Return statement can not be used outside the function."
   ]
  },
  {
   "cell_type": "code",
   "execution_count": 28,
   "id": "117f6dc4-3eff-48c5-b1cd-ef6eb1608a83",
   "metadata": {},
   "outputs": [],
   "source": [
    "def square(x):\n",
    "    return x**2"
   ]
  },
  {
   "cell_type": "code",
   "execution_count": 29,
   "id": "f260e583-f85b-475c-aa15-9628e65e0a7c",
   "metadata": {},
   "outputs": [
    {
     "data": {
      "text/plain": [
       "25"
      ]
     },
     "execution_count": 29,
     "metadata": {},
     "output_type": "execute_result"
    }
   ],
   "source": [
    "result=square(5)\n",
    "result"
   ]
  },
  {
   "cell_type": "code",
   "execution_count": 30,
   "id": "74bf7408-95ba-43c9-8349-2e9aa21d9f3d",
   "metadata": {},
   "outputs": [
    {
     "data": {
      "text/plain": [
       "25"
      ]
     },
     "execution_count": 30,
     "metadata": {},
     "output_type": "execute_result"
    }
   ],
   "source": [
    "# When we use return instead of print, we can save the function and call it later\n",
    "result"
   ]
  },
  {
   "cell_type": "code",
   "execution_count": 31,
   "id": "2c9de063-32e0-4692-b343-3da47e3a1897",
   "metadata": {},
   "outputs": [
    {
     "data": {
      "text/plain": [
       "int"
      ]
     },
     "execution_count": 31,
     "metadata": {},
     "output_type": "execute_result"
    }
   ],
   "source": [
    "type(result)"
   ]
  },
  {
   "cell_type": "code",
   "execution_count": 22,
   "id": "8977bcab-3528-44cc-b64c-7ec7349ea812",
   "metadata": {},
   "outputs": [],
   "source": [
    "def cube(x):\n",
    "   r=x**3\n",
    "   return r"
   ]
  },
  {
   "cell_type": "code",
   "execution_count": 23,
   "id": "ffe3c51c-ea30-424b-83e7-651194477219",
   "metadata": {},
   "outputs": [
    {
     "data": {
      "text/plain": [
       "27"
      ]
     },
     "execution_count": 23,
     "metadata": {},
     "output_type": "execute_result"
    }
   ],
   "source": [
    "cube(3) # we could also save it as a variable"
   ]
  },
  {
   "cell_type": "code",
   "execution_count": 24,
   "id": "07720a09-3759-4b93-9836-42d59991f2b6",
   "metadata": {},
   "outputs": [],
   "source": [
    "def add(a, b): \n",
    "    # returning sum of a and b\n",
    "    return a + b"
   ]
  },
  {
   "cell_type": "code",
   "execution_count": 25,
   "id": "58cb337d-5b7c-4305-b8eb-edf301db84ed",
   "metadata": {},
   "outputs": [
    {
     "data": {
      "text/plain": [
       "25"
      ]
     },
     "execution_count": 25,
     "metadata": {},
     "output_type": "execute_result"
    }
   ],
   "source": [
    "add(12,13)"
   ]
  },
  {
   "cell_type": "code",
   "execution_count": 76,
   "id": "77101c2b-1423-4123-965b-7b8f7b0a8536",
   "metadata": {},
   "outputs": [
    {
     "name": "stdout",
     "output_type": "stream",
     "text": [
      "Result of add function is 50\n"
     ]
    }
   ],
   "source": [
    "# call it using print\n",
    "res = add(20, 30)\n",
    "print(\"Result of add function is {}\".format(res))"
   ]
  },
  {
   "cell_type": "markdown",
   "id": "9dd26582-4a69-4d70-956c-70fe4043c40a",
   "metadata": {},
   "source": [
    "## Lambda Expression\n",
    "* In Python, a lambda function is a concise way to create small, anonymous functions. Unlike regular functions defined with the def keyword, lambda functions are created using the lambda keyword and are typically used for short, immediate operations."
   ]
  },
  {
   "cell_type": "code",
   "execution_count": 130,
   "id": "302537fe-b9e4-4d3c-8d72-fc6e39071884",
   "metadata": {},
   "outputs": [
    {
     "data": {
      "text/plain": [
       "6"
      ]
     },
     "execution_count": 130,
     "metadata": {},
     "output_type": "execute_result"
    }
   ],
   "source": [
    "# Let's compare Lambda with Function\n",
    "def times_two(var):\n",
    "    return var*2\n",
    "times_two (3)"
   ]
  },
  {
   "cell_type": "code",
   "execution_count": 131,
   "id": "29ce8389-ad73-4eaa-b65f-0dc5a5fc441f",
   "metadata": {},
   "outputs": [
    {
     "data": {
      "text/plain": [
       "<function __main__.<lambda>(var)>"
      ]
     },
     "execution_count": 131,
     "metadata": {},
     "output_type": "execute_result"
    }
   ],
   "source": [
    "# Use Lambda instead of Function\n",
    "lambda var:var*2"
   ]
  },
  {
   "cell_type": "code",
   "execution_count": 132,
   "id": "a017a772-b806-4d6e-922a-538f00d584cc",
   "metadata": {},
   "outputs": [
    {
     "name": "stdout",
     "output_type": "stream",
     "text": [
      "14\n"
     ]
    }
   ],
   "source": [
    "two_times= lambda var:var*2\n",
    "print(two_times(7))"
   ]
  },
  {
   "cell_type": "code",
   "execution_count": 133,
   "id": "59baa196-2100-4aa6-ad8a-4e9a108659fe",
   "metadata": {},
   "outputs": [
    {
     "name": "stdout",
     "output_type": "stream",
     "text": [
      "15\n"
     ]
    }
   ],
   "source": [
    "# Add 10 to the argument 'a' and return the result\n",
    "add_ten = lambda a: a + 10\n",
    "print(add_ten(5))  "
   ]
  },
  {
   "cell_type": "code",
   "execution_count": 134,
   "id": "db1f736a-3c48-4a07-9195-96324bc86cf7",
   "metadata": {},
   "outputs": [
    {
     "name": "stdout",
     "output_type": "stream",
     "text": [
      "63\n"
     ]
    }
   ],
   "source": [
    "x = lambda a, b : a * b\n",
    "print(x(7, 9))"
   ]
  },
  {
   "cell_type": "markdown",
   "id": "f8979bd4-6cc5-4e7b-9e59-a9ee07cf62f2",
   "metadata": {},
   "source": [
    "## Map and Filter"
   ]
  },
  {
   "cell_type": "code",
   "execution_count": 135,
   "id": "9c5c28e3-c6ca-4cfb-b0e4-e29b30ca2090",
   "metadata": {},
   "outputs": [],
   "source": [
    "seq = [1,2,3,4,5]"
   ]
  },
  {
   "cell_type": "code",
   "execution_count": 136,
   "id": "ed909291-4ce8-4569-8175-4e53473c5b7c",
   "metadata": {},
   "outputs": [
    {
     "data": {
      "text/plain": [
       "<map at 0x19a4a279a20>"
      ]
     },
     "execution_count": 136,
     "metadata": {},
     "output_type": "execute_result"
    }
   ],
   "source": [
    "map(two_times,seq)"
   ]
  },
  {
   "cell_type": "code",
   "execution_count": 138,
   "id": "239df9fe-2e98-4fc6-b47b-67ec0b54d974",
   "metadata": {},
   "outputs": [
    {
     "data": {
      "text/plain": [
       "[2, 4, 6, 8, 10]"
      ]
     },
     "execution_count": 138,
     "metadata": {},
     "output_type": "execute_result"
    }
   ],
   "source": [
    "list(map(two_times,seq))"
   ]
  },
  {
   "cell_type": "code",
   "execution_count": 139,
   "id": "2938a830-781e-4693-9751-e83abd577c7d",
   "metadata": {},
   "outputs": [
    {
     "data": {
      "text/plain": [
       "[2, 4, 6, 8, 10]"
      ]
     },
     "execution_count": 139,
     "metadata": {},
     "output_type": "execute_result"
    }
   ],
   "source": [
    "list(map(lambda var: var*2,seq))"
   ]
  },
  {
   "cell_type": "code",
   "execution_count": 140,
   "id": "aacbc4d3-babf-4cfa-956e-cb31842524f6",
   "metadata": {},
   "outputs": [
    {
     "data": {
      "text/plain": [
       "<filter at 0x19a49500d90>"
      ]
     },
     "execution_count": 140,
     "metadata": {},
     "output_type": "execute_result"
    }
   ],
   "source": [
    "filter(lambda item: item%2 == 0,seq)"
   ]
  },
  {
   "cell_type": "code",
   "execution_count": 141,
   "id": "3800571f-8d16-447f-9543-3cf365e76028",
   "metadata": {},
   "outputs": [
    {
     "data": {
      "text/plain": [
       "[2, 4]"
      ]
     },
     "execution_count": 141,
     "metadata": {},
     "output_type": "execute_result"
    }
   ],
   "source": [
    "list(filter(lambda item: item%2 == 0,seq))"
   ]
  },
  {
   "cell_type": "markdown",
   "id": "469f24ac-5c1d-46ff-b5b1-b65f4d46c28d",
   "metadata": {},
   "source": [
    "## String methods\n",
    "#### Lower and Upper "
   ]
  },
  {
   "cell_type": "code",
   "execution_count": 42,
   "id": "8fac1ca6-e21b-4b9e-b137-80888cb4b2a6",
   "metadata": {},
   "outputs": [],
   "source": [
    "st=\"HELLO my name is JOHN\""
   ]
  },
  {
   "cell_type": "code",
   "execution_count": 43,
   "id": "23983498-8f5b-461f-b7f2-4d52bbab52a1",
   "metadata": {},
   "outputs": [
    {
     "data": {
      "text/plain": [
       "'hello my name is john'"
      ]
     },
     "execution_count": 43,
     "metadata": {},
     "output_type": "execute_result"
    }
   ],
   "source": [
    "st.lower()"
   ]
  },
  {
   "cell_type": "code",
   "execution_count": 44,
   "id": "adec2171-ea81-47ae-975e-58f6492993bc",
   "metadata": {},
   "outputs": [
    {
     "data": {
      "text/plain": [
       "'HELLO MY NAME IS JOHN'"
      ]
     },
     "execution_count": 44,
     "metadata": {},
     "output_type": "execute_result"
    }
   ],
   "source": [
    "st.upper()"
   ]
  },
  {
   "cell_type": "markdown",
   "id": "e766b4bf-9cea-4b04-927d-ecb82a418bf0",
   "metadata": {},
   "source": [
    "#### Split"
   ]
  },
  {
   "cell_type": "code",
   "execution_count": 45,
   "id": "aab08629-fef4-4817-b4b5-80b1b922d46e",
   "metadata": {},
   "outputs": [
    {
     "data": {
      "text/plain": [
       "['HELLO', 'my', 'name', 'is', 'JOHN']"
      ]
     },
     "execution_count": 45,
     "metadata": {},
     "output_type": "execute_result"
    }
   ],
   "source": [
    "st.split()"
   ]
  },
  {
   "cell_type": "code",
   "execution_count": 46,
   "id": "18811410-e629-4e48-b9f8-0606957b49d2",
   "metadata": {},
   "outputs": [],
   "source": [
    "# By default, it splits based on white spaces\n",
    "tweet = \"News #politics\""
   ]
  },
  {
   "cell_type": "code",
   "execution_count": 47,
   "id": "e22ad80c-1ffc-49a1-9a58-c0a0b7a6da73",
   "metadata": {},
   "outputs": [
    {
     "data": {
      "text/plain": [
       "['News', '#politics']"
      ]
     },
     "execution_count": 47,
     "metadata": {},
     "output_type": "execute_result"
    }
   ],
   "source": [
    "tweet.split()"
   ]
  },
  {
   "cell_type": "code",
   "execution_count": 48,
   "id": "6ed3ac9d-934f-4f3b-8a21-6bce2d940b24",
   "metadata": {},
   "outputs": [
    {
     "data": {
      "text/plain": [
       "['News ', 'politics']"
      ]
     },
     "execution_count": 48,
     "metadata": {},
     "output_type": "execute_result"
    }
   ],
   "source": [
    "# Split it using a specific chracter\n",
    "tweet.split(\"#\")\n",
    "# \"#\" is no more visible"
   ]
  },
  {
   "cell_type": "code",
   "execution_count": 49,
   "id": "96548022-8bb5-419b-b57e-6359b604163e",
   "metadata": {},
   "outputs": [
    {
     "data": {
      "text/plain": [
       "'politics'"
      ]
     },
     "execution_count": 49,
     "metadata": {},
     "output_type": "execute_result"
    }
   ],
   "source": [
    "# take only \"politics\"\n",
    "tweet.split(\"#\")[-1]"
   ]
  },
  {
   "cell_type": "markdown",
   "id": "ec8a3551-0f81-4420-9a90-8489e1c002d7",
   "metadata": {},
   "source": [
    "## Exercises"
   ]
  },
  {
   "cell_type": "markdown",
   "id": "a9efd789-c47a-4607-b697-927efbf48145",
   "metadata": {},
   "source": [
    "##### 1) What is 9 to the power of 5?"
   ]
  },
  {
   "cell_type": "code",
   "execution_count": 47,
   "id": "210218b7-aa81-490b-b898-a5ecb757af83",
   "metadata": {},
   "outputs": [
    {
     "data": {
      "text/plain": [
       "59049"
      ]
     },
     "execution_count": 47,
     "metadata": {},
     "output_type": "execute_result"
    }
   ],
   "source": [
    "9**5"
   ]
  },
  {
   "cell_type": "markdown",
   "id": "00b104e5-e508-40ca-b17c-bc3e04992b77",
   "metadata": {},
   "source": [
    "##### 2) Split this string into a list: s = \"Hi John! How are you?\""
   ]
  },
  {
   "cell_type": "code",
   "execution_count": 10,
   "id": "9d77d618-9a42-44c4-9a8a-eba047a61147",
   "metadata": {},
   "outputs": [
    {
     "data": {
      "text/plain": [
       "['Hi', 'John!', 'How', 'are', 'you?']"
      ]
     },
     "execution_count": 10,
     "metadata": {},
     "output_type": "execute_result"
    }
   ],
   "source": [
    "s = \"Hi John! How are you?\"\n",
    "s_list=s.split()\n",
    "s_list"
   ]
  },
  {
   "cell_type": "code",
   "execution_count": 4,
   "id": "7631d7ec-e44c-4d36-8739-0b1e88e79d12",
   "metadata": {},
   "outputs": [
    {
     "data": {
      "text/plain": [
       "['Hi John', ' How are you?']"
      ]
     },
     "execution_count": 4,
     "metadata": {},
     "output_type": "execute_result"
    }
   ],
   "source": [
    "# split it from \"!\" mark\n",
    "s.split(\"!\")"
   ]
  },
  {
   "cell_type": "markdown",
   "id": "528297e3-a93c-442b-9303-6609f9b2be6a",
   "metadata": {},
   "source": [
    "##### 3) Replace John with Michael"
   ]
  },
  {
   "cell_type": "code",
   "execution_count": 7,
   "id": "eea57e3f-c6ed-4172-a7c0-17276afb5e32",
   "metadata": {},
   "outputs": [
    {
     "data": {
      "text/plain": [
       "'Hi Michael! How are you?'"
      ]
     },
     "execution_count": 7,
     "metadata": {},
     "output_type": "execute_result"
    }
   ],
   "source": [
    "s1= s.replace(\"John\", \"Michael\")\n",
    "s1"
   ]
  },
  {
   "cell_type": "markdown",
   "id": "9c135b1d-06a3-4cdb-ae32-6206d5f0aa0b",
   "metadata": {},
   "source": [
    "##### 4) Given the variables planet=\"Earth\" and diameter= 12742 use \".format()\" to print the following string: The diameter of Earth is 12742 kilometers."
   ]
  },
  {
   "cell_type": "code",
   "execution_count": 13,
   "id": "28c714f5-de79-4855-a02b-d5d1a0fc4c42",
   "metadata": {},
   "outputs": [],
   "source": [
    "planet=\"Earth\" \n",
    "diameter= 12742 "
   ]
  },
  {
   "cell_type": "code",
   "execution_count": 14,
   "id": "b8b38bd7-186b-48c6-9527-2a36bff9d885",
   "metadata": {},
   "outputs": [
    {
     "name": "stdout",
     "output_type": "stream",
     "text": [
      "The diameter of Earth is 12742 kilometers.\n"
     ]
    }
   ],
   "source": [
    "print(\"The diameter of {} is {} kilometers.\".format(planet, diameter))"
   ]
  },
  {
   "cell_type": "markdown",
   "id": "8bcded44-d2f2-45b0-8eee-2bd5bc9a74a7",
   "metadata": {},
   "source": [
    "##### 5) Given this nested list, use indexing to grab the word \"Welcome\""
   ]
  },
  {
   "cell_type": "code",
   "execution_count": 18,
   "id": "4bd4eb69-3fb8-44fb-b860-32d7f05c9c2f",
   "metadata": {},
   "outputs": [],
   "source": [
    "my_lst = [11,24,[33,45],[57,[101,202,['Welcome']],123,111],41,73]"
   ]
  },
  {
   "cell_type": "code",
   "execution_count": 48,
   "id": "ddb6bde6-3908-41a4-bfe1-a0c7dc9bbdd1",
   "metadata": {},
   "outputs": [
    {
     "data": {
      "text/plain": [
       "'Welcome'"
      ]
     },
     "execution_count": 48,
     "metadata": {},
     "output_type": "execute_result"
    }
   ],
   "source": [
    "my_lst[3][1][2][0] # we use lastly \"[0]\" to take the word out"
   ]
  },
  {
   "cell_type": "markdown",
   "id": "5a8c9d60-7093-48fe-a189-b49f984e63e0",
   "metadata": {},
   "source": [
    "##### 6)  Given this nested dictionary take the word \"ear\". "
   ]
  },
  {
   "cell_type": "code",
   "execution_count": 20,
   "id": "5c5ac13f-d5c9-4c7e-a056-25c79df736a1",
   "metadata": {},
   "outputs": [],
   "source": [
    "dict = {'k1':[15,23,43,{'careful':['hi','bro','whats up',{'target':[11,24,32,'dear']}]}]}"
   ]
  },
  {
   "cell_type": "code",
   "execution_count": 24,
   "id": "dd5a41a9-8790-44a8-9698-40f83a062fac",
   "metadata": {},
   "outputs": [
    {
     "data": {
      "text/plain": [
       "dict_keys(['k1'])"
      ]
     },
     "execution_count": 24,
     "metadata": {},
     "output_type": "execute_result"
    }
   ],
   "source": [
    "# let's see the keys and values of dict\n",
    "dict.keys()"
   ]
  },
  {
   "cell_type": "code",
   "execution_count": 35,
   "id": "477b8e82-c942-41ee-8391-87a88e689afe",
   "metadata": {},
   "outputs": [
    {
     "data": {
      "text/plain": [
       "dict_values([[15, 23, 43, {'careful': ['hi', 'bro', 'whats up', {'target': [11, 24, 32, 'dear']}]}]])"
      ]
     },
     "execution_count": 35,
     "metadata": {},
     "output_type": "execute_result"
    }
   ],
   "source": [
    "dict.values()\n"
   ]
  },
  {
   "cell_type": "code",
   "execution_count": 32,
   "id": "b578502f-14de-4543-804f-b4b9fc8fa241",
   "metadata": {},
   "outputs": [
    {
     "data": {
      "text/plain": [
       "[15,\n",
       " 23,\n",
       " 43,\n",
       " {'careful': ['hi', 'bro', 'whats up', {'target': [11, 24, 32, 'dear']}]}]"
      ]
     },
     "execution_count": 32,
     "metadata": {},
     "output_type": "execute_result"
    }
   ],
   "source": [
    "# Let's explore this dictionary. There are keys and lists\n",
    "# the first key is \"k1\"\n",
    "dict[\"k1\"] "
   ]
  },
  {
   "cell_type": "code",
   "execution_count": 34,
   "id": "5c0f2f3e-2d71-4f04-a838-2eccf188e2d6",
   "metadata": {},
   "outputs": [
    {
     "data": {
      "text/plain": [
       "{'careful': ['hi', 'bro', 'whats up', {'target': [11, 24, 32, 'dear']}]}"
      ]
     },
     "execution_count": 34,
     "metadata": {},
     "output_type": "execute_result"
    }
   ],
   "source": [
    "dict[\"k1\"][3] # last item is dictionary: \"careful\""
   ]
  },
  {
   "cell_type": "code",
   "execution_count": 38,
   "id": "1afabe28-5df9-49f7-a140-8b77abf16d02",
   "metadata": {},
   "outputs": [
    {
     "data": {
      "text/plain": [
       "['hi', 'bro', 'whats up', {'target': [11, 24, 32, 'dear']}]"
      ]
     },
     "execution_count": 38,
     "metadata": {},
     "output_type": "execute_result"
    }
   ],
   "source": [
    "# Inside \"careful\", there is a list\n",
    "dict[\"k1\"][3][\"careful\"]  "
   ]
  },
  {
   "cell_type": "code",
   "execution_count": 39,
   "id": "4c851038-7ecf-4383-8304-bc9536b00f78",
   "metadata": {},
   "outputs": [
    {
     "data": {
      "text/plain": [
       "{'target': [11, 24, 32, 'dear']}"
      ]
     },
     "execution_count": 39,
     "metadata": {},
     "output_type": "execute_result"
    }
   ],
   "source": [
    "dict[\"k1\"][3][\"careful\"][3]  # there is another key \"target\""
   ]
  },
  {
   "cell_type": "code",
   "execution_count": 40,
   "id": "1f25e7c0-db3e-478e-9652-8080fd5d5cc4",
   "metadata": {},
   "outputs": [
    {
     "data": {
      "text/plain": [
       "[11, 24, 32, 'dear']"
      ]
     },
     "execution_count": 40,
     "metadata": {},
     "output_type": "execute_result"
    }
   ],
   "source": [
    "# Inside \"target\", there is a list\n",
    "dict[\"k1\"][3][\"careful\"][3][\"target\"]"
   ]
  },
  {
   "cell_type": "code",
   "execution_count": 41,
   "id": "f76e335e-8c76-4c2d-825a-8f31029f8b3e",
   "metadata": {},
   "outputs": [
    {
     "data": {
      "text/plain": [
       "'dear'"
      ]
     },
     "execution_count": 41,
     "metadata": {},
     "output_type": "execute_result"
    }
   ],
   "source": [
    "# last item in this list is \"dear\"\n",
    "dict[\"k1\"][3][\"careful\"][3][\"target\"][-1]"
   ]
  },
  {
   "cell_type": "markdown",
   "id": "4f62dd28-ee3b-4dd4-9c4b-2ca18aad24d1",
   "metadata": {},
   "source": [
    "##### 7) Create a function that grabs the email website domain from a string in the form: \n",
    "\n",
    "user@domain.com\n",
    "\n",
    "So for example, passing \"user@domain.com\" would return: domain.com"
   ]
  },
  {
   "cell_type": "code",
   "execution_count": 43,
   "id": "d11664e5-52fe-4021-ace8-d49b047b70e4",
   "metadata": {},
   "outputs": [
    {
     "data": {
      "text/plain": [
       "'domain.com'"
      ]
     },
     "execution_count": 43,
     "metadata": {},
     "output_type": "execute_result"
    }
   ],
   "source": [
    "# Lets first split it then use it in a function\n",
    "str=\"user@domain.com\"\n",
    "str.split(\"@\")[-1]"
   ]
  },
  {
   "cell_type": "code",
   "execution_count": 44,
   "id": "7d189391-59ae-4f5e-b6fc-8dbd74931256",
   "metadata": {},
   "outputs": [],
   "source": [
    "# Call it domain function\n",
    "def domain(str):\n",
    "    return str.split(\"@\")[-1]\n",
    "    "
   ]
  },
  {
   "cell_type": "code",
   "execution_count": 46,
   "id": "f18b9ac0-6933-4beb-ad95-0cffad7d1abb",
   "metadata": {},
   "outputs": [
    {
     "data": {
      "text/plain": [
       "'gmail.com'"
      ]
     },
     "execution_count": 46,
     "metadata": {},
     "output_type": "execute_result"
    }
   ],
   "source": [
    "domain (\"hello@gmail.com\")"
   ]
  },
  {
   "cell_type": "markdown",
   "id": "08a21947-4382-495a-b612-cf6ca167759b",
   "metadata": {},
   "source": [
    "##### 8)  Create a basic function that returns True if the word 'cat' is contained in the input string. Consider also lower and upper case possibilities."
   ]
  },
  {
   "cell_type": "code",
   "execution_count": 59,
   "id": "74fcc44b-1cc7-4acd-8549-d5a363ffb048",
   "metadata": {},
   "outputs": [],
   "source": [
    "def find_cat(st):\n",
    "    return \"cat\" in st.lower()"
   ]
  },
  {
   "cell_type": "code",
   "execution_count": 60,
   "id": "9f2cd8ad-2c5c-457c-83eb-7a901a5c3f2e",
   "metadata": {},
   "outputs": [
    {
     "data": {
      "text/plain": [
       "True"
      ]
     },
     "execution_count": 60,
     "metadata": {},
     "output_type": "execute_result"
    }
   ],
   "source": [
    "find_cat(\"Is there any cat in this sentence? Cat is over there.\")"
   ]
  },
  {
   "cell_type": "markdown",
   "id": "d981d0ab-e188-4894-bb92-95eda033f25f",
   "metadata": {},
   "source": [
    "##### 8) Find the number of \"cat\"s in the given sentences."
   ]
  },
  {
   "cell_type": "code",
   "execution_count": 77,
   "id": "5bf113a4-d73c-441b-ba87-ef23e9a716dd",
   "metadata": {},
   "outputs": [],
   "source": [
    "def count_cat(st):\n",
    "    count = 0\n",
    "    for word in st.lower().split():\n",
    "        if word ==\"cat\":\n",
    "            count+=1\n",
    "    return count"
   ]
  },
  {
   "cell_type": "code",
   "execution_count": 81,
   "id": "33725f87-677d-4799-8be4-9ef6bc6e32e1",
   "metadata": {},
   "outputs": [
    {
     "data": {
      "text/plain": [
       "2"
      ]
     },
     "execution_count": 81,
     "metadata": {},
     "output_type": "execute_result"
    }
   ],
   "source": [
    "count_cat(\"Is there any cat in this sentence? Is it a cat or dog?\")"
   ]
  },
  {
   "cell_type": "markdown",
   "id": "7b2769e6-145d-4a17-a0a2-1385f3dd92d2",
   "metadata": {},
   "source": [
    "##### 9) Use lambda expressions and the filter() function to filter out words from a list that don't start with the letter 's'. For example:\n",
    "\n",
    "seq = ['soup','dog','salad','cat','great']\n",
    "\n",
    "should be filtered down to:['soup','salad']"
   ]
  },
  {
   "cell_type": "code",
   "execution_count": 87,
   "id": "9c5072eb-5c6a-4fbf-8fa7-d155bf4e542e",
   "metadata": {},
   "outputs": [],
   "source": [
    "seq = ['soup', 'dog', 'salad', 'cat', 'great']"
   ]
  },
  {
   "cell_type": "code",
   "execution_count": 89,
   "id": "d1685b7e-d4a2-4135-ac07-044416fc702e",
   "metadata": {},
   "outputs": [
    {
     "name": "stdout",
     "output_type": "stream",
     "text": [
      "['soup', 'salad']\n"
     ]
    }
   ],
   "source": [
    "filtered_seq = list(filter(lambda word: word.startswith('s'), seq))\n",
    "print(filtered_seq)"
   ]
  },
  {
   "cell_type": "markdown",
   "id": "9bc2065d-b7e5-4db7-a7de-c3d564bb9638",
   "metadata": {},
   "source": [
    "##### 10) You are driving a little too fast, and a police officer stops you. Write a function to return one of 3 possible results: \"No ticket\", \"Small ticket\", or \"Big Ticket\". If your speed is 60 or less, the result is \"No Ticket\". If speed is between 61 and 80 inclusive, the result is \"Small Ticket\". If speed is 81 or more, the result is \"Big Ticket\"."
   ]
  },
  {
   "cell_type": "code",
   "execution_count": 95,
   "id": "c6e1efe6-c3ee-42f8-ace4-c07981eb790c",
   "metadata": {},
   "outputs": [],
   "source": [
    "def ticket(speed):\n",
    "    if speed <= 60:\n",
    "        print(\"No Ticket\")\n",
    "    elif speed >60 and speed<80:\n",
    "        print(\"Small Ticket\")\n",
    "    else:\n",
    "        print(\"Big Ticket\")"
   ]
  },
  {
   "cell_type": "code",
   "execution_count": 96,
   "id": "54270a5f-6a47-46f9-b977-0d85d14a0332",
   "metadata": {},
   "outputs": [
    {
     "name": "stdout",
     "output_type": "stream",
     "text": [
      "Big Ticket\n"
     ]
    }
   ],
   "source": [
    "ticket(100)"
   ]
  },
  {
   "cell_type": "code",
   "execution_count": 97,
   "id": "ddd785d3-c6b6-4b1f-ba53-6031cca8a8a0",
   "metadata": {},
   "outputs": [
    {
     "name": "stdout",
     "output_type": "stream",
     "text": [
      "No Ticket\n"
     ]
    }
   ],
   "source": [
    "ticket(60)"
   ]
  },
  {
   "cell_type": "code",
   "execution_count": 98,
   "id": "6b60f429-5084-456a-844e-3908d2a79232",
   "metadata": {},
   "outputs": [
    {
     "name": "stdout",
     "output_type": "stream",
     "text": [
      "Small Ticket\n"
     ]
    }
   ],
   "source": [
    "ticket(61)"
   ]
  },
  {
   "cell_type": "markdown",
   "id": "4f349ff7-23e9-49a2-aadf-69802220a1f2",
   "metadata": {},
   "source": [
    "##### 11) Write a function considering three posibilities above. Also, unless it is your birthday (encoded as a boolean value in the parameters of the function) -- on your birthday, your speed can be 5 higher in all cases."
   ]
  },
  {
   "cell_type": "code",
   "execution_count": 103,
   "id": "54c1a513-29a5-4f24-bbdd-4d7b3a4993b6",
   "metadata": {},
   "outputs": [],
   "source": [
    "def caught_speeding(speed, is_birthday):\n",
    "\n",
    "    # first if clause: birthday option (True or False)\n",
    "    if is_birthday:\n",
    "        speeding= speed-5\n",
    "    else:\n",
    "        speeding=speed\n",
    "        \n",
    "    # second if clause: speed option\n",
    "    if speeding>80:\n",
    "        return \"Big Ticket\"\n",
    "    elif speeding>60:\n",
    "        return \"Small Ticket\"\n",
    "    else:\n",
    "        return \"No Ticket\""
   ]
  },
  {
   "cell_type": "code",
   "execution_count": 105,
   "id": "ed6f5073-a11c-44ae-bdb3-1def1801d3cc",
   "metadata": {},
   "outputs": [
    {
     "data": {
      "text/plain": [
       "'No Ticket'"
      ]
     },
     "execution_count": 105,
     "metadata": {},
     "output_type": "execute_result"
    }
   ],
   "source": [
    "caught_speeding(65, True) # True means birthday. So, speeding= speed-5"
   ]
  },
  {
   "cell_type": "code",
   "execution_count": 107,
   "id": "317e9a35-3c06-4977-aae2-2693a6352c5a",
   "metadata": {},
   "outputs": [
    {
     "data": {
      "text/plain": [
       "'Big Ticket'"
      ]
     },
     "execution_count": 107,
     "metadata": {},
     "output_type": "execute_result"
    }
   ],
   "source": [
    "caught_speeding(81, False) # False means not birthday. So, speeding=speed"
   ]
  }
 ],
 "metadata": {
  "kernelspec": {
   "display_name": "Python 3 (ipykernel)",
   "language": "python",
   "name": "python3"
  },
  "language_info": {
   "codemirror_mode": {
    "name": "ipython",
    "version": 3
   },
   "file_extension": ".py",
   "mimetype": "text/x-python",
   "name": "python",
   "nbconvert_exporter": "python",
   "pygments_lexer": "ipython3",
   "version": "3.11.7"
  }
 },
 "nbformat": 4,
 "nbformat_minor": 5
}
