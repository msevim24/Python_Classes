{
 "cells": [
  {
   "cell_type": "markdown",
   "id": "0955de40-8bdc-49bf-a1f9-72aece5b08c2",
   "metadata": {},
   "source": [
    "# <p style=\"background-color:#9d4f8c; font-family:newtimeroman; color:#FFF9ED; font-size:175%; text-align:center; border-radius:10px 10px;\">Pandas (6)</p>"
   ]
  },
  {
   "cell_type": "markdown",
   "id": "38e56611-080d-4203-a811-3256b9a1433e",
   "metadata": {},
   "source": [
    "<div class=\"alert alert-block alert-info alert\">  \n",
    "    \n",
    "# <span style=\" color:red\">  Text Methods & Time Methods\n",
    "\n",
    "## Table of Contents\n",
    "**1. Text Methods for String Data**\n",
    "* Split, grab and expand \n",
    "* Clean and edit strings\n",
    "* apply() function\n",
    "  \n",
    "**2. Time Methods for Date and Time**\n",
    "* Converting to datetime: pd.to_datetime()\n",
    "* European vs American date format\n",
    "* Custom Time String Formatting\n",
    "* parse_dates\n",
    "* Resample: Date Column as an Index\n",
    "* .dt method"
   ]
  },
  {
   "cell_type": "markdown",
   "id": "cfa616d1-12bf-44e0-9e5d-7572e332ee12",
   "metadata": {},
   "source": [
    "## 1. Text Methods for String Data\n",
    "\n",
    "* Often text data needs to be cleaned or manipulated for processing.\n",
    "* While we can always use a custom apply() function for these tasks, Pandas provides many built-in string methods.\n",
    "* For detailed informations, visit https://pandas.pydata.org/docs/user_guide/text.html"
   ]
  },
  {
   "cell_type": "code",
   "execution_count": 1,
   "id": "77e7dd6a-962e-4bd2-8627-615506fd2b04",
   "metadata": {},
   "outputs": [],
   "source": [
    "import numpy as np\n",
    "import pandas as pd"
   ]
  },
  {
   "cell_type": "code",
   "execution_count": 2,
   "id": "ea78efac-9ee6-40c0-a97a-0dd78065d484",
   "metadata": {},
   "outputs": [],
   "source": [
    "email = \"karlos@email.com\""
   ]
  },
  {
   "cell_type": "code",
   "execution_count": 3,
   "id": "1b14732b-17c6-4cdd-96b1-897212cf67c3",
   "metadata": {},
   "outputs": [
    {
     "data": {
      "text/plain": [
       "['karlos', 'email.com']"
      ]
     },
     "execution_count": 3,
     "metadata": {},
     "output_type": "execute_result"
    }
   ],
   "source": [
    "# after \"email.\" use tab to see string methods (capitalize, find, lower, upper, split, strip, etc.)\n",
    "\n",
    "email.split(\"@\")   # split from \"@\""
   ]
  },
  {
   "cell_type": "code",
   "execution_count": 4,
   "id": "b40d45a6-4e21-4758-a470-c203c4986815",
   "metadata": {},
   "outputs": [],
   "source": [
    "# Let's create pandas series\n",
    "names = pd.Series([\"andrew\", \"bobo\", \"claire\", \"david\", \"5\"])   # here, 5 is a string value"
   ]
  },
  {
   "cell_type": "code",
   "execution_count": 5,
   "id": "1162bdb2-979b-4dda-adf2-442cd7a2a5a9",
   "metadata": {},
   "outputs": [
    {
     "data": {
      "text/plain": [
       "0    andrew\n",
       "1      bobo\n",
       "2    claire\n",
       "3     david\n",
       "4         5\n",
       "dtype: object"
      ]
     },
     "execution_count": 5,
     "metadata": {},
     "output_type": "execute_result"
    }
   ],
   "source": [
    "names\n",
    "# See the elements and the data type of this series"
   ]
  },
  {
   "cell_type": "code",
   "execution_count": 6,
   "id": "d834d1b7-0480-4b9d-a399-7108b0d47291",
   "metadata": {},
   "outputs": [
    {
     "data": {
      "text/plain": [
       "0    ANDREW\n",
       "1      BOBO\n",
       "2    CLAIRE\n",
       "3     DAVID\n",
       "4         5\n",
       "dtype: object"
      ]
     },
     "execution_count": 6,
     "metadata": {},
     "output_type": "execute_result"
    }
   ],
   "source": [
    "# We can make all values upper case using \"upper\" method\n",
    "names.str.upper() \n",
    "# But this is just a tempoarary change. To make it permanent, assign it to a variable."
   ]
  },
  {
   "cell_type": "code",
   "execution_count": 7,
   "id": "50f844a7-e344-4ca8-a340-608f394004c0",
   "metadata": {},
   "outputs": [
    {
     "data": {
      "text/plain": [
       "False"
      ]
     },
     "execution_count": 7,
     "metadata": {},
     "output_type": "execute_result"
    }
   ],
   "source": [
    "# use isdigit method\n",
    "email.isdigit()  \n",
    "# It is not digit but a variable"
   ]
  },
  {
   "cell_type": "code",
   "execution_count": 8,
   "id": "29da94af-8d8a-48c5-a598-ef73dcce5a16",
   "metadata": {},
   "outputs": [
    {
     "data": {
      "text/plain": [
       "True"
      ]
     },
     "execution_count": 8,
     "metadata": {},
     "output_type": "execute_result"
    }
   ],
   "source": [
    "\"5\".isdigit()  "
   ]
  },
  {
   "cell_type": "code",
   "execution_count": 9,
   "id": "8a81797d-ab08-47db-9f71-39898738142f",
   "metadata": {
    "scrolled": true
   },
   "outputs": [
    {
     "data": {
      "text/plain": [
       "0    False\n",
       "1    False\n",
       "2    False\n",
       "3    False\n",
       "4     True\n",
       "dtype: bool"
      ]
     },
     "execution_count": 9,
     "metadata": {},
     "output_type": "execute_result"
    }
   ],
   "source": [
    "names.str.isdigit()\n",
    "# only the last element, which is \"5\", is digit in this series."
   ]
  },
  {
   "cell_type": "markdown",
   "id": "bdcd125a-5f09-43f7-95d2-bc355d227af5",
   "metadata": {},
   "source": [
    "### Split, grab and expand"
   ]
  },
  {
   "cell_type": "code",
   "execution_count": 10,
   "id": "3bd19da3-810b-40d4-91e3-8850603ba288",
   "metadata": {},
   "outputs": [],
   "source": [
    "tech_finance = [\"GOOG,APPL,AMZN\", \"JPM,BAC,GS\" ]"
   ]
  },
  {
   "cell_type": "code",
   "execution_count": 11,
   "id": "be1c4fc7-31b9-4a6a-aedd-1643dee20b1e",
   "metadata": {},
   "outputs": [
    {
     "data": {
      "text/plain": [
       "2"
      ]
     },
     "execution_count": 11,
     "metadata": {},
     "output_type": "execute_result"
    }
   ],
   "source": [
    "# There are two items in this object\n",
    "len(tech_finance)"
   ]
  },
  {
   "cell_type": "code",
   "execution_count": 12,
   "id": "d711a74f-c00b-49d4-a3b9-cae750bfe56b",
   "metadata": {},
   "outputs": [
    {
     "data": {
      "text/plain": [
       "0    GOOG,APPL,AMZN\n",
       "1        JPM,BAC,GS\n",
       "dtype: object"
      ]
     },
     "execution_count": 12,
     "metadata": {},
     "output_type": "execute_result"
    }
   ],
   "source": [
    "# Convert it to a pandas series\n",
    "tickers = pd.Series(tech_finance)\n",
    "tickers"
   ]
  },
  {
   "cell_type": "code",
   "execution_count": 13,
   "id": "1bbe482b-9bbc-483e-81c8-5b1a9b159cc6",
   "metadata": {},
   "outputs": [
    {
     "data": {
      "text/plain": [
       "0    [GOOG, APPL, AMZN]\n",
       "1        [JPM, BAC, GS]\n",
       "dtype: object"
      ]
     },
     "execution_count": 13,
     "metadata": {},
     "output_type": "execute_result"
    }
   ],
   "source": [
    "# Let's split them from commas (,)\n",
    "tickers.str.split(',')"
   ]
  },
  {
   "cell_type": "code",
   "execution_count": 14,
   "id": "db157bc9-c231-488f-a389-89ac3f302969",
   "metadata": {},
   "outputs": [
    {
     "data": {
      "text/plain": [
       "'GOOG'"
      ]
     },
     "execution_count": 14,
     "metadata": {},
     "output_type": "execute_result"
    }
   ],
   "source": [
    "# When we split it, we can call one item from this list\n",
    "tech = \"GOOG,APPL,AMZN\"\n",
    "tech.split(',')[0]"
   ]
  },
  {
   "cell_type": "code",
   "execution_count": 15,
   "id": "e702ba99-f7fb-4e13-86f6-6b84de969901",
   "metadata": {},
   "outputs": [
    {
     "data": {
      "text/plain": [
       "0    GOOG\n",
       "1     JPM\n",
       "dtype: object"
      ]
     },
     "execution_count": 15,
     "metadata": {},
     "output_type": "execute_result"
    }
   ],
   "source": [
    "tickers.str.split(',').str[0]"
   ]
  },
  {
   "cell_type": "code",
   "execution_count": 16,
   "id": "c5e3a1cc-c583-49c4-8c6c-c8a69c7bb6ac",
   "metadata": {},
   "outputs": [
    {
     "data": {
      "text/plain": [
       "'JPM'"
      ]
     },
     "execution_count": 16,
     "metadata": {},
     "output_type": "execute_result"
    }
   ],
   "source": [
    "# Find \"JPM\"\n",
    "tickers.str.split(',').str[0][1]"
   ]
  },
  {
   "cell_type": "markdown",
   "id": "ec07047a-627c-4ce3-969c-5d76b915aac0",
   "metadata": {},
   "source": [
    "#### Make them columns, after splitting them from commas (use \"expand=True\" argument)."
   ]
  },
  {
   "cell_type": "code",
   "execution_count": 17,
   "id": "9d3d5c72-c7e6-4b44-8886-3c9f4ff82d9b",
   "metadata": {},
   "outputs": [
    {
     "data": {
      "text/html": [
       "<div>\n",
       "<style scoped>\n",
       "    .dataframe tbody tr th:only-of-type {\n",
       "        vertical-align: middle;\n",
       "    }\n",
       "\n",
       "    .dataframe tbody tr th {\n",
       "        vertical-align: top;\n",
       "    }\n",
       "\n",
       "    .dataframe thead th {\n",
       "        text-align: right;\n",
       "    }\n",
       "</style>\n",
       "<table border=\"1\" class=\"dataframe\">\n",
       "  <thead>\n",
       "    <tr style=\"text-align: right;\">\n",
       "      <th></th>\n",
       "      <th>0</th>\n",
       "      <th>1</th>\n",
       "      <th>2</th>\n",
       "    </tr>\n",
       "  </thead>\n",
       "  <tbody>\n",
       "    <tr>\n",
       "      <th>0</th>\n",
       "      <td>GOOG</td>\n",
       "      <td>APPL</td>\n",
       "      <td>AMZN</td>\n",
       "    </tr>\n",
       "    <tr>\n",
       "      <th>1</th>\n",
       "      <td>JPM</td>\n",
       "      <td>BAC</td>\n",
       "      <td>GS</td>\n",
       "    </tr>\n",
       "  </tbody>\n",
       "</table>\n",
       "</div>"
      ],
      "text/plain": [
       "      0     1     2\n",
       "0  GOOG  APPL  AMZN\n",
       "1   JPM   BAC    GS"
      ]
     },
     "execution_count": 17,
     "metadata": {},
     "output_type": "execute_result"
    }
   ],
   "source": [
    "# Make them columns, after splitting them from commas (use \"expand=True\" argument)\n",
    "tickers.str.split(',',expand=True)"
   ]
  },
  {
   "cell_type": "markdown",
   "id": "beca288d-0b96-4793-98cb-a4269d833213",
   "metadata": {},
   "source": [
    "### Clean and edit strings"
   ]
  },
  {
   "cell_type": "code",
   "execution_count": 18,
   "id": "6e21aa24-ecf7-4953-afb7-f78a30f02f63",
   "metadata": {},
   "outputs": [
    {
     "data": {
      "text/plain": [
       "0       andrew   \n",
       "1           bo;bo\n",
       "2       claire   \n",
       "dtype: object"
      ]
     },
     "execution_count": 18,
     "metadata": {},
     "output_type": "execute_result"
    }
   ],
   "source": [
    "# Let's correct this series\n",
    "messy_names = pd.Series([\"andrew   \", \"bo;bo\", \"   claire   \"])\n",
    "messy_names"
   ]
  },
  {
   "cell_type": "code",
   "execution_count": 19,
   "id": "da24fa4d-b6ab-46c8-b5f3-fec431e4b180",
   "metadata": {},
   "outputs": [
    {
     "data": {
      "text/plain": [
       "'andrew   '"
      ]
     },
     "execution_count": 19,
     "metadata": {},
     "output_type": "execute_result"
    }
   ],
   "source": [
    "# Although it is not recognizable, there are spaces in the first and the last lines\n",
    "# We can check it by calling these items\n",
    "messy_names[0]  # call the first itme, \"andrew\""
   ]
  },
  {
   "cell_type": "code",
   "execution_count": 20,
   "id": "5f8fa275-d452-489e-a828-7d9c88085749",
   "metadata": {},
   "outputs": [
    {
     "data": {
      "text/plain": [
       "'   claire   '"
      ]
     },
     "execution_count": 20,
     "metadata": {},
     "output_type": "execute_result"
    }
   ],
   "source": [
    "# call the last item, \"claaire\"\n",
    "messy_names[2] "
   ]
  },
  {
   "cell_type": "code",
   "execution_count": 21,
   "id": "49ae2493-6162-474d-82df-902edcbd845e",
   "metadata": {},
   "outputs": [
    {
     "data": {
      "text/plain": [
       "0       andrew   \n",
       "1            bobo\n",
       "2       claire   \n",
       "dtype: object"
      ]
     },
     "execution_count": 21,
     "metadata": {},
     "output_type": "execute_result"
    }
   ],
   "source": [
    "# Let's fix the mistakes, first \"bo;bo\"\n",
    "messy_names.str.replace(\";\",\"\") # replace \";\" with nothing, that is, remove it"
   ]
  },
  {
   "cell_type": "code",
   "execution_count": 22,
   "id": "eb416e3a-7a80-461f-846f-a5ce49b8160e",
   "metadata": {},
   "outputs": [],
   "source": [
    "# After replacing it we can also strip white spaces with this code\n",
    "cleaned_names = messy_names.str.replace(\";\",\"\").str.strip()"
   ]
  },
  {
   "cell_type": "code",
   "execution_count": 23,
   "id": "eeae6619-b8c4-41af-8af3-fa2d128510d1",
   "metadata": {},
   "outputs": [
    {
     "data": {
      "text/plain": [
       "'andrew'"
      ]
     },
     "execution_count": 23,
     "metadata": {},
     "output_type": "execute_result"
    }
   ],
   "source": [
    "# Let's check the itmes if white spaces are removed\n",
    "cleaned_names[0]"
   ]
  },
  {
   "cell_type": "code",
   "execution_count": 24,
   "id": "74d101cd-aa05-4567-afe3-263e29e77e0e",
   "metadata": {},
   "outputs": [
    {
     "data": {
      "text/plain": [
       "'claire'"
      ]
     },
     "execution_count": 24,
     "metadata": {},
     "output_type": "execute_result"
    }
   ],
   "source": [
    "cleaned_names[2]"
   ]
  },
  {
   "cell_type": "code",
   "execution_count": 25,
   "id": "4c2b7a2b-4685-4107-a510-d221a447843c",
   "metadata": {},
   "outputs": [
    {
     "data": {
      "text/plain": [
       "0    Andrew\n",
       "1      Bobo\n",
       "2    Claire\n",
       "dtype: object"
      ]
     },
     "execution_count": 25,
     "metadata": {},
     "output_type": "execute_result"
    }
   ],
   "source": [
    "# We could add capitalize method to the code above. So after cleaning it, it will capitalize items.\n",
    "messy_names.str.replace(\";\",\"\").str.strip().str.capitalize()\n",
    "# This is not a permanent change unless we assign it to a variable"
   ]
  },
  {
   "cell_type": "markdown",
   "id": "966a02b0-4c40-4d7d-a864-2e7a07d09487",
   "metadata": {},
   "source": [
    "### An alternative: apply() function"
   ]
  },
  {
   "cell_type": "code",
   "execution_count": 26,
   "id": "e0c8c3f9-85df-4f36-a6f5-7cada80e3c40",
   "metadata": {},
   "outputs": [],
   "source": [
    "# We could write this cleaning codes as a function, so that we can apply it whenever we need\n",
    "\n",
    "def cleanup(name):\n",
    "    name = name.replace(\";\", \"\") # remove semicolon\n",
    "    name = name.strip()          # remove spaces\n",
    "    name = name.capitalize()     # capitalize\n",
    "    return name"
   ]
  },
  {
   "cell_type": "code",
   "execution_count": 27,
   "id": "34c5108c-e5ec-412b-90c6-b3f4c9cbaf46",
   "metadata": {},
   "outputs": [
    {
     "data": {
      "text/plain": [
       "0    Andrew\n",
       "1      Bobo\n",
       "2    Claire\n",
       "dtype: object"
      ]
     },
     "execution_count": 27,
     "metadata": {},
     "output_type": "execute_result"
    }
   ],
   "source": [
    "# Apply the function\n",
    "messy_names.apply(cleanup)"
   ]
  },
  {
   "cell_type": "markdown",
   "id": "4eb20b53-3108-4235-99a3-ded407466eab",
   "metadata": {},
   "source": [
    "## 2. Time Methods for Date and Time\n",
    "\n",
    "* Basic Python has a **datetime object** containing date and time information.\n",
    "* Pandas allows us to easily extract information from a datetime object to use feature engineering.\n",
    "* For example, we may have recent timestamped sales data.\n",
    "* Pandas will allow us to extract information from the timestamp, such as **day of the week**, **weekend vs weekday**, **AM vs PM**\n",
    "* For details, see https://pandas.pydata.org/pandas-docs/stable/user_guide/timeseries.html#converting-to-timestamps"
   ]
  },
  {
   "cell_type": "code",
   "execution_count": 28,
   "id": "5444b36c-853f-4871-a7e5-c1a0a11347e0",
   "metadata": {},
   "outputs": [],
   "source": [
    "import numpy as np\n",
    "import pandas as pd\n",
    "from datetime import datetime"
   ]
  },
  {
   "cell_type": "code",
   "execution_count": 29,
   "id": "4858e942-8b0c-470a-859a-fcecff3dc8b0",
   "metadata": {},
   "outputs": [],
   "source": [
    "# The order of the datetime object\n",
    "\n",
    "myyear = 2024\n",
    "mymonth = 1\n",
    "myday = 2\n",
    "myhour = 5\n",
    "mymin = 30\n",
    "mysec = 15"
   ]
  },
  {
   "cell_type": "code",
   "execution_count": 30,
   "id": "05a40cca-cc79-4f3b-a80a-33b47e1216f5",
   "metadata": {},
   "outputs": [
    {
     "data": {
      "text/plain": [
       "datetime.datetime(2024, 1, 2, 0, 0)"
      ]
     },
     "execution_count": 30,
     "metadata": {},
     "output_type": "execute_result"
    }
   ],
   "source": [
    "# To see how datetime works use \"shift + tab\" keys inside the datetime paranthesis()\n",
    "# datetime(year, month, day[, hour[, minute[, second[, microsecond[,tzinfo]]]]])\n",
    "\n",
    "mydate = datetime(myyear, mymonth, myday)\n",
    "mydate      # it is now a datetime object."
   ]
  },
  {
   "cell_type": "code",
   "execution_count": 31,
   "id": "5c2c01cb-8b0a-4b8e-a031-832d8697bf10",
   "metadata": {},
   "outputs": [
    {
     "data": {
      "text/plain": [
       "datetime.datetime(2024, 1, 2, 5, 30, 15)"
      ]
     },
     "execution_count": 31,
     "metadata": {},
     "output_type": "execute_result"
    }
   ],
   "source": [
    "# Let's add hour, minute and second data \n",
    "mydatetime = datetime(myyear, mymonth, myday, myhour, mymin, mysec)\n",
    "mydatetime"
   ]
  },
  {
   "cell_type": "code",
   "execution_count": 32,
   "id": "d90ac269-e413-41a5-8edb-50388d3dca2a",
   "metadata": {},
   "outputs": [
    {
     "data": {
      "text/plain": [
       "2024"
      ]
     },
     "execution_count": 32,
     "metadata": {},
     "output_type": "execute_result"
    }
   ],
   "source": [
    "# To see the attributes, use \"tab\" after the comma \"mydatetime.\"\n",
    "# For example, use \"year\" attirbute to grab the year in this data\n",
    "mydatetime.year"
   ]
  },
  {
   "cell_type": "code",
   "execution_count": 33,
   "id": "8d2277b5-b1e5-439a-bb27-4c17044140e6",
   "metadata": {},
   "outputs": [
    {
     "data": {
      "text/plain": [
       "2"
      ]
     },
     "execution_count": 33,
     "metadata": {},
     "output_type": "execute_result"
    }
   ],
   "source": [
    "# Grab the day\n",
    "mydatetime.day"
   ]
  },
  {
   "cell_type": "markdown",
   "id": "3a29937b-9519-49df-b7de-93b11ec561ee",
   "metadata": {},
   "source": [
    "### Converting to datetime\n",
    "\n",
    "If you use dates which start with the day first (i.e. European style), you can pass the dayfirst flag. Syntax: **pd.to_datetime([\"04-01-2012 10:00\"], dayfirst=True)**"
   ]
  },
  {
   "cell_type": "code",
   "execution_count": 34,
   "id": "3690dbcf-d879-46da-98d1-000d98c461f8",
   "metadata": {},
   "outputs": [
    {
     "data": {
      "text/plain": [
       "0    Jul 31, 2009\n",
       "1    Jan 10, 2010\n",
       "2            None\n",
       "dtype: object"
      ]
     },
     "execution_count": 34,
     "metadata": {},
     "output_type": "execute_result"
    }
   ],
   "source": [
    "# Create a Pandas Series\n",
    "\n",
    "myser = pd.Series([\"Jul 31, 2009\", \"Jan 10, 2010\", None])\n",
    "myser"
   ]
  },
  {
   "cell_type": "code",
   "execution_count": 35,
   "id": "b45952cf-4930-4aae-8f47-c7e39fb23854",
   "metadata": {},
   "outputs": [
    {
     "ename": "AttributeError",
     "evalue": "'str' object has no attribute 'year'",
     "output_type": "error",
     "traceback": [
      "\u001b[1;31m---------------------------------------------------------------------------\u001b[0m",
      "\u001b[1;31mAttributeError\u001b[0m                            Traceback (most recent call last)",
      "Cell \u001b[1;32mIn[35], line 3\u001b[0m\n\u001b[0;32m      1\u001b[0m \u001b[38;5;66;03m# It is not a datetime object yet\u001b[39;00m\n\u001b[0;32m      2\u001b[0m \u001b[38;5;66;03m# For example, grab the first item and check its year\u001b[39;00m\n\u001b[1;32m----> 3\u001b[0m myser[\u001b[38;5;241m0\u001b[39m]\u001b[38;5;241m.\u001b[39myear\n",
      "\u001b[1;31mAttributeError\u001b[0m: 'str' object has no attribute 'year'"
     ]
    }
   ],
   "source": [
    "# It is not a datetime object yet\n",
    "# For example, grab the first item and check its year\n",
    "myser[0].year"
   ]
  },
  {
   "cell_type": "markdown",
   "id": "d4066539-786b-489f-9c2a-1fdd7ab93a7d",
   "metadata": {},
   "source": [
    "#### pd.to_datetime()"
   ]
  },
  {
   "cell_type": "code",
   "execution_count": 36,
   "id": "d1d2c13c-9a1a-495f-b035-f3d8048d911b",
   "metadata": {},
   "outputs": [
    {
     "data": {
      "text/plain": [
       "0   2009-07-31\n",
       "1   2010-01-10\n",
       "2          NaT\n",
       "dtype: datetime64[ns]"
      ]
     },
     "execution_count": 36,
     "metadata": {},
     "output_type": "execute_result"
    }
   ],
   "source": [
    "# Convert it to datetime... (see how it works using \"shift+tab\")\n",
    "pd.to_datetime(myser)\n"
   ]
  },
  {
   "cell_type": "code",
   "execution_count": 37,
   "id": "8462862f-03a3-4980-8308-755aa6c6ac3c",
   "metadata": {},
   "outputs": [],
   "source": [
    "# Let's grab an item\n",
    "timeser = pd.to_datetime(myser)"
   ]
  },
  {
   "cell_type": "code",
   "execution_count": 38,
   "id": "7658c4f4-b05c-4a88-a523-4249bcfb042b",
   "metadata": {},
   "outputs": [
    {
     "data": {
      "text/plain": [
       "2009"
      ]
     },
     "execution_count": 38,
     "metadata": {},
     "output_type": "execute_result"
    }
   ],
   "source": [
    "# Grab year from the first item\n",
    "timeser[0].year"
   ]
  },
  {
   "cell_type": "code",
   "execution_count": 39,
   "id": "f3c5197b-5b02-4ee9-8e53-967461d5f367",
   "metadata": {},
   "outputs": [
    {
     "data": {
      "text/plain": [
       "10"
      ]
     },
     "execution_count": 39,
     "metadata": {},
     "output_type": "execute_result"
    }
   ],
   "source": [
    "# Grab the day from the second item\n",
    "timeser[1].day"
   ]
  },
  {
   "cell_type": "markdown",
   "id": "6f2f08c3-c62c-4394-b7f3-3b53824b788e",
   "metadata": {},
   "source": [
    "### European vs American date format"
   ]
  },
  {
   "cell_type": "code",
   "execution_count": 40,
   "id": "13a9d656-3fb3-4b42-b035-828334a63110",
   "metadata": {},
   "outputs": [],
   "source": [
    "# December 31, 2000\n",
    "obvi_euro_date = \"31-12-2000\""
   ]
  },
  {
   "cell_type": "code",
   "execution_count": 41,
   "id": "89871697-84a3-4cd4-b50f-8852f4e43a14",
   "metadata": {},
   "outputs": [
    {
     "name": "stderr",
     "output_type": "stream",
     "text": [
      "C:\\Users\\admin\\AppData\\Local\\Temp\\ipykernel_4272\\168251444.py:1: UserWarning: Parsing dates in %d-%m-%Y format when dayfirst=False (the default) was specified. Pass `dayfirst=True` or specify a format to silence this warning.\n",
      "  pd.to_datetime(obvi_euro_date)\n"
     ]
    },
    {
     "data": {
      "text/plain": [
       "Timestamp('2000-12-31 00:00:00')"
      ]
     },
     "execution_count": 41,
     "metadata": {},
     "output_type": "execute_result"
    }
   ],
   "source": [
    "pd.to_datetime(obvi_euro_date)\n",
    "# The output display it from the largest (year) to smallest"
   ]
  },
  {
   "cell_type": "code",
   "execution_count": 42,
   "id": "e51618a8-8c4f-45b7-a4a2-812a5b7f6a44",
   "metadata": {},
   "outputs": [],
   "source": [
    "# However, this date might be confusing\n",
    "# Which one comes first, Day (European) or Month (American)?\n",
    "euro_date = \"10-12-2000\""
   ]
  },
  {
   "cell_type": "code",
   "execution_count": 43,
   "id": "6884664e-c273-46e7-9bd3-7da93076984f",
   "metadata": {},
   "outputs": [
    {
     "data": {
      "text/plain": [
       "Timestamp('2000-10-12 00:00:00')"
      ]
     },
     "execution_count": 43,
     "metadata": {},
     "output_type": "execute_result"
    }
   ],
   "source": [
    "# How does Pandas read it?\n",
    "pd.to_datetime(euro_date)\n",
    "# It is October 12, 2000."
   ]
  },
  {
   "cell_type": "code",
   "execution_count": 44,
   "id": "b7623dd1-96bc-4b6a-9e44-c00701748917",
   "metadata": {},
   "outputs": [
    {
     "data": {
      "text/plain": [
       "Timestamp('2000-12-10 00:00:00')"
      ]
     },
     "execution_count": 44,
     "metadata": {},
     "output_type": "execute_result"
    }
   ],
   "source": [
    "# To convert it to European format use \"dayfirst=True\"\n",
    "pd.to_datetime(euro_date, dayfirst=True)"
   ]
  },
  {
   "cell_type": "markdown",
   "id": "a112f8c1-e698-4fbe-ae7a-9348ca96e6fe",
   "metadata": {},
   "source": [
    "### Custom Time String Formatting\n",
    "* Sometimes dates can have a non standard format, luckily we can always specify to pandas the format.\n",
    "* See the alternative datetime formats: https://docs.python.org/3/library/datetime.html#strftime-and-strptime-format-codes"
   ]
  },
  {
   "cell_type": "code",
   "execution_count": 45,
   "id": "bf786c1d-a3dc-4871-a745-7d9264f2fc30",
   "metadata": {},
   "outputs": [],
   "source": [
    "style_date = \"12--Dec--2024\""
   ]
  },
  {
   "cell_type": "code",
   "execution_count": 46,
   "id": "3554330a-4642-4140-9e61-126c2fa324c8",
   "metadata": {},
   "outputs": [
    {
     "data": {
      "text/plain": [
       "Timestamp('2024-12-12 00:00:00')"
      ]
     },
     "execution_count": 46,
     "metadata": {},
     "output_type": "execute_result"
    }
   ],
   "source": [
    "pd.to_datetime(style_date, format=\"%d--%b--%Y\") # it will fix this format"
   ]
  },
  {
   "cell_type": "code",
   "execution_count": 47,
   "id": "e36052bc-7e8f-4749-b8f4-4d5a19fe7b40",
   "metadata": {},
   "outputs": [],
   "source": [
    "# Can Pandas understand this date?\n",
    "custom_date = \"12th of Dec 2020\""
   ]
  },
  {
   "cell_type": "code",
   "execution_count": 48,
   "id": "c2e94f99-a8e0-4be4-ad00-135520c40df4",
   "metadata": {},
   "outputs": [
    {
     "data": {
      "text/plain": [
       "Timestamp('2020-12-12 00:00:00')"
      ]
     },
     "execution_count": 48,
     "metadata": {},
     "output_type": "execute_result"
    }
   ],
   "source": [
    "pd.to_datetime(custom_date)"
   ]
  },
  {
   "cell_type": "markdown",
   "id": "3fd4c063-289d-492b-8561-69b7751ca33f",
   "metadata": {},
   "source": [
    "### Import Data and explore Datetime"
   ]
  },
  {
   "cell_type": "code",
   "execution_count": 49,
   "id": "a47f2f52-cdec-4b14-b680-3ec098946583",
   "metadata": {},
   "outputs": [],
   "source": [
    "sales = pd.read_csv(\"RetailSales_BeerWineLiquor.csv\")"
   ]
  },
  {
   "cell_type": "code",
   "execution_count": 50,
   "id": "582d8229-f117-488e-869a-54b4f10a9538",
   "metadata": {},
   "outputs": [
    {
     "data": {
      "text/html": [
       "<div>\n",
       "<style scoped>\n",
       "    .dataframe tbody tr th:only-of-type {\n",
       "        vertical-align: middle;\n",
       "    }\n",
       "\n",
       "    .dataframe tbody tr th {\n",
       "        vertical-align: top;\n",
       "    }\n",
       "\n",
       "    .dataframe thead th {\n",
       "        text-align: right;\n",
       "    }\n",
       "</style>\n",
       "<table border=\"1\" class=\"dataframe\">\n",
       "  <thead>\n",
       "    <tr style=\"text-align: right;\">\n",
       "      <th></th>\n",
       "      <th>DATE</th>\n",
       "      <th>MRTSSM4453USN</th>\n",
       "    </tr>\n",
       "  </thead>\n",
       "  <tbody>\n",
       "    <tr>\n",
       "      <th>0</th>\n",
       "      <td>1992-01-01</td>\n",
       "      <td>1509</td>\n",
       "    </tr>\n",
       "    <tr>\n",
       "      <th>1</th>\n",
       "      <td>1992-02-01</td>\n",
       "      <td>1541</td>\n",
       "    </tr>\n",
       "    <tr>\n",
       "      <th>2</th>\n",
       "      <td>1992-03-01</td>\n",
       "      <td>1597</td>\n",
       "    </tr>\n",
       "    <tr>\n",
       "      <th>3</th>\n",
       "      <td>1992-04-01</td>\n",
       "      <td>1675</td>\n",
       "    </tr>\n",
       "    <tr>\n",
       "      <th>4</th>\n",
       "      <td>1992-05-01</td>\n",
       "      <td>1822</td>\n",
       "    </tr>\n",
       "    <tr>\n",
       "      <th>...</th>\n",
       "      <td>...</td>\n",
       "      <td>...</td>\n",
       "    </tr>\n",
       "    <tr>\n",
       "      <th>335</th>\n",
       "      <td>2019-12-01</td>\n",
       "      <td>6630</td>\n",
       "    </tr>\n",
       "    <tr>\n",
       "      <th>336</th>\n",
       "      <td>2020-01-01</td>\n",
       "      <td>4388</td>\n",
       "    </tr>\n",
       "    <tr>\n",
       "      <th>337</th>\n",
       "      <td>2020-02-01</td>\n",
       "      <td>4533</td>\n",
       "    </tr>\n",
       "    <tr>\n",
       "      <th>338</th>\n",
       "      <td>2020-03-01</td>\n",
       "      <td>5562</td>\n",
       "    </tr>\n",
       "    <tr>\n",
       "      <th>339</th>\n",
       "      <td>2020-04-01</td>\n",
       "      <td>5207</td>\n",
       "    </tr>\n",
       "  </tbody>\n",
       "</table>\n",
       "<p>340 rows × 2 columns</p>\n",
       "</div>"
      ],
      "text/plain": [
       "           DATE  MRTSSM4453USN\n",
       "0    1992-01-01           1509\n",
       "1    1992-02-01           1541\n",
       "2    1992-03-01           1597\n",
       "3    1992-04-01           1675\n",
       "4    1992-05-01           1822\n",
       "..          ...            ...\n",
       "335  2019-12-01           6630\n",
       "336  2020-01-01           4388\n",
       "337  2020-02-01           4533\n",
       "338  2020-03-01           5562\n",
       "339  2020-04-01           5207\n",
       "\n",
       "[340 rows x 2 columns]"
      ]
     },
     "execution_count": 50,
     "metadata": {},
     "output_type": "execute_result"
    }
   ],
   "source": [
    "sales"
   ]
  },
  {
   "cell_type": "code",
   "execution_count": 51,
   "id": "fbf4eac2-10cf-439d-b1fb-546d200f6238",
   "metadata": {},
   "outputs": [
    {
     "data": {
      "text/plain": [
       "0      1992-01-01\n",
       "1      1992-02-01\n",
       "2      1992-03-01\n",
       "3      1992-04-01\n",
       "4      1992-05-01\n",
       "          ...    \n",
       "335    2019-12-01\n",
       "336    2020-01-01\n",
       "337    2020-02-01\n",
       "338    2020-03-01\n",
       "339    2020-04-01\n",
       "Name: DATE, Length: 340, dtype: object"
      ]
     },
     "execution_count": 51,
     "metadata": {},
     "output_type": "execute_result"
    }
   ],
   "source": [
    "# See the DATE column\n",
    "sales[\"DATE\"] # its data type is object (strng), not datetime"
   ]
  },
  {
   "cell_type": "code",
   "execution_count": 52,
   "id": "340c0219-3337-4a62-ba96-4ea8147ee175",
   "metadata": {},
   "outputs": [],
   "source": [
    "# We need to convert DATE column from string to datetime\n",
    "sales[\"DATE\"] = pd.to_datetime(sales[\"DATE\"])"
   ]
  },
  {
   "cell_type": "code",
   "execution_count": 53,
   "id": "675a17d6-850d-4dcc-9184-3788d49692e3",
   "metadata": {},
   "outputs": [
    {
     "data": {
      "text/plain": [
       "0     1992-01-01\n",
       "1     1992-02-01\n",
       "2     1992-03-01\n",
       "3     1992-04-01\n",
       "4     1992-05-01\n",
       "         ...    \n",
       "335   2019-12-01\n",
       "336   2020-01-01\n",
       "337   2020-02-01\n",
       "338   2020-03-01\n",
       "339   2020-04-01\n",
       "Name: DATE, Length: 340, dtype: datetime64[ns]"
      ]
     },
     "execution_count": 53,
     "metadata": {},
     "output_type": "execute_result"
    }
   ],
   "source": [
    "# Let's check it again\n",
    "sales[\"DATE\"] # now, it is datetime"
   ]
  },
  {
   "cell_type": "code",
   "execution_count": 54,
   "id": "df94573f-b983-41a9-84e0-b5512fac4ef4",
   "metadata": {},
   "outputs": [
    {
     "data": {
      "text/plain": [
       "1992"
      ]
     },
     "execution_count": 54,
     "metadata": {},
     "output_type": "execute_result"
    }
   ],
   "source": [
    "# Let's grab the year of first date object\n",
    "sales[\"DATE\"][0].year"
   ]
  },
  {
   "cell_type": "markdown",
   "id": "fa0ec18e-c9a4-4d7f-9f15-5ce2b3d579df",
   "metadata": {},
   "source": [
    "#### parse_dates\n",
    "\n",
    "We can assign a column as a date column when we read a file."
   ]
  },
  {
   "cell_type": "code",
   "execution_count": 55,
   "id": "d7109292-e23b-4f8c-9040-92f9f28ac198",
   "metadata": {},
   "outputs": [],
   "source": [
    "# Write the index of the column... DATE is located in the first index\n",
    "sales = pd.read_csv(\"RetailSales_BeerWineLiquor.csv\", parse_dates =[0]) "
   ]
  },
  {
   "cell_type": "code",
   "execution_count": 56,
   "id": "0af49175-66d5-4b68-96a4-0454a3e09aaa",
   "metadata": {},
   "outputs": [
    {
     "data": {
      "text/plain": [
       "0     1992-01-01\n",
       "1     1992-02-01\n",
       "2     1992-03-01\n",
       "3     1992-04-01\n",
       "4     1992-05-01\n",
       "         ...    \n",
       "335   2019-12-01\n",
       "336   2020-01-01\n",
       "337   2020-02-01\n",
       "338   2020-03-01\n",
       "339   2020-04-01\n",
       "Name: DATE, Length: 340, dtype: datetime64[ns]"
      ]
     },
     "execution_count": 56,
     "metadata": {},
     "output_type": "execute_result"
    }
   ],
   "source": [
    "sales[\"DATE\"] # it is directly converted to datetime"
   ]
  },
  {
   "cell_type": "code",
   "execution_count": 57,
   "id": "60918451-a4ea-4f56-a2ec-9fc066c31141",
   "metadata": {},
   "outputs": [
    {
     "data": {
      "text/plain": [
       "Timestamp('1992-04-01 00:00:00')"
      ]
     },
     "execution_count": 57,
     "metadata": {},
     "output_type": "execute_result"
    }
   ],
   "source": [
    "# Grab an item from DATE column according to index location\n",
    "sales.iloc[3]['DATE']"
   ]
  },
  {
   "cell_type": "code",
   "execution_count": 58,
   "id": "c9a239a0-05b6-4324-89f8-8261fe7db1d8",
   "metadata": {},
   "outputs": [
    {
     "data": {
      "text/plain": [
       "pandas._libs.tslibs.timestamps.Timestamp"
      ]
     },
     "execution_count": 58,
     "metadata": {},
     "output_type": "execute_result"
    }
   ],
   "source": [
    "# We can also check its data type\n",
    "type(sales.iloc[3]['DATE'])"
   ]
  },
  {
   "cell_type": "markdown",
   "id": "d23831e0-171e-44f1-b28d-98b2f577ceff",
   "metadata": {},
   "source": [
    "### Resample: Date Column as an Index"
   ]
  },
  {
   "cell_type": "code",
   "execution_count": 59,
   "id": "bbe7dd60-3fce-4e4e-8ab5-10e4d23cc769",
   "metadata": {},
   "outputs": [
    {
     "data": {
      "text/plain": [
       "RangeIndex(start=0, stop=340, step=1)"
      ]
     },
     "execution_count": 59,
     "metadata": {},
     "output_type": "execute_result"
    }
   ],
   "source": [
    "# Let's check \"sales\" index information\n",
    "sales.index"
   ]
  },
  {
   "cell_type": "code",
   "execution_count": 60,
   "id": "2e63cfa3-0685-4545-88f2-b31346d419b3",
   "metadata": {},
   "outputs": [
    {
     "data": {
      "text/html": [
       "<div>\n",
       "<style scoped>\n",
       "    .dataframe tbody tr th:only-of-type {\n",
       "        vertical-align: middle;\n",
       "    }\n",
       "\n",
       "    .dataframe tbody tr th {\n",
       "        vertical-align: top;\n",
       "    }\n",
       "\n",
       "    .dataframe thead th {\n",
       "        text-align: right;\n",
       "    }\n",
       "</style>\n",
       "<table border=\"1\" class=\"dataframe\">\n",
       "  <thead>\n",
       "    <tr style=\"text-align: right;\">\n",
       "      <th></th>\n",
       "      <th>MRTSSM4453USN</th>\n",
       "    </tr>\n",
       "    <tr>\n",
       "      <th>DATE</th>\n",
       "      <th></th>\n",
       "    </tr>\n",
       "  </thead>\n",
       "  <tbody>\n",
       "    <tr>\n",
       "      <th>1992-01-01</th>\n",
       "      <td>1509</td>\n",
       "    </tr>\n",
       "    <tr>\n",
       "      <th>1992-02-01</th>\n",
       "      <td>1541</td>\n",
       "    </tr>\n",
       "    <tr>\n",
       "      <th>1992-03-01</th>\n",
       "      <td>1597</td>\n",
       "    </tr>\n",
       "    <tr>\n",
       "      <th>1992-04-01</th>\n",
       "      <td>1675</td>\n",
       "    </tr>\n",
       "    <tr>\n",
       "      <th>1992-05-01</th>\n",
       "      <td>1822</td>\n",
       "    </tr>\n",
       "    <tr>\n",
       "      <th>...</th>\n",
       "      <td>...</td>\n",
       "    </tr>\n",
       "    <tr>\n",
       "      <th>2019-12-01</th>\n",
       "      <td>6630</td>\n",
       "    </tr>\n",
       "    <tr>\n",
       "      <th>2020-01-01</th>\n",
       "      <td>4388</td>\n",
       "    </tr>\n",
       "    <tr>\n",
       "      <th>2020-02-01</th>\n",
       "      <td>4533</td>\n",
       "    </tr>\n",
       "    <tr>\n",
       "      <th>2020-03-01</th>\n",
       "      <td>5562</td>\n",
       "    </tr>\n",
       "    <tr>\n",
       "      <th>2020-04-01</th>\n",
       "      <td>5207</td>\n",
       "    </tr>\n",
       "  </tbody>\n",
       "</table>\n",
       "<p>340 rows × 1 columns</p>\n",
       "</div>"
      ],
      "text/plain": [
       "            MRTSSM4453USN\n",
       "DATE                     \n",
       "1992-01-01           1509\n",
       "1992-02-01           1541\n",
       "1992-03-01           1597\n",
       "1992-04-01           1675\n",
       "1992-05-01           1822\n",
       "...                   ...\n",
       "2019-12-01           6630\n",
       "2020-01-01           4388\n",
       "2020-02-01           4533\n",
       "2020-03-01           5562\n",
       "2020-04-01           5207\n",
       "\n",
       "[340 rows x 1 columns]"
      ]
     },
     "execution_count": 60,
     "metadata": {},
     "output_type": "execute_result"
    }
   ],
   "source": [
    "# Set DATE column as an index\n",
    "sales = sales.set_index(\"DATE\")\n",
    "sales"
   ]
  },
  {
   "cell_type": "markdown",
   "id": "59be65ce-4c70-47dd-8b81-0a1a5809edb9",
   "metadata": {},
   "source": [
    "* To resample it we need a **rule** parameter and then an aggregation function.\n",
    "* The rule parameter describes the frequency (\"A\" for year, \"B\" for business day, etc.) with which to apply the aggregation function (daily, monthly, yearly, etc.)"
   ]
  },
  {
   "cell_type": "markdown",
   "id": "b4a94c38-377d-4f92-a3c8-ed2b36f764dc",
   "metadata": {},
   "source": [
    "<table style=\"display: inline-block\">\n",
    "    <caption style=\"text-align: center\"><strong>TIME SERIES OFFSET ALIASES</strong></caption>\n",
    "<tr><th>ALIAS</th><th>DESCRIPTION</th></tr>\n",
    "<tr><td>B</td><td>business day frequency</td></tr>\n",
    "<tr><td>C</td><td>custom business day frequency (experimental)</td></tr>\n",
    "<tr><td>D</td><td>calendar day frequency</td></tr>\n",
    "<tr><td>W</td><td>weekly frequency</td></tr>\n",
    "<tr><td>M</td><td>month end frequency</td></tr>\n",
    "<tr><td>SM</td><td>semi-month end frequency (15th and end of month)</td></tr>\n",
    "<tr><td>BM</td><td>business month end frequency</td></tr>\n",
    "<tr><td>CBM</td><td>custom business month end frequency</td></tr>\n",
    "<tr><td>MS</td><td>month start frequency</td></tr>\n",
    "<tr><td>SMS</td><td>semi-month start frequency (1st and 15th)</td></tr>\n",
    "<tr><td>BMS</td><td>business month start frequency</td></tr>\n",
    "<tr><td>CBMS</td><td>custom business month start frequency</td></tr>\n",
    "<tr><td>Q</td><td>quarter end frequency</td></tr>\n",
    "<tr><td></td><td><font color=white>intentionally left blank</font></td></tr></table>\n",
    "\n",
    "<table style=\"display: inline-block; margin-left: 40px\">\n",
    "<caption style=\"text-align: center\"></caption>\n",
    "<tr><th>ALIAS</th><th>DESCRIPTION</th></tr>\n",
    "<tr><td>BQ</td><td>business quarter endfrequency</td></tr>\n",
    "<tr><td>QS</td><td>quarter start frequency</td></tr>\n",
    "<tr><td>BQS</td><td>business quarter start frequency</td></tr>\n",
    "<tr><td>A</td><td>year end frequency</td></tr>\n",
    "<tr><td>BA</td><td>business year end frequency</td></tr>\n",
    "<tr><td>AS</td><td>year start frequency</td></tr>\n",
    "<tr><td>BAS</td><td>business year start frequency</td></tr>\n",
    "<tr><td>BH</td><td>business hour frequency</td></tr>\n",
    "<tr><td>H</td><td>hourly frequency</td></tr>\n",
    "<tr><td>T, min</td><td>minutely frequency</td></tr>\n",
    "<tr><td>S</td><td>secondly frequency</td></tr>\n",
    "<tr><td>L, ms</td><td>milliseconds</td></tr>\n",
    "<tr><td>U, us</td><td>microseconds</td></tr>\n",
    "<tr><td>N</td><td>nanoseconds</td></tr></table>"
   ]
  },
  {
   "cell_type": "code",
   "execution_count": 61,
   "id": "7a351203-7a0c-4015-a245-27087fc18a7c",
   "metadata": {},
   "outputs": [
    {
     "data": {
      "text/html": [
       "<div>\n",
       "<style scoped>\n",
       "    .dataframe tbody tr th:only-of-type {\n",
       "        vertical-align: middle;\n",
       "    }\n",
       "\n",
       "    .dataframe tbody tr th {\n",
       "        vertical-align: top;\n",
       "    }\n",
       "\n",
       "    .dataframe thead th {\n",
       "        text-align: right;\n",
       "    }\n",
       "</style>\n",
       "<table border=\"1\" class=\"dataframe\">\n",
       "  <thead>\n",
       "    <tr style=\"text-align: right;\">\n",
       "      <th></th>\n",
       "      <th>MRTSSM4453USN</th>\n",
       "    </tr>\n",
       "    <tr>\n",
       "      <th>DATE</th>\n",
       "      <th></th>\n",
       "    </tr>\n",
       "  </thead>\n",
       "  <tbody>\n",
       "    <tr>\n",
       "      <th>1992-12-31</th>\n",
       "      <td>1807.250000</td>\n",
       "    </tr>\n",
       "    <tr>\n",
       "      <th>1993-12-31</th>\n",
       "      <td>1794.833333</td>\n",
       "    </tr>\n",
       "    <tr>\n",
       "      <th>1994-12-31</th>\n",
       "      <td>1841.750000</td>\n",
       "    </tr>\n",
       "    <tr>\n",
       "      <th>1995-12-31</th>\n",
       "      <td>1833.916667</td>\n",
       "    </tr>\n",
       "    <tr>\n",
       "      <th>1996-12-31</th>\n",
       "      <td>1929.750000</td>\n",
       "    </tr>\n",
       "    <tr>\n",
       "      <th>1997-12-31</th>\n",
       "      <td>2006.750000</td>\n",
       "    </tr>\n",
       "    <tr>\n",
       "      <th>1998-12-31</th>\n",
       "      <td>2115.166667</td>\n",
       "    </tr>\n",
       "    <tr>\n",
       "      <th>1999-12-31</th>\n",
       "      <td>2206.333333</td>\n",
       "    </tr>\n",
       "    <tr>\n",
       "      <th>2000-12-31</th>\n",
       "      <td>2375.583333</td>\n",
       "    </tr>\n",
       "    <tr>\n",
       "      <th>2001-12-31</th>\n",
       "      <td>2468.416667</td>\n",
       "    </tr>\n",
       "    <tr>\n",
       "      <th>2002-12-31</th>\n",
       "      <td>2491.166667</td>\n",
       "    </tr>\n",
       "    <tr>\n",
       "      <th>2003-12-31</th>\n",
       "      <td>2539.083333</td>\n",
       "    </tr>\n",
       "    <tr>\n",
       "      <th>2004-12-31</th>\n",
       "      <td>2682.416667</td>\n",
       "    </tr>\n",
       "    <tr>\n",
       "      <th>2005-12-31</th>\n",
       "      <td>2797.250000</td>\n",
       "    </tr>\n",
       "    <tr>\n",
       "      <th>2006-12-31</th>\n",
       "      <td>3001.333333</td>\n",
       "    </tr>\n",
       "    <tr>\n",
       "      <th>2007-12-31</th>\n",
       "      <td>3177.333333</td>\n",
       "    </tr>\n",
       "    <tr>\n",
       "      <th>2008-12-31</th>\n",
       "      <td>3292.000000</td>\n",
       "    </tr>\n",
       "    <tr>\n",
       "      <th>2009-12-31</th>\n",
       "      <td>3353.750000</td>\n",
       "    </tr>\n",
       "    <tr>\n",
       "      <th>2010-12-31</th>\n",
       "      <td>3450.083333</td>\n",
       "    </tr>\n",
       "    <tr>\n",
       "      <th>2011-12-31</th>\n",
       "      <td>3532.666667</td>\n",
       "    </tr>\n",
       "    <tr>\n",
       "      <th>2012-12-31</th>\n",
       "      <td>3697.083333</td>\n",
       "    </tr>\n",
       "    <tr>\n",
       "      <th>2013-12-31</th>\n",
       "      <td>3839.666667</td>\n",
       "    </tr>\n",
       "    <tr>\n",
       "      <th>2014-12-31</th>\n",
       "      <td>4023.833333</td>\n",
       "    </tr>\n",
       "    <tr>\n",
       "      <th>2015-12-31</th>\n",
       "      <td>4212.500000</td>\n",
       "    </tr>\n",
       "    <tr>\n",
       "      <th>2016-12-31</th>\n",
       "      <td>4434.416667</td>\n",
       "    </tr>\n",
       "    <tr>\n",
       "      <th>2017-12-31</th>\n",
       "      <td>4602.666667</td>\n",
       "    </tr>\n",
       "    <tr>\n",
       "      <th>2018-12-31</th>\n",
       "      <td>4830.666667</td>\n",
       "    </tr>\n",
       "    <tr>\n",
       "      <th>2019-12-31</th>\n",
       "      <td>4972.750000</td>\n",
       "    </tr>\n",
       "    <tr>\n",
       "      <th>2020-12-31</th>\n",
       "      <td>4922.500000</td>\n",
       "    </tr>\n",
       "  </tbody>\n",
       "</table>\n",
       "</div>"
      ],
      "text/plain": [
       "            MRTSSM4453USN\n",
       "DATE                     \n",
       "1992-12-31    1807.250000\n",
       "1993-12-31    1794.833333\n",
       "1994-12-31    1841.750000\n",
       "1995-12-31    1833.916667\n",
       "1996-12-31    1929.750000\n",
       "1997-12-31    2006.750000\n",
       "1998-12-31    2115.166667\n",
       "1999-12-31    2206.333333\n",
       "2000-12-31    2375.583333\n",
       "2001-12-31    2468.416667\n",
       "2002-12-31    2491.166667\n",
       "2003-12-31    2539.083333\n",
       "2004-12-31    2682.416667\n",
       "2005-12-31    2797.250000\n",
       "2006-12-31    3001.333333\n",
       "2007-12-31    3177.333333\n",
       "2008-12-31    3292.000000\n",
       "2009-12-31    3353.750000\n",
       "2010-12-31    3450.083333\n",
       "2011-12-31    3532.666667\n",
       "2012-12-31    3697.083333\n",
       "2013-12-31    3839.666667\n",
       "2014-12-31    4023.833333\n",
       "2015-12-31    4212.500000\n",
       "2016-12-31    4434.416667\n",
       "2017-12-31    4602.666667\n",
       "2018-12-31    4830.666667\n",
       "2019-12-31    4972.750000\n",
       "2020-12-31    4922.500000"
      ]
     },
     "execution_count": 61,
     "metadata": {},
     "output_type": "execute_result"
    }
   ],
   "source": [
    "# Resample it according to year (A) and an aggregation (mean)\n",
    "# So it shows average sales in each year\n",
    "sales.resample(rule = \"A\").mean()"
   ]
  },
  {
   "cell_type": "markdown",
   "id": "194d165f-b703-49e1-a084-dcb41dcb422d",
   "metadata": {},
   "source": [
    "### .dt method\n",
    "* If the column is in a datetime format, we can use **.dt** method.\n",
    "* See https://pandas.pydata.org/pandas-docs/stable/reference/api/pandas.Series.dt.html"
   ]
  },
  {
   "cell_type": "code",
   "execution_count": 62,
   "id": "fcdcea1f-5958-4085-bdae-075a7beb32a4",
   "metadata": {},
   "outputs": [],
   "source": [
    "# See how it is used\n",
    "# help(sales['DATE'].dt)"
   ]
  },
  {
   "cell_type": "code",
   "execution_count": 63,
   "id": "bd794227-ec10-4ec5-bb37-5ecd13e7f045",
   "metadata": {},
   "outputs": [
    {
     "data": {
      "text/html": [
       "<div>\n",
       "<style scoped>\n",
       "    .dataframe tbody tr th:only-of-type {\n",
       "        vertical-align: middle;\n",
       "    }\n",
       "\n",
       "    .dataframe tbody tr th {\n",
       "        vertical-align: top;\n",
       "    }\n",
       "\n",
       "    .dataframe thead th {\n",
       "        text-align: right;\n",
       "    }\n",
       "</style>\n",
       "<table border=\"1\" class=\"dataframe\">\n",
       "  <thead>\n",
       "    <tr style=\"text-align: right;\">\n",
       "      <th></th>\n",
       "      <th>DATE</th>\n",
       "      <th>MRTSSM4453USN</th>\n",
       "    </tr>\n",
       "  </thead>\n",
       "  <tbody>\n",
       "    <tr>\n",
       "      <th>0</th>\n",
       "      <td>1992-01-01</td>\n",
       "      <td>1509</td>\n",
       "    </tr>\n",
       "    <tr>\n",
       "      <th>1</th>\n",
       "      <td>1992-02-01</td>\n",
       "      <td>1541</td>\n",
       "    </tr>\n",
       "    <tr>\n",
       "      <th>2</th>\n",
       "      <td>1992-03-01</td>\n",
       "      <td>1597</td>\n",
       "    </tr>\n",
       "    <tr>\n",
       "      <th>3</th>\n",
       "      <td>1992-04-01</td>\n",
       "      <td>1675</td>\n",
       "    </tr>\n",
       "    <tr>\n",
       "      <th>4</th>\n",
       "      <td>1992-05-01</td>\n",
       "      <td>1822</td>\n",
       "    </tr>\n",
       "  </tbody>\n",
       "</table>\n",
       "</div>"
      ],
      "text/plain": [
       "        DATE  MRTSSM4453USN\n",
       "0 1992-01-01           1509\n",
       "1 1992-02-01           1541\n",
       "2 1992-03-01           1597\n",
       "3 1992-04-01           1675\n",
       "4 1992-05-01           1822"
      ]
     },
     "execution_count": 63,
     "metadata": {},
     "output_type": "execute_result"
    }
   ],
   "source": [
    "# Let's import our data again with parse dates\n",
    "sales = pd.read_csv(\"RetailSales_BeerWineLiquor.csv\", parse_dates =[0]) \n",
    "sales.head()"
   ]
  },
  {
   "cell_type": "code",
   "execution_count": 64,
   "id": "0f1ab10d-945c-401f-acfc-cdb7ec19c862",
   "metadata": {},
   "outputs": [
    {
     "name": "stdout",
     "output_type": "stream",
     "text": [
      "<class 'pandas.core.frame.DataFrame'>\n",
      "RangeIndex: 340 entries, 0 to 339\n",
      "Data columns (total 2 columns):\n",
      " #   Column         Non-Null Count  Dtype         \n",
      "---  ------         --------------  -----         \n",
      " 0   DATE           340 non-null    datetime64[ns]\n",
      " 1   MRTSSM4453USN  340 non-null    int64         \n",
      "dtypes: datetime64[ns](1), int64(1)\n",
      "memory usage: 5.4 KB\n"
     ]
    }
   ],
   "source": [
    "sales.info() # DATE column is in datetime format"
   ]
  },
  {
   "cell_type": "code",
   "execution_count": 65,
   "id": "6a8d9048-86cc-4a76-b8a7-eebade6c7bd5",
   "metadata": {},
   "outputs": [
    {
     "data": {
      "text/plain": [
       "0      1992\n",
       "1      1992\n",
       "2      1992\n",
       "3      1992\n",
       "4      1992\n",
       "       ... \n",
       "335    2019\n",
       "336    2020\n",
       "337    2020\n",
       "338    2020\n",
       "339    2020\n",
       "Name: DATE, Length: 340, dtype: int32"
      ]
     },
     "execution_count": 65,
     "metadata": {},
     "output_type": "execute_result"
    }
   ],
   "source": [
    "# Similar to \"str\" method in text data, datetime has \"dt\" method\n",
    "sales[\"DATE\"].dt.year"
   ]
  },
  {
   "cell_type": "code",
   "execution_count": 66,
   "id": "70d05e04-f19b-4350-b61f-5c639844ee50",
   "metadata": {},
   "outputs": [
    {
     "data": {
      "text/plain": [
       "9"
      ]
     },
     "execution_count": 66,
     "metadata": {},
     "output_type": "execute_result"
    }
   ],
   "source": [
    "# Grab a month value according to intex\n",
    "sales[\"DATE\"].dt.month[320]"
   ]
  },
  {
   "cell_type": "code",
   "execution_count": 67,
   "id": "820dddca-5dde-4fde-a74a-7e58ff19f2e4",
   "metadata": {},
   "outputs": [
    {
     "data": {
      "text/plain": [
       "0       True\n",
       "1       True\n",
       "2       True\n",
       "3       True\n",
       "4       True\n",
       "       ...  \n",
       "335    False\n",
       "336     True\n",
       "337     True\n",
       "338     True\n",
       "339     True\n",
       "Name: DATE, Length: 340, dtype: bool"
      ]
     },
     "execution_count": 67,
     "metadata": {},
     "output_type": "execute_result"
    }
   ],
   "source": [
    "sales['DATE'].dt.is_leap_year"
   ]
  },
  {
   "cell_type": "markdown",
   "id": "9a6633be-7401-4383-a188-9e9308c83af9",
   "metadata": {},
   "source": [
    "A **leap year** is a year, which has **366 days** (instead of 365) including 29th of February as an intercalary day. Leap years are years which are multiples of four with the exception of years divisible by 100 but not by 400."
   ]
  }
 ],
 "metadata": {
  "kernelspec": {
   "display_name": "Python 3 (ipykernel)",
   "language": "python",
   "name": "python3"
  },
  "language_info": {
   "codemirror_mode": {
    "name": "ipython",
    "version": 3
   },
   "file_extension": ".py",
   "mimetype": "text/x-python",
   "name": "python",
   "nbconvert_exporter": "python",
   "pygments_lexer": "ipython3",
   "version": "3.11.7"
  }
 },
 "nbformat": 4,
 "nbformat_minor": 5
}
