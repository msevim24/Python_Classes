{
 "cells": [
  {
   "cell_type": "code",
   "execution_count": 1,
   "id": "bca0e5a7-b2c0-4997-bff3-5d8f04dcfa1d",
   "metadata": {},
   "outputs": [
    {
     "name": "stdout",
     "output_type": "stream",
     "text": [
      "Hello World\n"
     ]
    }
   ],
   "source": [
    "# Print\n",
    "print(\"Hello World\")"
   ]
  },
  {
   "cell_type": "code",
   "execution_count": 2,
   "id": "a202d964-f85d-4710-b104-0e5274138195",
   "metadata": {},
   "outputs": [
    {
     "name": "stdout",
     "output_type": "stream",
     "text": [
      "birinci sayı x: 15\n",
      "ikinci sayı y: 20\n"
     ]
    }
   ],
   "source": [
    "# Format\n",
    "x = 15\n",
    "y = 20\n",
    "\n",
    "print(\"birinci sayı x: {}\\nikinci sayı y: {}\".format(x, y))"
   ]
  },
  {
   "cell_type": "code",
   "execution_count": 4,
   "id": "90cafea4-571c-4637-ae0f-c2a13184b1a9",
   "metadata": {},
   "outputs": [],
   "source": [
    "# SORU 1:\n",
    "adet = 3\n",
    "urun_no = 567\n",
    "fiyat = 49\n",
    "#siparis =  ... numarılı urunden .... adetin fiyatı ...... liradır.\n"
   ]
  },
  {
   "cell_type": "code",
   "execution_count": 6,
   "id": "d720d89e-e553-40dd-be34-646b363898c7",
   "metadata": {},
   "outputs": [
    {
     "name": "stdout",
     "output_type": "stream",
     "text": [
      "567 numarılı urunden 3 adetin fiyatı 147 liradır\n"
     ]
    }
   ],
   "source": [
    "siparis = \"{} numarılı urunden {} adetin fiyatı {} liradır\"\n",
    "print(siparis.format(urun_no, adet, fiyat * adet))"
   ]
  },
  {
   "cell_type": "code",
   "execution_count": 10,
   "id": "f4900ad5-58c8-4004-942a-6cab1ba2fd9a",
   "metadata": {},
   "outputs": [
    {
     "name": "stdout",
     "output_type": "stream",
     "text": [
      "567 numarılı urunden 3 adetin fiyatı 147 liradır\n"
     ]
    }
   ],
   "source": [
    "print(\"{} numarılı urunden {} adetin fiyatı {} liradır\".format(urun_no, adet, fiyat * adet))"
   ]
  },
  {
   "cell_type": "code",
   "execution_count": 11,
   "id": "a23a4214-6524-47ad-9982-4992dff0d24c",
   "metadata": {},
   "outputs": [
    {
     "name": "stdout",
     "output_type": "stream",
     "text": [
      "One year has 12 months, 52 weeks and 365 days.\n"
     ]
    }
   ],
   "source": [
    "# Soru 2\n",
    "#   \"One year has {} months, {} weeks and {} days.\"\n",
    "\n",
    "str = \"One year has {} months, {} weeks and {} days.\".format(12, 52, 365)\n",
    "print(str)"
   ]
  },
  {
   "cell_type": "code",
   "execution_count": 12,
   "id": "91995a38-687a-4c9e-bdc6-f5028523586e",
   "metadata": {},
   "outputs": [
    {
     "name": "stdout",
     "output_type": "stream",
     "text": [
      "One year has 12 months, 52 weeks and 365 days.\n"
     ]
    }
   ],
   "source": [
    "print(\"One year has {} months, {} weeks and {} days.\".format(12, 52, 365))"
   ]
  },
  {
   "cell_type": "code",
   "execution_count": 19,
   "id": "b45c5ba2-1aa4-45a2-8299-c31dca751697",
   "metadata": {},
   "outputs": [
    {
     "name": "stdin",
     "output_type": "stream",
     "text": [
      "please enter your lucky number:  100000\n"
     ]
    },
    {
     "name": "stdout",
     "output_type": "stream",
     "text": [
      "your luck number is: 100000\n"
     ]
    }
   ],
   "source": [
    "# input method\n",
    "lucky_number = input(\"please enter your lucky number: \")\n",
    "print(\"your luck number is: {}\".format(lucky_number))"
   ]
  },
  {
   "cell_type": "code",
   "execution_count": null,
   "id": "c748f702-d817-4805-862a-b802787dcc11",
   "metadata": {},
   "outputs": [
    {
     "name": "stdin",
     "output_type": "stream",
     "text": [
      " john\n"
     ]
    }
   ],
   "source": [
    "# name = input ile sor\n",
    "#print \"Hello!, name\"\n",
    "name = input(\"Please enter your name\")\n",
    "str = \"Hello!, {}\".format(name)\n",
    "\n"
   ]
  },
  {
   "cell_type": "code",
   "execution_count": 24,
   "id": "de21be0b-77dd-4f7b-978f-36fd5d4e8acf",
   "metadata": {},
   "outputs": [
    {
     "name": "stdout",
     "output_type": "stream",
     "text": [
      "Hello!, john\n"
     ]
    }
   ],
   "source": [
    "print(str)"
   ]
  },
  {
   "cell_type": "code",
   "execution_count": 34,
   "id": "fa061675-ee30-4771-b20e-20f9e46c2645",
   "metadata": {},
   "outputs": [
    {
     "name": "stdout",
     "output_type": "stream",
     "text": [
      "Mr.Hathaway@amymail.com\n"
     ]
    }
   ],
   "source": [
    "# Soru 3\n",
    "# join()\n",
    "addresses=(\"Mr.Hathaway\", \"amymail.com\") # add @\n",
    "## Mr.Hathaway@amymail.com\n",
    "email = \"@\".join(addresses)\n",
    "\n",
    "print(email)\n"
   ]
  },
  {
   "cell_type": "code",
   "execution_count": 38,
   "id": "cde3f194-eaff-4dfa-bfc0-c7305c0eb65d",
   "metadata": {},
   "outputs": [
    {
     "name": "stdout",
     "output_type": "stream",
     "text": [
      "Not enjoyment, and not sorrow,\n",
      "Is our destined end or way;\n",
      "But to act, that each tomorrow\n",
      "Find us farther than today.\n"
     ]
    }
   ],
   "source": [
    "# SORU 5: JOIN METODUNU KULLANARAK lİSTE İÇİNDEKİ STRING İFADELERİ ALT ALTA OLACAK ŞEKİLDE BİRLEŞTİRİN..\n",
    "poem_lst=[\"Not enjoyment, and not sorrow,\", \"Is our destined end or way;\",\n",
    " \"But to act, that each tomorrow\", \"Find us farther than today.\"]\n",
    "\n",
    "poem_str = \"\\n\".join(poem_lst)\n",
    "print(poem_str)\n"
   ]
  },
  {
   "cell_type": "code",
   "execution_count": 39,
   "id": "257d094e-f6df-4e53-8fb1-38f53f0dc73c",
   "metadata": {},
   "outputs": [
    {
     "name": "stdout",
     "output_type": "stream",
     "text": [
      "1-2-3-4-5\n"
     ]
    }
   ],
   "source": [
    "# SORU 6: JOIN METODUNU KULLANARAK lİSTE İÇİNDEKİ STRING İFADELERİ ARALARDA \"-\" OLACAK ŞEKİLDE BİRLEŞTİRİN..\n",
    "list1 = ['1','2','3','4','5'] \n",
    "\n",
    "s = \"-\"\n",
    "s = s.join(list1)\n",
    "\n",
    "print(s)"
   ]
  },
  {
   "cell_type": "code",
   "execution_count": 50,
   "id": "93149c91-4418-41dd-b1cc-78c662098d16",
   "metadata": {},
   "outputs": [
    {
     "name": "stdout",
     "output_type": "stream",
     "text": [
      "['Hello', 'World!']\n"
     ]
    }
   ],
   "source": [
    "# Split \n",
    "# SORU 7: SPLIT METODUNU UYGULAYARAK AŞAĞIDAKİ STRING İFADEYİ NASIL BÖLEBİLİRİZ?\n",
    "str=\"Hello World!\"\n",
    "lst = str.split(\" \")\n",
    "print(lst)"
   ]
  },
  {
   "cell_type": "code",
   "execution_count": 51,
   "id": "47f4c171-d41b-451f-b1a6-f993b27ae2f3",
   "metadata": {},
   "outputs": [
    {
     "name": "stdout",
     "output_type": "stream",
     "text": [
      "['101', '102', '103', '201', '202']\n"
     ]
    }
   ],
   "source": [
    "# SORU 8: SPLIT METODUNU UYGULAYARAK AŞAĞIDAKİ STRING İFADEYİ NASIL BÖLEBİLİRİZ?\n",
    "str=\"101:102:103:201:202\"\n",
    "lst = str.split(\":\")\n",
    "\n",
    "print(lst)"
   ]
  },
  {
   "cell_type": "code",
   "execution_count": 52,
   "id": "92563626-a213-4414-81d9-09af96424383",
   "metadata": {},
   "outputs": [
    {
     "name": "stdout",
     "output_type": "stream",
     "text": [
      "['elma', 'armut', 'erik', 'kayısı']\n"
     ]
    }
   ],
   "source": [
    "# SORU 9: SPLIT METODUNU UYGULAYARAK AŞAĞIDA YER ALAN MEYVELERİ NASIL BÖLEBİLİRİZ?\n",
    "meyveler=\"elma,armut,erik,kayısı\"\n",
    "\n",
    "meyveler = meyveler.split(\",\")\n",
    "print(meyveler)"
   ]
  },
  {
   "cell_type": "code",
   "execution_count": 53,
   "id": "be8a9bc6-3689-462a-be18-33aa823fb695",
   "metadata": {},
   "outputs": [
    {
     "name": "stdout",
     "output_type": "stream",
     "text": [
      "Hello World!\n"
     ]
    }
   ],
   "source": [
    "# PYTHON STRIP METHOD\n",
    "# SORU 10: STRIP METODUNU UYGULAYARAK AŞAĞIDA YER ALAN STRING IFADENİN SAĞINDAKİ VE SOLUNDAKİ BOŞLUKLARI NASIL SİLEBİLİRİZ?\n",
    "str=\" Hello World! \"\n",
    "str = str.strip(\" \")\n",
    "print(str)"
   ]
  },
  {
   "cell_type": "code",
   "execution_count": 61,
   "id": "166c0e1e-cba0-4644-91b1-1130c92214d2",
   "metadata": {},
   "outputs": [
    {
     "name": "stdout",
     "output_type": "stream",
     "text": [
      " Babylon \n"
     ]
    }
   ],
   "source": [
    "# SORU 11: STRIP METODUNU UYGULAYARAK AŞAĞIDA YER ALAN STRING IFADENİN SAĞINDAKİ VE SOLUNDAKİ ifadeleri NASIL SİLEBİLİRİZ?\n",
    "str=\"#$^&#@%$& Babylon #@$&@-#\"\n",
    "\n",
    "str = str.strip(\"#$^&@%$&-\")\n",
    "\n",
    "print(str)"
   ]
  },
  {
   "cell_type": "code",
   "execution_count": 63,
   "id": "e4d79511-c482-4eab-8ce8-6beaeabe1a92",
   "metadata": {},
   "outputs": [
    {
     "name": "stdout",
     "output_type": "stream",
     "text": [
      "['......Macroeconomics', '...........Derivatives']\n"
     ]
    }
   ],
   "source": [
    "# SORU 12: SPLIT VE STRIP METODUNU UYGULAYARAK AŞAĞIDA YER ALAN STRING İFADELERİ NASIL ÇIKARABİLİRİZ?\n",
    "# (Macroeconomics) (Derivatives)\n",
    "str=\"......Macroeconomics,...........Derivatives\"\n",
    "# print only Macroeconımics  use split and strip at same time\n",
    "lst = str.split(\",\")\n",
    "#macro = lst[0].strip(\".\")\n",
    "\n",
    "print(lst)"
   ]
  },
  {
   "cell_type": "code",
   "execution_count": 67,
   "id": "9926f42f-58c0-49fb-b596-4746e98c1434",
   "metadata": {},
   "outputs": [
    {
     "name": "stdout",
     "output_type": "stream",
     "text": [
      "Macroeconomics Derivatives\n"
     ]
    }
   ],
   "source": [
    "macro = lst[0].strip(\".\")\n",
    "derivatis = lst[1].strip(\".\")\n",
    "print(macro, derivatis)"
   ]
  },
  {
   "cell_type": "code",
   "execution_count": 72,
   "id": "ad89df20-fcfe-4be2-8f38-9112750481d5",
   "metadata": {},
   "outputs": [
    {
     "name": "stdout",
     "output_type": "stream",
     "text": [
      "Derivatives\n"
     ]
    }
   ],
   "source": [
    "lst = str.split(\",\")[1].strip(\".\")\n",
    "print(lst)"
   ]
  },
  {
   "cell_type": "code",
   "execution_count": 75,
   "id": "f830d2f7-77f0-44e7-97de-cd494a6dea15",
   "metadata": {},
   "outputs": [
    {
     "name": "stdout",
     "output_type": "stream",
     "text": [
      "b büyüktür a dan\n"
     ]
    }
   ],
   "source": [
    "# CONDITIONALS: IF-ELSE\n",
    "# SORU 13: a ve b değişkenine farklı sayılar atayalım ve IF , ELIF Fonksiyonu ile a ve b değişkeninin durumuna bağlı\n",
    "# olarak \"b büyüktür a dan\" yada \"b küçüktür a dan\" şekli ile bir sonuç nasıl alabiliriz?\n",
    "a = 8\n",
    "b = 9 \n",
    "\n",
    "#if, elif\n",
    "#print(\"b büyüktür a dan\", \"a büyüktür b den\")\n",
    "\n",
    "if b > a:\n",
    "    print(\"b büyüktür a dan\")\n",
    "elif b < a:\n",
    "    print(\"b küçüktür a dan\")"
   ]
  },
  {
   "cell_type": "code",
   "execution_count": 77,
   "id": "4d5f6690-86a2-40d1-a072-a054ea4841df",
   "metadata": {},
   "outputs": [
    {
     "name": "stdout",
     "output_type": "stream",
     "text": [
      "daha çok gençsiniz\n"
     ]
    }
   ],
   "source": [
    "# SORU 14: Bir yaş değişkeni oluşturalım.\n",
    "# Bu yaş değişkenini IF - ELIF fonksiyonunu kullanarak\n",
    "# YAS 18 VE KÜÇÜK SE \"ERGENSİNİZ\" 19 YAŞ VE ÜZERİDE \"DAHA ÇOK GENÇSSİNİZ\" çıktı almasını sağlayalım.\n",
    "\n",
    "yas = 19\n",
    "\n",
    "if yas <= 18:\n",
    "    print(\"ergensiniz\")\n",
    "elif yas > 18:\n",
    "    print(\"daha çok gençsiniz\")"
   ]
  },
  {
   "cell_type": "code",
   "execution_count": 81,
   "id": "96c331f0-ad53-4d07-8cdd-c37260f70b8f",
   "metadata": {},
   "outputs": [
    {
     "name": "stdout",
     "output_type": "stream",
     "text": [
      "Gençsiniz\n"
     ]
    }
   ],
   "source": [
    "# SORU 15: Bir yaş değişkeni oluşturalım.\n",
    "# Bu yaş değişkenini IF - ELIF - ELSE fonksiyonunu kullanarak\n",
    "# 18 YAŞTAN KÜÇÜKSE \"Ergensiniz\"\n",
    "# 18 YAŞ (DAHİL) VE 66 YAŞ ARASI İSE \"GENÇSİNİZ\"\n",
    "# 66 YAŞ (DAHİL) VE 79 YAŞ ARASI İLE \"ORTA YAŞLISINIZ\"\n",
    "# 80 YAŞ (DAHİL) VE 100 YAŞ ARASI İSE YAŞLISINIZ\n",
    "# BELİRTİLEN YAŞLARDAN BAŞKA BİR YAŞ GİRİLİRSE \"YAŞ GRUBUNUZU BELİRLEYEMEDİK\" çıktısını nasıl alabiliriz?\n",
    "\n",
    "yas = 32\n",
    "\n",
    "if yas < 18:\n",
    "    print(\"Ergensiniz\")\n",
    "elif yas >= 18 and yas < 66:\n",
    "    print(\"Gençsiniz\")\n",
    "elif yas >= 66 and yas < 79:\n",
    "    print(\"Orta Yaslısınız\")\n",
    "elif yas >= 79 and yas < 100:\n",
    "    print(\"Yaslısınız\")\n",
    "else:\n",
    "    print(\"Yas Grubunuzu Belirleyemedik\")"
   ]
  },
  {
   "cell_type": "code",
   "execution_count": 86,
   "id": "aa1eaf14-4f40-4ee2-b2ce-9f431d2eeafb",
   "metadata": {},
   "outputs": [
    {
     "name": "stdin",
     "output_type": "stream",
     "text": [
      "Please enter your name  bond\n"
     ]
    },
    {
     "name": "stdout",
     "output_type": "stream",
     "text": [
      "Good Morning bond\n"
     ]
    }
   ],
   "source": [
    "# Input and IF\n",
    "# INPUT fonksiyonu ile kullanıcıdan ismini girmesini talep edeceğiz.\n",
    "# Eğer ismi \"Bond\" ise \"Welcome on board 007\" yazsızn\n",
    "# Başka bir isim ise \"Good Morning + (yazılan isim)\" yazsın\n",
    "# input, if, else, elif\n",
    "\n",
    "name = input(\"Please enter your name \")   # THE, the, The,\n",
    "if name == \"Bond\":\n",
    "    print(\"Welcome on board 007\")\n",
    "else:\n",
    "    print(\"Good Morning \" + name)"
   ]
  },
  {
   "cell_type": "code",
   "execution_count": 85,
   "id": "eca82187-6b9e-4701-b487-43846e6a9204",
   "metadata": {},
   "outputs": [
    {
     "name": "stdin",
     "output_type": "stream",
     "text": [
      "Please enter your name  Isaac\n"
     ]
    },
    {
     "name": "stdout",
     "output_type": "stream",
     "text": [
      "Good Morning Isaac\n"
     ]
    }
   ],
   "source": [
    "name = input(\"Please enter your name \")\n",
    "if name == \"Bond\":\n",
    "    print(\"Welcome on board 007\")\n",
    "else:\n",
    "    print(\"Good Morning \" + name)"
   ]
  },
  {
   "cell_type": "code",
   "execution_count": 89,
   "id": "35a5cc7b-9863-4803-933e-bc73432e745c",
   "metadata": {},
   "outputs": [
    {
     "name": "stdin",
     "output_type": "stream",
     "text": [
      "Aklımdan bir sayı tuttum. Bil bakalım kac tuttum?  42\n"
     ]
    },
    {
     "name": "stdout",
     "output_type": "stream",
     "text": [
      "Ne yazık ki ttutgum sayı bu degildi\n"
     ]
    }
   ],
   "source": [
    "# SORU 17: tuttuğum sayı diye bir değişken belirleyip bunun içerisine bir sayı atayacağız. Daha sonra\n",
    "# INPUT fonksiyonu ile kullanıcıdan bir sayı tutmasını talep edeceğiz.\n",
    "# \"Aklımdan bir sayı tuttum. Bil bakalım kaç tuttum?\"\n",
    "# Input olarak girilen sayı bizim belirlediğimiz sayı ile aynı ise\n",
    "# \"Tebrikler! Bildiniz..\"\n",
    "# Bilemediyse \"Ne yazık ki tutuğum sayı bu değildi\" şeklinde yazdıracağız. \n",
    "\n",
    "#x = ......\n",
    "#input(Aklımdan bir sayı tuttum. Bil bakalım kaç tuttum?)\n",
    "\n",
    "tuttugum_sayı = 23\n",
    "\n",
    "bilbakalım = int(input(\"Aklımdan bir sayı tuttum. Bil bakalım kac tuttum? \"))\n",
    "\n",
    "if bilbakalım == tuttugum_sayı:\n",
    "    print(\"Tebrikler! Bildiniz...\")\n",
    "    \n",
    "else:\n",
    "    print(\"Ne yazık ki ttutgum sayı bu degildi\")"
   ]
  },
  {
   "cell_type": "code",
   "execution_count": 91,
   "id": "1181485f-1bce-40c3-9348-7c472034c709",
   "metadata": {},
   "outputs": [
    {
     "name": "stdout",
     "output_type": "stream",
     "text": [
      "koala\n",
      "cat\n",
      "fox\n",
      "panda\n",
      "chipmunk\n",
      "sloth\n",
      "penguin\n",
      "dolphin\n"
     ]
    }
   ],
   "source": [
    "# PYTHON FOR LOOP\n",
    "# SORU 18: Aşağıdaki listede yer alan hayvanları FOR döngüsü ile listeden tek tek nasıl çıkarabiliriz?\n",
    "lst=[\"koala\", \"cat\", \"fox\", \"panda\", \"chipmunk\", \"sloth\", \"penguin\", \"dolphin\"]\n",
    "for d in lst:\n",
    "    print(d)\n"
   ]
  },
  {
   "cell_type": "code",
   "execution_count": 92,
   "id": "22ce7d80-797f-49d9-bbc2-616185d10cc5",
   "metadata": {},
   "outputs": [
    {
     "name": "stdout",
     "output_type": "stream",
     "text": [
      "Hello!, Sam\n",
      "Hello!, Lisa\n",
      "Hello!, Micha\n",
      "Hello!, Dave\n",
      "Hello!, Wyatt\n",
      "Hello!, Emma\n",
      "Hello!, Sage\n"
     ]
    }
   ],
   "source": [
    "# SORU 19: Aşağıdaki listede yer alan isimleri FOR döngüsü ile listeden tek tek nasıl çıkartıp\n",
    "# başına \"Hello!\" ibaresi ekleyelim\n",
    "lst=[\"Sam\", \"Lisa\", \"Micha\", \"Dave\", \"Wyatt\", \"Emma\", \"Sage\"]\n",
    "for i in lst:\n",
    "    print(\"Hello!, \" + i)"
   ]
  },
  {
   "cell_type": "code",
   "execution_count": 93,
   "id": "58e0d9d4-565e-4e86-bdcc-d36617f2b473",
   "metadata": {},
   "outputs": [
    {
     "name": "stdout",
     "output_type": "stream",
     "text": [
      "A\n",
      "n\n",
      "t\n",
      "a\n",
      "r\n",
      "c\n",
      "t\n",
      "i\n",
      "c\n",
      "a\n"
     ]
    }
   ],
   "source": [
    "# SORU 20: Aşağıdaki string ifadesindeki harfleri for döngüsü ile alt alt nasıl ekleyebiliriz?\n",
    "str=\"Antarctica\"\n",
    "for i in str:\n",
    "    print(i, end = \"\\n\")"
   ]
  },
  {
   "cell_type": "code",
   "execution_count": 95,
   "id": "0abd6bea-5a5d-44e8-ba12-886c8869412f",
   "metadata": {},
   "outputs": [
    {
     "name": "stdout",
     "output_type": "stream",
     "text": [
      "A, n, t, a, r, c, t, i, c, a, "
     ]
    }
   ],
   "source": [
    "str=\"Antarctica\"\n",
    "for i in str:\n",
    "    print(i, end = \", \")"
   ]
  },
  {
   "cell_type": "code",
   "execution_count": 96,
   "id": "16766788-fa3e-4db5-bd75-8dcc4f5113a0",
   "metadata": {},
   "outputs": [
    {
     "name": "stdout",
     "output_type": "stream",
     "text": [
      "4\n",
      "5\n",
      "6\n",
      "7\n",
      "8\n",
      "9\n"
     ]
    }
   ],
   "source": [
    "#SORU 21: Aşağıdaki string ifadesinde yer alan rakamların içinde\n",
    "# 3 ten büyük olanların for döngüsü ile nasıl çıktısını alabiliriz?\n",
    "sayılar = \"123456789\"\n",
    "\n",
    "for i in sayılar:\n",
    "    if int(i) > 3:\n",
    "        print(i)"
   ]
  },
  {
   "cell_type": "code",
   "execution_count": 98,
   "id": "1d845a00-59f4-40aa-b07f-01dbf1dd4f16",
   "metadata": {},
   "outputs": [
    {
     "name": "stdout",
     "output_type": "stream",
     "text": [
      "20\n",
      "17\n",
      "14\n",
      "11\n",
      "8\n",
      "5\n"
     ]
    }
   ],
   "source": [
    "# SORU 22: Range modülünü kullanarak 20 den 3 e kadar olan rakamları geriye doğru 3 er 3 er atlayarak nasıl yazabiliriz\n",
    "for i in range(20, 3, -3):\n",
    "    print(i)"
   ]
  },
  {
   "cell_type": "code",
   "execution_count": 99,
   "id": "1098bef6-24ed-4939-be69-21badb4028be",
   "metadata": {},
   "outputs": [
    {
     "name": "stdout",
     "output_type": "stream",
     "text": [
      "3\n",
      "6\n",
      "9\n",
      "12\n",
      "15\n",
      "18\n"
     ]
    }
   ],
   "source": [
    "for i in range(3, 20, 3):\n",
    "    print(i)"
   ]
  },
  {
   "cell_type": "code",
   "execution_count": 100,
   "id": "edb1cbfb-0719-4f10-a323-5efb99b76206",
   "metadata": {},
   "outputs": [
    {
     "name": "stdout",
     "output_type": "stream",
     "text": [
      "2\n",
      "4\n",
      "6\n",
      "8\n",
      "10\n",
      "12\n",
      "14\n",
      "16\n",
      "18\n",
      "20\n",
      "22\n",
      "24\n",
      "26\n",
      "28\n",
      "30\n",
      "32\n",
      "34\n",
      "36\n",
      "38\n",
      "40\n",
      "42\n",
      "44\n",
      "46\n",
      "48\n",
      "50\n",
      "52\n",
      "54\n",
      "56\n",
      "58\n",
      "60\n",
      "62\n",
      "64\n",
      "66\n",
      "68\n",
      "70\n",
      "72\n",
      "74\n",
      "76\n",
      "78\n",
      "80\n",
      "82\n",
      "84\n",
      "86\n",
      "88\n",
      "90\n",
      "92\n",
      "94\n",
      "96\n",
      "98\n",
      "100\n"
     ]
    }
   ],
   "source": [
    "# # SORU 23: for döngüsünü kullanarak 1’den 101’e kadar olan aralıktaki çift sayıları nasıl bulursunuz?\n",
    "for i in range(1, 101):\n",
    "    if i % 2 == 0:\n",
    "        print(i)"
   ]
  },
  {
   "cell_type": "code",
   "execution_count": null,
   "id": "4bc93245-8289-4380-bc85-68ff81bfaccd",
   "metadata": {},
   "outputs": [],
   "source": []
  }
 ],
 "metadata": {
  "kernelspec": {
   "display_name": "Python 3 (ipykernel)",
   "language": "python",
   "name": "python3"
  },
  "language_info": {
   "codemirror_mode": {
    "name": "ipython",
    "version": 3
   },
   "file_extension": ".py",
   "mimetype": "text/x-python",
   "name": "python",
   "nbconvert_exporter": "python",
   "pygments_lexer": "ipython3",
   "version": "3.9.12"
  }
 },
 "nbformat": 4,
 "nbformat_minor": 5
}
