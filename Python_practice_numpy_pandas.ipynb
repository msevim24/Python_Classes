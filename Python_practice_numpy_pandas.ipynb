{
 "cells": [
  {
   "cell_type": "markdown",
   "metadata": {},
   "source": [
    "## Practice: NumPy and Pandas"
   ]
  },
  {
   "cell_type": "markdown",
   "metadata": {},
   "source": [
    "### 1-NumPy"
   ]
  },
  {
   "cell_type": "code",
   "execution_count": 1,
   "metadata": {},
   "outputs": [],
   "source": [
    "import numpy as np"
   ]
  },
  {
   "cell_type": "code",
   "execution_count": 2,
   "metadata": {},
   "outputs": [
    {
     "name": "stdout",
     "output_type": "stream",
     "text": [
      "[ 3  5  9 11 94  1  7]\n"
     ]
    }
   ],
   "source": [
    "#1) Verilen listeyi NumPy arrayi haline getirelim.\n",
    "liste = [3,5,9,11,94,1,7]\n",
    "arr= np.array(liste)\n",
    "print(arr)"
   ]
  },
  {
   "cell_type": "code",
   "execution_count": 3,
   "metadata": {},
   "outputs": [
    {
     "data": {
      "text/plain": [
       "numpy.ndarray"
      ]
     },
     "execution_count": 3,
     "metadata": {},
     "output_type": "execute_result"
    }
   ],
   "source": [
    "type(arr)"
   ]
  },
  {
   "cell_type": "code",
   "execution_count": 4,
   "metadata": {},
   "outputs": [],
   "source": [
    "#2) Bu verilen Listeyi NumPy arrayi haline getirelim ve bir önceki soru ile karşılaştıralım.\n",
    "liste2 = [[1,2,3],[4,5,6],[7,8,9]]\n",
    "arr2=np.array(liste2)"
   ]
  },
  {
   "cell_type": "code",
   "execution_count": 5,
   "metadata": {},
   "outputs": [
    {
     "data": {
      "text/plain": [
       "array([[1, 2, 3],\n",
       "       [4, 5, 6],\n",
       "       [7, 8, 9]])"
      ]
     },
     "execution_count": 5,
     "metadata": {},
     "output_type": "execute_result"
    }
   ],
   "source": [
    "arr2"
   ]
  },
  {
   "cell_type": "code",
   "execution_count": 6,
   "metadata": {},
   "outputs": [
    {
     "data": {
      "text/plain": [
       "(3, 3)"
      ]
     },
     "execution_count": 6,
     "metadata": {},
     "output_type": "execute_result"
    }
   ],
   "source": [
    "# array kaça kaç...\n",
    "arr2.shape"
   ]
  },
  {
   "cell_type": "code",
   "execution_count": 7,
   "metadata": {},
   "outputs": [
    {
     "data": {
      "text/plain": [
       "2"
      ]
     },
     "execution_count": 7,
     "metadata": {},
     "output_type": "execute_result"
    }
   ],
   "source": [
    "# kaç boyutlu olduğuna bakmak için\n",
    "arr2.ndim"
   ]
  },
  {
   "cell_type": "code",
   "execution_count": 8,
   "metadata": {},
   "outputs": [
    {
     "data": {
      "text/plain": [
       "9"
      ]
     },
     "execution_count": 8,
     "metadata": {},
     "output_type": "execute_result"
    }
   ],
   "source": [
    "# arr arrayinin 2 indexteki elemanı\n",
    "arr[2]"
   ]
  },
  {
   "cell_type": "code",
   "execution_count": 9,
   "metadata": {},
   "outputs": [
    {
     "data": {
      "text/plain": [
       "array([7, 8, 9])"
      ]
     },
     "execution_count": 9,
     "metadata": {},
     "output_type": "execute_result"
    }
   ],
   "source": [
    "# arr2 arrayinin 2. indexteki elemanı\n",
    "arr2[2]"
   ]
  },
  {
   "cell_type": "code",
   "execution_count": 10,
   "metadata": {},
   "outputs": [
    {
     "data": {
      "text/plain": [
       "array([0, 1, 2, 3, 4, 5, 6, 7, 8, 9])"
      ]
     },
     "execution_count": 10,
     "metadata": {},
     "output_type": "execute_result"
    }
   ],
   "source": [
    "#3) 0'dan 10'a kadar olan sayılardan(10 dahil değil) oluşan bir array oluşturalım.\n",
    "arr3=np.arange(10)\n",
    "arr3"
   ]
  },
  {
   "cell_type": "code",
   "execution_count": 11,
   "metadata": {},
   "outputs": [
    {
     "data": {
      "text/plain": [
       "array([ 1,  6, 11, 16, 21, 26, 31, 36, 41, 46, 51, 56, 61, 66, 71, 76, 81,\n",
       "       86, 91, 96])"
      ]
     },
     "execution_count": 11,
     "metadata": {},
     "output_type": "execute_result"
    }
   ],
   "source": [
    "#4) 1'den 100'e kadar(100 dahil değil) 5'er 5'er atlayarak bütün değerleri array haline getirip yazdıralım.\n",
    "arr4= np.arange(1,100,5)\n",
    "arr4"
   ]
  },
  {
   "cell_type": "code",
   "execution_count": 12,
   "metadata": {},
   "outputs": [
    {
     "data": {
      "text/plain": [
       "array([0., 0., 0., 0., 0., 0., 0., 0.])"
      ]
     },
     "execution_count": 12,
     "metadata": {},
     "output_type": "execute_result"
    }
   ],
   "source": [
    "#5) Sadece 0'lardan oluşan 8 elemanlı ve tek boyutlu bir array oluşturalım.\n",
    "arr5= np.zeros(8)\n",
    "arr5"
   ]
  },
  {
   "cell_type": "code",
   "execution_count": 13,
   "metadata": {},
   "outputs": [
    {
     "data": {
      "text/plain": [
       "array([[0., 0., 0., 0.],\n",
       "       [0., 0., 0., 0.],\n",
       "       [0., 0., 0., 0.],\n",
       "       [0., 0., 0., 0.]])"
      ]
     },
     "execution_count": 13,
     "metadata": {},
     "output_type": "execute_result"
    }
   ],
   "source": [
    "#6) Sadece 0'lardan oluşan 16 elemanlı ve (4,4) boyutlarında bir zeros arrayi oluşturalım.,\n",
    "arr6= np.zeros((4,4))\n",
    "arr6"
   ]
  },
  {
   "cell_type": "code",
   "execution_count": 14,
   "metadata": {},
   "outputs": [
    {
     "data": {
      "text/plain": [
       "array([[0., 0., 0., 0.],\n",
       "       [0., 0., 0., 0.],\n",
       "       [0., 0., 0., 0.],\n",
       "       [0., 0., 0., 0.]])"
      ]
     },
     "execution_count": 14,
     "metadata": {},
     "output_type": "execute_result"
    }
   ],
   "source": [
    "# reshape ile alternatif çözüm\n",
    "arr16= np.zeros(16).reshape(4,4)\n",
    "arr16"
   ]
  },
  {
   "cell_type": "code",
   "execution_count": 15,
   "metadata": {},
   "outputs": [
    {
     "data": {
      "text/plain": [
       "array([1., 1., 1., 1., 1.])"
      ]
     },
     "execution_count": 15,
     "metadata": {},
     "output_type": "execute_result"
    }
   ],
   "source": [
    "#7) Sadece 1'lerden oluşan 5 elemanlı bir array oluşturalım.\n",
    "arr7= np.ones(5)\n",
    "arr7"
   ]
  },
  {
   "cell_type": "code",
   "execution_count": 16,
   "metadata": {},
   "outputs": [
    {
     "data": {
      "text/plain": [
       "array([[1., 1., 1., 1., 1.],\n",
       "       [1., 1., 1., 1., 1.],\n",
       "       [1., 1., 1., 1., 1.]])"
      ]
     },
     "execution_count": 16,
     "metadata": {},
     "output_type": "execute_result"
    }
   ],
   "source": [
    "#8) Sadece 1'lerden oluşan 15 elemanlı ve (3,5) boyutlarında bir ones arrayi oluşturalım.\n",
    "arr8= np.ones((3,5))\n",
    "arr8"
   ]
  },
  {
   "cell_type": "code",
   "execution_count": 17,
   "metadata": {},
   "outputs": [
    {
     "data": {
      "text/plain": [
       "array([[1., 1., 1., 1., 1.],\n",
       "       [1., 1., 1., 1., 1.],\n",
       "       [1., 1., 1., 1., 1.]])"
      ]
     },
     "execution_count": 17,
     "metadata": {},
     "output_type": "execute_result"
    }
   ],
   "source": [
    "#alternatif\n",
    "arr88=np.ones(15).reshape(3,5)\n",
    "arr88"
   ]
  },
  {
   "cell_type": "code",
   "execution_count": 18,
   "metadata": {},
   "outputs": [
    {
     "data": {
      "text/plain": [
       "array([[1., 0., 0., 0., 0., 0.],\n",
       "       [0., 1., 0., 0., 0., 0.],\n",
       "       [0., 0., 1., 0., 0., 0.],\n",
       "       [0., 0., 0., 1., 0., 0.],\n",
       "       [0., 0., 0., 0., 1., 0.],\n",
       "       [0., 0., 0., 0., 0., 1.]])"
      ]
     },
     "execution_count": 18,
     "metadata": {},
     "output_type": "execute_result"
    }
   ],
   "source": [
    "#9) 0'lardan oluşan ve sadece sol üst - sağ alt diagonelinde 1'ler bulunan (6,6) boyutlarında bir array oluşturalım. (\"Birim Matris oluşturuyoruz.\") \n",
    "# (Tip : eye metodu)\n",
    "arr9= np.eye(6,6)  # sadece 6 yazsak da olurdu çünkü kare matris\n",
    "arr9"
   ]
  },
  {
   "cell_type": "code",
   "execution_count": 19,
   "metadata": {},
   "outputs": [
    {
     "data": {
      "text/plain": [
       "array([100., 105., 110., 115., 120., 125., 130., 135., 140., 145., 150.,\n",
       "       155., 160., 165., 170., 175., 180., 185., 190., 195., 200., 205.,\n",
       "       210., 215., 220., 225., 230., 235., 240., 245., 250., 255., 260.,\n",
       "       265., 270., 275., 280., 285., 290., 295., 300., 305., 310., 315.,\n",
       "       320., 325., 330., 335., 340., 345., 350., 355., 360., 365., 370.,\n",
       "       375., 380., 385., 390., 395., 400., 405., 410., 415., 420., 425.,\n",
       "       430., 435., 440., 445., 450., 455., 460., 465., 470., 475., 480.,\n",
       "       485., 490., 495., 500.])"
      ]
     },
     "execution_count": 19,
     "metadata": {},
     "output_type": "execute_result"
    }
   ],
   "source": [
    "#10) 100 ile 500 arasında lineer(düzenli) artış yapan 81 elemanlı bir array oluşturalım\n",
    "arr10= np.linspace(100, 500, num=81)\n",
    "arr10"
   ]
  },
  {
   "cell_type": "code",
   "execution_count": 20,
   "metadata": {},
   "outputs": [
    {
     "data": {
      "text/plain": [
       "array([58, 79, 99, 94, 58, 55, 54, 64, 87, 76, 67, 67, 74, 62, 98, 60, 76,\n",
       "       54, 90, 63])"
      ]
     },
     "execution_count": 20,
     "metadata": {},
     "output_type": "execute_result"
    }
   ],
   "source": [
    "#11) 50 ile 100 arasında 20 tane random integer sayı döndürerek bir array oluşturalım.\n",
    "arr11=np.random.randint(50,100, 20)\n",
    "arr11"
   ]
  },
  {
   "cell_type": "code",
   "execution_count": 21,
   "metadata": {},
   "outputs": [
    {
     "data": {
      "text/plain": [
       "array([[ 0,  1,  2,  3,  4],\n",
       "       [ 5,  6,  7,  8,  9],\n",
       "       [10, 11, 12, 13, 14],\n",
       "       [15, 16, 17, 18, 19],\n",
       "       [20, 21, 22, 23, 24]])"
      ]
     },
     "execution_count": 21,
     "metadata": {},
     "output_type": "execute_result"
    }
   ],
   "source": [
    "#12) 0'dan 25'e kadar(25 dahil değil) sayılardan oluşan tek boyutlu bir array oluşturalım ve arr değişkenine atayalım.\n",
    "# arr değişkenimizin shape'ini değiştirelim ve (5,5) yapalım\n",
    "\n",
    "arr= np.arange(25)\n",
    "arr12=arr.reshape(5,5)\n",
    "arr12"
   ]
  },
  {
   "cell_type": "code",
   "execution_count": 22,
   "metadata": {},
   "outputs": [
    {
     "name": "stdout",
     "output_type": "stream",
     "text": [
      "2\n",
      "55\n"
     ]
    }
   ],
   "source": [
    "#13) [10, 49, 41, 17, 12 , 2, 46,  3, 19, 39, 9, 55]\n",
    "# Yukarıda liste halinde verilen sayılarla array oluşturalım. Ardından minimum değerini maksimum değerini ve bu değerlerin kaçıncı indexlerde olduğunu bulalım.\n",
    "arr13=np.array([10, 49, 41, 17, 12 , 2, 46,  3, 19, 39, 9, 55])\n",
    "print(arr13.min())\n",
    "print(arr13.max())\n"
   ]
  },
  {
   "cell_type": "code",
   "execution_count": 23,
   "metadata": {},
   "outputs": [
    {
     "data": {
      "text/plain": [
       "11"
      ]
     },
     "execution_count": 23,
     "metadata": {},
     "output_type": "execute_result"
    }
   ],
   "source": [
    "#indexler\n",
    "arr13.argmax()"
   ]
  },
  {
   "cell_type": "code",
   "execution_count": 24,
   "metadata": {},
   "outputs": [
    {
     "data": {
      "text/plain": [
       "5"
      ]
     },
     "execution_count": 24,
     "metadata": {},
     "output_type": "execute_result"
    }
   ],
   "source": [
    "arr13.argmin()"
   ]
  },
  {
   "cell_type": "code",
   "execution_count": 25,
   "metadata": {},
   "outputs": [],
   "source": [
    "#14) [69, 28, 92, 81, 61, 56, 92, 21, 67, 68, 75, 31, 95, 98, 56, 51, 81, 94, 63, 38, 36, 62, 94, 72, 92, 94, 62, 27, 51, 26, 91, 78, 74, 73,66, 64]\n",
    "# Yukarıda liste halinde verilen 36 değerden önce bir array oluşturalım. Ardından (3,12) shape'ine dönüştürelim ve shape'in değişip değişmediğini kontrol edelim.\n",
    "# Ek olarak dtype'ını da kontrol edip ne tür elemanlardan oluştuğunu kontrol edelim.\n",
    "\n",
    "arr14=np.array([69, 28, 92, 81, 61, 56, 92, 21, 67, 68, 75, 31, 95, 98, 56, 51, 81, 94, 63, 38, 36, 62, 94, 72, 92, 94, 62, 27, 51, 26, 91, 78, 74, 73,66, 64])"
   ]
  },
  {
   "cell_type": "code",
   "execution_count": 26,
   "metadata": {},
   "outputs": [],
   "source": [
    "arr14=arr14.reshape(3,12)"
   ]
  },
  {
   "cell_type": "code",
   "execution_count": 27,
   "metadata": {},
   "outputs": [
    {
     "data": {
      "text/plain": [
       "(3, 12)"
      ]
     },
     "execution_count": 27,
     "metadata": {},
     "output_type": "execute_result"
    }
   ],
   "source": [
    "arr14.shape"
   ]
  },
  {
   "cell_type": "code",
   "execution_count": 28,
   "metadata": {},
   "outputs": [
    {
     "data": {
      "text/plain": [
       "array([ 0,  1,  2,  3,  4,  5,  6,  7,  8,  9, 10, 11, 12, 13, 14, 15, 16,\n",
       "       17, 18, 19])"
      ]
     },
     "execution_count": 28,
     "metadata": {},
     "output_type": "execute_result"
    }
   ],
   "source": [
    "#15) 0'dan 20 (20 dahil değil)'ye kadar olan sayıları array olarak arr adında bir değişkene atayalım.\n",
    "arr15= np.arange(20)\n",
    "arr15"
   ]
  },
  {
   "cell_type": "code",
   "execution_count": 29,
   "metadata": {},
   "outputs": [
    {
     "data": {
      "text/plain": [
       "array([3, 4, 5, 6, 7])"
      ]
     },
     "execution_count": 29,
     "metadata": {},
     "output_type": "execute_result"
    }
   ],
   "source": [
    "#16) arr arrayinin içinden 3. ve 8.indexleri(8 dahil değil) arasındaki sayıları çekelim.\n",
    "arr15[3:8]"
   ]
  },
  {
   "cell_type": "code",
   "execution_count": 30,
   "metadata": {},
   "outputs": [
    {
     "data": {
      "text/plain": [
       "array([  0,   1,   2,   3,   4,   5,   6,   7,   8,   9, 500, 500, 500,\n",
       "       500, 500,  15,  16,  17,  18,  19])"
      ]
     },
     "execution_count": 30,
     "metadata": {},
     "output_type": "execute_result"
    }
   ],
   "source": [
    "#17) arr arrayimizin 10. ve 15.indexleri(15 dahil değil) arasındaki değerleri 500 yapalım (BroadCasting)\n",
    "\n",
    "arr15[10:15]=500\n",
    "arr15"
   ]
  },
  {
   "cell_type": "code",
   "execution_count": 31,
   "metadata": {},
   "outputs": [
    {
     "data": {
      "text/plain": [
       "array([16, 17, 18, 19])"
      ]
     },
     "execution_count": 31,
     "metadata": {},
     "output_type": "execute_result"
    }
   ],
   "source": [
    "#18) arr arayinin 15.indexinden sonraki indexlerindeki sayıları sliced_arr adında bir değişkene atayalım.\n",
    "sliced_arr=arr15[16:]\n",
    "sliced_arr"
   ]
  },
  {
   "cell_type": "code",
   "execution_count": 32,
   "metadata": {},
   "outputs": [
    {
     "data": {
      "text/plain": [
       "array([999, 999, 999, 999])"
      ]
     },
     "execution_count": 32,
     "metadata": {},
     "output_type": "execute_result"
    }
   ],
   "source": [
    "#19) sliced_arr arrayi içindeki  bütün değerleri 999 yapalım.\n",
    "sliced_arr[:]=999\n",
    "sliced_arr"
   ]
  },
  {
   "cell_type": "code",
   "execution_count": 33,
   "metadata": {},
   "outputs": [
    {
     "data": {
      "text/plain": [
       "array([  0,   1,   2,   3,   4,   5,   6,   7,   8,   9, 500, 500, 500,\n",
       "       500, 500,  15, 999, 999, 999, 999])"
      ]
     },
     "execution_count": 33,
     "metadata": {},
     "output_type": "execute_result"
    }
   ],
   "source": [
    "arr15  # değişkende bir bölge sliced_arr ile değişmiş oldu."
   ]
  },
  {
   "cell_type": "code",
   "execution_count": 34,
   "metadata": {},
   "outputs": [
    {
     "data": {
      "text/plain": [
       "array([[ 5, 10, 15],\n",
       "       [20, 25, 30],\n",
       "       [35, 40, 45]])"
      ]
     },
     "execution_count": 34,
     "metadata": {},
     "output_type": "execute_result"
    }
   ],
   "source": [
    "#20) arr_2d = np.array(([5,10,15],[20,25,30],[35,40,45])) koduyla arr_2d adında 2 boyutlu bir array oluşturalım ve shapeine bakalım.\n",
    "\n",
    "arr_2d = np.array(([5,10,15],[20,25,30],[35,40,45]))\n",
    "arr_2d"
   ]
  },
  {
   "cell_type": "code",
   "execution_count": 35,
   "metadata": {},
   "outputs": [
    {
     "data": {
      "text/plain": [
       "(3, 3)"
      ]
     },
     "execution_count": 35,
     "metadata": {},
     "output_type": "execute_result"
    }
   ],
   "source": [
    "arr_2d.shape"
   ]
  },
  {
   "cell_type": "code",
   "execution_count": 36,
   "metadata": {},
   "outputs": [
    {
     "data": {
      "text/plain": [
       "array([20, 25, 30])"
      ]
     },
     "execution_count": 36,
     "metadata": {},
     "output_type": "execute_result"
    }
   ],
   "source": [
    "#21) arr_2d arrayinin 1.indexini bulalım.\n",
    "arr_2d[1]"
   ]
  },
  {
   "cell_type": "code",
   "execution_count": 37,
   "metadata": {},
   "outputs": [
    {
     "data": {
      "text/plain": [
       "40"
      ]
     },
     "execution_count": 37,
     "metadata": {},
     "output_type": "execute_result"
    }
   ],
   "source": [
    "#22) arr_2d arrayinin içinden tam olarak 40 sayısını çekelim\n",
    "arr_2d[2,1]  # alternatif [2][1]"
   ]
  },
  {
   "cell_type": "code",
   "execution_count": 38,
   "metadata": {},
   "outputs": [
    {
     "data": {
      "text/plain": [
       "array([ 0,  2,  4,  6,  8, 10, 12, 14, 16, 18])"
      ]
     },
     "execution_count": 38,
     "metadata": {},
     "output_type": "execute_result"
    }
   ],
   "source": [
    "#23) 0'dan 10'a kadar rakamlardan oluşan arr adında bir array oluşturalım. Ardından bu arrayi kendisiyle toplayalım.\n",
    "\n",
    "arr=np.arange(10)\n",
    "arr+arr"
   ]
  },
  {
   "cell_type": "code",
   "execution_count": 39,
   "metadata": {},
   "outputs": [
    {
     "data": {
      "text/plain": [
       "array([ 0,  1,  4,  9, 16, 25, 36, 49, 64, 81])"
      ]
     },
     "execution_count": 39,
     "metadata": {},
     "output_type": "execute_result"
    }
   ],
   "source": [
    "# Oluşturduğumuz arr arrayini gene arr arrayi ile çarpalım.\n",
    "arr*arr"
   ]
  },
  {
   "cell_type": "code",
   "execution_count": 40,
   "metadata": {},
   "outputs": [
    {
     "data": {
      "text/plain": [
       "array([ 8,  5, 18, 10, 13])"
      ]
     },
     "execution_count": 40,
     "metadata": {},
     "output_type": "execute_result"
    }
   ],
   "source": [
    "#24) 0 ile 20 arasından rastgele 5 sayıdan oluşan bir array oluşturalım ve arr adındaki değişkene atayalım. \n",
    "# Ardından arr değişkenindeki her bir değerin karesini alalım.\n",
    "arr=np.random.randint(0,20, 5)\n",
    "arr"
   ]
  },
  {
   "cell_type": "code",
   "execution_count": 41,
   "metadata": {},
   "outputs": [
    {
     "data": {
      "text/plain": [
       "array([ 64,  25, 324, 100, 169], dtype=int32)"
      ]
     },
     "execution_count": 41,
     "metadata": {},
     "output_type": "execute_result"
    }
   ],
   "source": [
    "arr**2\n"
   ]
  },
  {
   "cell_type": "markdown",
   "metadata": {},
   "source": [
    "### 2-Pandas"
   ]
  },
  {
   "cell_type": "code",
   "execution_count": 42,
   "metadata": {},
   "outputs": [],
   "source": [
    "# 25) pandası import edelim\n",
    "import pandas as pd"
   ]
  },
  {
   "cell_type": "code",
   "execution_count": 43,
   "metadata": {},
   "outputs": [],
   "source": [
    "#26) Pandas kütüphanesi aracılığıyla datasetimizi okutalım ve okuttuğumuz datasetini df adlı bir değişkene atayıp ekrana yazdıralım\n",
    "df = pd. read_csv (\"users.csv\")   # veya df= pd.read_csv(\"C:\\Users\\admin\\Desktop\\Python dersler\\Dersler\\MyNotes\\users.csv\")"
   ]
  },
  {
   "cell_type": "code",
   "execution_count": 44,
   "metadata": {},
   "outputs": [
    {
     "data": {
      "text/html": [
       "<div>\n",
       "<style scoped>\n",
       "    .dataframe tbody tr th:only-of-type {\n",
       "        vertical-align: middle;\n",
       "    }\n",
       "\n",
       "    .dataframe tbody tr th {\n",
       "        vertical-align: top;\n",
       "    }\n",
       "\n",
       "    .dataframe thead th {\n",
       "        text-align: right;\n",
       "    }\n",
       "</style>\n",
       "<table border=\"1\" class=\"dataframe\">\n",
       "  <thead>\n",
       "    <tr style=\"text-align: right;\">\n",
       "      <th></th>\n",
       "      <th>Country or area</th>\n",
       "      <th>Subregion</th>\n",
       "      <th>Region</th>\n",
       "      <th>Internet users</th>\n",
       "      <th>Population</th>\n",
       "    </tr>\n",
       "  </thead>\n",
       "  <tbody>\n",
       "    <tr>\n",
       "      <th>0</th>\n",
       "      <td>China</td>\n",
       "      <td>Eastern Asia</td>\n",
       "      <td>Asia</td>\n",
       "      <td>1,010,740,000</td>\n",
       "      <td>1,427,647,786</td>\n",
       "    </tr>\n",
       "    <tr>\n",
       "      <th>1</th>\n",
       "      <td>India</td>\n",
       "      <td>Southern Asia</td>\n",
       "      <td>Asia</td>\n",
       "      <td>833,710,000</td>\n",
       "      <td>1,352,642,280</td>\n",
       "    </tr>\n",
       "    <tr>\n",
       "      <th>2</th>\n",
       "      <td>United States</td>\n",
       "      <td>Northern America</td>\n",
       "      <td>Americas</td>\n",
       "      <td>312,320,000</td>\n",
       "      <td>327,096,265</td>\n",
       "    </tr>\n",
       "    <tr>\n",
       "      <th>3</th>\n",
       "      <td>Indonesia</td>\n",
       "      <td>South-eastern Asia</td>\n",
       "      <td>Asia</td>\n",
       "      <td>196,000,000</td>\n",
       "      <td>267,670,543</td>\n",
       "    </tr>\n",
       "    <tr>\n",
       "      <th>4</th>\n",
       "      <td>Brazil</td>\n",
       "      <td>South America</td>\n",
       "      <td>Americas</td>\n",
       "      <td>160,010,801</td>\n",
       "      <td>209,469,323</td>\n",
       "    </tr>\n",
       "  </tbody>\n",
       "</table>\n",
       "</div>"
      ],
      "text/plain": [
       "  Country or area           Subregion    Region Internet users     Population\n",
       "0           China        Eastern Asia      Asia  1,010,740,000  1,427,647,786\n",
       "1           India       Southern Asia      Asia    833,710,000  1,352,642,280\n",
       "2   United States    Northern America  Americas    312,320,000    327,096,265\n",
       "3       Indonesia  South-eastern Asia      Asia    196,000,000    267,670,543\n",
       "4          Brazil       South America  Americas    160,010,801    209,469,323"
      ]
     },
     "execution_count": 44,
     "metadata": {},
     "output_type": "execute_result"
    }
   ],
   "source": [
    "df.head()"
   ]
  },
  {
   "cell_type": "code",
   "execution_count": 45,
   "metadata": {},
   "outputs": [
    {
     "data": {
      "text/html": [
       "<div>\n",
       "<style scoped>\n",
       "    .dataframe tbody tr th:only-of-type {\n",
       "        vertical-align: middle;\n",
       "    }\n",
       "\n",
       "    .dataframe tbody tr th {\n",
       "        vertical-align: top;\n",
       "    }\n",
       "\n",
       "    .dataframe thead th {\n",
       "        text-align: right;\n",
       "    }\n",
       "</style>\n",
       "<table border=\"1\" class=\"dataframe\">\n",
       "  <thead>\n",
       "    <tr style=\"text-align: right;\">\n",
       "      <th></th>\n",
       "      <th>Country or area</th>\n",
       "      <th>Subregion</th>\n",
       "      <th>Region</th>\n",
       "      <th>Internet users</th>\n",
       "      <th>Population</th>\n",
       "    </tr>\n",
       "  </thead>\n",
       "  <tbody>\n",
       "    <tr>\n",
       "      <th>count</th>\n",
       "      <td>214</td>\n",
       "      <td>214</td>\n",
       "      <td>214</td>\n",
       "      <td>214</td>\n",
       "      <td>212</td>\n",
       "    </tr>\n",
       "    <tr>\n",
       "      <th>unique</th>\n",
       "      <td>214</td>\n",
       "      <td>22</td>\n",
       "      <td>5</td>\n",
       "      <td>214</td>\n",
       "      <td>212</td>\n",
       "    </tr>\n",
       "    <tr>\n",
       "      <th>top</th>\n",
       "      <td>China</td>\n",
       "      <td>Caribbean</td>\n",
       "      <td>Africa</td>\n",
       "      <td>1,010,740,000</td>\n",
       "      <td>1,427,647,786</td>\n",
       "    </tr>\n",
       "    <tr>\n",
       "      <th>freq</th>\n",
       "      <td>1</td>\n",
       "      <td>20</td>\n",
       "      <td>55</td>\n",
       "      <td>1</td>\n",
       "      <td>1</td>\n",
       "    </tr>\n",
       "  </tbody>\n",
       "</table>\n",
       "</div>"
      ],
      "text/plain": [
       "       Country or area  Subregion  Region Internet users     Population\n",
       "count              214        214     214            214            212\n",
       "unique             214         22       5            214            212\n",
       "top              China  Caribbean  Africa  1,010,740,000  1,427,647,786\n",
       "freq                 1         20      55              1              1"
      ]
     },
     "execution_count": 45,
     "metadata": {},
     "output_type": "execute_result"
    }
   ],
   "source": [
    "df.describe()"
   ]
  },
  {
   "cell_type": "code",
   "execution_count": 46,
   "metadata": {},
   "outputs": [
    {
     "name": "stdout",
     "output_type": "stream",
     "text": [
      "<class 'pandas.core.frame.DataFrame'>\n",
      "RangeIndex: 214 entries, 0 to 213\n",
      "Data columns (total 5 columns):\n",
      " #   Column           Non-Null Count  Dtype \n",
      "---  ------           --------------  ----- \n",
      " 0   Country or area  214 non-null    object\n",
      " 1   Subregion        214 non-null    object\n",
      " 2   Region           214 non-null    object\n",
      " 3   Internet users   214 non-null    object\n",
      " 4   Population       212 non-null    object\n",
      "dtypes: object(5)\n",
      "memory usage: 8.5+ KB\n"
     ]
    }
   ],
   "source": [
    "df.info()"
   ]
  },
  {
   "cell_type": "code",
   "execution_count": 47,
   "metadata": {},
   "outputs": [
    {
     "data": {
      "text/plain": [
       "(214, 5)"
      ]
     },
     "execution_count": 47,
     "metadata": {},
     "output_type": "execute_result"
    }
   ],
   "source": [
    "#27) df adıyla çektiğimiz DataFrame'in shape'ine bakarak toplamda kaç tane verimiz olduğunu bulalım.\n",
    "df.shape"
   ]
  },
  {
   "cell_type": "code",
   "execution_count": 48,
   "metadata": {},
   "outputs": [
    {
     "data": {
      "text/html": [
       "<div>\n",
       "<style scoped>\n",
       "    .dataframe tbody tr th:only-of-type {\n",
       "        vertical-align: middle;\n",
       "    }\n",
       "\n",
       "    .dataframe tbody tr th {\n",
       "        vertical-align: top;\n",
       "    }\n",
       "\n",
       "    .dataframe thead th {\n",
       "        text-align: right;\n",
       "    }\n",
       "</style>\n",
       "<table border=\"1\" class=\"dataframe\">\n",
       "  <thead>\n",
       "    <tr style=\"text-align: right;\">\n",
       "      <th></th>\n",
       "      <th>Country or area</th>\n",
       "      <th>Subregion</th>\n",
       "      <th>Region</th>\n",
       "      <th>Internet users</th>\n",
       "      <th>Population</th>\n",
       "    </tr>\n",
       "  </thead>\n",
       "  <tbody>\n",
       "    <tr>\n",
       "      <th>0</th>\n",
       "      <td>China</td>\n",
       "      <td>Eastern Asia</td>\n",
       "      <td>Asia</td>\n",
       "      <td>1,010,740,000</td>\n",
       "      <td>1,427,647,786</td>\n",
       "    </tr>\n",
       "    <tr>\n",
       "      <th>1</th>\n",
       "      <td>India</td>\n",
       "      <td>Southern Asia</td>\n",
       "      <td>Asia</td>\n",
       "      <td>833,710,000</td>\n",
       "      <td>1,352,642,280</td>\n",
       "    </tr>\n",
       "    <tr>\n",
       "      <th>2</th>\n",
       "      <td>United States</td>\n",
       "      <td>Northern America</td>\n",
       "      <td>Americas</td>\n",
       "      <td>312,320,000</td>\n",
       "      <td>327,096,265</td>\n",
       "    </tr>\n",
       "    <tr>\n",
       "      <th>3</th>\n",
       "      <td>Indonesia</td>\n",
       "      <td>South-eastern Asia</td>\n",
       "      <td>Asia</td>\n",
       "      <td>196,000,000</td>\n",
       "      <td>267,670,543</td>\n",
       "    </tr>\n",
       "    <tr>\n",
       "      <th>4</th>\n",
       "      <td>Brazil</td>\n",
       "      <td>South America</td>\n",
       "      <td>Americas</td>\n",
       "      <td>160,010,801</td>\n",
       "      <td>209,469,323</td>\n",
       "    </tr>\n",
       "  </tbody>\n",
       "</table>\n",
       "</div>"
      ],
      "text/plain": [
       "  Country or area           Subregion    Region Internet users     Population\n",
       "0           China        Eastern Asia      Asia  1,010,740,000  1,427,647,786\n",
       "1           India       Southern Asia      Asia    833,710,000  1,352,642,280\n",
       "2   United States    Northern America  Americas    312,320,000    327,096,265\n",
       "3       Indonesia  South-eastern Asia      Asia    196,000,000    267,670,543\n",
       "4          Brazil       South America  Americas    160,010,801    209,469,323"
      ]
     },
     "execution_count": 48,
     "metadata": {},
     "output_type": "execute_result"
    }
   ],
   "source": [
    "#28) df adıyla çektiğimiz DF'nin ilk 5 satırınıi görelim\n",
    "df.head(5)"
   ]
  },
  {
   "cell_type": "code",
   "execution_count": 49,
   "metadata": {},
   "outputs": [
    {
     "data": {
      "text/html": [
       "<div>\n",
       "<style scoped>\n",
       "    .dataframe tbody tr th:only-of-type {\n",
       "        vertical-align: middle;\n",
       "    }\n",
       "\n",
       "    .dataframe tbody tr th {\n",
       "        vertical-align: top;\n",
       "    }\n",
       "\n",
       "    .dataframe thead th {\n",
       "        text-align: right;\n",
       "    }\n",
       "</style>\n",
       "<table border=\"1\" class=\"dataframe\">\n",
       "  <thead>\n",
       "    <tr style=\"text-align: right;\">\n",
       "      <th></th>\n",
       "      <th>Country or area</th>\n",
       "      <th>Subregion</th>\n",
       "      <th>Region</th>\n",
       "      <th>Internet users</th>\n",
       "      <th>Population</th>\n",
       "    </tr>\n",
       "  </thead>\n",
       "  <tbody>\n",
       "    <tr>\n",
       "      <th>209</th>\n",
       "      <td>Saint Helena, Ascension and Tristan da Cunha</td>\n",
       "      <td>Western Africa</td>\n",
       "      <td>Africa</td>\n",
       "      <td>2,906</td>\n",
       "      <td>6,035</td>\n",
       "    </tr>\n",
       "    <tr>\n",
       "      <th>210</th>\n",
       "      <td>Falkland Islands</td>\n",
       "      <td>South America</td>\n",
       "      <td>Americas</td>\n",
       "      <td>2,881</td>\n",
       "      <td>3,234</td>\n",
       "    </tr>\n",
       "    <tr>\n",
       "      <th>211</th>\n",
       "      <td>Montserrat</td>\n",
       "      <td>Caribbean</td>\n",
       "      <td>Americas</td>\n",
       "      <td>2,833</td>\n",
       "      <td>4,993</td>\n",
       "    </tr>\n",
       "    <tr>\n",
       "      <th>212</th>\n",
       "      <td>Wallis and Futuna</td>\n",
       "      <td>Polynesia</td>\n",
       "      <td>Oceania</td>\n",
       "      <td>1,383</td>\n",
       "      <td>11,661</td>\n",
       "    </tr>\n",
       "    <tr>\n",
       "      <th>213</th>\n",
       "      <td>Niue</td>\n",
       "      <td>Polynesia</td>\n",
       "      <td>Oceania</td>\n",
       "      <td>1,034</td>\n",
       "      <td>1,620</td>\n",
       "    </tr>\n",
       "  </tbody>\n",
       "</table>\n",
       "</div>"
      ],
      "text/plain": [
       "                                  Country or area       Subregion    Region  \\\n",
       "209  Saint Helena, Ascension and Tristan da Cunha  Western Africa    Africa   \n",
       "210                              Falkland Islands   South America  Americas   \n",
       "211                                    Montserrat       Caribbean  Americas   \n",
       "212                             Wallis and Futuna       Polynesia   Oceania   \n",
       "213                                          Niue       Polynesia   Oceania   \n",
       "\n",
       "    Internet users Population  \n",
       "209          2,906      6,035  \n",
       "210          2,881      3,234  \n",
       "211          2,833      4,993  \n",
       "212          1,383     11,661  \n",
       "213          1,034      1,620  "
      ]
     },
     "execution_count": 49,
     "metadata": {},
     "output_type": "execute_result"
    }
   ],
   "source": [
    "# 29) son 5...\n",
    "df.tail(5)"
   ]
  },
  {
   "cell_type": "code",
   "execution_count": 50,
   "metadata": {},
   "outputs": [
    {
     "data": {
      "text/plain": [
       "Country or area    0\n",
       "Subregion          0\n",
       "Region             0\n",
       "Internet users     0\n",
       "Population         2\n",
       "dtype: int64"
      ]
     },
     "execution_count": 50,
     "metadata": {},
     "output_type": "execute_result"
    }
   ],
   "source": [
    "#30) df'nin içinde her bir sütunda kaç tane nan değer olduğuna bakalım.\n",
    "df.isna().sum()  # kolonların null değerleri"
   ]
  },
  {
   "cell_type": "code",
   "execution_count": 51,
   "metadata": {},
   "outputs": [
    {
     "data": {
      "text/plain": [
       "2"
      ]
     },
     "execution_count": 51,
     "metadata": {},
     "output_type": "execute_result"
    }
   ],
   "source": [
    "# 31) df'deki toplam nan sayısı\n",
    "df.isna().sum().sum()  # tüm df'nin null değerleri"
   ]
  },
  {
   "cell_type": "code",
   "execution_count": 52,
   "metadata": {},
   "outputs": [
    {
     "data": {
      "text/plain": [
       "Country or area    object\n",
       "Subregion          object\n",
       "Region             object\n",
       "Internet users     object\n",
       "Population         object\n",
       "dtype: object"
      ]
     },
     "execution_count": 52,
     "metadata": {},
     "output_type": "execute_result"
    }
   ],
   "source": [
    "# 32) type'larına bakalım\n",
    "df.dtypes  # burada int olması gerekenleri de object gösteriyor. Onların değişmesi lazım"
   ]
  },
  {
   "cell_type": "code",
   "execution_count": 53,
   "metadata": {},
   "outputs": [
    {
     "data": {
      "text/plain": [
       "array(['Asia', 'Americas', 'Africa', 'Europe', 'Oceania'], dtype=object)"
      ]
     },
     "execution_count": 53,
     "metadata": {},
     "output_type": "execute_result"
    }
   ],
   "source": [
    "#33) df'nin içindeki farklı Region ve Subregion sayısını bulalım\n",
    "df[\"Region\"].unique()"
   ]
  },
  {
   "cell_type": "code",
   "execution_count": 54,
   "metadata": {},
   "outputs": [
    {
     "data": {
      "text/plain": [
       "array(['Asia', 'Americas', 'Africa', 'Europe', 'Oceania'], dtype=object)"
      ]
     },
     "execution_count": 54,
     "metadata": {},
     "output_type": "execute_result"
    }
   ],
   "source": [
    "#veya alternatif\n",
    "df.Region.unique()"
   ]
  },
  {
   "cell_type": "code",
   "execution_count": 55,
   "metadata": {},
   "outputs": [
    {
     "data": {
      "text/plain": [
       "array(['Eastern Asia', 'Southern Asia', 'Northern America',\n",
       "       'South-eastern Asia', 'South America', 'Western Africa',\n",
       "       'Eastern Europe', 'Western Asia', 'Western Europe',\n",
       "       'Southern Europe', 'Northern Europe', 'Northern Africa',\n",
       "       'Southern Africa', 'Australia, New Zealand', 'Eastern Africa',\n",
       "       'Central Asia', 'Middle Africa', 'Caribbean', 'Central America',\n",
       "       'Melanesia', 'Polynesia', 'Micronesia'], dtype=object)"
      ]
     },
     "execution_count": 55,
     "metadata": {},
     "output_type": "execute_result"
    }
   ],
   "source": [
    "df.Subregion.unique()"
   ]
  },
  {
   "cell_type": "code",
   "execution_count": 56,
   "metadata": {},
   "outputs": [],
   "source": [
    "#34) \"Internet users\" sütunun object olan type'ını integer olarak değiştirelim.\n",
    "\n",
    "# Sütun adında arada boşluk olduğu için tırnak gerekiyor\n",
    "df[\"Internet users\"]=df[\"Internet users\"].str.replace(\",\", \"\").astype(\"int64\")  "
   ]
  },
  {
   "cell_type": "code",
   "execution_count": 57,
   "metadata": {},
   "outputs": [
    {
     "data": {
      "text/html": [
       "<div>\n",
       "<style scoped>\n",
       "    .dataframe tbody tr th:only-of-type {\n",
       "        vertical-align: middle;\n",
       "    }\n",
       "\n",
       "    .dataframe tbody tr th {\n",
       "        vertical-align: top;\n",
       "    }\n",
       "\n",
       "    .dataframe thead th {\n",
       "        text-align: right;\n",
       "    }\n",
       "</style>\n",
       "<table border=\"1\" class=\"dataframe\">\n",
       "  <thead>\n",
       "    <tr style=\"text-align: right;\">\n",
       "      <th></th>\n",
       "      <th>Country or area</th>\n",
       "      <th>Subregion</th>\n",
       "      <th>Region</th>\n",
       "      <th>Internet users</th>\n",
       "      <th>Population</th>\n",
       "    </tr>\n",
       "  </thead>\n",
       "  <tbody>\n",
       "    <tr>\n",
       "      <th>0</th>\n",
       "      <td>China</td>\n",
       "      <td>Eastern Asia</td>\n",
       "      <td>Asia</td>\n",
       "      <td>1010740000</td>\n",
       "      <td>1,427,647,786</td>\n",
       "    </tr>\n",
       "    <tr>\n",
       "      <th>1</th>\n",
       "      <td>India</td>\n",
       "      <td>Southern Asia</td>\n",
       "      <td>Asia</td>\n",
       "      <td>833710000</td>\n",
       "      <td>1,352,642,280</td>\n",
       "    </tr>\n",
       "    <tr>\n",
       "      <th>2</th>\n",
       "      <td>United States</td>\n",
       "      <td>Northern America</td>\n",
       "      <td>Americas</td>\n",
       "      <td>312320000</td>\n",
       "      <td>327,096,265</td>\n",
       "    </tr>\n",
       "    <tr>\n",
       "      <th>3</th>\n",
       "      <td>Indonesia</td>\n",
       "      <td>South-eastern Asia</td>\n",
       "      <td>Asia</td>\n",
       "      <td>196000000</td>\n",
       "      <td>267,670,543</td>\n",
       "    </tr>\n",
       "    <tr>\n",
       "      <th>4</th>\n",
       "      <td>Brazil</td>\n",
       "      <td>South America</td>\n",
       "      <td>Americas</td>\n",
       "      <td>160010801</td>\n",
       "      <td>209,469,323</td>\n",
       "    </tr>\n",
       "  </tbody>\n",
       "</table>\n",
       "</div>"
      ],
      "text/plain": [
       "  Country or area           Subregion    Region  Internet users     Population\n",
       "0           China        Eastern Asia      Asia      1010740000  1,427,647,786\n",
       "1           India       Southern Asia      Asia       833710000  1,352,642,280\n",
       "2   United States    Northern America  Americas       312320000    327,096,265\n",
       "3       Indonesia  South-eastern Asia      Asia       196000000    267,670,543\n",
       "4          Brazil       South America  Americas       160010801    209,469,323"
      ]
     },
     "execution_count": 57,
     "metadata": {},
     "output_type": "execute_result"
    }
   ],
   "source": [
    "df.head()"
   ]
  },
  {
   "cell_type": "code",
   "execution_count": 58,
   "metadata": {},
   "outputs": [],
   "source": [
    "#35) Benzer bir şekilde \"Population\" için type değişimi yapalım\n",
    "\n",
    "# önce nan değerlerden kurtulmamız gerekiyor.\n",
    "df.dropna(inplace=True)"
   ]
  },
  {
   "cell_type": "code",
   "execution_count": 59,
   "metadata": {},
   "outputs": [],
   "source": [
    "df[\"Population\"]=df[\"Population\"].str.replace(\",\", \"\").astype(\"int64\")  "
   ]
  },
  {
   "cell_type": "code",
   "execution_count": 60,
   "metadata": {},
   "outputs": [
    {
     "data": {
      "text/html": [
       "<div>\n",
       "<style scoped>\n",
       "    .dataframe tbody tr th:only-of-type {\n",
       "        vertical-align: middle;\n",
       "    }\n",
       "\n",
       "    .dataframe tbody tr th {\n",
       "        vertical-align: top;\n",
       "    }\n",
       "\n",
       "    .dataframe thead th {\n",
       "        text-align: right;\n",
       "    }\n",
       "</style>\n",
       "<table border=\"1\" class=\"dataframe\">\n",
       "  <thead>\n",
       "    <tr style=\"text-align: right;\">\n",
       "      <th></th>\n",
       "      <th>Country or area</th>\n",
       "      <th>Subregion</th>\n",
       "      <th>Region</th>\n",
       "      <th>Internet users</th>\n",
       "      <th>Population</th>\n",
       "    </tr>\n",
       "  </thead>\n",
       "  <tbody>\n",
       "    <tr>\n",
       "      <th>0</th>\n",
       "      <td>China</td>\n",
       "      <td>Eastern Asia</td>\n",
       "      <td>Asia</td>\n",
       "      <td>1010740000</td>\n",
       "      <td>1427647786</td>\n",
       "    </tr>\n",
       "    <tr>\n",
       "      <th>1</th>\n",
       "      <td>India</td>\n",
       "      <td>Southern Asia</td>\n",
       "      <td>Asia</td>\n",
       "      <td>833710000</td>\n",
       "      <td>1352642280</td>\n",
       "    </tr>\n",
       "    <tr>\n",
       "      <th>2</th>\n",
       "      <td>United States</td>\n",
       "      <td>Northern America</td>\n",
       "      <td>Americas</td>\n",
       "      <td>312320000</td>\n",
       "      <td>327096265</td>\n",
       "    </tr>\n",
       "    <tr>\n",
       "      <th>3</th>\n",
       "      <td>Indonesia</td>\n",
       "      <td>South-eastern Asia</td>\n",
       "      <td>Asia</td>\n",
       "      <td>196000000</td>\n",
       "      <td>267670543</td>\n",
       "    </tr>\n",
       "    <tr>\n",
       "      <th>4</th>\n",
       "      <td>Brazil</td>\n",
       "      <td>South America</td>\n",
       "      <td>Americas</td>\n",
       "      <td>160010801</td>\n",
       "      <td>209469323</td>\n",
       "    </tr>\n",
       "  </tbody>\n",
       "</table>\n",
       "</div>"
      ],
      "text/plain": [
       "  Country or area           Subregion    Region  Internet users  Population\n",
       "0           China        Eastern Asia      Asia      1010740000  1427647786\n",
       "1           India       Southern Asia      Asia       833710000  1352642280\n",
       "2   United States    Northern America  Americas       312320000   327096265\n",
       "3       Indonesia  South-eastern Asia      Asia       196000000   267670543\n",
       "4          Brazil       South America  Americas       160010801   209469323"
      ]
     },
     "execution_count": 60,
     "metadata": {},
     "output_type": "execute_result"
    }
   ],
   "source": [
    "df.head()"
   ]
  },
  {
   "cell_type": "code",
   "execution_count": 61,
   "metadata": {},
   "outputs": [
    {
     "data": {
      "text/plain": [
       "Country or area    object\n",
       "Subregion          object\n",
       "Region             object\n",
       "Internet users      int64\n",
       "Population          int64\n",
       "dtype: object"
      ]
     },
     "execution_count": 61,
     "metadata": {},
     "output_type": "execute_result"
    }
   ],
   "source": [
    "df.dtypes"
   ]
  },
  {
   "cell_type": "code",
   "execution_count": 62,
   "metadata": {},
   "outputs": [],
   "source": [
    "# 36) \"Country or area\" sütununu index olarak atayalım\n",
    "\n",
    "df.set_index(\"Country or area\", inplace=True)   # sayı olan idexlerden kurtulduk."
   ]
  },
  {
   "cell_type": "code",
   "execution_count": 63,
   "metadata": {},
   "outputs": [
    {
     "data": {
      "text/html": [
       "<div>\n",
       "<style scoped>\n",
       "    .dataframe tbody tr th:only-of-type {\n",
       "        vertical-align: middle;\n",
       "    }\n",
       "\n",
       "    .dataframe tbody tr th {\n",
       "        vertical-align: top;\n",
       "    }\n",
       "\n",
       "    .dataframe thead th {\n",
       "        text-align: right;\n",
       "    }\n",
       "</style>\n",
       "<table border=\"1\" class=\"dataframe\">\n",
       "  <thead>\n",
       "    <tr style=\"text-align: right;\">\n",
       "      <th></th>\n",
       "      <th>Subregion</th>\n",
       "      <th>Region</th>\n",
       "      <th>Internet users</th>\n",
       "      <th>Population</th>\n",
       "    </tr>\n",
       "    <tr>\n",
       "      <th>Country or area</th>\n",
       "      <th></th>\n",
       "      <th></th>\n",
       "      <th></th>\n",
       "      <th></th>\n",
       "    </tr>\n",
       "  </thead>\n",
       "  <tbody>\n",
       "    <tr>\n",
       "      <th>China</th>\n",
       "      <td>Eastern Asia</td>\n",
       "      <td>Asia</td>\n",
       "      <td>1010740000</td>\n",
       "      <td>1427647786</td>\n",
       "    </tr>\n",
       "    <tr>\n",
       "      <th>India</th>\n",
       "      <td>Southern Asia</td>\n",
       "      <td>Asia</td>\n",
       "      <td>833710000</td>\n",
       "      <td>1352642280</td>\n",
       "    </tr>\n",
       "    <tr>\n",
       "      <th>United States</th>\n",
       "      <td>Northern America</td>\n",
       "      <td>Americas</td>\n",
       "      <td>312320000</td>\n",
       "      <td>327096265</td>\n",
       "    </tr>\n",
       "    <tr>\n",
       "      <th>Indonesia</th>\n",
       "      <td>South-eastern Asia</td>\n",
       "      <td>Asia</td>\n",
       "      <td>196000000</td>\n",
       "      <td>267670543</td>\n",
       "    </tr>\n",
       "    <tr>\n",
       "      <th>Brazil</th>\n",
       "      <td>South America</td>\n",
       "      <td>Americas</td>\n",
       "      <td>160010801</td>\n",
       "      <td>209469323</td>\n",
       "    </tr>\n",
       "  </tbody>\n",
       "</table>\n",
       "</div>"
      ],
      "text/plain": [
       "                          Subregion    Region  Internet users  Population\n",
       "Country or area                                                          \n",
       "China                  Eastern Asia      Asia      1010740000  1427647786\n",
       "India                 Southern Asia      Asia       833710000  1352642280\n",
       "United States      Northern America  Americas       312320000   327096265\n",
       "Indonesia        South-eastern Asia      Asia       196000000   267670543\n",
       "Brazil                South America  Americas       160010801   209469323"
      ]
     },
     "execution_count": 63,
     "metadata": {},
     "output_type": "execute_result"
    }
   ],
   "source": [
    "df.head()"
   ]
  },
  {
   "cell_type": "code",
   "execution_count": 64,
   "metadata": {},
   "outputs": [
    {
     "data": {
      "text/plain": [
       "Subregion         Southern Europe\n",
       "Region                     Europe\n",
       "Internet users           69945905\n",
       "Population               82340088\n",
       "Name: Turkey, dtype: object"
      ]
     },
     "execution_count": 64,
     "metadata": {},
     "output_type": "execute_result"
    }
   ],
   "source": [
    "#37) Türkiye için mevcut bilgileri getirelim\n",
    "df.loc[\"Turkey\"]   # Turkey sütun bilgisi"
   ]
  },
  {
   "cell_type": "code",
   "execution_count": null,
   "metadata": {},
   "outputs": [],
   "source": []
  }
 ],
 "metadata": {
  "kernelspec": {
   "display_name": "Python 3 (ipykernel)",
   "language": "python",
   "name": "python3"
  },
  "language_info": {
   "codemirror_mode": {
    "name": "ipython",
    "version": 3
   },
   "file_extension": ".py",
   "mimetype": "text/x-python",
   "name": "python",
   "nbconvert_exporter": "python",
   "pygments_lexer": "ipython3",
   "version": "3.9.12"
  },
  "vscode": {
   "interpreter": {
    "hash": "8bf0d51478355d2251941b3b98616086516a0eddd7c72ee47a3371765770709a"
   }
  }
 },
 "nbformat": 4,
 "nbformat_minor": 2
}
